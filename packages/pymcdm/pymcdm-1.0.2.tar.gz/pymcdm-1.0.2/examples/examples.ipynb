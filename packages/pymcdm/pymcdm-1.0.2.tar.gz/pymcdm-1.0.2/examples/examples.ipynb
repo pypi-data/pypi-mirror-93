{
 "cells": [
  {
   "cell_type": "code",
   "execution_count": 1,
   "metadata": {},
   "outputs": [],
   "source": [
    "import numpy as np\n",
    "import pandas as pd\n",
    "\n",
    "import matplotlib.pyplot as plt\n",
    "from matplotlib.colors import ListedColormap\n",
    "from IPython.display import set_matplotlib_formats\n",
    "set_matplotlib_formats('png', 'pdf')\n",
    "\n",
    "import networkx as nx # Used only for PROMTEHEE I visualisation (could be omitted if unnecessary)\n",
    "\n",
    "# Print nice-looking tables\n",
    "from tabulate import tabulate\n",
    "\n",
    "import pymcdm\n",
    "from pymcdm.helpers import rankdata"
   ]
  },
  {
   "cell_type": "code",
   "execution_count": 2,
   "metadata": {},
   "outputs": [],
   "source": [
    "# For pretty printing\n",
    "np.set_printoptions(suppress=True, precision=4)"
   ]
  },
  {
   "cell_type": "markdown",
   "metadata": {},
   "source": [
    "# Normalization examples\n",
    "\n",
    "In order to use some MCDA methods, data should be normalized first. Methods which need data to be normalized has build-in normalization, but, anyway, here's example of how to use normalization methods from our library."
   ]
  },
  {
   "cell_type": "code",
   "execution_count": 3,
   "metadata": {},
   "outputs": [
    {
     "name": "stdout",
     "output_type": "stream",
     "text": [
      "[[0.4095 0.6108 1.     1.     0.     0.3853 0.2579]\n",
      " [0.5794 0.     0.9299 0.5015 0.9365 0.     0.    ]\n",
      " [1.     0.5312 0.0877 0.9247 1.     0.4923 1.    ]]\n",
      "[[0.6256 0.6174 1.     1.     0.     0.322  0.3601]\n",
      " [0.7333 0.0168 0.9324 0.5683 0.6681 0.     0.1376]\n",
      " [1.     0.5391 0.1198 0.9348 0.7134 0.4114 1.    ]]\n",
      "[[0.1928 0.199  0.345  0.292  0.0935 0.1303 0.1614]\n",
      " [0.226  0.0054 0.3216 0.1659 0.2817 0.0884 0.0617]\n",
      " [0.3082 0.1738 0.0413 0.2729 0.3262 0.1501 0.4484]]\n",
      "[[0.4096 0.3878 0.627  0.5938 0.3291 0.5897 0.3   ]\n",
      " [0.4801 0.0106 0.5846 0.3374 0.7773 0.3948 0.1147]\n",
      " [0.6547 0.3386 0.0751 0.5551 0.8077 0.6438 0.8331]]\n",
      "[[ 0.2022  0.3429  0.4503  0.2684  0.1787  0.195   0.2   ]\n",
      " [ 0.2211 -0.5608  0.4351  0.2013  0.2154  0.1835 -0.0943]\n",
      " [ 0.2579  0.3089 -0.0118  0.2604  0.2203  0.1992  0.5127]]\n"
     ]
    }
   ],
   "source": [
    "# Random matrix with 5 alternatives and 7 criteria to demonstrate how normalization works\n",
    "matrix = np.random.rand(5, 7) * 10\n",
    "types = np.array([1, 1, 1, 1, -1, -1, 1])\n",
    "\n",
    "normalization_methods = [\n",
    "    pymcdm.normalizations.minmax_normalization,\n",
    "    pymcdm.normalizations.max_normalization,\n",
    "    pymcdm.normalizations.sum_normalization,\n",
    "    pymcdm.normalizations.vector_normalization,\n",
    "    pymcdm.normalizations.logaritmic_normalization\n",
    "]\n",
    "\n",
    "for method in normalization_methods:\n",
    "    # Normalize matrix and print first three rows\n",
    "    nmatrix = pymcdm.normalizations.normalize_matrix(matrix, method, types)\n",
    "    print(nmatrix[:3])"
   ]
  },
  {
   "cell_type": "markdown",
   "metadata": {},
   "source": [
    "`normalize_matrix` requires `types` arguments, because normalization functions are designed to convert cost criteria into profit when normalize them. Here's an example of how one random vector could be normalized."
   ]
  },
  {
   "cell_type": "code",
   "execution_count": 4,
   "metadata": {},
   "outputs": [
    {
     "name": "stdout",
     "output_type": "stream",
     "text": [
      "[9.8072 9.301  9.9049 6.2419 1.7377]\n",
      "[0.988  0.9261 1.     0.5515 0.    ]\n",
      "[0.012  0.0739 0.     0.4485 1.    ]\n"
     ]
    }
   ],
   "source": [
    "vec = np.random.rand(5) * 10\n",
    "print(vec)\n",
    "# Normalize as profit\n",
    "print(pymcdm.normalizations.minmax_normalization(vec, cost=False))\n",
    "# Normalize as cost\n",
    "print(pymcdm.normalizations.minmax_normalization(vec, cost=True))"
   ]
  },
  {
   "cell_type": "markdown",
   "metadata": {},
   "source": [
    "**Warning**: convert data to `float` when use \"raw\" normalization functins."
   ]
  },
  {
   "cell_type": "markdown",
   "metadata": {},
   "source": [
    "# Example on real data\n",
    "## Data\n",
    "### Data description\n",
    "We would use some electric vans data to demonstrate how different methods from our library could be used. Csv contains parametres of several electric vans. Every row is one alternative. First three columns contains alternative's code, van's name and manufacturer."
   ]
  },
  {
   "cell_type": "code",
   "execution_count": 5,
   "metadata": {},
   "outputs": [],
   "source": [
    "data = pd.read_csv('vans.csv')"
   ]
  },
  {
   "cell_type": "markdown",
   "metadata": {},
   "source": [
    "We would only interested in numerical data and it would be our decision matrix:"
   ]
  },
  {
   "cell_type": "code",
   "execution_count": 6,
   "metadata": {},
   "outputs": [
    {
     "name": "stdout",
     "output_type": "stream",
     "text": [
      "[[3000.    96.   145.   200.   610.    10.   120.    99.   120. ]\n",
      " [2000.   100.   145.   200.   610.    10.   120.    99.    90. ]\n",
      " [ 705.   120.   170.    80.   270.     4.    30.    24.    25. ]\n",
      " [ 613.   140.   180.   140.   400.     8.    40.    24.2   50. ]\n",
      " [ 350.   100.   110.    30.   196.     4.5   15.    10.5   12.9]\n",
      " [ 350.   100.   100.    30.   196.     4.5   15.    10.5   15.5]\n",
      " [ 350.   100.   150.    30.   196.     7.    35.    16.    18.7]\n",
      " [ 635.   110.   170.    49.   200.     8.    35.    22.5   31.5]\n",
      " [ 340.   150.   160.   110.   500.     6.    10.    35.    45. ]\n",
      " [ 750.    57.   110.    10.    80.     8.   120.    35.    24.4]]\n"
     ]
    }
   ],
   "source": [
    "matrix = data[data.columns[3:]].to_numpy()\n",
    "print(matrix)"
   ]
  },
  {
   "cell_type": "markdown",
   "metadata": {},
   "source": [
    "### Weights"
   ]
  },
  {
   "cell_type": "markdown",
   "metadata": {},
   "source": [
    "We would use equal weight for criteria:"
   ]
  },
  {
   "cell_type": "code",
   "execution_count": 7,
   "metadata": {},
   "outputs": [
    {
     "name": "stdout",
     "output_type": "stream",
     "text": [
      "[0.1111 0.1111 0.1111 0.1111 0.1111 0.1111 0.1111 0.1111 0.1111]\n"
     ]
    }
   ],
   "source": [
    "weights = np.ones(matrix.shape[1]) / matrix.shape[1]\n",
    "print(weights)"
   ]
  },
  {
   "cell_type": "markdown",
   "metadata": {},
   "source": [
    "There's also some more advanced methods to determine weights in our library, like entropy and std methods."
   ]
  },
  {
   "cell_type": "code",
   "execution_count": 8,
   "metadata": {},
   "outputs": [
    {
     "name": "stdout",
     "output_type": "stream",
     "text": [
      "[0.1894 0.0152 0.0102 0.1709 0.0877 0.026  0.1814 0.1719 0.1473]\n",
      "[0.6711 0.0195 0.0214 0.0542 0.1446 0.0017 0.0353 0.0254 0.0268]\n"
     ]
    }
   ],
   "source": [
    "print(pymcdm.weights.entropy(matrix))\n",
    "print(pymcdm.weights.standard_deviation(matrix))"
   ]
  },
  {
   "cell_type": "markdown",
   "metadata": {},
   "source": [
    "### Criteria types"
   ]
  },
  {
   "cell_type": "markdown",
   "metadata": {},
   "source": [
    "Functions in our library use `types` argument to determine which criteria are profit and should be maximized and which criteria are cost and should be minimized. $1$ means profit criteria and $-1$ means cost criteria. For this particular decision problem `types` vector would be defined as follows:"
   ]
  },
  {
   "cell_type": "code",
   "execution_count": 9,
   "metadata": {},
   "outputs": [],
   "source": [
    "types = np.array([1, 1, 1, 1, 1, -1, -1, 1, -1], dtype='float')"
   ]
  },
  {
   "cell_type": "markdown",
   "metadata": {},
   "source": [
    "Now we are prepared to show how MCDA methods from our library can be used."
   ]
  },
  {
   "cell_type": "markdown",
   "metadata": {},
   "source": [
    "## MCDA method examples\n",
    "\n",
    "### TOPSIS method\n",
    "\n",
    "First let's create TOPSIS method object. It has a `normalization_funciton` argument which is `minmax_normalization` by default."
   ]
  },
  {
   "cell_type": "code",
   "execution_count": 10,
   "metadata": {},
   "outputs": [],
   "source": [
    "topsis = pymcdm.methods.TOPSIS()"
   ]
  },
  {
   "cell_type": "markdown",
   "metadata": {},
   "source": [
    "Now we can apply this method to our decision matrix and obtain some ranking values. Higher values means that these alternatives are better."
   ]
  },
  {
   "cell_type": "code",
   "execution_count": 11,
   "metadata": {
    "scrolled": true
   },
   "outputs": [
    {
     "name": "stdout",
     "output_type": "stream",
     "text": [
      "[0.5301 0.5302 0.5612 0.5536 0.452  0.4431 0.4364 0.4634 0.5962 0.2848]\n"
     ]
    }
   ],
   "source": [
    "print(topsis(matrix, weights, types))"
   ]
  },
  {
   "cell_type": "markdown",
   "metadata": {},
   "source": [
    "We also could use TOPSIS method with other normalizations:"
   ]
  },
  {
   "cell_type": "code",
   "execution_count": 12,
   "metadata": {},
   "outputs": [],
   "source": [
    "topsis_methods = {\n",
    "    'minmax': pymcdm.methods.TOPSIS(pymcdm.normalizations.minmax_normalization),\n",
    "    'max': pymcdm.methods.TOPSIS(pymcdm.normalizations.max_normalization),\n",
    "    'sum': pymcdm.methods.TOPSIS(pymcdm.normalizations.sum_normalization),\n",
    "    'vector': pymcdm.methods.TOPSIS(pymcdm.normalizations.vector_normalization),\n",
    "    'log': pymcdm.methods.TOPSIS(pymcdm.normalizations.logaritmic_normalization),\n",
    "}"
   ]
  },
  {
   "cell_type": "markdown",
   "metadata": {},
   "source": [
    "We would rank the same alternatives using TOPSIS with different normalizations and then compare rankings:"
   ]
  },
  {
   "cell_type": "code",
   "execution_count": 13,
   "metadata": {},
   "outputs": [],
   "source": [
    "results = {}\n",
    "for name, function in topsis_methods.items():\n",
    "    results[name] = function(matrix, weights, types)"
   ]
  },
  {
   "cell_type": "markdown",
   "metadata": {},
   "source": [
    "MCDA methods returns raw preference values. Then they could be used for creating ranks using `rankdata`."
   ]
  },
  {
   "cell_type": "code",
   "execution_count": 14,
   "metadata": {},
   "outputs": [
    {
     "name": "stdout",
     "output_type": "stream",
     "text": [
      "Method      A1    A2    A3    A4    A5    A6    A7    A8    A9    A10\n",
      "--------  ----  ----  ----  ----  ----  ----  ----  ----  ----  -----\n",
      "minmax    0.53  0.53  0.56  0.55  0.45  0.44  0.44  0.46  0.6    0.28\n",
      "max       0.56  0.56  0.51  0.52  0.45  0.44  0.42  0.43  0.57   0.3\n",
      "sum       0.59  0.54  0.32  0.33  0.37  0.34  0.24  0.22  0.46   0.19\n",
      "vector    0.57  0.57  0.48  0.47  0.43  0.43  0.41  0.42  0.51   0.34\n",
      "log       0.88  0.87  0.54  0.61  0.28  0.28  0.31  0.45  0.62   0.29\n"
     ]
    }
   ],
   "source": [
    "print(tabulate([[name, *np.round(pref, 2)] for name, pref in results.items()],\n",
    "              headers=['Method'] + [f'A{i+1}' for i in range(10)]))"
   ]
  },
  {
   "cell_type": "markdown",
   "metadata": {},
   "source": [
    "`rankdata` function put lower values at the beginning of the ranking. Therefore, we should pass `reverse=True` argument to obtain correct ranking from TOPSIS' results. It's because TOPSIS method assign higher preference to the better alternatives."
   ]
  },
  {
   "cell_type": "code",
   "execution_count": 15,
   "metadata": {},
   "outputs": [
    {
     "name": "stdout",
     "output_type": "stream",
     "text": [
      "Method      A1    A2    A3    A4    A5    A6    A7    A8    A9    A10\n",
      "--------  ----  ----  ----  ----  ----  ----  ----  ----  ----  -----\n",
      "minmax       5     4     2     3     7     8     9     6     1     10\n",
      "max          3     2     5     4     6     7     9     8     1     10\n",
      "sum          1     2     7     6     4     5     8     9     3     10\n",
      "vector       1     2     4     5     6     7     9     8     3     10\n",
      "log          1     2     5     4     9    10     7     6     3      8\n"
     ]
    }
   ],
   "source": [
    "print(tabulate([[name, *rankdata(pref, reverse=True)] for name, pref in results.items()],\n",
    "              headers=['Method'] + [f'A{i+1}' for i in range(10)]))"
   ]
  },
  {
   "cell_type": "markdown",
   "metadata": {},
   "source": [
    "### VIKOR method\n",
    "We can apply this method similarly to TOPSIS method. VIKOR method can be also used without any normalization (it's a default behavior)."
   ]
  },
  {
   "cell_type": "code",
   "execution_count": 16,
   "metadata": {},
   "outputs": [
    {
     "name": "stdout",
     "output_type": "stream",
     "text": [
      "[0.5929 0.5997 0.0557 0.1973 0.745  0.764  0.7428 0.3067 0.5    1.    ]\n"
     ]
    }
   ],
   "source": [
    "vikor = pymcdm.methods.VIKOR()\n",
    "print(vikor(matrix, weights, types))"
   ]
  },
  {
   "cell_type": "markdown",
   "metadata": {},
   "source": [
    "But, it's better to use some kind of normalization with it. Here's some examples:"
   ]
  },
  {
   "cell_type": "code",
   "execution_count": 17,
   "metadata": {},
   "outputs": [],
   "source": [
    "vikor_methods = {\n",
    "    'VIKOR': pymcdm.methods.VIKOR(),\n",
    "    'minmax': pymcdm.methods.VIKOR(pymcdm.normalizations.minmax_normalization),\n",
    "    'max': pymcdm.methods.VIKOR(pymcdm.normalizations.max_normalization),\n",
    "    'sum': pymcdm.methods.VIKOR(pymcdm.normalizations.sum_normalization),\n",
    "    'vector': pymcdm.methods.VIKOR(pymcdm.normalizations.vector_normalization),\n",
    "    'log': pymcdm.methods.VIKOR(pymcdm.normalizations.logaritmic_normalization),\n",
    "}"
   ]
  },
  {
   "cell_type": "code",
   "execution_count": 18,
   "metadata": {},
   "outputs": [],
   "source": [
    "results = {}\n",
    "for name, function in vikor_methods.items():\n",
    "    results[name] = function(matrix, weights, types)"
   ]
  },
  {
   "cell_type": "markdown",
   "metadata": {},
   "source": [
    "Raw preference values:"
   ]
  },
  {
   "cell_type": "code",
   "execution_count": 19,
   "metadata": {},
   "outputs": [
    {
     "name": "stdout",
     "output_type": "stream",
     "text": [
      "Method      A1    A2    A3    A4    A5    A6    A7    A8    A9    A10\n",
      "--------  ----  ----  ----  ----  ----  ----  ----  ----  ----  -----\n",
      "VIKOR     0.59  0.6   0.06  0.2   0.75  0.76  0.74  0.31   0.5      1\n",
      "minmax    0.59  0.6   0.06  0.2   0.75  0.76  0.74  0.31   0.5      1\n",
      "max       0.59  0.6   0.06  0.2   0.75  0.76  0.74  0.31   0.5      1\n",
      "sum       0.5   0.54  0.09  0.26  0.71  0.76  0.8   0.38   0.5      1\n",
      "vector    0.59  0.6   0.06  0.2   0.75  0.76  0.74  0.31   0.5      1\n",
      "log       0.61  0.61  0.01  0.23  0.72  0.75  0.73  0.32   0.5      1\n"
     ]
    }
   ],
   "source": [
    "print(tabulate([[name, *np.round(pref, 2)] for name, pref in results.items()],\n",
    "              headers=['Method'] + [f'A{i+1}' for i in range(10)]))"
   ]
  },
  {
   "cell_type": "markdown",
   "metadata": {},
   "source": [
    "Ranking values:"
   ]
  },
  {
   "cell_type": "code",
   "execution_count": 20,
   "metadata": {},
   "outputs": [
    {
     "name": "stdout",
     "output_type": "stream",
     "text": [
      "Method      A1    A2    A3    A4    A5    A6    A7    A8    A9    A10\n",
      "--------  ----  ----  ----  ----  ----  ----  ----  ----  ----  -----\n",
      "VIKOR        5     6     1     2     8     9     7     3     4     10\n",
      "minmax       5     6     1     2     8     9     7     3     4     10\n",
      "max          5     6     1     2     8     9     7     3     4     10\n",
      "sum          5     6     1     2     7     8     9     3     4     10\n",
      "vector       5     6     1     2     8     9     7     3     4     10\n",
      "log          5     6     1     2     7     9     8     3     4     10\n"
     ]
    }
   ],
   "source": [
    "print(tabulate([[name, *rankdata(pref)] for name, pref in results.items()],\n",
    "              headers=['Method'] + [f'A{i+1}' for i in range(10)]))"
   ]
  },
  {
   "cell_type": "markdown",
   "metadata": {},
   "source": [
    "### PROMETHEE II method\n",
    "\n",
    "PROMETHEE II method has a bit more customization options. We offer five preference functions and it is also possible to provide `p` and `q` values vectors."
   ]
  },
  {
   "cell_type": "code",
   "execution_count": 21,
   "metadata": {},
   "outputs": [],
   "source": [
    "preference_functions = ['usual', 'vshape', 'ushape', 'level', 'vshape_2']\n",
    "promethee_methods = {\n",
    "    f'{pref}': pymcdm.methods.PROMEHTEE_II(preference_function=pref)\n",
    "    for pref in preference_functions\n",
    "}"
   ]
  },
  {
   "cell_type": "code",
   "execution_count": 22,
   "metadata": {},
   "outputs": [],
   "source": [
    "p = np.random.rand(matrix.shape[1]) / 2\n",
    "q = np.random.rand(matrix.shape[1]) / 2 + 0.5\n",
    "results = {}\n",
    "for name, function in promethee_methods.items():\n",
    "    results[name] = function(matrix, weights, types, p=p, q=q)"
   ]
  },
  {
   "cell_type": "markdown",
   "metadata": {},
   "source": [
    "Raw method output:"
   ]
  },
  {
   "cell_type": "code",
   "execution_count": 23,
   "metadata": {},
   "outputs": [
    {
     "name": "stdout",
     "output_type": "stream",
     "text": [
      "            A1    A2    A3    A4     A5     A6     A7    A8    A9    A10\n",
      "--------  ----  ----  ----  ----  -----  -----  -----  ----  ----  -----\n",
      "usual        0  0.06  0.35  0.16  -0.12  -0.19  -0.19  0.01   0.3  -0.38\n",
      "vshape       0  0.06  0.35  0.16  -0.12  -0.19  -0.19  0.01   0.3  -0.38\n",
      "ushape       0  0.06  0.35  0.15  -0.11  -0.17  -0.19  0.01   0.3  -0.4\n",
      "level        0  0.06  0.35  0.16  -0.12  -0.19  -0.19  0.01   0.3  -0.38\n",
      "vshape_2     0  0.06  0.35  0.16  -0.12  -0.19  -0.19  0.01   0.3  -0.38\n"
     ]
    }
   ],
   "source": [
    "print(tabulate([[name, *np.round(pref, 2)] for name, pref in results.items()],\n",
    "              headers=[''] + [f'A{i+1}' for i in range(10)]))"
   ]
  },
  {
   "cell_type": "markdown",
   "metadata": {},
   "source": [
    "Rankings:"
   ]
  },
  {
   "cell_type": "code",
   "execution_count": 24,
   "metadata": {},
   "outputs": [
    {
     "name": "stdout",
     "output_type": "stream",
     "text": [
      "            A1    A2    A3    A4    A5    A6    A7    A8    A9    A10\n",
      "--------  ----  ----  ----  ----  ----  ----  ----  ----  ----  -----\n",
      "usual        6     4     1     3     7   8.5   8.5     5     2     10\n",
      "vshape       6     4     1     3     7   8.5   8.5     5     2     10\n",
      "ushape       6     4     1     3     7   8     9       5     2     10\n",
      "level        6     4     1     3     7   8.5   8.5     5     2     10\n",
      "vshape_2     6     4     1     3     7   8.5   8.5     5     2     10\n"
     ]
    }
   ],
   "source": [
    "print(tabulate([[name, *rankdata(pref, reverse=True)] for name, pref in results.items()],\n",
    "              headers=[''] + [f'A{i+1}' for i in range(10)]))"
   ]
  },
  {
   "cell_type": "markdown",
   "metadata": {},
   "source": [
    "Here's two functions which could be usefull to visualize PROMETHEE's method results:"
   ]
  },
  {
   "cell_type": "code",
   "execution_count": 25,
   "metadata": {},
   "outputs": [],
   "source": [
    "def promethee_I_visualization(Fp, Fm):\n",
    "    fig, ax = plt.subplots()\n",
    "    ax.set_xlim(-0.51, 0.51)\n",
    "    ax.set_ylim(-0.51, 0.51)\n",
    "    ax.axis('off')\n",
    "\n",
    "    ax.plot([0.5, 0.5], [-0.5, 0.5], 'k', linewidth=3)\n",
    "    ax.plot([-0.5, -0.5], [-0.5, 0.5], 'k', linewidth=3)\n",
    "    ax.plot([0, 0], [-0.5, 0.5], 'k',\n",
    "            alpha=0.5, linewidth=1, linestyle='--')\n",
    "\n",
    "    ax.text(-0.61, 0, 'Phi+', fontsize='large')\n",
    "    ax.text(-0.56, 0.5, '1.0')\n",
    "    ax.text(-0.56, -0.5, '0.0')\n",
    "\n",
    "    ax.text(0.52, 0, 'Phi-', fontsize='large')\n",
    "    ax.text(0.51, -0.5, '1.0')\n",
    "    ax.text(0.51, 0.5, '0.0')\n",
    "\n",
    "    for i, (fp, fm) in enumerate(zip(Fp, Fm)):\n",
    "        ax.plot([-0.5, 0.5], [-0.5 + fp, 0.5 - fm], label=f'A{i+1}')\n",
    "        ax.text(-0.55, -0.5 + fp, f'A{i+1}')\n",
    "        ax.text(0.51, 0.5 - fm, f'A{i+1}')\n",
    "    plt.legend()\n",
    "\n",
    "\n",
    "def promethee_II_vizualization(Fi):\n",
    "    fig, ax = plt.subplots()\n",
    "    ax.set_xlim(-0.51, 0.51)\n",
    "    ax.set_ylim(-0.51, 0.51)\n",
    "    ax.axis('off')\n",
    "\n",
    "    ax.plot([0, 0], [-0.5, 0.5], 'k', linewidth=5)\n",
    "    ax.text(0.02, 0.5, '1.0')\n",
    "    ax.text(0.02, 0, '0.0')\n",
    "    ax.text(0.02, -0.5, '-1.0')\n",
    "\n",
    "    for i in np.arange(-0.5, 0.51, 0.25):\n",
    "        ax.plot([-0.02, 0.02], [i, i], 'k')\n",
    "\n",
    "    for i, fi in enumerate(Fi):\n",
    "        ax.plot([-0.1, 0.1], [fi/2, fi/2], label=f'A{i+1}')\n",
    "        ax.text(-0.15, fi/2, f'{fi:0.2f}')\n",
    "        ax.text(0.1, fi/2, f'A{i+1}')\n",
    "    plt.legend()"
   ]
  },
  {
   "cell_type": "code",
   "execution_count": 26,
   "metadata": {},
   "outputs": [],
   "source": [
    "promethee = pymcdm.methods.PROMEHTEE_II('usual')"
   ]
  },
  {
   "cell_type": "code",
   "execution_count": 27,
   "metadata": {},
   "outputs": [
    {
     "data": {
      "application/pdf": "[encoded data removed]",
      "image/png": "[encoded data removed]",
      "text/plain": [
       "<Figure size 432x288 with 1 Axes>"
      ]
     },
     "metadata": {
      "needs_background": "light"
     },
     "output_type": "display_data"
    }
   ],
   "source": [
    "Fp, Fm = promethee(matrix, weights, types, promethee_I=True)\n",
    "promethee_I_visualization(Fp, Fm)"
   ]
  },
  {
   "cell_type": "code",
   "execution_count": 28,
   "metadata": {},
   "outputs": [
    {
     "data": {
      "application/pdf": "[encoded data removed]",
      "image/png": "[encoded data removed]",
      "text/plain": [
       "<Figure size 432x288 with 1 Axes>"
      ]
     },
     "metadata": {
      "needs_background": "light"
     },
     "output_type": "display_data"
    }
   ],
   "source": [
    "Fi = promethee(matrix, weights, types)\n",
    "promethee_II_vizualization(Fi)"
   ]
  },
  {
   "cell_type": "markdown",
   "metadata": {},
   "source": [
    "Here's also another way to show PROMETHEE's I partial ranking in nice-looking way:"
   ]
  },
  {
   "cell_type": "code",
   "execution_count": 29,
   "metadata": {},
   "outputs": [
    {
     "data": {
      "application/pdf": "[encoded data removed]",
      "image/png": "[encoded data removed]",
      "text/plain": [
       "<Figure size 432x288 with 1 Axes>"
      ]
     },
     "metadata": {},
     "output_type": "display_data"
    }
   ],
   "source": [
    "def check_pref(fp1, fm1, fp2, fm2):\n",
    "    '''Returns:\n",
    "    1 if preference\n",
    "    0 if indifference\n",
    "    -1 if incomparability\n",
    "    '''\n",
    "    if fp1 == fp2 and fm1 == fm2:\n",
    "        return 0 # Indifference\n",
    "\n",
    "    elif (fp1 > fp2 and fm1 < fm2)\\\n",
    "            or (fp1 == fp2 and fm1 < fm2)\\\n",
    "            or (fp1 > fp2 and fm1 == fm2):\n",
    "        return 1\n",
    "    else:\n",
    "        return -1\n",
    "\n",
    "\n",
    "def promethee_I_graph(Fp, Fm):\n",
    "    G = nx.DiGraph()\n",
    "\n",
    "    for i in range(len(Fp)):\n",
    "        G.add_node(f'A{i+1}')\n",
    "\n",
    "    for i in range(len(Fp)):\n",
    "        for j in range(len(Fp)):\n",
    "            if check_pref(Fp[i], Fm[i], Fp[j], Fm[j]) == 1:\n",
    "                G.add_edge(f'A{i+1}', f'A{j+1}')\n",
    "\n",
    "    nx.draw(G, with_labels=True, font_weight='bold',\n",
    "            width=2, arrowsize=20, node_size=400)\n",
    "\n",
    "promethee_I_graph(Fp, Fm)"
   ]
  },
  {
   "cell_type": "markdown",
   "metadata": {},
   "source": [
    "### COPRAS method"
   ]
  },
  {
   "cell_type": "code",
   "execution_count": 30,
   "metadata": {},
   "outputs": [],
   "source": [
    "copras = pymcdm.methods.COPRAS()\n",
    "result = copras(matrix, weights, types)"
   ]
  },
  {
   "cell_type": "code",
   "execution_count": 31,
   "metadata": {},
   "outputs": [
    {
     "name": "stdout",
     "output_type": "stream",
     "text": [
      "              A1    A2    A3    A4    A5    A6    A7    A8    A9    A10\n",
      "----------  ----  ----  ----  ----  ----  ----  ----  ----  ----  -----\n",
      "Preference     1  0.93  0.72  0.68  0.68  0.65  0.53  0.56  0.75   0.39\n",
      "Rank           1  2     4     5     6     7     9     8     3     10\n"
     ]
    }
   ],
   "source": [
    "print(tabulate([['Preference', *np.round(result, 2)],\n",
    "                ['Rank', *rankdata(result, reverse=True)]],\n",
    "              headers=[''] + [f'A{i+1}' for i in range(10)]))"
   ]
  },
  {
   "cell_type": "markdown",
   "metadata": {},
   "source": [
    "### SPOTIS method\n",
    "This method is required some additional data: criteria bounds. Becaues it is not provided with definition of the problem, we could determine it based on decision matrix."
   ]
  },
  {
   "cell_type": "code",
   "execution_count": 32,
   "metadata": {},
   "outputs": [
    {
     "name": "stdout",
     "output_type": "stream",
     "text": [
      "[[ 340.  3000. ]\n",
      " [  57.   150. ]\n",
      " [ 100.   180. ]\n",
      " [  10.   200. ]\n",
      " [  80.   610. ]\n",
      " [   4.    10. ]\n",
      " [  10.   120. ]\n",
      " [  10.5   99. ]\n",
      " [  12.9  120. ]]\n"
     ]
    }
   ],
   "source": [
    "bounds =  np.vstack((\n",
    "    np.min(matrix, axis=0),\n",
    "    np.max(matrix, axis=0)\n",
    ")).T\n",
    "print(bounds)"
   ]
  },
  {
   "cell_type": "markdown",
   "metadata": {},
   "source": [
    "And then it could be applied like other methods:"
   ]
  },
  {
   "cell_type": "code",
   "execution_count": 33,
   "metadata": {},
   "outputs": [],
   "source": [
    "spotis = pymcdm.methods.SPOTIS()\n",
    "result = spotis(matrix, weights, types, bounds=bounds)"
   ]
  },
  {
   "cell_type": "code",
   "execution_count": 34,
   "metadata": {},
   "outputs": [
    {
     "name": "stdout",
     "output_type": "stream",
     "text": [
      "               A1     A2     A3     A4     A5     A6     A7     A8     A9     A10\n",
      "----------  -----  -----  -----  -----  -----  -----  -----  -----  -----  ------\n",
      "Preference  0.446  0.452  0.414  0.428  0.579  0.596  0.589  0.549  0.365   0.802\n",
      "Rank        4      5      2      3      7      9      8      6      1      10\n"
     ]
    }
   ],
   "source": [
    "print(tabulate([['Preference', *np.round(result, 3)],\n",
    "                ['Rank', *rankdata(result)]],\n",
    "              headers=[''] + [f'A{i+1}' for i in range(10)]))"
   ]
  },
  {
   "cell_type": "markdown",
   "metadata": {},
   "source": [
    "### COMET method\n",
    "To apply this method some additional information is also needed. We should provide characteristical values which would be used to create characteristical objects. Here we use three characteristical values, but it could be any number bigger then two."
   ]
  },
  {
   "cell_type": "code",
   "execution_count": 35,
   "metadata": {},
   "outputs": [
    {
     "name": "stdout",
     "output_type": "stream",
     "text": [
      "[[ 340.    909.3  3000.  ]\n",
      " [  57.    107.3   150.  ]\n",
      " [ 100.    144.    180.  ]\n",
      " [  10.     87.9   200.  ]\n",
      " [  80.    325.8   610.  ]\n",
      " [   4.      7.     10.  ]\n",
      " [  10.     54.    120.  ]\n",
      " [  10.5    37.57   99.  ]\n",
      " [  12.9    43.3   120.  ]]\n"
     ]
    }
   ],
   "source": [
    "cvalues =  np.vstack((\n",
    "    np.min(matrix, axis=0),\n",
    "    np.mean(matrix, axis=0),\n",
    "    np.max(matrix, axis=0)\n",
    ")).T\n",
    "print(cvalues)"
   ]
  },
  {
   "cell_type": "markdown",
   "metadata": {},
   "source": [
    "Next thing which we need it's a `expert_function` or a `rate_function`, which would be used to compare characteristic objects (CO). There are two build-in options: `manual_expert` which is a expert function which allows to compare CO manually. The other one is a `topsis_rate_function` which allows to rate CO with TOPSIS in order to obtain SJ and P without building MEJ matrix."
   ]
  },
  {
   "cell_type": "code",
   "execution_count": 36,
   "metadata": {},
   "outputs": [],
   "source": [
    "comet = pymcdm.methods.COMET(cvalues,\n",
    "                           rate_function=pymcdm.methods.COMET.topsis_rate_function(weights, types))"
   ]
  },
  {
   "cell_type": "code",
   "execution_count": 37,
   "metadata": {},
   "outputs": [],
   "source": [
    "result = comet(matrix)"
   ]
  },
  {
   "cell_type": "markdown",
   "metadata": {},
   "source": [
    "In order to use `rankdata` function with COMET results, it should be reversed by `reverse` argument."
   ]
  },
  {
   "cell_type": "code",
   "execution_count": 38,
   "metadata": {},
   "outputs": [
    {
     "name": "stdout",
     "output_type": "stream",
     "text": [
      "              A1     A2     A3     A4    A5     A6     A7     A8     A9     A10\n",
      "----------  ----  -----  -----  -----  ----  -----  -----  -----  -----  ------\n",
      "Preference  0.61  0.603  0.674  0.651  0.41  0.385  0.371  0.441  0.745   0.082\n",
      "Rank        4     5      2      3      7     8      9      6      1      10\n"
     ]
    }
   ],
   "source": [
    "print(tabulate([['Preference', *np.round(result, 3)],\n",
    "                ['Rank', *rankdata(result, reverse=True)]],\n",
    "              headers=[''] + [f'A{i+1}' for i in range(10)]))"
   ]
  },
  {
   "cell_type": "markdown",
   "metadata": {},
   "source": [
    "Here's another example with smaller number of characteristic values to show how `manual_expert` could be used. Consider that one criterion is a profit and other one is a cost."
   ]
  },
  {
   "cell_type": "code",
   "execution_count": 39,
   "metadata": {},
   "outputs": [],
   "source": [
    "cvalues = np.array([\n",
    "    [1, 2],\n",
    "    [3, 4],\n",
    "], dtype='float')\n",
    "criteria_names = ['Profit', 'Cost']"
   ]
  },
  {
   "cell_type": "code",
   "execution_count": 40,
   "metadata": {},
   "outputs": [
    {
     "name": "stdout",
     "output_type": "stream",
     "text": [
      "                |         a |         b\n",
      "         Profit |       1.0 |       1.0\n",
      "           Cost |       3.0 |       4.0\n",
      "Which one is better?\n",
      "Input \"a\", \"b\" or leave empty if a i b are equaly prefered.\n",
      ">>> a\n",
      "                |         a |         b\n",
      "         Profit |       1.0 |       2.0\n",
      "           Cost |       3.0 |       3.0\n",
      "Which one is better?\n",
      "Input \"a\", \"b\" or leave empty if a i b are equaly prefered.\n",
      ">>> b\n",
      "                |         a |         b\n",
      "         Profit |       1.0 |       2.0\n",
      "           Cost |       3.0 |       4.0\n",
      "Which one is better?\n",
      "Input \"a\", \"b\" or leave empty if a i b are equaly prefered.\n",
      ">>> b\n",
      "                |         a |         b\n",
      "         Profit |       1.0 |       2.0\n",
      "           Cost |       4.0 |       3.0\n",
      "Which one is better?\n",
      "Input \"a\", \"b\" or leave empty if a i b are equaly prefered.\n",
      ">>> b\n",
      "                |         a |         b\n",
      "         Profit |       1.0 |       2.0\n",
      "           Cost |       4.0 |       4.0\n",
      "Which one is better?\n",
      "Input \"a\", \"b\" or leave empty if a i b are equaly prefered.\n",
      ">>> b\n",
      "                |         a |         b\n",
      "         Profit |       2.0 |       2.0\n",
      "           Cost |       3.0 |       4.0\n",
      "Which one is better?\n",
      "Input \"a\", \"b\" or leave empty if a i b are equaly prefered.\n",
      ">>> a\n"
     ]
    }
   ],
   "source": [
    "comet = pymcdm.methods.COMET(cvalues,\n",
    "                           expert_function=pymcdm.methods.COMET.manual_expert(criteria_names))"
   ]
  },
  {
   "cell_type": "markdown",
   "metadata": {},
   "source": [
    "After building the model, we could visualize MEJ matrix with function like that:"
   ]
  },
  {
   "cell_type": "code",
   "execution_count": 45,
   "metadata": {},
   "outputs": [
    {
     "data": {
      "application/pdf": "[encoded data removed]",
      "image/png": "[encoded data removed]",
      "text/plain": [
       "<Figure size 432x288 with 1 Axes>"
      ]
     },
     "metadata": {
      "needs_background": "light"
     },
     "output_type": "display_data"
    }
   ],
   "source": [
    "def draw_mej(mej, grid_width=2):\n",
    "    ax = plt.gca()\n",
    "    cmap = ListedColormap(['tab:red', 'tab:blue', 'tab:green'])\n",
    "    im = ax.imshow(mej, cmap=cmap)\n",
    "    \n",
    "    for edge, spine in ax.spines.items():\n",
    "        spine.set_visible(False)\n",
    "        \n",
    "    ax.set_xticks(np.arange(mej.shape[1]+1)-0.51, minor=True)\n",
    "    ax.set_yticks(np.arange(mej.shape[0]+1)-0.51, minor=True)\n",
    "    \n",
    "    ax.set_yticklabels([])\n",
    "    ax.set_xticklabels([])\n",
    "    ax.yaxis.set_ticks_position('none')\n",
    "    ax.xaxis.set_ticks_position('none')\n",
    "    \n",
    "    ax.grid(which='minor', color='k', linestyle='-', linewidth=grid_width)\n",
    "    ax.tick_params(which='minor')\n",
    "\n",
    "draw_mej(comet.get_MEJ(), grid_width=4)"
   ]
  },
  {
   "cell_type": "markdown",
   "metadata": {},
   "source": [
    "# Correlation coefficients\n",
    "There are several correlation coefficients in our lib, but they generally work in the same way. This functions allows to compare rankings to determine how similar they are."
   ]
  },
  {
   "cell_type": "code",
   "execution_count": 42,
   "metadata": {},
   "outputs": [
    {
     "data": {
      "text/plain": [
       "1.0"
      ]
     },
     "execution_count": 42,
     "metadata": {},
     "output_type": "execute_result"
    }
   ],
   "source": [
    "a = np.array([1, 2, 3, 4], dtype='float')\n",
    "b = np.array([1, 2, 3, 4], dtype='float')\n",
    "\n",
    "pymcdm.correlations.weighted_spearman(a, b)"
   ]
  },
  {
   "cell_type": "code",
   "execution_count": 43,
   "metadata": {},
   "outputs": [
    {
     "data": {
      "text/plain": [
       "0.52"
      ]
     },
     "execution_count": 43,
     "metadata": {},
     "output_type": "execute_result"
    }
   ],
   "source": [
    "a = np.array([1, 2, 3, 4], dtype='float')\n",
    "b = np.array([1, 3, 4, 2], dtype='float')\n",
    "\n",
    "pymcdm.correlations.weighted_spearman(a, b)"
   ]
  },
  {
   "cell_type": "code",
   "execution_count": 44,
   "metadata": {},
   "outputs": [
    {
     "data": {
      "text/plain": [
       "-0.8"
      ]
     },
     "execution_count": 44,
     "metadata": {},
     "output_type": "execute_result"
    }
   ],
   "source": [
    "a = np.array([1, 2, 3, 4], dtype='float')\n",
    "b = np.array([4, 3, 1, 2], dtype='float')\n",
    "\n",
    "pymcdm.correlations.weighted_spearman(a, b)"
   ]
  }
 ],
 "metadata": {
  "authors": [
   {
    "name": "Andrii Shekhovtsov"
   }
  ],
  "kernelspec": {
   "display_name": "Python 3",
   "language": "python",
   "name": "python3"
  },
  "language_info": {
   "codemirror_mode": {
    "name": "ipython",
    "version": 3
   },
   "file_extension": ".py",
   "mimetype": "text/x-python",
   "name": "python",
   "nbconvert_exporter": "python",
   "pygments_lexer": "ipython3",
   "version": "3.9.1"
  }
 },
 "nbformat": 4,
 "nbformat_minor": 4
}
