{
 "cells": [
  {
   "cell_type": "code",
   "execution_count": 1,
   "metadata": {},
   "outputs": [],
   "source": [
    "from moztelemetry import Dataset\n",
    "from pyspark.sql import Row\n",
    "from pyspark.sql.types import BooleanType, LongType\n",
    "import pandas as pd\n",
    "import pyspark.sql.functions as F\n",
    "import datetime as dt\n",
    "\n",
    "sc.setLogLevel(\"INFO\")"
   ]
  },
  {
   "cell_type": "markdown",
   "metadata": {},
   "source": [
    "Define util funcs"
   ]
  },
  {
   "cell_type": "code",
   "execution_count": 2,
   "metadata": {},
   "outputs": [],
   "source": [
    "def utc2date(seconds):\n",
    "    \"\"\"\n",
    "    Takes unix time in seconds and returns a string representation\n",
    "    \"\"\"\n",
    "    utc = dt.datetime(1970, 1, 1)\n",
    "    try:\n",
    "        return dt.datetime.strftime(utc + dt.timedelta(seconds=seconds), format='%Y%m%d')\n",
    "    except:\n",
    "        return None\n",
    "\n",
    "    \n",
    "def shield_data(x):\n",
    "    \"\"\"\n",
    "    Grabs the data reported by the shield add-on \n",
    "    \"\"\"\n",
    "    return x.get(\"payload\", {}).get(\"data\", {}).get(\"attributes\", {})\n",
    "\n",
    "\n",
    "def _cast(col, f):\n",
    "    if col != 'null':\n",
    "        try:\n",
    "            return f(col)\n",
    "        except:\n",
    "            pass\n",
    "    return\n",
    "\n",
    "_bool = lambda x: True if x == 'true' else False\n",
    "\n",
    "castLong = F.udf(lambda x: _cast(x, long), LongType())\n",
    "castBool = F.udf(lambda x: _cast(x, _bool), BooleanType())\n",
    "    \n",
    "\n",
    "def collapse_fields(x):\n",
    "    \"\"\"\n",
    "    Collapsed nested field names \n",
    "    and returns a flattened object as a \n",
    "    PySpark Row to prepare for DataFrame \n",
    "    conversion\n",
    "    \"\"\"\n",
    "    if x is None:\n",
    "        x = {}\n",
    "    data = x.get(\"payload\", {}).get(\"data\").get(\"attributes\", {})\n",
    "    addons= x.get(\"environment\", {}).get(\"addons\", {}).get(\"activeAddons\", {})\n",
    "    result = Row(\n",
    "        client_id=x.get(\"clientId\"),\n",
    "        locale=x.get(\"environment\", {}).get(\"settings\", {}).get(\"locale\"),\n",
    "        branch=x.get(\"payload\", {}).get(\"branch\"),\n",
    "        addon_id=data.get(\"addon_id\"),\n",
    "        clicked_button=data.get(\"clickedButton\"),\n",
    "        creation_date=x.get(\"creationDate\"),\n",
    "        ping_type=data.get(\"pingType\"),\n",
    "        saw_popup=data.get(\"sawPopup\"),\n",
    "        src=data.get(\"srcURI\"),\n",
    "        start_time_utc=data.get(\"startTime\"),\n",
    "        dwell_time=data.get(\"aboutAddonsActiveTabSeconds\"),\n",
    "        discopane_loaded=data.get(\"discoPaneLoaded\"),\n",
    "        submission_date_s3=x.get(\"meta\").get(\"submissionDate\"),\n",
    "        current_addons=[i for i in addons if \\\n",
    "                        not addons[i].get('isSystem', True) and \\\n",
    "                        not addons[i].get('foreignInstall', True)]\n",
    "        )\n",
    "    return result"
   ]
  },
  {
   "cell_type": "markdown",
   "metadata": {},
   "source": [
    "Define study dates in string and unix format"
   ]
  },
  {
   "cell_type": "code",
   "execution_count": 5,
   "metadata": {},
   "outputs": [
    {
     "name": "stdout",
     "output_type": "stream",
     "text": [
      "study start date: 20180312\n",
      "study end date: 20180423\n"
     ]
    }
   ],
   "source": [
    "START_DATE_STR = \"20180312\"\n",
    "END_DATE_STR = \"20180423\"\n",
    "print(\"study start date: \" + START_DATE_STR + \"\\n\" + \"study end date: \" + END_DATE_STR)"
   ]
  },
  {
   "cell_type": "markdown",
   "metadata": {},
   "source": [
    "Load raw pings from experiment"
   ]
  },
  {
   "cell_type": "code",
   "execution_count": null,
   "metadata": {
    "code_folding": []
   },
   "outputs": [],
   "source": [
    "# load all taar pings from our adjusted start date of 20171008\n",
    "taarv2_pings = (\n",
    "    Dataset.from_source(\"telemetry\")\n",
    "           .where(docType=\"shield-study-addon\")\n",
    "           .where(submissionDate=lambda x: x >= START_DATE_STR and x <= END_DATE_STR)\n",
    "           .records(sc)\n",
    "           .filter(lambda x: x.get(\"payload\", {}).get(\"study_name\") == \"TAARExperimentV2\")\n",
    "           .filter(lambda x: x.get(\"payload\", {}).get(\"addon_version\") == \"1.0.13\")\n",
    "           .filter(lambda x: x.get(\"payload\", {}).get(\"testing\") == False)\n",
    ")"
   ]
  },
  {
   "cell_type": "markdown",
   "metadata": {},
   "source": [
    "Convert pings to a structured spark DataFrame"
   ]
  },
  {
   "cell_type": "code",
   "execution_count": null,
   "metadata": {
    "scrolled": false
   },
   "outputs": [],
   "source": [
    "# sampleRatio infers schema from first 0.1% of rows\n",
    "taarv2_DF = taarnet-mozaws-prod-us-west-2-pipeline-analysisv2_pings.map(collapse_fields).toDF(sampleRatio=0.001)"
   ]
  },
  {
   "cell_type": "markdown",
   "metadata": {},
   "source": [
    "Cast non-string columns to the appropriate type"
   ]
  },
  {
   "cell_type": "code",
   "execution_count": 10,
   "metadata": {},
   "outputs": [],
   "source": [
    "bool_cols = [\n",
    "    'discopane_loaded',\n",
    "    'clicked_button',\n",
    "    'saw_popup', \n",
    "]\n",
    "\n",
    "long_cols = [\n",
    "    'start_time_utc',\n",
    "    'dwell_time',\n",
    "]\n",
    "\n",
    "for b in bool_cols:\n",
    "    taarv2_DF = taarv2_DF.withColumn(b, castBool(b))\n",
    "    \n",
    "for l in long_cols:\n",
    "    taarv2_DF = taarv2_DF.withColumn(l, castLong(l))"
   ]
  },
  {
   "cell_type": "code",
   "execution_count": 11,
   "metadata": {},
   "outputs": [
    {
     "name": "stdout",
     "output_type": "stream",
     "text": [
      "root\n",
      " |-- addon_id: string (nullable = true)\n",
      " |-- branch: string (nullable = true)\n",
      " |-- clicked_button: boolean (nullable = true)\n",
      " |-- client_id: string (nullable = true)\n",
      " |-- creation_date: string (nullable = true)\n",
      " |-- current_addons: array (nullable = true)\n",
      " |    |-- element: string (containsNull = true)\n",
      " |-- discopane_loaded: boolean (nullable = true)\n",
      " |-- dwell_time: long (nullable = true)\n",
      " |-- locale: string (nullable = true)\n",
      " |-- ping_type: string (nullable = true)\n",
      " |-- saw_popup: boolean (nullable = true)\n",
      " |-- src: string (nullable = true)\n",
      " |-- start_time_utc: long (nullable = true)\n",
      " |-- submission_date_s3: string (nullable = true)\n",
      "\n"
     ]
    }
   ],
   "source": [
    "taarv2_DF.printSchema()"
   ]
  },
  {
   "cell_type": "markdown",
   "metadata": {},
   "source": [
    "Write to S3, partitioning by `branch`, since most subsequent queries will involve aggregating by this field"
   ]
  },
  {
   "cell_type": "code",
   "execution_count": 12,
   "metadata": {
    "code_folding": [],
    "scrolled": false
   },
   "outputs": [],
   "source": [
    "S3_PATH = 's3://net-mozaws-prod-us-west-2-pipeline-analysis/taarv2/'\n",
    "\n",
    "(\n",
    "taarv2_DF\n",
    " .repartition(1)\n",
    " .write\n",
    " .partitionBy('branch')\n",
    " .mode(\"overwrite\")\n",
    " .parquet(S3_PATH)\n",
    ")"
   ]
  },
  {
   "cell_type": "code",
   "execution_count": 13,
   "metadata": {},
   "outputs": [
    {
     "name": "stdout",
     "output_type": "stream",
     "text": [
      "n records: 8762664\n",
      "n clients: 3491762\n",
      "[Row(min(submission_date_s3)=u'20180312', max(submission_date_s3)=u'20180417')]\n"
     ]
    }
   ],
   "source": [
    "# verify\n",
    "t = sqlContext.read.parquet(S3_PATH)\n",
    "\n",
    "print \"n records:\", t.count()\n",
    "print \"n clients:\", t.select('client_id').distinct().count()\n",
    "sd = t.select(F.min(\"submission_date_s3\"), \n",
    "              F.max('submission_date_s3'))\n",
    "print sd.collect()"
   ]
  },
  {
   "cell_type": "code",
   "execution_count": null,
   "metadata": {},
   "outputs": [],
   "source": []
  }
 ],
 "metadata": {
  "anaconda-cloud": {},
  "kernelspec": {
   "display_name": "Python [conda root]",
   "language": "python",
   "name": "conda-root-py"
  },
  "language_info": {
   "codemirror_mode": {
    "name": "ipython",
    "version": 2
   },
   "file_extension": ".py",
   "mimetype": "text/x-python",
   "name": "python",
   "nbconvert_exporter": "python",
   "pygments_lexer": "ipython2",
   "version": "2.7.12"
  }
 },
 "nbformat": 4,
 "nbformat_minor": 1
}
