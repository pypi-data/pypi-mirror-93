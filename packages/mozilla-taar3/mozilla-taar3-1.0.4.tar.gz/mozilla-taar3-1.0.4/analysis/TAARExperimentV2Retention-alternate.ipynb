{
 "cells": [
  {
   "cell_type": "code",
   "execution_count": 10,
   "metadata": {},
   "outputs": [],
   "source": [
    "import pyspark.sql.functions as F\n",
    "from pyspark.sql.types import TimestampType\n",
    "import datetime as dt\n",
    "import pandas as pd\n",
    "import pyspark.sql.types as st\n",
    "import matplotlib.pyplot as plt\n",
    "import seaborn\n",
    "\n",
    "seaborn.set_style(\"whitegrid\")\n",
    "sc.setLogLevel(\"INFO\")\n",
    "udf = F.udf\n",
    "%matplotlib inline"
   ]
  },
  {
   "cell_type": "code",
   "execution_count": 17,
   "metadata": {},
   "outputs": [],
   "source": [
    "def count_addons(active_addons):\n",
    "    \"\"\"\n",
    "    Given the Row of active_addons\n",
    "    returns an integer indicating the number of active addons.\n",
    "\n",
    "    Params:\n",
    "    active_addons (col): spark Row of active addons\n",
    "\n",
    "    Returns an integer indicating the number of addons\n",
    "    \"\"\"\n",
    "    if active_addons is not None:\n",
    "        return len(active_addons)\n",
    "    else:\n",
    "        return None\n",
    "\n",
    "@udf(returnType=st.StringType())\n",
    "def assign_branch(client_id):\n",
    "    \"\"\"\n",
    "    Given the client_id compares with broadcasted sets of client_ids\n",
    "    to return a branch assignment indicating the experimental branch \n",
    "    in which the client was observed.\n",
    "    \n",
    "    This is a UDF (see decorator)\n",
    "\n",
    "    Params:\n",
    "    cleint_id (string): spark Row containing the string cleint_id\n",
    "\n",
    "    Returns an String  (eben if None) indicating the branch\n",
    "    \"\"\"\n",
    "    if client_id in bc_ensemble_ids.value:\n",
    "        return 'ensemble'\n",
    "    elif client_id in bc_linear_ids.value:\n",
    "        return 'linear'\n",
    "    elif client_id in bc_control_ids.value:\n",
    "        return 'control'\n",
    "    else:\n",
    "        return 'None'"
   ]
  },
  {
   "cell_type": "markdown",
   "metadata": {},
   "source": [
    "### Data Prep"
   ]
  },
  {
   "cell_type": "markdown",
   "metadata": {},
   "source": [
    "Load in cleaned experiment data, generated from [this notebook](https://github.com/mozilla/taar/blob/master/analysis/TAARExperimentV2Analysis.ipynb)."
   ]
  },
  {
   "cell_type": "code",
   "execution_count": 5,
   "metadata": {},
   "outputs": [
    {
     "data": {
      "text/plain": [
       "[Row(branch=u'ensemble-taar', count=645481),\n",
       " Row(branch=u'control', count=2966556),\n",
       " Row(branch=u'linear-taar', count=661547)]"
      ]
     },
     "execution_count": 5,
     "metadata": {},
     "output_type": "execute_result"
    }
   ],
   "source": [
    "S3_PATH = \"s3://net-mozaws-prod-us-west-2-pipeline-analysis/taarv2/cleaned_data/\"\n",
    "# Select essential columns.\n",
    "clean_data = sqlContext.read.parquet(S3_PATH).select('client_id', 'locale', 'branch', 'submission_date_s3')\n",
    "\n",
    "# Display number of rows per branch.\n",
    "clean_data.groupBy('branch').count().collect()"
   ]
  },
  {
   "cell_type": "markdown",
   "metadata": {},
   "source": [
    "Grab the min and max submission dates for filtering `main_summary`."
   ]
  },
  {
   "cell_type": "code",
   "execution_count": 6,
   "metadata": {},
   "outputs": [
    {
     "name": "stdout",
     "output_type": "stream",
     "text": [
      "min date: 20180312\n",
      "max date: 20180423\n"
     ]
    }
   ],
   "source": [
    "min_date = clean_data.select(F.min('submission_date_s3').alias('min_d')).collect()[0].min_d\n",
    "max_date = clean_data.select(F.max('submission_date_s3').alias('max_d')).collect()[0].max_d\n",
    "\n",
    "print(\"min date: \" + str(min_date))\n",
    "print(\"max date: \" + str(max_date))"
   ]
  },
  {
   "cell_type": "markdown",
   "metadata": {},
   "source": [
    "Load in `main_summary`, filtered to the min date of the experiment, and (7 * N_WEEKS) days beyond its compleition (max_date) to allow for the specified n-week Retention Analysis. We then join `main_summary` with the experiment data."
   ]
  },
  {
   "cell_type": "code",
   "execution_count": 7,
   "metadata": {},
   "outputs": [
    {
     "name": "stdout",
     "output_type": "stream",
     "text": [
      "set([])\n"
     ]
    }
   ],
   "source": [
    "# Get distinct client_ids that were observed in the TAAR experiment.\n",
    "ensemble_ids = clean_data.rdd.filter(lambda p: p['branch'] == 'ensemble-taar').map(lambda x: x['client_id']).distinct()\n",
    "linear_ids = clean_data.rdd.filter(lambda p: p['branch'] == 'linear-taar').map(lambda x: x['client_id']).distinct()\n",
    "control_ids = clean_data.rdd.filter(lambda p: p['branch'] == 'control').map(lambda x: x['client_id']).distinct()\n",
    "\n",
    "# Reduce redundant Rows to a set of client_ids per branch observed in TAAR.\n",
    "local_ensemble_ids = set(ensemble_ids.collect())\n",
    "local_linear_ids = set(linear_ids.collect())\n",
    "local_control_ids = set(control_ids.collect())\n",
    "\n",
    "# Sanity check that there are no elements in the set intersection between branches.\n",
    "print(set.intersection(*[local_ensemble_ids, local_linear_ids, local_control_ids]))\n",
    "\n",
    "# Broadcast the sets of ids for fast filtering on Main Summary.\n",
    "bc_ensemble_ids = sc.broadcast(local_ensemble_ids)\n",
    "bc_linear_ids = sc.broadcast(local_linear_ids)\n",
    "bc_control_ids = sc.broadcast(local_control_ids)\n",
    "\n",
    "# print(len(local_ensemble_ids))\n",
    "# print(len(local_linear_ids))\n",
    "# print(len(local_control_ids))"
   ]
  },
  {
   "cell_type": "code",
   "execution_count": 8,
   "metadata": {},
   "outputs": [],
   "source": [
    "ms = (\n",
    "    sqlContext.read.option(\"mergeSchema\", True)\n",
    "     .parquet(\"s3://telemetry-parquet/main_summary/v4\")\n",
    "     .filter(\"submission_date_s3 >= '{}'\".format(min_date))\n",
    "     .filter(\"normalized_channel = 'release'\")\n",
    "     .filter(\"app_name = 'Firefox'\")\n",
    "     .select('client_id', 'active_addons', 'locale', 'subsession_start_date', 'submission_date', 'submission_date_s3')\n",
    ")"
   ]
  },
  {
   "cell_type": "markdown",
   "metadata": {},
   "source": [
    "### Assign a branch label to each (client_id, submission_date) tuple\n",
    "Filtering on non-None branches here ensures that the client was seen in the TAAR study since the broadcasted client_id sets are based on client data from the cleaned TAAr application logs."
   ]
  },
  {
   "cell_type": "code",
   "execution_count": 47,
   "metadata": {},
   "outputs": [
    {
     "data": {
      "text/plain": [
       "[Row(client_id=u'6f8f960b-0ea4-4d6f-a64e-a840807f99ec', active_addons=[Row(addon_id=u'followonsearch@mozilla.com', blocklisted=False, name=u'Follow-on Search Telemetry', user_disabled=False, app_disabled=False, version=u'0.9.7', scope=1, type=u'extension', foreign_install=False, has_binary_components=False, install_day=17568, update_day=17712, signed_state=None, is_system=True, is_web_extension=False, multiprocess_compatible=True), Row(addon_id=u'webcompat-reporter@mozilla.org', blocklisted=False, name=u'WebCompat Reporter', user_disabled=False, app_disabled=False, version=u'1.0.0', scope=1, type=u'extension', foreign_install=False, has_binary_components=False, install_day=17712, update_day=17712, signed_state=None, is_system=True, is_web_extension=False, multiprocess_compatible=True), Row(addon_id=u'webcompat@mozilla.org', blocklisted=False, name=u'Web Compat', user_disabled=False, app_disabled=False, version=u'2.0', scope=1, type=u'extension', foreign_install=False, has_binary_components=False, install_day=17568, update_day=17712, signed_state=None, is_system=True, is_web_extension=False, multiprocess_compatible=True), Row(addon_id=u'activity-stream@mozilla.org', blocklisted=False, name=u'Activity Stream', user_disabled=False, app_disabled=False, version=u'2018.05.30.0900-c6d48b86', scope=1, type=u'extension', foreign_install=False, has_binary_components=False, install_day=17568, update_day=17712, signed_state=None, is_system=True, is_web_extension=False, multiprocess_compatible=True), Row(addon_id=u'screenshots@mozilla.org', blocklisted=False, name=u'Firefox Screenshots', user_disabled=False, app_disabled=False, version=u'32.1.0', scope=1, type=u'extension', foreign_install=False, has_binary_components=False, install_day=17568, update_day=17712, signed_state=None, is_system=True, is_web_extension=False, multiprocess_compatible=True), Row(addon_id=u'aushelper@mozilla.org', blocklisted=False, name=u'Application Update Service Helper', user_disabled=False, app_disabled=False, version=u'2.0', scope=1, type=u'extension', foreign_install=False, has_binary_components=False, install_day=17568, update_day=17712, signed_state=None, is_system=True, is_web_extension=False, multiprocess_compatible=True), Row(addon_id=u'formautofill@mozilla.org', blocklisted=False, name=u'Form Autofill', user_disabled=False, app_disabled=False, version=u'1.0', scope=1, type=u'extension', foreign_install=False, has_binary_components=False, install_day=17568, update_day=17712, signed_state=None, is_system=True, is_web_extension=False, multiprocess_compatible=True), Row(addon_id=u'firefox@getpocket.com', blocklisted=False, name=u'Pocket', user_disabled=False, app_disabled=False, version=u'1.0.5', scope=1, type=u'extension', foreign_install=False, has_binary_components=False, install_day=17568, update_day=17712, signed_state=None, is_system=True, is_web_extension=False, multiprocess_compatible=True), Row(addon_id=u'onboarding@mozilla.org', blocklisted=False, name=u'Photon onboarding', user_disabled=False, app_disabled=False, version=u'1.0', scope=1, type=u'extension', foreign_install=False, has_binary_components=False, install_day=17568, update_day=17712, signed_state=None, is_system=True, is_web_extension=False, multiprocess_compatible=True), Row(addon_id=u'uBlock0@raymondhill.net', blocklisted=False, name=u'uBlock Origin', user_disabled=False, app_disabled=False, version=u'1.16.12', scope=1, type=u'extension', foreign_install=False, has_binary_components=False, install_day=17582, update_day=17711, signed_state=2, is_system=False, is_web_extension=True, multiprocess_compatible=True)], locale=u'de', subsession_start_date=u'2018-07-06T20:00:00.0+02:00', submission_date=u'20180706', submission_date_s3=u'20180706', branch=u'control')]"
      ]
     },
     "execution_count": 47,
     "metadata": {},
     "output_type": "execute_result"
    }
   ],
   "source": [
    "# branches_col = ms.rdd.map(lambda p: (p['client_id'], count_addons(p['active_addons']), assign_branch(p['client_id']), p['submission_date_s3']))\n",
    "branches_col = ms.withColumn(\"branch\", assign_branch(\"client_id\"))\n",
    "branches_col = branches_col.filter(branches_col.branch != \"None\")\n",
    "branches_col.take(1)"
   ]
  },
  {
   "cell_type": "code",
   "execution_count": 30,
   "metadata": {
    "scrolled": true
   },
   "outputs": [
    {
     "name": "stdout",
     "output_type": "stream",
     "text": [
      "+------------------+--------+-------------------------+\n",
      "|submission_date_s3|  branch|count(DISTINCT client_id)|\n",
      "+------------------+--------+-------------------------+\n",
      "|          20180607|ensemble|                    44615|\n",
      "|          20180316|  linear|                    84384|\n",
      "|          20180523| control|                   359921|\n",
      "|          20180329|ensemble|                    70929|\n",
      "|          20180629| control|                   291919|\n",
      "|          20180602|ensemble|                    36953|\n",
      "|          20180426|ensemble|                    56175|\n",
      "|          20180327| control|                   507139|\n",
      "|          20180414|ensemble|                    50486|\n",
      "|          20180627| control|                   307072|\n",
      "|          20180423|  linear|                    57689|\n",
      "|          20180331|ensemble|                    57680|\n",
      "|          20180703| control|                   302356|\n",
      "|          20180612|ensemble|                    43122|\n",
      "|          20180624|  linear|                    32950|\n",
      "|          20180415|  linear|                    50107|\n",
      "|          20180318|ensemble|                    76228|\n",
      "|          20180629|  linear|                    39072|\n",
      "|          20180601| control|                   320976|\n",
      "|          20180418|ensemble|                    59482|\n",
      "+------------------+--------+-------------------------+\n",
      "only showing top 20 rows\n",
      "\n"
     ]
    }
   ],
   "source": [
    "# Double group by and count distinct shoudl leave us with a managable Pandas DF containing:\n",
    "# datastring in %Y%m%d format (sortable), branch: {ensemble, linear, control} and distinct_client_count\n",
    "# Everything we need for a day over day retetnion analysis for only clients observed in the TAAR study \n",
    "# spanning from the earliest study date to latest available ping.\n",
    "\n",
    "df_daily_grouped = branches_col.groupby(\"submission_date_s3\", \"branch\")\n",
    "retention_pd = df_daily_grouped.agg(F.countDistinct('client_id')).toPandas()"
   ]
  },
  {
   "cell_type": "code",
   "execution_count": 33,
   "metadata": {},
   "outputs": [
    {
     "name": "stderr",
     "output_type": "stream",
     "text": [
      "/mnt/anaconda2/lib/python2.7/site-packages/ipykernel/__main__.py:1: FutureWarning: sort(columns=....) is deprecated, use sort_values(by=.....)\n",
      "  if __name__ == '__main__':\n"
     ]
    }
   ],
   "source": [
    "ret_df = retention_pd.sort('submission_date_s3', ascending=True)"
   ]
  },
  {
   "cell_type": "markdown",
   "metadata": {},
   "source": [
    "### Calculate Retention Data"
   ]
  },
  {
   "cell_type": "markdown",
   "metadata": {},
   "source": [
    "Perform day over day retention analysis."
   ]
  },
  {
   "cell_type": "code",
   "execution_count": 34,
   "metadata": {},
   "outputs": [],
   "source": [
    "ret_df.to_csv(\"taar_v2_retention-alternate.csv\", index=False)"
   ]
  },
  {
   "cell_type": "markdown",
   "metadata": {},
   "source": [
    "Write to s3 since this job is quite expensive and should only be run once."
   ]
  },
  {
   "cell_type": "code",
   "execution_count": 36,
   "metadata": {},
   "outputs": [
    {
     "name": "stdout",
     "output_type": "stream",
     "text": [
      "Completed 8.5 KiB/8.5 KiB (78.7 KiB/s) with 1 file(s) remaining\r",
      "upload: ./taar_v2_retention-alternate.csv to s3://net-mozaws-prod-us-west-2-pipeline-analysis/taarv2/taar_v2_retention-alternate.csv\n"
     ]
    }
   ],
   "source": [
    "%%bash\n",
    "aws s3 cp taar_v2_retention-alternate.csv s3://net-mozaws-prod-us-west-2-pipeline-analysis/taarv2/"
   ]
  },
  {
   "cell_type": "markdown",
   "metadata": {},
   "source": [
    "### Load processed Retention Data"
   ]
  },
  {
   "cell_type": "markdown",
   "metadata": {},
   "source": [
    "This section loads the data generated above without having to the re-run the entire notebook."
   ]
  },
  {
   "cell_type": "code",
   "execution_count": 37,
   "metadata": {},
   "outputs": [
    {
     "name": "stdout",
     "output_type": "stream",
     "text": [
      "Completed 8.5 KiB/8.5 KiB (181.5 KiB/s) with 1 file(s) remaining\r",
      "download: s3://net-mozaws-prod-us-west-2-pipeline-analysis/taarv2/taar_v2_retention-alternate.csv to ./taar_v2_retention-alternate.csv\n"
     ]
    }
   ],
   "source": [
    "%%bash \n",
    "aws s3 cp s3://net-mozaws-prod-us-west-2-pipeline-analysis/taarv2/taar_v2_retention-alternate.csv ."
   ]
  },
  {
   "cell_type": "code",
   "execution_count": 44,
   "metadata": {},
   "outputs": [],
   "source": [
    "ret = pd.read_csv(\"taar_v2_retention-alternate.csv\")"
   ]
  },
  {
   "cell_type": "code",
   "execution_count": 45,
   "metadata": {},
   "outputs": [
    {
     "data": {
      "image/png": "[encoded data removed]",
      "text/plain": [
       "<matplotlib.figure.Figure at 0x7f10f376cf90>"
      ]
     },
     "metadata": {},
     "output_type": "display_data"
    }
   ],
   "source": [
    "plt.rcParams['figure.figsize'] = (12, 6)\n",
    "fig, ax = plt.subplots()\n",
    "for group, data in ret.groupby(\"branch\"):\n",
    "    (data.sort_values(\"submission_date_s3\")\n",
    "         .plot(x='submission_date_s3', \n",
    "               y='count(DISTINCT client_id)', \n",
    "               ax=ax, \n",
    "               label=group))\n",
    "plt.ylabel(\"Retention\")\n",
    "plt.xlabel(\"submission date \")\n",
    "plt.title(\"Day-over-day Retention by Branch\")\n",
    "plt.show()"
   ]
  },
  {
   "cell_type": "code",
   "execution_count": 43,
   "metadata": {},
   "outputs": [
    {
     "data": {
      "text/html": [
       "<div>\n",
       "<table border=\"1\" class=\"dataframe\">\n",
       "  <thead>\n",
       "    <tr style=\"text-align: right;\">\n",
       "      <th></th>\n",
       "      <th>submission_date_s3</th>\n",
       "      <th>branch</th>\n",
       "      <th>count(DISTINCT client_id)</th>\n",
       "    </tr>\n",
       "  </thead>\n",
       "  <tbody>\n",
       "    <tr>\n",
       "      <th>0</th>\n",
       "      <td>20180312</td>\n",
       "      <td>control</td>\n",
       "      <td>471767</td>\n",
       "    </tr>\n",
       "    <tr>\n",
       "      <th>1</th>\n",
       "      <td>20180312</td>\n",
       "      <td>ensemble</td>\n",
       "      <td>58857</td>\n",
       "    </tr>\n",
       "    <tr>\n",
       "      <th>2</th>\n",
       "      <td>20180312</td>\n",
       "      <td>linear</td>\n",
       "      <td>59086</td>\n",
       "    </tr>\n",
       "    <tr>\n",
       "      <th>3</th>\n",
       "      <td>20180313</td>\n",
       "      <td>control</td>\n",
       "      <td>551302</td>\n",
       "    </tr>\n",
       "    <tr>\n",
       "      <th>4</th>\n",
       "      <td>20180313</td>\n",
       "      <td>linear</td>\n",
       "      <td>67586</td>\n",
       "    </tr>\n",
       "    <tr>\n",
       "      <th>5</th>\n",
       "      <td>20180313</td>\n",
       "      <td>ensemble</td>\n",
       "      <td>67745</td>\n",
       "    </tr>\n",
       "    <tr>\n",
       "      <th>6</th>\n",
       "      <td>20180314</td>\n",
       "      <td>ensemble</td>\n",
       "      <td>75739</td>\n",
       "    </tr>\n",
       "    <tr>\n",
       "      <th>7</th>\n",
       "      <td>20180314</td>\n",
       "      <td>linear</td>\n",
       "      <td>75384</td>\n",
       "    </tr>\n",
       "    <tr>\n",
       "      <th>8</th>\n",
       "      <td>20180314</td>\n",
       "      <td>control</td>\n",
       "      <td>616198</td>\n",
       "    </tr>\n",
       "    <tr>\n",
       "      <th>9</th>\n",
       "      <td>20180315</td>\n",
       "      <td>linear</td>\n",
       "      <td>80920</td>\n",
       "    </tr>\n",
       "    <tr>\n",
       "      <th>10</th>\n",
       "      <td>20180315</td>\n",
       "      <td>control</td>\n",
       "      <td>644988</td>\n",
       "    </tr>\n",
       "    <tr>\n",
       "      <th>11</th>\n",
       "      <td>20180315</td>\n",
       "      <td>ensemble</td>\n",
       "      <td>81167</td>\n",
       "    </tr>\n",
       "    <tr>\n",
       "      <th>12</th>\n",
       "      <td>20180316</td>\n",
       "      <td>ensemble</td>\n",
       "      <td>84361</td>\n",
       "    </tr>\n",
       "    <tr>\n",
       "      <th>13</th>\n",
       "      <td>20180316</td>\n",
       "      <td>control</td>\n",
       "      <td>648926</td>\n",
       "    </tr>\n",
       "    <tr>\n",
       "      <th>14</th>\n",
       "      <td>20180316</td>\n",
       "      <td>linear</td>\n",
       "      <td>84384</td>\n",
       "    </tr>\n",
       "    <tr>\n",
       "      <th>15</th>\n",
       "      <td>20180317</td>\n",
       "      <td>ensemble</td>\n",
       "      <td>76066</td>\n",
       "    </tr>\n",
       "    <tr>\n",
       "      <th>16</th>\n",
       "      <td>20180317</td>\n",
       "      <td>linear</td>\n",
       "      <td>75709</td>\n",
       "    </tr>\n",
       "    <tr>\n",
       "      <th>17</th>\n",
       "      <td>20180317</td>\n",
       "      <td>control</td>\n",
       "      <td>531802</td>\n",
       "    </tr>\n",
       "    <tr>\n",
       "      <th>18</th>\n",
       "      <td>20180318</td>\n",
       "      <td>control</td>\n",
       "      <td>513298</td>\n",
       "    </tr>\n",
       "    <tr>\n",
       "      <th>19</th>\n",
       "      <td>20180318</td>\n",
       "      <td>linear</td>\n",
       "      <td>75593</td>\n",
       "    </tr>\n",
       "    <tr>\n",
       "      <th>20</th>\n",
       "      <td>20180318</td>\n",
       "      <td>ensemble</td>\n",
       "      <td>76228</td>\n",
       "    </tr>\n",
       "    <tr>\n",
       "      <th>21</th>\n",
       "      <td>20180319</td>\n",
       "      <td>control</td>\n",
       "      <td>663122</td>\n",
       "    </tr>\n",
       "    <tr>\n",
       "      <th>22</th>\n",
       "      <td>20180319</td>\n",
       "      <td>linear</td>\n",
       "      <td>87617</td>\n",
       "    </tr>\n",
       "    <tr>\n",
       "      <th>23</th>\n",
       "      <td>20180319</td>\n",
       "      <td>ensemble</td>\n",
       "      <td>87926</td>\n",
       "    </tr>\n",
       "    <tr>\n",
       "      <th>24</th>\n",
       "      <td>20180320</td>\n",
       "      <td>ensemble</td>\n",
       "      <td>84378</td>\n",
       "    </tr>\n",
       "    <tr>\n",
       "      <th>25</th>\n",
       "      <td>20180320</td>\n",
       "      <td>linear</td>\n",
       "      <td>84046</td>\n",
       "    </tr>\n",
       "    <tr>\n",
       "      <th>26</th>\n",
       "      <td>20180320</td>\n",
       "      <td>control</td>\n",
       "      <td>606322</td>\n",
       "    </tr>\n",
       "    <tr>\n",
       "      <th>27</th>\n",
       "      <td>20180321</td>\n",
       "      <td>linear</td>\n",
       "      <td>81005</td>\n",
       "    </tr>\n",
       "    <tr>\n",
       "      <th>28</th>\n",
       "      <td>20180321</td>\n",
       "      <td>ensemble</td>\n",
       "      <td>81282</td>\n",
       "    </tr>\n",
       "    <tr>\n",
       "      <th>29</th>\n",
       "      <td>20180321</td>\n",
       "      <td>control</td>\n",
       "      <td>572652</td>\n",
       "    </tr>\n",
       "    <tr>\n",
       "      <th>...</th>\n",
       "      <td>...</td>\n",
       "      <td>...</td>\n",
       "      <td>...</td>\n",
       "    </tr>\n",
       "    <tr>\n",
       "      <th>339</th>\n",
       "      <td>20180703</td>\n",
       "      <td>ensemble</td>\n",
       "      <td>39771</td>\n",
       "    </tr>\n",
       "    <tr>\n",
       "      <th>340</th>\n",
       "      <td>20180703</td>\n",
       "      <td>linear</td>\n",
       "      <td>39683</td>\n",
       "    </tr>\n",
       "    <tr>\n",
       "      <th>341</th>\n",
       "      <td>20180703</td>\n",
       "      <td>control</td>\n",
       "      <td>302356</td>\n",
       "    </tr>\n",
       "    <tr>\n",
       "      <th>342</th>\n",
       "      <td>20180704</td>\n",
       "      <td>linear</td>\n",
       "      <td>38601</td>\n",
       "    </tr>\n",
       "    <tr>\n",
       "      <th>343</th>\n",
       "      <td>20180704</td>\n",
       "      <td>ensemble</td>\n",
       "      <td>38731</td>\n",
       "    </tr>\n",
       "    <tr>\n",
       "      <th>344</th>\n",
       "      <td>20180704</td>\n",
       "      <td>control</td>\n",
       "      <td>289973</td>\n",
       "    </tr>\n",
       "    <tr>\n",
       "      <th>345</th>\n",
       "      <td>20180705</td>\n",
       "      <td>ensemble</td>\n",
       "      <td>38800</td>\n",
       "    </tr>\n",
       "    <tr>\n",
       "      <th>346</th>\n",
       "      <td>20180705</td>\n",
       "      <td>linear</td>\n",
       "      <td>38705</td>\n",
       "    </tr>\n",
       "    <tr>\n",
       "      <th>347</th>\n",
       "      <td>20180705</td>\n",
       "      <td>control</td>\n",
       "      <td>292800</td>\n",
       "    </tr>\n",
       "    <tr>\n",
       "      <th>348</th>\n",
       "      <td>20180706</td>\n",
       "      <td>ensemble</td>\n",
       "      <td>37556</td>\n",
       "    </tr>\n",
       "    <tr>\n",
       "      <th>349</th>\n",
       "      <td>20180706</td>\n",
       "      <td>linear</td>\n",
       "      <td>37236</td>\n",
       "    </tr>\n",
       "    <tr>\n",
       "      <th>350</th>\n",
       "      <td>20180706</td>\n",
       "      <td>control</td>\n",
       "      <td>278784</td>\n",
       "    </tr>\n",
       "    <tr>\n",
       "      <th>351</th>\n",
       "      <td>20180707</td>\n",
       "      <td>control</td>\n",
       "      <td>209843</td>\n",
       "    </tr>\n",
       "    <tr>\n",
       "      <th>352</th>\n",
       "      <td>20180707</td>\n",
       "      <td>ensemble</td>\n",
       "      <td>31236</td>\n",
       "    </tr>\n",
       "    <tr>\n",
       "      <th>353</th>\n",
       "      <td>20180707</td>\n",
       "      <td>linear</td>\n",
       "      <td>31110</td>\n",
       "    </tr>\n",
       "    <tr>\n",
       "      <th>354</th>\n",
       "      <td>20180708</td>\n",
       "      <td>control</td>\n",
       "      <td>201547</td>\n",
       "    </tr>\n",
       "    <tr>\n",
       "      <th>355</th>\n",
       "      <td>20180708</td>\n",
       "      <td>linear</td>\n",
       "      <td>30600</td>\n",
       "    </tr>\n",
       "    <tr>\n",
       "      <th>356</th>\n",
       "      <td>20180708</td>\n",
       "      <td>ensemble</td>\n",
       "      <td>30761</td>\n",
       "    </tr>\n",
       "    <tr>\n",
       "      <th>357</th>\n",
       "      <td>20180709</td>\n",
       "      <td>linear</td>\n",
       "      <td>38336</td>\n",
       "    </tr>\n",
       "    <tr>\n",
       "      <th>358</th>\n",
       "      <td>20180709</td>\n",
       "      <td>ensemble</td>\n",
       "      <td>38403</td>\n",
       "    </tr>\n",
       "    <tr>\n",
       "      <th>359</th>\n",
       "      <td>20180709</td>\n",
       "      <td>control</td>\n",
       "      <td>290587</td>\n",
       "    </tr>\n",
       "    <tr>\n",
       "      <th>360</th>\n",
       "      <td>20180710</td>\n",
       "      <td>ensemble</td>\n",
       "      <td>39061</td>\n",
       "    </tr>\n",
       "    <tr>\n",
       "      <th>361</th>\n",
       "      <td>20180710</td>\n",
       "      <td>linear</td>\n",
       "      <td>38914</td>\n",
       "    </tr>\n",
       "    <tr>\n",
       "      <th>362</th>\n",
       "      <td>20180710</td>\n",
       "      <td>control</td>\n",
       "      <td>296587</td>\n",
       "    </tr>\n",
       "    <tr>\n",
       "      <th>363</th>\n",
       "      <td>20180711</td>\n",
       "      <td>linear</td>\n",
       "      <td>38596</td>\n",
       "    </tr>\n",
       "    <tr>\n",
       "      <th>364</th>\n",
       "      <td>20180711</td>\n",
       "      <td>ensemble</td>\n",
       "      <td>38941</td>\n",
       "    </tr>\n",
       "    <tr>\n",
       "      <th>365</th>\n",
       "      <td>20180711</td>\n",
       "      <td>control</td>\n",
       "      <td>294931</td>\n",
       "    </tr>\n",
       "    <tr>\n",
       "      <th>366</th>\n",
       "      <td>20180712</td>\n",
       "      <td>linear</td>\n",
       "      <td>38107</td>\n",
       "    </tr>\n",
       "    <tr>\n",
       "      <th>367</th>\n",
       "      <td>20180712</td>\n",
       "      <td>control</td>\n",
       "      <td>288638</td>\n",
       "    </tr>\n",
       "    <tr>\n",
       "      <th>368</th>\n",
       "      <td>20180712</td>\n",
       "      <td>ensemble</td>\n",
       "      <td>38215</td>\n",
       "    </tr>\n",
       "  </tbody>\n",
       "</table>\n",
       "<p>369 rows × 3 columns</p>\n",
       "</div>"
      ],
      "text/plain": [
       "     submission_date_s3    branch  count(DISTINCT client_id)\n",
       "0              20180312   control                     471767\n",
       "1              20180312  ensemble                      58857\n",
       "2              20180312    linear                      59086\n",
       "3              20180313   control                     551302\n",
       "4              20180313    linear                      67586\n",
       "5              20180313  ensemble                      67745\n",
       "6              20180314  ensemble                      75739\n",
       "7              20180314    linear                      75384\n",
       "8              20180314   control                     616198\n",
       "9              20180315    linear                      80920\n",
       "10             20180315   control                     644988\n",
       "11             20180315  ensemble                      81167\n",
       "12             20180316  ensemble                      84361\n",
       "13             20180316   control                     648926\n",
       "14             20180316    linear                      84384\n",
       "15             20180317  ensemble                      76066\n",
       "16             20180317    linear                      75709\n",
       "17             20180317   control                     531802\n",
       "18             20180318   control                     513298\n",
       "19             20180318    linear                      75593\n",
       "20             20180318  ensemble                      76228\n",
       "21             20180319   control                     663122\n",
       "22             20180319    linear                      87617\n",
       "23             20180319  ensemble                      87926\n",
       "24             20180320  ensemble                      84378\n",
       "25             20180320    linear                      84046\n",
       "26             20180320   control                     606322\n",
       "27             20180321    linear                      81005\n",
       "28             20180321  ensemble                      81282\n",
       "29             20180321   control                     572652\n",
       "..                  ...       ...                        ...\n",
       "339            20180703  ensemble                      39771\n",
       "340            20180703    linear                      39683\n",
       "341            20180703   control                     302356\n",
       "342            20180704    linear                      38601\n",
       "343            20180704  ensemble                      38731\n",
       "344            20180704   control                     289973\n",
       "345            20180705  ensemble                      38800\n",
       "346            20180705    linear                      38705\n",
       "347            20180705   control                     292800\n",
       "348            20180706  ensemble                      37556\n",
       "349            20180706    linear                      37236\n",
       "350            20180706   control                     278784\n",
       "351            20180707   control                     209843\n",
       "352            20180707  ensemble                      31236\n",
       "353            20180707    linear                      31110\n",
       "354            20180708   control                     201547\n",
       "355            20180708    linear                      30600\n",
       "356            20180708  ensemble                      30761\n",
       "357            20180709    linear                      38336\n",
       "358            20180709  ensemble                      38403\n",
       "359            20180709   control                     290587\n",
       "360            20180710  ensemble                      39061\n",
       "361            20180710    linear                      38914\n",
       "362            20180710   control                     296587\n",
       "363            20180711    linear                      38596\n",
       "364            20180711  ensemble                      38941\n",
       "365            20180711   control                     294931\n",
       "366            20180712    linear                      38107\n",
       "367            20180712   control                     288638\n",
       "368            20180712  ensemble                      38215\n",
       "\n",
       "[369 rows x 3 columns]"
      ]
     },
     "execution_count": 43,
     "metadata": {},
     "output_type": "execute_result"
    }
   ],
   "source": [
    "ret"
   ]
  },
  {
   "cell_type": "code",
   "execution_count": null,
   "metadata": {},
   "outputs": [],
   "source": []
  }
 ],
 "metadata": {
  "anaconda-cloud": {},
  "kernelspec": {
   "display_name": "Python [default]",
   "language": "python",
   "name": "python2"
  },
  "language_info": {
   "codemirror_mode": {
    "name": "ipython",
    "version": 2
   },
   "file_extension": ".py",
   "mimetype": "text/x-python",
   "name": "python",
   "nbconvert_exporter": "python",
   "pygments_lexer": "ipython2",
   "version": "2.7.12"
  }
 },
 "nbformat": 4,
 "nbformat_minor": 1
}
