{
 "cells": [
  {
   "cell_type": "markdown",
   "metadata": {},
   "source": [
    "## PySprint - Spectrally resolved interferometry in Python\n",
    "\n",
    "PySprint package is an open source Python package dedicated to evaluate measurements relying on spectrally and spatially resolved interferometry. The package aims to provide a fluent and smooth interface which takes away the burden of managing complex data processing tasks, however it can hand over the full control to the user when necessary. PySprint is integrated well in Jupyter Notebooks with rich HTML representations.\n",
    "\n",
    "The supported methods are:\n",
    "\n",
    "* [Stationary phase point method](doc/hu_spp.ipynb) with:\n",
    "    * Eager execution\n",
    "    * Powerful caching\n",
    "    * 3 different ways to record and evaluate data, including an interactive *matplotlib* editor\n",
    "* [Cosine function fit method](doc/hu_intro.ipynb) with:\n",
    "  * Successive optimizer\n",
    "  * ... and also regular fitting\n",
    "* [Fourier-transform method](doc/hu_fft.ipynb) with:\n",
    "  * Automatic evaluation*\n",
    "  * Pulse shape and phase retrieval\n",
    "* [Windowed Fourier-transform method](doc/hu_wft.ipynb) with:\n",
    "  * Smart caching of intermediate results\n",
    "  * Parallel computation\n",
    "  * Automated detection of the *GD* ridge\\**\n",
    "  * Phase retrieval\n",
    "* [Minima–maxima method](doc/hu_minmax.ipynb) with:\n",
    "  * Phase retrieval of an interferogram having arbitrary complex SPP and extremal point setup\n",
    "  * Interactive *matplotlib* editor for extremal point recording\n",
    "  * Built-in tools to aid extremal point detection\n",
    "\n",
    "To see the full picture you might want to read about internals:\n",
    "* [Dataset](doc/hu_dataset.ipynb) - The class representing a dataset and its miscancellous properties and functions.\n",
    "* [Phase](doc/hu_phase.ipynb) - The class representing a phase obtained from various methods.\n",
    "\n",
    "\\* *Work in progress.*\n",
    "\n",
    "\\** *Manual control will be added in the future releases.*"
   ]
  },
  {
   "cell_type": "code",
   "execution_count": 5,
   "metadata": {},
   "outputs": [],
   "source": [
    "import pysprint as ps"
   ]
  },
  {
   "cell_type": "code",
   "execution_count": 6,
   "metadata": {},
   "outputs": [
    {
     "data": {
      "text/plain": [
       "'0.13.1-15-ga0ef7dc-dirty'"
      ]
     },
     "execution_count": 6,
     "metadata": {},
     "output_type": "execute_result"
    }
   ],
   "source": [
    "ps.__version__"
   ]
  },
  {
   "cell_type": "code",
   "execution_count": 7,
   "metadata": {},
   "outputs": [
    {
     "data": {
      "text/plain": [
       "'Leéh Péter'"
      ]
     },
     "execution_count": 7,
     "metadata": {},
     "output_type": "execute_result"
    }
   ],
   "source": [
    "ps.__author__"
   ]
  },
  {
   "cell_type": "code",
   "execution_count": 8,
   "metadata": {},
   "outputs": [
    {
     "name": "stdout",
     "output_type": "stream",
     "text": [
      "\n",
      "PYSPRINT ANALYSIS TOOL\n",
      "\n",
      "        SYSTEM\n",
      "----------------------\n",
      "python     : 3.7.6.final.0\n",
      "python-bits: 64\n",
      "OS         : Windows\n",
      "OS-release : 10\n",
      "Version    : 10.0.18362\n",
      "machine    : AMD64\n",
      "processor  : Intel64 Family 6 Model 158 Stepping 9, GenuineIntel\n",
      "byteorder  : little\n",
      "\n",
      "      DEPENDENCY\n",
      "----------------------\n",
      "pysprint   : 0.13.1-15-ga0ef7dc-dirty\n",
      "numpy      : 1.19.4\n",
      "scipy      : 1.5.4\n",
      "matplotlib : 3.3.2\n",
      "pandas     : 1.1.4\n",
      "pytest     : 6.1.1\n",
      "lmfit      : 1.0.1\n",
      "numba      : 0.50.1\n",
      "IPython    : 7.12.0\n",
      "jinja2     : 2.11.2\n",
      "dask       : 2.29.0\n",
      "\n",
      "      ADDITIONAL\n",
      "----------------------\n",
      "Conda-env  : False\n",
      "IPython    : True\n",
      "Spyder     : False\n",
      "Rust-ext   : True\n"
     ]
    }
   ],
   "source": [
    "ps.print_info()"
   ]
  }
 ],
 "metadata": {
  "kernelspec": {
   "display_name": "Python 3",
   "language": "python",
   "name": "python3"
  },
  "language_info": {
   "codemirror_mode": {
    "name": "ipython",
    "version": 3
   },
   "file_extension": ".py",
   "mimetype": "text/x-python",
   "name": "python",
   "nbconvert_exporter": "python",
   "pygments_lexer": "ipython3",
   "version": "3.7.6"
  }
 },
 "nbformat": 4,
 "nbformat_minor": 4
}