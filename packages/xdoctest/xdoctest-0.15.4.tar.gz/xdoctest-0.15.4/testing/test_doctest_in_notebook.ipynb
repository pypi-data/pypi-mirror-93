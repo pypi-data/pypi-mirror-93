{
 "cells": [
  {
   "cell_type": "code",
   "execution_count": 8,
   "metadata": {},
   "outputs": [],
   "source": [
    "def inception(text):\n",
    "    '''\n",
    "    Example:\n",
    "        >>> inception(\"I heard you liked doctests\")\n",
    "    '''\n",
    "    print(text + str(x)) \n",
    "    \n",
    "x = 10\n",
    "\n",
    "def foo():\n",
    "    return \"bar\"\n",
    "\n",
    "def inception2(text):\n",
    "    '''\n",
    "    Example:\n",
    "        >>> inception2(\"I heard you liked doctests\" + foo())\n",
    "    '''\n",
    "    print(text + str(x)) \n",
    "    \n",
    "def random_number():\n",
    "  \"\"\"Returns a random integer from 1 to 6.\n",
    "  \n",
    "  >>> type(random_number())\n",
    "  <class 'int'>\n",
    "  >>> random_number() in range(1,7)\n",
    "  True\n",
    "  \"\"\"\n",
    "  return 5  # Chosen by a fair dice roll"
   ]
  },
  {
   "cell_type": "code",
   "execution_count": 3,
   "metadata": {},
   "outputs": [
    {
     "name": "stdout",
     "output_type": "stream",
     "text": [
      "====== <exec> ======\n",
      "* DOCTEST : <modpath?>::inception:0, line 3 <- wrt source file\n",
      "DOCTEST SOURCE\n",
      "1 >>> inception(\"I heard you liked doctests\")\n",
      "DOCTEST STDOUT/STDERR\n",
      "I heard you liked doctests10\n",
      "DOCTEST RESULT\n",
      "* SUCCESS: <modpath?>::inception:0\n",
      "====== </exec> ======\n"
     ]
    }
   ],
   "source": [
    "import xdoctest\n",
    "xdoctest.doctest_callable(inception)"
   ]
  },
  {
   "cell_type": "code",
   "execution_count": 4,
   "metadata": {},
   "outputs": [
    {
     "name": "stdout",
     "output_type": "stream",
     "text": [
      "====== <exec> ======\n",
      "* DOCTEST : <modpath?>::inception2:0, line 3 <- wrt source file\n",
      "DOCTEST SOURCE\n",
      "1 >>> inception2(\"I heard you liked doctests\" + foo())\n",
      "DOCTEST STDOUT/STDERR\n",
      "I heard you liked doctestsbar10\n",
      "DOCTEST RESULT\n",
      "* SUCCESS: <modpath?>::inception2:0\n",
      "====== </exec> ======\n"
     ]
    }
   ],
   "source": [
    "import xdoctest\n",
    "xdoctest.doctest_callable(inception2)"
   ]
  },
  {
   "cell_type": "code",
   "execution_count": null,
   "metadata": {},
   "outputs": [],
   "source": [
    "import xdoctest\n",
    "xdoctest.doctest_callable(random_number)"
   ]
  },
  {
   "cell_type": "code",
   "execution_count": null,
   "metadata": {},
   "outputs": [],
   "source": []
  },
  {
   "cell_type": "code",
   "execution_count": null,
   "metadata": {},
   "outputs": [],
   "source": []
  }
 ],
 "metadata": {
  "kernelspec": {
   "display_name": "Python 3",
   "language": "python",
   "name": "python3"
  },
  "language_info": {
   "codemirror_mode": {
    "name": "ipython",
    "version": 3
   },
   "file_extension": ".py",
   "mimetype": "text/x-python",
   "name": "python",
   "nbconvert_exporter": "python",
   "pygments_lexer": "ipython3",
   "version": "3.8.3"
  }
 },
 "nbformat": 4,
 "nbformat_minor": 4
}
