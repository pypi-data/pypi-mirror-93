{
 "cells": [
  {
   "cell_type": "markdown",
   "metadata": {},
   "source": [
    "In this notebook, I discuss the various ways you can load and save data to/from SAM."
   ]
  },
  {
   "cell_type": "code",
   "execution_count": 1,
   "metadata": {},
   "outputs": [
    {
     "name": "stderr",
     "output_type": "stream",
     "text": [
      "/home/alec/anaconda3/envs/scrna/lib/python3.6/site-packages/anndata/_core/anndata.py:21: FutureWarning: pandas.core.index is deprecated and will be removed in a future version.  The public classes are available in the top-level namespace.\n",
      "  from pandas.core.index import RangeIndex\n"
     ]
    }
   ],
   "source": [
    "from samalg import SAM\n",
    "import pandas as pd"
   ]
  },
  {
   "cell_type": "markdown",
   "metadata": {},
   "source": [
    "We can use `sam.load_data` to load data from files (namely `.csv`, `.txt`, and `.h5ad` files). For `.csv` and `.txt` files, the `sep` argument is the delimeter used in those files (usually `,` for `.csv` and `\\t` for `.txt`). `sep=','` by default."
   ]
  },
  {
   "cell_type": "code",
   "execution_count": 2,
   "metadata": {},
   "outputs": [
    {
     "data": {
      "text/plain": [
       "{'run_args': {}, 'preprocess_args': {}}"
      ]
     },
     "execution_count": 2,
     "metadata": {},
     "output_type": "execute_result"
    }
   ],
   "source": [
    "sam=SAM()\n",
    "sam.__dict__"
   ]
  },
  {
   "cell_type": "markdown",
   "metadata": {},
   "source": [
    "`sam.__dict__` shows all the current attributes of the SAM object. We can see that the SAM object is currently empty."
   ]
  },
  {
   "cell_type": "code",
   "execution_count": 3,
   "metadata": {},
   "outputs": [
    {
     "data": {
      "text/plain": [
       "{'run_args': {},\n",
       " 'preprocess_args': {},\n",
       " 'adata_raw': AnnData object with n_obs × n_vars = 338 × 10782 ,\n",
       " 'adata': AnnData object with n_obs × n_vars = 338 × 10782 \n",
       "     layers: 'X_disp'}"
      ]
     },
     "execution_count": 3,
     "metadata": {},
     "output_type": "execute_result"
    }
   ],
   "source": [
    "sam.load_data('../../example_data/schisto2.5_tpm.csv.gz' , sep = ',')\n",
    "sam.__dict__"
   ]
  },
  {
   "cell_type": "markdown",
   "metadata": {},
   "source": [
    "Now, we see that the SAM object is populated with the `AnnData` objects. `adata_raw` is the loaded data and will remain untouched. `adata` is initially set equal to `adata_raw` and will be subject to preprocessing and store the results of the SAM analysis.\n",
    "\n",
    "When loading a dense expression table like from a `.csv` or a `.txt` file, you can use the `save_sparse_file` argument to save a sparse representation of the data (in the `AnnData` file format `.h5ad`) for much faster loading in the future. See:"
   ]
  },
  {
   "cell_type": "code",
   "execution_count": 4,
   "metadata": {},
   "outputs": [],
   "source": [
    "sam=SAM()\n",
    "sam.load_data('../../example_data/schisto2.5_tpm.csv.gz' , sep = ',', save_sparse_file = '../../example_data/sparse_data.h5ad')"
   ]
  },
  {
   "cell_type": "code",
   "execution_count": 5,
   "metadata": {},
   "outputs": [
    {
     "data": {
      "text/plain": [
       "{'run_args': {},\n",
       " 'preprocess_args': {},\n",
       " 'adata': AnnData object with n_obs × n_vars = 338 × 10782 \n",
       "     layers: 'X_disp',\n",
       " 'adata_raw': AnnData object with n_obs × n_vars = 338 × 10782 }"
      ]
     },
     "execution_count": 5,
     "metadata": {},
     "output_type": "execute_result"
    }
   ],
   "source": [
    "sam=SAM()\n",
    "sam.load_data('../../example_data/sparse_data.h5ad')\n",
    "sam.__dict__"
   ]
  },
  {
   "cell_type": "markdown",
   "metadata": {},
   "source": [
    "We can also pass data directly into the SAM constructor via the `counts` argument. We can pass in an `AnnData` object:"
   ]
  },
  {
   "cell_type": "code",
   "execution_count": 6,
   "metadata": {},
   "outputs": [
    {
     "data": {
      "text/plain": [
       "{'adata_raw': AnnData object with n_obs × n_vars = 338 × 10782 ,\n",
       " 'adata': AnnData object with n_obs × n_vars = 338 × 10782 \n",
       "     layers: 'X_disp',\n",
       " 'run_args': {},\n",
       " 'preprocess_args': {}}"
      ]
     },
     "execution_count": 6,
     "metadata": {},
     "output_type": "execute_result"
    }
   ],
   "source": [
    "example_anndata = sam.adata_raw\n",
    "sam=SAM(counts = example_anndata)\n",
    "sam.__dict__"
   ]
  },
  {
   "cell_type": "markdown",
   "metadata": {},
   "source": [
    "We can also pass in a Pandas DataFrame:"
   ]
  },
  {
   "cell_type": "code",
   "execution_count": 7,
   "metadata": {},
   "outputs": [
    {
     "data": {
      "text/plain": [
       "{'adata_raw': AnnData object with n_obs × n_vars = 338 × 10782 ,\n",
       " 'adata': AnnData object with n_obs × n_vars = 338 × 10782 \n",
       "     layers: 'X_disp',\n",
       " 'run_args': {},\n",
       " 'preprocess_args': {}}"
      ]
     },
     "execution_count": 7,
     "metadata": {},
     "output_type": "execute_result"
    }
   ],
   "source": [
    "DATAFRAME = pd.read_csv('../../example_data/schisto2.5_tpm.csv.gz',sep=',',index_col=0).T\n",
    "sam=SAM(counts = DATAFRAME)\n",
    "sam.__dict__"
   ]
  },
  {
   "cell_type": "markdown",
   "metadata": {},
   "source": [
    "We can also pass in a tuple (scipy.sparse matrix, list of gene IDs, list of cell IDs):"
   ]
  },
  {
   "cell_type": "code",
   "execution_count": 8,
   "metadata": {},
   "outputs": [
    {
     "data": {
      "text/plain": [
       "{'adata_raw': AnnData object with n_obs × n_vars = 338 × 10782 ,\n",
       " 'adata': AnnData object with n_obs × n_vars = 338 × 10782 \n",
       "     layers: 'X_disp',\n",
       " 'run_args': {},\n",
       " 'preprocess_args': {}}"
      ]
     },
     "execution_count": 8,
     "metadata": {},
     "output_type": "execute_result"
    }
   ],
   "source": [
    "sparse_data = sam.adata_raw.X\n",
    "genes = sam.adata_raw.var_names\n",
    "cells = sam.adata_raw.obs_names\n",
    "\n",
    "sam=SAM(counts = (sparse_data,genes,cells))\n",
    "sam.__dict__"
   ]
  },
  {
   "cell_type": "markdown",
   "metadata": {},
   "source": [
    "We can also pass in the tuple (numpy array, list of gene IDs, list of cell IDs):"
   ]
  },
  {
   "cell_type": "code",
   "execution_count": 9,
   "metadata": {},
   "outputs": [
    {
     "data": {
      "text/plain": [
       "{'adata_raw': AnnData object with n_obs × n_vars = 338 × 10782 ,\n",
       " 'adata': AnnData object with n_obs × n_vars = 338 × 10782 \n",
       "     layers: 'X_disp',\n",
       " 'run_args': {},\n",
       " 'preprocess_args': {}}"
      ]
     },
     "execution_count": 9,
     "metadata": {},
     "output_type": "execute_result"
    }
   ],
   "source": [
    "sparse_data = sparse_data.toarray()\n",
    "\n",
    "sam=SAM(counts = (sparse_data,genes,cells))\n",
    "sam.__dict__"
   ]
  },
  {
   "cell_type": "markdown",
   "metadata": {},
   "source": [
    "To save the SAM object, we can write the AnnData `sam.adata` to a '.h5ad' file. The '.h5ad' file will also contain the raw data in `sam.adata_raw`:"
   ]
  },
  {
   "cell_type": "code",
   "execution_count": 10,
   "metadata": {},
   "outputs": [
    {
     "name": "stdout",
     "output_type": "stream",
     "text": [
      "RUNNING SAM\n",
      "Iteration: 0, Convergence: 0.4606575406579718\n",
      "Iteration: 1, Convergence: 0.13544171329818674\n",
      "Iteration: 2, Convergence: 0.07162995525614586\n",
      "Iteration: 3, Convergence: 0.021007430911942678\n",
      "Iteration: 4, Convergence: 0.007672543686987294\n",
      "Computing the UMAP embedding...\n",
      "Elapsed time: 4.886494874954224 seconds\n"
     ]
    },
    {
     "data": {
      "text/plain": [
       "{'adata_raw': AnnData object with n_obs × n_vars = 338 × 10782 ,\n",
       " 'adata': AnnData object with n_obs × n_vars = 338 × 10782 \n",
       "     var: 'mask_genes', 'spatial_dispersions', 'weights'\n",
       "     uns: 'preprocess_args', 'ranked_genes', 'nnm', 'neighbors', 'run_args'\n",
       "     obsm: 'X_pca', 'X_umap'\n",
       "     layers: 'X_disp', 'X_knn_avg',\n",
       " 'run_args': {'max_iter': 10,\n",
       "  'verbose': True,\n",
       "  'projection': 'umap',\n",
       "  'stopping_condition': 0.005,\n",
       "  'num_norm_avg': 50,\n",
       "  'k': 20,\n",
       "  'distance': 'correlation',\n",
       "  'preprocessing': 'Normalizer',\n",
       "  'npcs': None,\n",
       "  'n_genes': None,\n",
       "  'weight_PCs': True,\n",
       "  'proj_kwargs': {}},\n",
       " 'preprocess_args': {'div': 1,\n",
       "  'sum_norm': None,\n",
       "  'norm': 'log',\n",
       "  'min_expression': 1,\n",
       "  'thresh': 0.01,\n",
       "  'filter_genes': True},\n",
       " 'pca_obj': PCA(copy=True, iterated_power='auto', n_components=338, random_state=None,\n",
       "     svd_solver='full', tol=0.0, whiten=False),\n",
       " 'X_processed': (array([[0.        , 0.00313167, 0.        , ..., 0.00296594, 0.00404917,\n",
       "          0.00413541],\n",
       "         [0.        , 0.00271298, 0.00634532, ..., 0.        , 0.00457684,\n",
       "          0.0035393 ],\n",
       "         [0.        , 0.00394204, 0.        , ..., 0.        , 0.00442046,\n",
       "          0.00350205],\n",
       "         ...,\n",
       "         [0.        , 0.00354943, 0.        , ..., 0.        , 0.00420012,\n",
       "          0.00262159],\n",
       "         [0.        , 0.0037818 , 0.        , ..., 0.        , 0.00338027,\n",
       "          0.        ],\n",
       "         [0.        , 0.00333621, 0.00412838, ..., 0.        , 0.00429415,\n",
       "          0.00397247]]),\n",
       "  array(['Smp_000020', 'Smp_000030', 'Smp_000040', ..., 'Smp_212760',\n",
       "         'Smp_900030', 'Smp_900080'], dtype='<U10')),\n",
       " 'umap_obj': UMAP(a=None, angular_rp_forest=False, b=None, init='spectral',\n",
       "      learning_rate=1.0, local_connectivity=1.0, metric='correlation',\n",
       "      metric_kwds=None, min_dist=0.1, n_components=2, n_epochs=None,\n",
       "      n_neighbors=15, negative_sample_rate=5, random_state=None,\n",
       "      repulsion_strength=1.0, set_op_mix_ratio=1.0, spread=1.0,\n",
       "      target_metric='categorical', target_metric_kwds=None,\n",
       "      target_n_neighbors=-1, target_weight=0.5, transform_queue_size=4.0,\n",
       "      transform_seed=42, verbose=False)}"
      ]
     },
     "execution_count": 10,
     "metadata": {},
     "output_type": "execute_result"
    }
   ],
   "source": [
    "sam.preprocess_data()\n",
    "sam.run()\n",
    "sam.save_anndata('../../example_data/sam_results.h5ad')\n",
    "sam.__dict__"
   ]
  },
  {
   "cell_type": "markdown",
   "metadata": {},
   "source": [
    "Now, we can initialize an empty SAM object,"
   ]
  },
  {
   "cell_type": "code",
   "execution_count": 11,
   "metadata": {},
   "outputs": [
    {
     "data": {
      "text/plain": [
       "{'run_args': {}, 'preprocess_args': {}}"
      ]
     },
     "execution_count": 11,
     "metadata": {},
     "output_type": "execute_result"
    }
   ],
   "source": [
    "sam=SAM()\n",
    "sam.__dict__"
   ]
  },
  {
   "cell_type": "markdown",
   "metadata": {},
   "source": [
    "and use the `load_data` function to load the data back into the SAM object:"
   ]
  },
  {
   "cell_type": "code",
   "execution_count": 12,
   "metadata": {},
   "outputs": [
    {
     "data": {
      "text/plain": [
       "{'run_args': {},\n",
       " 'preprocess_args': {},\n",
       " 'adata': AnnData object with n_obs × n_vars = 338 × 10782 \n",
       "     var: 'mask_genes', 'spatial_dispersions', 'weights'\n",
       "     uns: 'neighbors', 'nnm', 'preprocess_args', 'ranked_genes', 'run_args'\n",
       "     obsm: 'X_pca', 'X_umap'\n",
       "     layers: 'X_disp', 'X_knn_avg',\n",
       " 'adata_raw': AnnData object with n_obs × n_vars = 338 × 10782 }"
      ]
     },
     "execution_count": 12,
     "metadata": {},
     "output_type": "execute_result"
    }
   ],
   "source": [
    "sam.load_data('../../example_data/sam_results.h5ad')\n",
    "sam.__dict__"
   ]
  }
 ],
 "metadata": {
  "kernelspec": {
   "display_name": "Python 3",
   "language": "python",
   "name": "python3"
  },
  "language_info": {
   "codemirror_mode": {
    "name": "ipython",
    "version": 3
   },
   "file_extension": ".py",
   "mimetype": "text/x-python",
   "name": "python",
   "nbconvert_exporter": "python",
   "pygments_lexer": "ipython3",
   "version": "3.6.10"
  }
 },
 "nbformat": 4,
 "nbformat_minor": 2
}
