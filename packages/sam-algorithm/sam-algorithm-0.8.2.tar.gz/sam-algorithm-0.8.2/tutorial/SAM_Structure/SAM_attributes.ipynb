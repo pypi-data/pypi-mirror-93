{
 "cells": [
  {
   "cell_type": "markdown",
   "metadata": {},
   "source": [
    "This notebook goes into more detail about the structure of the SAM object and and its attributes."
   ]
  },
  {
   "cell_type": "code",
   "execution_count": 1,
   "metadata": {},
   "outputs": [
    {
     "name": "stderr",
     "output_type": "stream",
     "text": [
      "/home/alec/anaconda3/envs/scrna/lib/python3.6/site-packages/anndata/_core/anndata.py:21: FutureWarning: pandas.core.index is deprecated and will be removed in a future version.  The public classes are available in the top-level namespace.\n",
      "  from pandas.core.index import RangeIndex\n"
     ]
    }
   ],
   "source": [
    "import matplotlib.pyplot as plt\n",
    "from samalg import SAM\n",
    "import numpy as np\n",
    "import pandas as pd\n",
    "\n",
    "%matplotlib inline"
   ]
  },
  {
   "cell_type": "markdown",
   "metadata": {},
   "source": [
    "All Python objects have a `.__dict__` dictionary, which stores all their attributes. We use this to peek at the organization of data structures within the SAM object.\n",
    "\n",
    "Initializing SAM with an empty constructur, its only attributes are `run_args` and `preprocess_args`. These are dictionaries that will contain all the parameters used for data preprocessing and running SAM:"
   ]
  },
  {
   "cell_type": "code",
   "execution_count": 2,
   "metadata": {},
   "outputs": [
    {
     "data": {
      "text/plain": [
       "{'run_args': {}, 'preprocess_args': {}}"
      ]
     },
     "execution_count": 2,
     "metadata": {},
     "output_type": "execute_result"
    }
   ],
   "source": [
    "sam=SAM()\n",
    "sam.__dict__"
   ]
  },
  {
   "cell_type": "markdown",
   "metadata": {},
   "source": [
    "After loading in data, we can see two new attributes: `adata_raw` and `adata`, both `AnnData` objects. `adata_raw` is the data loaded from the file and will remain unchanged. `adata` is initialy set to be a copy of `adata_raw` and will contain the preprocessed data as well as the results of the SAM analysis."
   ]
  },
  {
   "cell_type": "code",
   "execution_count": 3,
   "metadata": {},
   "outputs": [
    {
     "data": {
      "text/plain": [
       "{'run_args': {},\n",
       " 'preprocess_args': {},\n",
       " 'adata_raw': AnnData object with n_obs × n_vars = 338 × 10782 ,\n",
       " 'adata': AnnData object with n_obs × n_vars = 338 × 10782 \n",
       "     layers: 'X_disp'}"
      ]
     },
     "execution_count": 3,
     "metadata": {},
     "output_type": "execute_result"
    }
   ],
   "source": [
    "sam.load_data('../../example_data/schisto2.5_tpm.csv.gz')\n",
    "sam.__dict__"
   ]
  },
  {
   "cell_type": "markdown",
   "metadata": {},
   "source": [
    "Upon preprocessing the data, the `preprocess_args` dictionary is populated with the parameters used. We can also see new entries in the `sam.adata` object. The `sam.adata_raw` object stays the same. Every time `preprocess_data` is called, `adata_raw` is used to reset `adata` back to the original expression values prior to preprocessing, allowing one to try different preprocessing parameters without needing to reload the data each time. "
   ]
  },
  {
   "cell_type": "code",
   "execution_count": 4,
   "metadata": {},
   "outputs": [
    {
     "data": {
      "text/plain": [
       "{'run_args': {},\n",
       " 'preprocess_args': {'div': 1,\n",
       "  'sum_norm': None,\n",
       "  'norm': 'log',\n",
       "  'min_expression': 1,\n",
       "  'thresh': 0.01,\n",
       "  'filter_genes': True},\n",
       " 'adata_raw': AnnData object with n_obs × n_vars = 338 × 10782 ,\n",
       " 'adata': AnnData object with n_obs × n_vars = 338 × 10782 \n",
       "     var: 'mask_genes'\n",
       "     uns: 'preprocess_args'\n",
       "     layers: 'X_disp'}"
      ]
     },
     "execution_count": 4,
     "metadata": {},
     "output_type": "execute_result"
    }
   ],
   "source": [
    "sam.preprocess_data()\n",
    "sam.__dict__"
   ]
  },
  {
   "cell_type": "markdown",
   "metadata": {},
   "source": [
    "After running SAM, even more entries containing the SAM outputs appear in `sam.adata`:"
   ]
  },
  {
   "cell_type": "code",
   "execution_count": 5,
   "metadata": {},
   "outputs": [
    {
     "name": "stdout",
     "output_type": "stream",
     "text": [
      "RUNNING SAM\n",
      "Iteration: 0, Convergence: 0.45889780060871654\n",
      "Iteration: 1, Convergence: 0.1308680256156253\n",
      "Iteration: 2, Convergence: 0.07382477195996338\n",
      "Iteration: 3, Convergence: 0.021490186253034813\n",
      "Iteration: 4, Convergence: 0.00796356878253838\n",
      "Computing the UMAP embedding...\n",
      "Elapsed time: 4.3442323207855225 seconds\n"
     ]
    },
    {
     "data": {
      "text/plain": [
       "{'run_args': {'max_iter': 10,\n",
       "  'verbose': True,\n",
       "  'projection': 'umap',\n",
       "  'stopping_condition': 0.005,\n",
       "  'num_norm_avg': 50,\n",
       "  'k': 20,\n",
       "  'distance': 'correlation',\n",
       "  'preprocessing': 'Normalizer',\n",
       "  'npcs': None,\n",
       "  'n_genes': None,\n",
       "  'weight_PCs': True,\n",
       "  'proj_kwargs': {},\n",
       "  'sparse_pca': False},\n",
       " 'preprocess_args': {'div': 1,\n",
       "  'sum_norm': None,\n",
       "  'norm': 'log',\n",
       "  'min_expression': 1,\n",
       "  'thresh': 0.01,\n",
       "  'filter_genes': True},\n",
       " 'adata_raw': AnnData object with n_obs × n_vars = 338 × 10782 ,\n",
       " 'adata': AnnData object with n_obs × n_vars = 338 × 10782 \n",
       "     var: 'mask_genes', 'spatial_dispersions', 'weights'\n",
       "     uns: 'preprocess_args', 'ranked_genes', 'nnm', 'neighbors', 'run_args'\n",
       "     obsm: 'X_pca', 'X_umap'\n",
       "     layers: 'X_disp', 'X_knn_avg',\n",
       " 'pca_obj': PCA(copy=True, iterated_power='auto', n_components=338, random_state=None,\n",
       "     svd_solver='full', tol=0.0, whiten=False),\n",
       " 'X_processed': (array([[0.        , 0.00310647, 0.        , ..., 0.00302995, 0.00404857,\n",
       "          0.00416325],\n",
       "         [0.        , 0.00269116, 0.00626136, ..., 0.        , 0.00457616,\n",
       "          0.00356313],\n",
       "         [0.        , 0.00391032, 0.        , ..., 0.        , 0.00441981,\n",
       "          0.00352563],\n",
       "         ...,\n",
       "         [0.        , 0.00352087, 0.        , ..., 0.        , 0.0041995 ,\n",
       "          0.00263924],\n",
       "         [0.        , 0.00375138, 0.        , ..., 0.        , 0.00337977,\n",
       "          0.        ],\n",
       "         [0.        , 0.00330937, 0.00407376, ..., 0.        , 0.00429351,\n",
       "          0.00399922]]),\n",
       "  array(['Smp_000020', 'Smp_000030', 'Smp_000040', ..., 'Smp_212760',\n",
       "         'Smp_900030', 'Smp_900080'], dtype='<U10')),\n",
       " 'umap_obj': UMAP(a=None, angular_rp_forest=False, b=None, init='spectral',\n",
       "      learning_rate=1.0, local_connectivity=1.0, metric='correlation',\n",
       "      metric_kwds=None, min_dist=0.1, n_components=2, n_epochs=None,\n",
       "      n_neighbors=15, negative_sample_rate=5, random_state=None,\n",
       "      repulsion_strength=1.0, set_op_mix_ratio=1.0, spread=1.0,\n",
       "      target_metric='categorical', target_metric_kwds=None,\n",
       "      target_n_neighbors=-1, target_weight=0.5, transform_queue_size=4.0,\n",
       "      transform_seed=42, verbose=False)}"
      ]
     },
     "execution_count": 5,
     "metadata": {},
     "output_type": "execute_result"
    }
   ],
   "source": [
    "sam.run()\n",
    "sam.__dict__"
   ]
  },
  {
   "cell_type": "markdown",
   "metadata": {},
   "source": [
    "As mentioned previously, preprocessing the data again resets `adata` to be equal to `adata_raw` prior to preprocessing. Thus, all the SAM outputs we saw in `adata` previously are cleared."
   ]
  },
  {
   "cell_type": "code",
   "execution_count": 6,
   "metadata": {},
   "outputs": [
    {
     "data": {
      "text/plain": [
       "{'run_args': {'max_iter': 10,\n",
       "  'verbose': True,\n",
       "  'projection': 'umap',\n",
       "  'stopping_condition': 0.005,\n",
       "  'num_norm_avg': 50,\n",
       "  'k': 20,\n",
       "  'distance': 'correlation',\n",
       "  'preprocessing': 'Normalizer',\n",
       "  'npcs': None,\n",
       "  'n_genes': None,\n",
       "  'weight_PCs': True,\n",
       "  'proj_kwargs': {},\n",
       "  'sparse_pca': False},\n",
       " 'preprocess_args': {'div': 1,\n",
       "  'sum_norm': None,\n",
       "  'norm': 'log',\n",
       "  'min_expression': 1,\n",
       "  'thresh': 0.01,\n",
       "  'filter_genes': True},\n",
       " 'adata_raw': AnnData object with n_obs × n_vars = 338 × 10782 ,\n",
       " 'adata': AnnData object with n_obs × n_vars = 338 × 10782 \n",
       "     var: 'mask_genes'\n",
       "     uns: 'preprocess_args'\n",
       "     layers: 'X_disp',\n",
       " 'pca_obj': PCA(copy=True, iterated_power='auto', n_components=338, random_state=None,\n",
       "     svd_solver='full', tol=0.0, whiten=False),\n",
       " 'X_processed': (array([[0.        , 0.00310647, 0.        , ..., 0.00302995, 0.00404857,\n",
       "          0.00416325],\n",
       "         [0.        , 0.00269116, 0.00626136, ..., 0.        , 0.00457616,\n",
       "          0.00356313],\n",
       "         [0.        , 0.00391032, 0.        , ..., 0.        , 0.00441981,\n",
       "          0.00352563],\n",
       "         ...,\n",
       "         [0.        , 0.00352087, 0.        , ..., 0.        , 0.0041995 ,\n",
       "          0.00263924],\n",
       "         [0.        , 0.00375138, 0.        , ..., 0.        , 0.00337977,\n",
       "          0.        ],\n",
       "         [0.        , 0.00330937, 0.00407376, ..., 0.        , 0.00429351,\n",
       "          0.00399922]]),\n",
       "  array(['Smp_000020', 'Smp_000030', 'Smp_000040', ..., 'Smp_212760',\n",
       "         'Smp_900030', 'Smp_900080'], dtype='<U10')),\n",
       " 'umap_obj': UMAP(a=None, angular_rp_forest=False, b=None, init='spectral',\n",
       "      learning_rate=1.0, local_connectivity=1.0, metric='correlation',\n",
       "      metric_kwds=None, min_dist=0.1, n_components=2, n_epochs=None,\n",
       "      n_neighbors=15, negative_sample_rate=5, random_state=None,\n",
       "      repulsion_strength=1.0, set_op_mix_ratio=1.0, spread=1.0,\n",
       "      target_metric='categorical', target_metric_kwds=None,\n",
       "      target_n_neighbors=-1, target_weight=0.5, transform_queue_size=4.0,\n",
       "      transform_seed=42, verbose=False)}"
      ]
     },
     "execution_count": 6,
     "metadata": {},
     "output_type": "execute_result"
    }
   ],
   "source": [
    "sam.preprocess_data()\n",
    "sam.__dict__"
   ]
  },
  {
   "cell_type": "markdown",
   "metadata": {},
   "source": [
    "# A deeper look inside AnnData objects\n",
    "\n",
    "For more details about AnnData objects, please see its documentation: https://anndata.readthedocs.io/en/latest/anndata.AnnData.html\n",
    "\n",
    "Here, I briefly summarize the structure of AnnData objects and how they store the results of the SAM analysis. Below, I run SAM again, and perform density clustering and k-means clustering."
   ]
  },
  {
   "cell_type": "code",
   "execution_count": 7,
   "metadata": {},
   "outputs": [
    {
     "name": "stdout",
     "output_type": "stream",
     "text": [
      "RUNNING SAM\n",
      "Iteration: 0, Convergence: 0.45840654441494844\n",
      "Iteration: 1, Convergence: 0.1323073277973645\n",
      "Iteration: 2, Convergence: 0.0722524507280844\n",
      "Iteration: 3, Convergence: 0.02120505888576387\n",
      "Iteration: 4, Convergence: 0.00810610696308416\n",
      "Computing the UMAP embedding...\n",
      "Elapsed time: 1.90336012840271 seconds\n"
     ]
    },
    {
     "data": {
      "text/plain": [
       "AnnData object with n_obs × n_vars = 338 × 10782 \n",
       "    obs: 'dbscan_clusters', 'kmeans_clusters'\n",
       "    var: 'mask_genes', 'spatial_dispersions', 'weights'\n",
       "    uns: 'preprocess_args', 'ranked_genes', 'nnm', 'neighbors', 'run_args'\n",
       "    obsm: 'X_pca', 'X_umap'\n",
       "    layers: 'X_disp', 'X_knn_avg'"
      ]
     },
     "execution_count": 7,
     "metadata": {},
     "output_type": "execute_result"
    }
   ],
   "source": [
    "sam.run()\n",
    "sam.clustering(method = 'dbscan')\n",
    "sam.clustering(param = 4, method = 'kmeans')\n",
    "sam.adata"
   ]
  },
  {
   "cell_type": "markdown",
   "metadata": {},
   "source": [
    "## AnnData 'obs'\n",
    "\n",
    "`adata.obs` is a Pandas DataFrame containing loaded labels for each cell. Columns correspond different types of labels, and rows correspond to cells. For example, we currently have two columns in this DataFrame: density_clusters and kmeans_clusters. These are the cluster assignments we computed above.\n",
    "\n",
    "The annotations loaded using the `sam.load_annotations` function are also stored in `adata.obs`."
   ]
  },
  {
   "cell_type": "code",
   "execution_count": 8,
   "metadata": {},
   "outputs": [
    {
     "data": {
      "text/html": [
       "<div>\n",
       "<style scoped>\n",
       "    .dataframe tbody tr th:only-of-type {\n",
       "        vertical-align: middle;\n",
       "    }\n",
       "\n",
       "    .dataframe tbody tr th {\n",
       "        vertical-align: top;\n",
       "    }\n",
       "\n",
       "    .dataframe thead th {\n",
       "        text-align: right;\n",
       "    }\n",
       "</style>\n",
       "<table border=\"1\" class=\"dataframe\">\n",
       "  <thead>\n",
       "    <tr style=\"text-align: right;\">\n",
       "      <th></th>\n",
       "      <th>dbscan_clusters</th>\n",
       "      <th>kmeans_clusters</th>\n",
       "    </tr>\n",
       "  </thead>\n",
       "  <tbody>\n",
       "    <tr>\n",
       "      <th>N402Barcode_706-511</th>\n",
       "      <td>0</td>\n",
       "      <td>3</td>\n",
       "    </tr>\n",
       "    <tr>\n",
       "      <th>N402Barcode_705-507</th>\n",
       "      <td>0</td>\n",
       "      <td>1</td>\n",
       "    </tr>\n",
       "    <tr>\n",
       "      <th>N402Barcode_718-520</th>\n",
       "      <td>1</td>\n",
       "      <td>0</td>\n",
       "    </tr>\n",
       "    <tr>\n",
       "      <th>N402Barcode_722-516</th>\n",
       "      <td>0</td>\n",
       "      <td>1</td>\n",
       "    </tr>\n",
       "    <tr>\n",
       "      <th>N402Barcode_721-516</th>\n",
       "      <td>0</td>\n",
       "      <td>3</td>\n",
       "    </tr>\n",
       "  </tbody>\n",
       "</table>\n",
       "</div>"
      ],
      "text/plain": [
       "                    dbscan_clusters kmeans_clusters\n",
       "N402Barcode_706-511               0               3\n",
       "N402Barcode_705-507               0               1\n",
       "N402Barcode_718-520               1               0\n",
       "N402Barcode_722-516               0               1\n",
       "N402Barcode_721-516               0               3"
      ]
     },
     "execution_count": 8,
     "metadata": {},
     "output_type": "execute_result"
    }
   ],
   "source": [
    "sam.adata.obs.head()"
   ]
  },
  {
   "cell_type": "markdown",
   "metadata": {},
   "source": [
    "`adata.obs` can be manipulated / accessed just like any other PandasDataFrame. For example, let's say you had some new information you wanted to store inside `adata.obs`. For example, I want to annotate cells 'N402Barcode_706-511' and 'N402Barcode_721-516' with the label 'alpha'. I would do this in the following way:"
   ]
  },
  {
   "cell_type": "code",
   "execution_count": 9,
   "metadata": {},
   "outputs": [
    {
     "data": {
      "text/html": [
       "<div>\n",
       "<style scoped>\n",
       "    .dataframe tbody tr th:only-of-type {\n",
       "        vertical-align: middle;\n",
       "    }\n",
       "\n",
       "    .dataframe tbody tr th {\n",
       "        vertical-align: top;\n",
       "    }\n",
       "\n",
       "    .dataframe thead th {\n",
       "        text-align: right;\n",
       "    }\n",
       "</style>\n",
       "<table border=\"1\" class=\"dataframe\">\n",
       "  <thead>\n",
       "    <tr style=\"text-align: right;\">\n",
       "      <th></th>\n",
       "      <th>dbscan_clusters</th>\n",
       "      <th>kmeans_clusters</th>\n",
       "      <th>new_annotation</th>\n",
       "    </tr>\n",
       "  </thead>\n",
       "  <tbody>\n",
       "    <tr>\n",
       "      <th>N402Barcode_706-511</th>\n",
       "      <td>0</td>\n",
       "      <td>3</td>\n",
       "      <td>alpha</td>\n",
       "    </tr>\n",
       "    <tr>\n",
       "      <th>N402Barcode_705-507</th>\n",
       "      <td>0</td>\n",
       "      <td>1</td>\n",
       "      <td>NaN</td>\n",
       "    </tr>\n",
       "    <tr>\n",
       "      <th>N402Barcode_718-520</th>\n",
       "      <td>1</td>\n",
       "      <td>0</td>\n",
       "      <td>NaN</td>\n",
       "    </tr>\n",
       "    <tr>\n",
       "      <th>N402Barcode_722-516</th>\n",
       "      <td>0</td>\n",
       "      <td>1</td>\n",
       "      <td>NaN</td>\n",
       "    </tr>\n",
       "    <tr>\n",
       "      <th>N402Barcode_721-516</th>\n",
       "      <td>0</td>\n",
       "      <td>3</td>\n",
       "      <td>alpha</td>\n",
       "    </tr>\n",
       "  </tbody>\n",
       "</table>\n",
       "</div>"
      ],
      "text/plain": [
       "                    dbscan_clusters kmeans_clusters new_annotation\n",
       "N402Barcode_706-511               0               3          alpha\n",
       "N402Barcode_705-507               0               1            NaN\n",
       "N402Barcode_718-520               1               0            NaN\n",
       "N402Barcode_722-516               0               1            NaN\n",
       "N402Barcode_721-516               0               3          alpha"
      ]
     },
     "execution_count": 9,
     "metadata": {},
     "output_type": "execute_result"
    }
   ],
   "source": [
    "new_annotation = pd.Series( data = ['alpha' , 'alpha'] , index = ['N402Barcode_706-511','N402Barcode_721-516'])\n",
    "sam.adata.obs['new_annotation'] = new_annotation\n",
    "sam.adata.obs.head()"
   ]
  },
  {
   "cell_type": "markdown",
   "metadata": {},
   "source": [
    "We now have a new key/column in `adata.obs`. Cells we did not specify with a label in the new 'new_annotation' column of `adata.obs` receive `NaN`s. "
   ]
  },
  {
   "cell_type": "code",
   "execution_count": 10,
   "metadata": {},
   "outputs": [
    {
     "name": "stdout",
     "output_type": "stream",
     "text": [
      "['dbscan_clusters', 'kmeans_clusters', 'new_annotation']\n",
      "['dbscan_clusters', 'kmeans_clusters', 'new_annotation']\n"
     ]
    }
   ],
   "source": [
    "print(list(sam.adata.obs.keys()))\n",
    "# or\n",
    "print(list(sam.adata.obs.columns))"
   ]
  },
  {
   "cell_type": "markdown",
   "metadata": {},
   "source": [
    "## AnnData 'var'\n",
    "\n",
    "`adata.var` is also a Pandas DataFrame and behaves in the same way as `adata.obs`, except it stores information about genes as opposed to cells. After running SAM, `adata.var` is already populated with the following entries:"
   ]
  },
  {
   "cell_type": "code",
   "execution_count": 11,
   "metadata": {},
   "outputs": [
    {
     "name": "stdout",
     "output_type": "stream",
     "text": [
      "['mask_genes', 'spatial_dispersions', 'weights']\n"
     ]
    }
   ],
   "source": [
    "print(list(sam.adata.var.keys()))"
   ]
  },
  {
   "cell_type": "markdown",
   "metadata": {},
   "source": [
    "'mask_genes' is a boolean vector of genes that passed the filtering step in `preprocess_data`. `False` indicates genes that were filtered out (their expressions were zero'd out).\n",
    "\n",
    "'spatial_dispersions' is a vector containing the spatial dispersion for each gene along the final graph manifold computed by SAM. \n",
    "\n",
    "'weights' is a vector containing the SAM weights for each gene (essentially a normalized version of 'spatial_dispersions')."
   ]
  },
  {
   "cell_type": "code",
   "execution_count": 12,
   "metadata": {},
   "outputs": [
    {
     "data": {
      "text/html": [
       "<div>\n",
       "<style scoped>\n",
       "    .dataframe tbody tr th:only-of-type {\n",
       "        vertical-align: middle;\n",
       "    }\n",
       "\n",
       "    .dataframe tbody tr th {\n",
       "        vertical-align: top;\n",
       "    }\n",
       "\n",
       "    .dataframe thead th {\n",
       "        text-align: right;\n",
       "    }\n",
       "</style>\n",
       "<table border=\"1\" class=\"dataframe\">\n",
       "  <thead>\n",
       "    <tr style=\"text-align: right;\">\n",
       "      <th></th>\n",
       "      <th>mask_genes</th>\n",
       "      <th>spatial_dispersions</th>\n",
       "      <th>weights</th>\n",
       "    </tr>\n",
       "  </thead>\n",
       "  <tbody>\n",
       "    <tr>\n",
       "      <th>Smp_000020</th>\n",
       "      <td>True</td>\n",
       "      <td>0.153552</td>\n",
       "      <td>0.281999</td>\n",
       "    </tr>\n",
       "    <tr>\n",
       "      <th>Smp_000030</th>\n",
       "      <td>True</td>\n",
       "      <td>0.043277</td>\n",
       "      <td>0.149710</td>\n",
       "    </tr>\n",
       "    <tr>\n",
       "      <th>Smp_000040</th>\n",
       "      <td>True</td>\n",
       "      <td>0.145519</td>\n",
       "      <td>0.274523</td>\n",
       "    </tr>\n",
       "    <tr>\n",
       "      <th>Smp_000050</th>\n",
       "      <td>False</td>\n",
       "      <td>0.000000</td>\n",
       "      <td>0.000000</td>\n",
       "    </tr>\n",
       "    <tr>\n",
       "      <th>Smp_000070</th>\n",
       "      <td>True</td>\n",
       "      <td>0.116671</td>\n",
       "      <td>0.245811</td>\n",
       "    </tr>\n",
       "  </tbody>\n",
       "</table>\n",
       "</div>"
      ],
      "text/plain": [
       "            mask_genes  spatial_dispersions   weights\n",
       "Smp_000020        True             0.153552  0.281999\n",
       "Smp_000030        True             0.043277  0.149710\n",
       "Smp_000040        True             0.145519  0.274523\n",
       "Smp_000050       False             0.000000  0.000000\n",
       "Smp_000070        True             0.116671  0.245811"
      ]
     },
     "execution_count": 12,
     "metadata": {},
     "output_type": "execute_result"
    }
   ],
   "source": [
    "sam.adata.var.head()"
   ]
  },
  {
   "cell_type": "code",
   "execution_count": 13,
   "metadata": {},
   "outputs": [
    {
     "data": {
      "text/plain": [
       "Smp_000020    0.281999\n",
       "Smp_000030    0.149710\n",
       "Smp_000040    0.274523\n",
       "Smp_000050    0.000000\n",
       "Smp_000070    0.245811\n",
       "Name: weights, dtype: float64"
      ]
     },
     "execution_count": 13,
     "metadata": {},
     "output_type": "execute_result"
    }
   ],
   "source": [
    "#To get the gene weights:\n",
    "sam.adata.var['weights'].head()\n",
    "# convert to a numpy array by: np.array(sam.adata.var['weights'])"
   ]
  },
  {
   "cell_type": "markdown",
   "metadata": {},
   "source": [
    "## AnnData 'uns'\n",
    "\n",
    "The `adata.uns` attribute contains unstructured data types output by SAM. It is a dictionary:"
   ]
  },
  {
   "cell_type": "code",
   "execution_count": 14,
   "metadata": {},
   "outputs": [
    {
     "name": "stdout",
     "output_type": "stream",
     "text": [
      "<class 'collections.OrderedDict'>\n",
      "['preprocess_args', 'ranked_genes', 'nnm', 'neighbors', 'run_args']\n"
     ]
    }
   ],
   "source": [
    "print(type(sam.adata.uns))\n",
    "print(list(sam.adata.uns.keys()))"
   ]
  },
  {
   "cell_type": "markdown",
   "metadata": {},
   "source": [
    "After running SAM, `uns` contains:\n",
    "\n",
    "the preprocessing parameters and run parameters dictionaries (`preprocess_args` and `run_args`).\n",
    "\n",
    "`ranked_genes` - a list of genes ordered by their SAM weights (in descending order)\n",
    "\n",
    "`neighbors` - a dictionary with key 'connectivities' (to be compatible with scanpy) containing the nearest neighbor graph in sparse matrix format."
   ]
  },
  {
   "cell_type": "markdown",
   "metadata": {},
   "source": [
    "## AnnData 'obsm' and 'varm'\n",
    "\n",
    "`adata.obsm` and `adata.varm` contain multidimensional cell / gene coordinates. For example, `adata.obsm` is where the UMAP projections and principal components are stored:"
   ]
  },
  {
   "cell_type": "code",
   "execution_count": 15,
   "metadata": {},
   "outputs": [
    {
     "name": "stdout",
     "output_type": "stream",
     "text": [
      "<class 'anndata._core.aligned_mapping.AxisArrays'>\n",
      "['X_pca', 'X_umap']\n",
      "[[ 0.00137533  0.04366861 -0.01516335 -0.00075707 -0.0017865 ]\n",
      " [-0.01754889  0.04202255  0.00331406 -0.01404971  0.01985243]\n",
      " [ 0.01911482 -0.00365631 -0.00679135  0.01349591  0.00071625]\n",
      " [ 0.01626643  0.01580282  0.02321033 -0.02165132  0.00809025]\n",
      " [ 0.00396277  0.03158943 -0.00767653  0.00332613 -0.01560002]]\n",
      "[[ 2.5625021 -3.882239 ]\n",
      " [ 1.4160997 -4.2365746]\n",
      " [-2.3481257  0.668551 ]\n",
      " [ 1.0172505 -3.0697896]\n",
      " [ 2.7027757 -4.2197967]]\n"
     ]
    }
   ],
   "source": [
    "print(type(sam.adata.obsm))\n",
    "print(list(sam.adata.obsm.keys()))\n",
    "print(sam.adata.obsm['X_pca'][:5,:5])\n",
    "print(sam.adata.obsm['X_umap'][:5,:])"
   ]
  },
  {
   "cell_type": "markdown",
   "metadata": {},
   "source": [
    "## AnnData 'X' and 'layers'\n",
    "\n",
    "Finally, the `adata.X` attribute contains the expression data in sparse matrix format. The `adata.layers` attribute contains different 'versions' of the expression data.\n",
    "\n",
    "`adata.X` is the sparse matrix used for dimensionality reduction (PCA). \n",
    "\n",
    "`adata.layers['X_disp']` is the sparse matrix used for computing the spatial dispersions.\n",
    "\n",
    "`adata.layers['X_knn_avg']` contain the spatially averaged gene expression values used for computing the spatial dispersions."
   ]
  },
  {
   "cell_type": "code",
   "execution_count": 16,
   "metadata": {},
   "outputs": [
    {
     "name": "stdout",
     "output_type": "stream",
     "text": [
      "<class 'scipy.sparse.csr.csr_matrix'>\n",
      "<class 'anndata._core.aligned_mapping.Layers'>\n",
      "['X_disp', 'X_knn_avg']\n"
     ]
    }
   ],
   "source": [
    "print(type(sam.adata.X))\n",
    "print(type(sam.adata.layers))\n",
    "print(list(sam.adata.layers.keys()))"
   ]
  },
  {
   "cell_type": "markdown",
   "metadata": {},
   "source": [
    "Why am I using `.X` for dimensionality reduction and `.layers['X_disp']` for computing spatial dispersions?\n",
    "\n",
    "In most cases, `adata.X` is in fact exactly the same as `adata.layers['X_disp']`. However, in cases where you want to regress out certain principal components associated with unwanted sources of variation (like cell cycle effects, see the batch effect correction tutorials), elements of the gene expression matrix might become negative, normalized in various ways, etc. Calculating ratio-based dispersions (like $\\frac{variance}{mean}$ on this modified expression data becomes ill-defined.\n",
    "\n",
    "For example, let's regress out the first principal component in the 3.5-week schistosome dataset:"
   ]
  },
  {
   "cell_type": "code",
   "execution_count": 17,
   "metadata": {},
   "outputs": [
    {
     "name": "stdout",
     "output_type": "stream",
     "text": [
      "RUNNING SAM\n",
      "Iteration: 0, Convergence: 0.4739646279358095\n",
      "Iteration: 1, Convergence: 0.11360828114730011\n",
      "Iteration: 2, Convergence: 0.058768556329453\n",
      "Iteration: 3, Convergence: 0.02060558821804965\n",
      "Iteration: 4, Convergence: 0.009584580929943375\n",
      "Iteration: 5, Convergence: 0.005351348821380438\n",
      "Computing the UMAP embedding...\n",
      "Elapsed time: 2.422403335571289 seconds\n"
     ]
    }
   ],
   "source": [
    "sam=SAM()\n",
    "sam.load_data('../../example_data/schisto3.5_tpm.csv.gz')\n",
    "sam.preprocess_data()\n",
    "sam.run()"
   ]
  },
  {
   "cell_type": "markdown",
   "metadata": {},
   "source": [
    "Prior to regression, we can see that `adata.X` = `adata.layers['X_disp']`:"
   ]
  },
  {
   "cell_type": "code",
   "execution_count": 18,
   "metadata": {},
   "outputs": [
    {
     "data": {
      "text/plain": [
       "<matplotlib.collections.PathCollection at 0x7f14f8cdd278>"
      ]
     },
     "execution_count": 18,
     "metadata": {},
     "output_type": "execute_result"
    },
    {
     "data": {
      "image/png": "[encoded data removed]",
      "text/plain": [
       "<Figure size 432x288 with 1 Axes>"
      ]
     },
     "metadata": {
      "needs_background": "light"
     },
     "output_type": "display_data"
    }
   ],
   "source": [
    "xind,yind = sam.adata.layers['X_disp'].nonzero()\n",
    "a = sam.adata.layers['X_disp'][xind,yind].A\n",
    "b = sam.adata.X[xind,yind].A\n",
    "plt.figure(); plt.scatter(a,b)"
   ]
  },
  {
   "cell_type": "code",
   "execution_count": 19,
   "metadata": {},
   "outputs": [],
   "source": [
    "sam.calculate_regression_PCs();\n",
    "sam.regress_genes([0])"
   ]
  },
  {
   "cell_type": "markdown",
   "metadata": {},
   "source": [
    "After regression, we can see that they are no longer equivalent. `adata.X` contains the regressed data. `adata.layers['X_disp']` contains the original preprocessed gene expression data. "
   ]
  },
  {
   "cell_type": "code",
   "execution_count": 20,
   "metadata": {},
   "outputs": [
    {
     "data": {
      "text/plain": [
       "<matplotlib.collections.PathCollection at 0x7f15018ba6a0>"
      ]
     },
     "execution_count": 20,
     "metadata": {},
     "output_type": "execute_result"
    },
    {
     "data": {
      "image/png": "[encoded data removed]",
      "text/plain": [
       "<Figure size 432x288 with 1 Axes>"
      ]
     },
     "metadata": {
      "needs_background": "light"
     },
     "output_type": "display_data"
    }
   ],
   "source": [
    "xind,yind = sam.adata.layers['X_disp'].nonzero()\n",
    "a = sam.adata.layers['X_disp'][xind,yind].A\n",
    "b = sam.adata.X[xind,yind].A\n",
    "plt.figure(); plt.scatter(a,b)"
   ]
  }
 ],
 "metadata": {
  "kernelspec": {
   "display_name": "Python 3",
   "language": "python",
   "name": "python3"
  },
  "language_info": {
   "codemirror_mode": {
    "name": "ipython",
    "version": 3
   },
   "file_extension": ".py",
   "mimetype": "text/x-python",
   "name": "python",
   "nbconvert_exporter": "python",
   "pygments_lexer": "ipython3",
   "version": "3.6.10"
  }
 },
 "nbformat": 4,
 "nbformat_minor": 2
}
