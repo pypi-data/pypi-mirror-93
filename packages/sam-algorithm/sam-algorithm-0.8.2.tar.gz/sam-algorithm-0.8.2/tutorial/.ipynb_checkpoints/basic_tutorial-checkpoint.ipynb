{
 "cells": [
  {
   "cell_type": "markdown",
   "metadata": {},
   "source": [
    "## Running SAM\n",
    "\n",
    "Below, is a quickstart tutorial to analyze scRNA-seq data using SAM and visualize results."
   ]
  },
  {
   "cell_type": "code",
   "execution_count": 1,
   "metadata": {},
   "outputs": [],
   "source": [
    "from SAM import SAM\n",
    "from SAMGUI import SAMGUI"
   ]
  },
  {
   "cell_type": "markdown",
   "metadata": {},
   "source": [
    "Initialize the SAM object with default values."
   ]
  },
  {
   "cell_type": "code",
   "execution_count": 2,
   "metadata": {},
   "outputs": [],
   "source": [
    "sam = SAM()"
   ]
  },
  {
   "cell_type": "markdown",
   "metadata": {},
   "source": [
    "Load the data (by default, expects genes as rows and columns as cells)"
   ]
  },
  {
   "cell_type": "code",
   "execution_count": 3,
   "metadata": {},
   "outputs": [],
   "source": [
    "sam.load_data('../example_data/GSE74596_data.csv.gz')"
   ]
  },
  {
   "cell_type": "markdown",
   "metadata": {},
   "source": [
    "By default, 'load_data' outputs an AnnData (`.h5ad`) file of the AnnData object containing the expression data. This file is much faster to load than the csv file, especially for large datasets. To load this file, use `load_data`. We also have cell annotations we can load (optional),"
   ]
  },
  {
   "cell_type": "code",
   "execution_count": 4,
   "metadata": {},
   "outputs": [],
   "source": [
    "sam.load_annotations('../example_data/GSE74596_ann.csv')"
   ]
  },
  {
   "cell_type": "markdown",
   "metadata": {},
   "source": [
    "Log-normalize and filter the data:"
   ]
  },
  {
   "cell_type": "code",
   "execution_count": 5,
   "metadata": {},
   "outputs": [],
   "source": [
    "sam.preprocess_data()"
   ]
  },
  {
   "cell_type": "markdown",
   "metadata": {},
   "source": [
    "To run SAM using default parameters,"
   ]
  },
  {
   "cell_type": "code",
   "execution_count": 6,
   "metadata": {},
   "outputs": [
    {
     "name": "stdout",
     "output_type": "stream",
     "text": [
      "8000\n",
      "RUNNING SAM\n",
      "Iteration: 0, Convergence: 0.3890052387357582\n",
      "Iteration: 1, Convergence: 0.22737380247588126\n",
      "Iteration: 2, Convergence: 0.010527955229685465\n",
      "Computing the UMAP embedding...\n",
      "Elapsed time: 5.46448540687561 seconds\n"
     ]
    }
   ],
   "source": [
    "sam.run()"
   ]
  },
  {
   "cell_type": "markdown",
   "metadata": {},
   "source": [
    "SAM outputs a ranked list of genes (stored in `sam.adata.uns['ranked_genes']`). The genes are ordered by their respective weights (stored in `sam.adata.var['weights']`)."
   ]
  },
  {
   "cell_type": "code",
   "execution_count": 7,
   "metadata": {},
   "outputs": [
    {
     "name": "stdout",
     "output_type": "stream",
     "text": [
      "['ENSMUSG00000037313.16' 'ENSMUSG00000017716.15' 'ENSMUSG00000069272.5'\n",
      " 'ENSMUSG00000001403.13' 'ENSMUSG00000027306.15' 'ENSMUSG00000026573.7'\n",
      " 'ENSMUSG00000044734.15' 'ENSMUSG00000020649.11' 'ENSMUSG00000006398.15'\n",
      " 'ENSMUSG00000028873.16' 'ENSMUSG00000005233.16' 'ENSMUSG00000041431.16'\n",
      " 'ENSMUSG00000032218.6' 'ENSMUSG00000014453.3' 'ENSMUSG00000046057.4'\n",
      " 'ENSMUSG00000040204.6' 'ENSMUSG00000058773.2' 'ENSMUSG00000029810.15'\n",
      " 'ENSMUSG00000023505.13' 'ENSMUSG00000094777.2' 'ENSMUSG00000040899.13'\n",
      " 'ENSMUSG00000023367.14' 'ENSMUSG00000074403.2' 'ENSMUSG00000030149.15'\n",
      " 'ENSMUSG00000019942.12' 'ENSMUSG00000021411.15' 'ENSMUSG00000027715.9'\n",
      " 'ENSMUSG00000030165.16' 'ENSMUSG00000067613.5' 'ENSMUSG00000038943.16'\n",
      " 'ENSMUSG00000005470.8' 'ENSMUSG00000020914.17' 'ENSMUSG00000019773.7'\n",
      " 'ENSMUSG00000089656.1' 'ENSMUSG00000035459.15' 'ENSMUSG00000027469.16'\n",
      " 'ENSMUSG00000025747.12' 'ENSMUSG00000015437.4' 'ENSMUSG00000027326.13'\n",
      " 'ENSMUSG00000106281.1' 'ENSMUSG00000030867.7' 'ENSMUSG00000069301.5'\n",
      " 'ENSMUSG00000028312.19' 'ENSMUSG00000027496.15' 'ENSMUSG00000020897.12'\n",
      " 'ENSMUSG00000039084.8' 'ENSMUSG00000069300.3' 'ENSMUSG00000022033.9'\n",
      " 'ENSMUSG00000006715.11' 'ENSMUSG00000004612.9' 'ENSMUSG00000080076.4'\n",
      " 'ENSMUSG00000024056.9' 'ENSMUSG00000025395.14' 'ENSMUSG00000074476.5'\n",
      " 'ENSMUSG00000037628.9' 'ENSMUSG00000081058.5' 'ENSMUSG00000049093.9'\n",
      " 'ENSMUSG00000012443.3' 'ENSMUSG00000022881.14' 'ENSMUSG00000028832.11'\n",
      " 'ENSMUSG00000040084.9' 'ENSMUSG00000026683.14' 'ENSMUSG00000071516.2'\n",
      " 'ENSMUSG00000061615.2' 'ENSMUSG00000026955.13' 'ENSMUSG00000048327.6'\n",
      " 'ENSMUSG00000021714.14' 'ENSMUSG00000029177.9' 'ENSMUSG00000020330.16'\n",
      " 'ENSMUSG00000030325.16' 'ENSMUSG00000068101.10' 'ENSMUSG00000018362.14'\n",
      " 'ENSMUSG00000029322.12' 'ENSMUSG00000046341.5' 'ENSMUSG00000024791.10'\n",
      " 'ENSMUSG00000045777.14' 'ENSMUSG00000026605.14' 'ENSMUSG00000028150.14'\n",
      " 'ENSMUSG00000034906.15' 'ENSMUSG00000030677.8' 'ENSMUSG00000104608.1'\n",
      " 'ENSMUSG00000027699.19' 'ENSMUSG00000030978.9' 'ENSMUSG00000068252.5'\n",
      " 'ENSMUSG00000025289.15' 'ENSMUSG00000056394.17' 'ENSMUSG00000026072.12'\n",
      " 'ENSMUSG00000031239.5' 'ENSMUSG00000027331.15' 'ENSMUSG00000003779.15'\n",
      " 'ENSMUSG00000028044.6' 'ENSMUSG00000043088.16' 'ENSMUSG00000052374.14'\n",
      " 'ENSMUSG00000028066.15' 'ENSMUSG00000041859.10' 'ENSMUSG00000022322.8'\n",
      " 'ENSMUSG00000020592.14' 'ENSMUSG00000047534.16' 'ENSMUSG00000052736.15'\n",
      " 'ENSMUSG00000069309.2']\n"
     ]
    }
   ],
   "source": [
    "print(sam.adata.uns['ranked_genes'][:100]) #top 100 genes"
   ]
  },
  {
   "cell_type": "markdown",
   "metadata": {},
   "source": [
    "All the important SAM objects and results are stored in `sam.adata`:"
   ]
  },
  {
   "cell_type": "code",
   "execution_count": 8,
   "metadata": {},
   "outputs": [
    {
     "data": {
      "text/plain": [
       "AnnData object with n_obs × n_vars = 203 × 45686 \n",
       "    obs: 'annotation'\n",
       "    var: 'mask_genes', 'spatial_dispersions', 'weights'\n",
       "    uns: 'preprocess_args', 'ranked_genes', 'pca_obj', 'X_processed', 'neighbors', 'run_args'\n",
       "    obsm: 'X_pca', 'X_umap'\n",
       "    layers: 'X_disp', 'X_knn_avg'"
      ]
     },
     "execution_count": 8,
     "metadata": {},
     "output_type": "execute_result"
    }
   ],
   "source": [
    "sam.adata #the AnnData object"
   ]
  },
  {
   "cell_type": "markdown",
   "metadata": {},
   "source": [
    "To launch the GUI,"
   ]
  },
  {
   "cell_type": "code",
   "execution_count": 9,
   "metadata": {},
   "outputs": [
    {
     "data": {
      "application/vnd.jupyter.widget-view+json": {
       "model_id": "de11912af92f4ccd9dd2dd4024644dad",
       "version_major": 2,
       "version_minor": 0
      },
      "text/plain": [
       "HBox(children=(Tab(children=(FigureWidget({\n",
       "    'data': [{'hoverinfo': 'text',\n",
       "              'marker': {'size'…"
      ]
     },
     "metadata": {},
     "output_type": "display_data"
    }
   ],
   "source": [
    "sam_gui = SAMGUI(sam)\n",
    "sam_gui.SamPlot"
   ]
  },
  {
   "cell_type": "markdown",
   "metadata": {},
   "source": [
    "To save the SAM object and all its contents into a Pickle file:"
   ]
  },
  {
   "cell_type": "code",
   "execution_count": 10,
   "metadata": {},
   "outputs": [],
   "source": [
    "sam.save('example_save',dirname = 'output_directory')"
   ]
  },
  {
   "cell_type": "markdown",
   "metadata": {},
   "source": [
    "To load a saved SAM object and all its contents:"
   ]
  },
  {
   "cell_type": "code",
   "execution_count": 11,
   "metadata": {},
   "outputs": [],
   "source": [
    "sam=SAM(); #create an empty SAM object\n",
    "sam.load('output_directory/example_save.p')"
   ]
  },
  {
   "cell_type": "markdown",
   "metadata": {},
   "source": [
    "For more detailed tutorials, please see the other Jupyter notebooks."
   ]
  }
 ],
 "metadata": {
  "kernelspec": {
   "display_name": "Python 3",
   "language": "python",
   "name": "python3"
  },
  "language_info": {
   "codemirror_mode": {
    "name": "ipython",
    "version": 3
   },
   "file_extension": ".py",
   "mimetype": "text/x-python",
   "name": "python",
   "nbconvert_exporter": "python",
   "pygments_lexer": "ipython3",
   "version": "3.6.9"
  },
  "widgets": {
   "application/vnd.jupyter.widget-state+json": {
    "state": {
     "01675677792f463e8bf464b182a19393": {
      "model_module": "@jupyter-widgets/controls",
      "model_module_version": "1.5.0",
      "model_name": "VBoxModel",
      "state": {
       "children": [
        "IPY_MODEL_dd9ce88088d24425b3f4dbda27ebec98",
        "IPY_MODEL_aa158ba854b14e2d8182e5d73866ee3f",
        "IPY_MODEL_6b34ba39b25b4cc9bf80e8f1f4a1068e",
        "IPY_MODEL_1e400d31f8bc4b8b973026d1b56738b3",
        "IPY_MODEL_b023c16f200b460f9f86c9440ee4fc48",
        "IPY_MODEL_6ca8456e66174b7db68e7d33050509ad",
        "IPY_MODEL_2a6af102c5c04945a58a0f4738bddbab",
        "IPY_MODEL_7c7bfc0904274005b7f8775428e92028",
        "IPY_MODEL_ad111836c127478f820f193011bc6c36",
        "IPY_MODEL_51a0db97318d4767b5f411801ae5daa4",
        "IPY_MODEL_b70442bfafb44dbb972ebb854dd66755",
        "IPY_MODEL_197955b69332440e953d4735c269f050",
        "IPY_MODEL_66ce9a735a5c4afe807f2d049b6683a3",
        "IPY_MODEL_7737f20c654d43cfad33e45257999aa0",
        "IPY_MODEL_a3d9cfbaf646458595c1267b7a021720",
        "IPY_MODEL_ef402f42ec4049ff97fd887062a325f4",
        "IPY_MODEL_600009233969470db2b157fdc6bb1d5a"
       ],
       "layout": "IPY_MODEL_f1dc0e4a952846b394e96a8e32009143"
      }
     },
     "036d9bc2204a4996ab46878220f859da": {
      "model_module": "@jupyter-widgets/base",
      "model_module_version": "1.2.0",
      "model_name": "LayoutModel",
      "state": {}
     },
     "048fe8c6abf24730b8bc7a93bfc5ab6d": {
      "model_module": "@jupyter-widgets/base",
      "model_module_version": "1.2.0",
      "model_name": "LayoutModel",
      "state": {
       "width": "34%"
      }
     },
     "04c3c0e4f9174ae28cc6b9aad355d8b8": {
      "model_module": "@jupyter-widgets/base",
      "model_module_version": "1.2.0",
      "model_name": "LayoutModel",
      "state": {}
     },
     "0525e0271afc474485e54e17f753d99f": {
      "model_module": "@jupyter-widgets/controls",
      "model_module_version": "1.5.0",
      "model_name": "ButtonStyleModel",
      "state": {}
     },
     "0656560f2400421c87f12b6505474415": {
      "model_module": "@jupyter-widgets/controls",
      "model_module_version": "1.5.0",
      "model_name": "ButtonModel",
      "state": {
       "description": "Select all (c)",
       "layout": "IPY_MODEL_f3a584f4f7814c41b4bfb443d6b1768f",
       "style": "IPY_MODEL_38eea21417054494af1a66cddf9b9f1b",
       "tooltip": "Select all cells. Pressing 'c' on the keyboard while hovering over the scatter plot will do the same thing."
      }
     },
     "078e6b57fd44428a841cd68cf2652771": {
      "model_module": "@jupyter-widgets/base",
      "model_module_version": "1.2.0",
      "model_name": "LayoutModel",
      "state": {
       "width": "70%"
      }
     },
     "079a6b9dc44f4a899fffd8f549ae5e85": {
      "model_module": "ipyevents",
      "model_module_version": "1.6.3",
      "model_name": "EventModel",
      "state": {
       "_supported_key_events": [
        "keydown",
        "keyup"
       ],
       "_supported_mouse_events": [
        "click",
        "auxclick",
        "dblclick",
        "mouseenter",
        "mouseleave",
        "mousedown",
        "mouseup",
        "mousemove",
        "wheel",
        "contextmenu",
        "dragstart",
        "drag",
        "dragend",
        "dragenter",
        "dragover",
        "dragleave",
        "drop"
       ],
       "_view_module": "@jupyter-widgets/controls",
       "_view_module_version": "1.5.0",
       "source": "IPY_MODEL_bf5bb98b9b5c4f8bb9e9356995e63995",
       "watched_events": [
        "keydown"
       ],
       "xy_coordinate_system": ""
      }
     },
     "07a089a45b384878ac842b16eb0a9534": {
      "model_module": "@jupyter-widgets/controls",
      "model_module_version": "1.5.0",
      "model_name": "ButtonStyleModel",
      "state": {}
     },
     "090261b7edd848e8b7906e5c13bd0276": {
      "model_module": "@jupyter-widgets/base",
      "model_module_version": "1.2.0",
      "model_name": "LayoutModel",
      "state": {}
     },
     "097ba0157c4f47619cfbee019a68c759": {
      "model_module": "@jupyter-widgets/controls",
      "model_module_version": "1.5.0",
      "model_name": "ButtonStyleModel",
      "state": {}
     },
     "0ceb7e6f27704af783e69ed17437a4c2": {
      "model_module": "@jupyter-widgets/controls",
      "model_module_version": "1.5.0",
      "model_name": "HBoxModel",
      "state": {
       "children": [
        "IPY_MODEL_cc8dce40d86340aba5b63325c7ca1c3b",
        "IPY_MODEL_e4a549274ab94cdcb7091603da1a24af"
       ],
       "layout": "IPY_MODEL_e68a1f2d6c4c44dc8210cc8326ab6f68"
      }
     },
     "0d0f301a3ca9408181ca460cddad6ba0": {
      "model_module": "@jupyter-widgets/base",
      "model_module_version": "1.2.0",
      "model_name": "LayoutModel",
      "state": {}
     },
     "0d8f22cfda1440a7a6336ac1f29ffc5d": {
      "model_module": "@jupyter-widgets/controls",
      "model_module_version": "1.5.0",
      "model_name": "ButtonModel",
      "state": {
       "description": "Disp var ann",
       "layout": "IPY_MODEL_de47261d84ea4a118942c60b2b6e8a04",
       "style": "IPY_MODEL_e5b9d8fc26fb4ae79d1cba78d12b7a08",
       "tooltip": "Include the 'var' annotation for the corresponding gene in the title of the gene expression plots."
      }
     },
     "0ff7556cf3dc46e2b15f3bce5f7528c4": {
      "model_module": "@jupyter-widgets/controls",
      "model_module_version": "1.5.0",
      "model_name": "FloatSliderModel",
      "state": {
       "continuous_update": false,
       "layout": "IPY_MODEL_1ee1e6bd124c439391295d7497dedbbe",
       "max": 200,
       "min": 1,
       "readout_format": "d",
       "style": "IPY_MODEL_72fd699e9dbb40e29cc30513d11f6c7c",
       "value": 50
      }
     },
     "10761f754f5840f9bb3d0647ba8c0ab4": {
      "model_module": "@jupyter-widgets/controls",
      "model_module_version": "1.5.0",
      "model_name": "FloatSliderModel",
      "state": {
       "continuous_update": false,
       "layout": "IPY_MODEL_804bc87615344cd3860679d1a99f0792",
       "max": 6,
       "readout_format": "1f",
       "step": 0.02,
       "style": "IPY_MODEL_892849d4ab2f47c8925fb60248cb45a9",
       "value": 1
      }
     },
     "13599b3f575347e788a373ddd8176425": {
      "model_module": "@jupyter-widgets/controls",
      "model_module_version": "1.5.0",
      "model_name": "SliderStyleModel",
      "state": {
       "description_width": "initial"
      }
     },
     "1644b9b6840240118cdaabcd7e52c9a8": {
      "model_module": "@jupyter-widgets/controls",
      "model_module_version": "1.5.0",
      "model_name": "ButtonStyleModel",
      "state": {}
     },
     "170e96feeeba42979deab9bbe2a72a86": {
      "model_module": "@jupyter-widgets/base",
      "model_module_version": "1.2.0",
      "model_name": "LayoutModel",
      "state": {}
     },
     "17e80bb339f04689a8cffb72c4f7f787": {
      "model_module": "@jupyter-widgets/controls",
      "model_module_version": "1.5.0",
      "model_name": "DescriptionStyleModel",
      "state": {
       "description_width": "initial"
      }
     },
     "1882becedfeb41128235cb642759fc28": {
      "model_module": "@jupyter-widgets/controls",
      "model_module_version": "1.5.0",
      "model_name": "DescriptionStyleModel",
      "state": {
       "description_width": ""
      }
     },
     "197955b69332440e953d4735c269f050": {
      "model_module": "@jupyter-widgets/controls",
      "model_module_version": "1.5.0",
      "model_name": "HBoxModel",
      "state": {
       "children": [
        "IPY_MODEL_9719e89721d64671a22ebe285ccf1b13",
        "IPY_MODEL_b30c0574f3734b859d6150186818921c"
       ],
       "layout": "IPY_MODEL_db5b4b7004b049ccbfcc2405488b495c"
      }
     },
     "19e5c10a8d9a41d88d21c72ce9e383a9": {
      "model_module": "@jupyter-widgets/base",
      "model_module_version": "1.2.0",
      "model_name": "LayoutModel",
      "state": {
       "width": "60%"
      }
     },
     "1a0af1638fc54fbcb45ae905f9ca6126": {
      "model_module": "@jupyter-widgets/controls",
      "model_module_version": "1.5.0",
      "model_name": "DropdownModel",
      "state": {
       "_options_labels": [
        "Louvain cluster",
        "Density cluster",
        "Hdbscan cluster",
        "Kmeans cluster",
        "Leiden cluster"
       ],
       "index": 4,
       "layout": "IPY_MODEL_e62f3d233c7840e5bd53afe48fe02d88",
       "style": "IPY_MODEL_c1ac6f055172487da62907372d685dc7"
      }
     },
     "1a11dd9f18ea4a4bb2899f93f08620e8": {
      "model_module": "@jupyter-widgets/base",
      "model_module_version": "1.2.0",
      "model_name": "LayoutModel",
      "state": {
       "width": "60%"
      }
     },
     "1b2d8e1b8f0342cb8786f9ed8690f5d2": {
      "model_module": "@jupyter-widgets/base",
      "model_module_version": "1.2.0",
      "model_name": "LayoutModel",
      "state": {}
     },
     "1c3c497be4624eb8b9a5ae61e7f854b3": {
      "model_module": "@jupyter-widgets/base",
      "model_module_version": "1.2.0",
      "model_name": "LayoutModel",
      "state": {}
     },
     "1d7955b51b20484ea566c3f829e1359b": {
      "model_module": "@jupyter-widgets/base",
      "model_module_version": "1.2.0",
      "model_name": "LayoutModel",
      "state": {
       "width": "50%"
      }
     },
     "1e400d31f8bc4b8b973026d1b56738b3": {
      "model_module": "@jupyter-widgets/controls",
      "model_module_version": "1.5.0",
      "model_name": "HBoxModel",
      "state": {
       "children": [
        "IPY_MODEL_714fa018d68e482790c7b228bf6c0290",
        "IPY_MODEL_6822d346e007471b859608baa728d651"
       ],
       "layout": "IPY_MODEL_2f62843dceeb4f259380a78d468ad09b"
      }
     },
     "1ee1e6bd124c439391295d7497dedbbe": {
      "model_module": "@jupyter-widgets/base",
      "model_module_version": "1.2.0",
      "model_name": "LayoutModel",
      "state": {}
     },
     "2240d6f3c30e44f8b9165e36e6563950": {
      "model_module": "@jupyter-widgets/controls",
      "model_module_version": "1.5.0",
      "model_name": "ButtonModel",
      "state": {
       "description": "Annotate",
       "disabled": true,
       "layout": "IPY_MODEL_9a46305149814462a5a4cbfa431d2f7a",
       "style": "IPY_MODEL_d0c99f1c3f1441fc8913a4a1ad38f174",
       "tooltip": "Enter the key of the 'obs' annotation vector you wish to modify. If the key does not exist, a new vector in 'obs' will be created. Enter the label you want to annotate the selected cells with in the right."
      }
     },
     "22efe7800e774d74af961dc3da1667ac": {
      "model_module": "@jupyter-widgets/controls",
      "model_module_version": "1.5.0",
      "model_name": "ButtonStyleModel",
      "state": {}
     },
     "2457b51d9b0649c0892dcbcca42b6d6a": {
      "model_module": "@jupyter-widgets/controls",
      "model_module_version": "1.5.0",
      "model_name": "FloatSliderModel",
      "state": {
       "continuous_update": false,
       "layout": "IPY_MODEL_04c3c0e4f9174ae28cc6b9aad355d8b8",
       "max": 200,
       "min": 5,
       "readout_format": "d",
       "style": "IPY_MODEL_59afa967e81d4acc9a45aeffd46fe642",
       "value": 20
      }
     },
     "2472010e6e604c7295776484830af8fb": {
      "model_module": "@jupyter-widgets/controls",
      "model_module_version": "1.5.0",
      "model_name": "DropdownModel",
      "state": {
       "_options_labels": [
        "",
        "mask_genes",
        "spatial_dispersions",
        "weights"
       ],
       "index": 0,
       "layout": "IPY_MODEL_b502838766ae4676a2286d90c6aef0c1",
       "style": "IPY_MODEL_98efe329dfa94c678decef59ac47e0cf"
      }
     },
     "262ae786022144feb24c47a1ae56af8b": {
      "model_module": "@jupyter-widgets/controls",
      "model_module_version": "1.5.0",
      "model_name": "ButtonModel",
      "state": {
       "description": "Find markers (RF)",
       "layout": "IPY_MODEL_582a6199c5124979bf93f5ff8d79e629",
       "style": "IPY_MODEL_b94e421bc9804a5483d2492c39b8063b",
       "tooltip": "Identify marker genes of selected cells using a random forest classifier."
      }
     },
     "26945fcf16a046b89dac0c70954803d4": {
      "model_module": "@jupyter-widgets/base",
      "model_module_version": "1.2.0",
      "model_name": "LayoutModel",
      "state": {}
     },
     "2888dd43c76e4385b9afce8ae885214d": {
      "model_module": "@jupyter-widgets/controls",
      "model_module_version": "1.5.0",
      "model_name": "DropdownModel",
      "state": {
       "_options_labels": [
        "StandardScaler",
        "Normalizer",
        "None"
       ],
       "description": "Preprocessing:",
       "index": 1,
       "layout": "IPY_MODEL_bb72d3fef3cc415c91cddb871e52644b",
       "style": "IPY_MODEL_a03419223f2b4fb18eed03e7ef340bbd"
      }
     },
     "2958d5a966f04666b642aa6e059dc57d": {
      "model_module": "@jupyter-widgets/controls",
      "model_module_version": "1.5.0",
      "model_name": "HBoxModel",
      "state": {
       "children": [
        "IPY_MODEL_321b44bb30994e5aad7e7f4e7005a935",
        "IPY_MODEL_33563a7692e248bda6fa677c14d7366a"
       ],
       "layout": "IPY_MODEL_92ca14079e164c9a93c3d47955a085ad"
      }
     },
     "2a6af102c5c04945a58a0f4738bddbab": {
      "model_module": "@jupyter-widgets/controls",
      "model_module_version": "1.5.0",
      "model_name": "HBoxModel",
      "state": {
       "children": [
        "IPY_MODEL_262ae786022144feb24c47a1ae56af8b",
        "IPY_MODEL_2e3cef9cbd5e4ef5a6476dc91a94f6b7",
        "IPY_MODEL_685195224b5c41a296c2635aa98e193d"
       ],
       "layout": "IPY_MODEL_a2621b9752854fc5ac8321914a00710d"
      }
     },
     "2b03fdfb50c843c193a33a1284b2ad85": {
      "model_module": "@jupyter-widgets/base",
      "model_module_version": "1.2.0",
      "model_name": "LayoutModel",
      "state": {}
     },
     "2d50f7e842c940429f2ca37ef2ce1b2d": {
      "model_module": "@jupyter-widgets/controls",
      "model_module_version": "1.5.0",
      "model_name": "ButtonStyleModel",
      "state": {}
     },
     "2def83818ebf458083f0414fb20f4621": {
      "model_module": "@jupyter-widgets/controls",
      "model_module_version": "1.5.0",
      "model_name": "ButtonModel",
      "state": {
       "description": "Set defaults",
       "layout": "IPY_MODEL_3d9b9b643941461bbfbc5e1cef7c9be7",
       "style": "IPY_MODEL_5e584a170ba340f79ffeb697e0aa2b8a",
       "tooltip": "Set default options"
      }
     },
     "2e292ebc20104c15a0754cbc4788aec0": {
      "model_module": "@jupyter-widgets/controls",
      "model_module_version": "1.5.0",
      "model_name": "TextModel",
      "state": {
       "layout": "IPY_MODEL_e48173777d3f4dba95b306ebc10a052d",
       "style": "IPY_MODEL_88ed055614f74ab8afe4b98a86a92f97"
      }
     },
     "2e3cef9cbd5e4ef5a6476dc91a94f6b7": {
      "model_module": "@jupyter-widgets/controls",
      "model_module_version": "1.5.0",
      "model_name": "ButtonModel",
      "state": {
       "description": "Find markers (SW)",
       "layout": "IPY_MODEL_b27475e16dad4e17804d76ab0ffef04d",
       "style": "IPY_MODEL_44fd5414c4ee4ce6a3b4ac814640794d",
       "tooltip": "Identify marker genes of selected cells by finding genes with large SAM weights among the selected cells."
      }
     },
     "2f62843dceeb4f259380a78d468ad09b": {
      "model_module": "@jupyter-widgets/base",
      "model_module_version": "1.2.0",
      "model_name": "LayoutModel",
      "state": {}
     },
     "2fae823ba8f94ba084852646a7d1aca1": {
      "model_module": "@jupyter-widgets/base",
      "model_module_version": "1.2.0",
      "model_name": "LayoutModel",
      "state": {
       "width": "70%"
      }
     },
     "3123efe4b9c34f7eba40d578b40bfbfa": {
      "model_module": "@jupyter-widgets/controls",
      "model_module_version": "1.5.0",
      "model_name": "DescriptionStyleModel",
      "state": {
       "description_width": ""
      }
     },
     "3184e89c36624c37bff746fe0201b0e1": {
      "model_module": "@jupyter-widgets/controls",
      "model_module_version": "1.5.0",
      "model_name": "ButtonModel",
      "state": {
       "description": "Marker size",
       "disabled": true,
       "layout": "IPY_MODEL_b3f9097b9a2942faa9bb176c5dda39fc",
       "style": "IPY_MODEL_7ffcb71b59a847f1809c93eab3e64194",
       "tooltip": "Changes the marker sizes in the current plot."
      }
     },
     "321b44bb30994e5aad7e7f4e7005a935": {
      "model_module": "@jupyter-widgets/controls",
      "model_module_version": "1.5.0",
      "model_name": "ButtonModel",
      "state": {
       "description": "Run SAM",
       "layout": "IPY_MODEL_86c0477846bd4af9a7a915a9d817be2f",
       "style": "IPY_MODEL_dfc19470d0c045eb89d3d34f9a9f413c",
       "tooltip": "Run SAM on the currently selected cells. Enter the title of the new tab in the text box on the right"
      }
     },
     "33563a7692e248bda6fa677c14d7366a": {
      "model_module": "@jupyter-widgets/controls",
      "model_module_version": "1.5.0",
      "model_name": "TextModel",
      "state": {
       "layout": "IPY_MODEL_8b7eb868b45c4ac080e30272980f4f6a",
       "style": "IPY_MODEL_ab1288fc1a684600b9e1c7b9bfb1048d"
      }
     },
     "353130ca3b244fb2a1d3af10637410a8": {
      "model_module": "@jupyter-widgets/controls",
      "model_module_version": "1.5.0",
      "model_name": "SliderStyleModel",
      "state": {
       "description_width": "initial"
      }
     },
     "360cb635b7dc4c8b9f32c710f63c0b98": {
      "model_module": "@jupyter-widgets/base",
      "model_module_version": "1.2.0",
      "model_name": "LayoutModel",
      "state": {}
     },
     "38eea21417054494af1a66cddf9b9f1b": {
      "model_module": "@jupyter-widgets/controls",
      "model_module_version": "1.5.0",
      "model_name": "ButtonStyleModel",
      "state": {}
     },
     "3a82aae0ea604c68a5ba96b9352567de": {
      "model_module": "@jupyter-widgets/base",
      "model_module_version": "1.2.0",
      "model_name": "LayoutModel",
      "state": {}
     },
     "3bdf4c3251c44d279fbb4141631aa7c7": {
      "model_module": "@jupyter-widgets/controls",
      "model_module_version": "1.5.0",
      "model_name": "DescriptionStyleModel",
      "state": {
       "description_width": ""
      }
     },
     "3d9b9b643941461bbfbc5e1cef7c9be7": {
      "model_module": "@jupyter-widgets/base",
      "model_module_version": "1.2.0",
      "model_name": "LayoutModel",
      "state": {}
     },
     "3effcb7cff9a479c87be1d99f7a13d0e": {
      "model_module": "@jupyter-widgets/controls",
      "model_module_version": "1.5.0",
      "model_name": "ButtonStyleModel",
      "state": {}
     },
     "42c3b3b3cb5d439abac74096350d8e00": {
      "model_module": "@jupyter-widgets/controls",
      "model_module_version": "1.5.0",
      "model_name": "SliderStyleModel",
      "state": {
       "description_width": "initial"
      }
     },
     "44fd5414c4ee4ce6a3b4ac814640794d": {
      "model_module": "@jupyter-widgets/controls",
      "model_module_version": "1.5.0",
      "model_name": "ButtonStyleModel",
      "state": {}
     },
     "4a60c4d09a47431592669ef110ced84f": {
      "model_module": "@jupyter-widgets/base",
      "model_module_version": "1.2.0",
      "model_name": "LayoutModel",
      "state": {}
     },
     "4bda764462084e56a2a41461cb574488": {
      "model_module": "@jupyter-widgets/controls",
      "model_module_version": "1.5.0",
      "model_name": "ButtonModel",
      "state": {
       "description": "Show expressions",
       "disabled": true,
       "layout": "IPY_MODEL_e279f2eb2a794ba788ceb4fc5add402f",
       "style": "IPY_MODEL_a6c06343d4a84f58be5537bc4e675b99",
       "tooltip": "Overlay the input gene expressions over the scatter plot. Only a substring of the gene need be provided."
      }
     },
     "4d7804c5b4a24e33b3ffe09e8675f44c": {
      "model_module": "@jupyter-widgets/base",
      "model_module_version": "1.2.0",
      "model_name": "LayoutModel",
      "state": {
       "width": "30%"
      }
     },
     "4ef6fed703f6493183e608cf97a50144": {
      "model_module": "@jupyter-widgets/controls",
      "model_module_version": "1.5.0",
      "model_name": "ButtonStyleModel",
      "state": {}
     },
     "4f22cd418fbf4db592dc7a98fa2e890e": {
      "model_module": "@jupyter-widgets/base",
      "model_module_version": "1.2.0",
      "model_name": "LayoutModel",
      "state": {}
     },
     "4f7836e94e5f43b8b654e345f00a9392": {
      "model_module": "@jupyter-widgets/controls",
      "model_module_version": "1.5.0",
      "model_name": "FloatSliderModel",
      "state": {
       "layout": "IPY_MODEL_078e6b57fd44428a841cd68cf2652771",
       "max": 0,
       "step": 0.05,
       "style": "IPY_MODEL_57ac8afdcee642cba9748b0ed823663d"
      }
     },
     "507e47378f0e448d990da21126c2d268": {
      "model_module": "@jupyter-widgets/base",
      "model_module_version": "1.2.0",
      "model_name": "LayoutModel",
      "state": {}
     },
     "50bc2ee0aeea4e41a65182e0bd3dfe3f": {
      "model_module": "@jupyter-widgets/base",
      "model_module_version": "1.2.0",
      "model_name": "LayoutModel",
      "state": {}
     },
     "51a0db97318d4767b5f411801ae5daa4": {
      "model_module": "@jupyter-widgets/controls",
      "model_module_version": "1.5.0",
      "model_name": "HBoxModel",
      "state": {
       "children": [
        "IPY_MODEL_529abfd2500d4c36bcbf07cf59e1d349",
        "IPY_MODEL_f4224337f46841af9d6950fa721d65ea"
       ],
       "layout": "IPY_MODEL_7a52ce0595b64606a416b2e95420bf30"
      }
     },
     "529abfd2500d4c36bcbf07cf59e1d349": {
      "model_module": "@jupyter-widgets/controls",
      "model_module_version": "1.5.0",
      "model_name": "ButtonModel",
      "state": {
       "description": "Get similar genes",
       "disabled": true,
       "layout": "IPY_MODEL_cc8b54ceda3d453a9a98c49080cda741",
       "style": "IPY_MODEL_2d50f7e842c940429f2ca37ef2ce1b2d",
       "tooltip": "Rank genes in order of decreasing spatially averaged correlation with respect to the input gene."
      }
     },
     "52bd93ecc635475d8f7fb70c31a75a55": {
      "model_module": "@jupyter-widgets/controls",
      "model_module_version": "1.5.0",
      "model_name": "DropdownModel",
      "state": {
       "_options_labels": [
        "",
        "annotation"
       ],
       "index": 0,
       "layout": "IPY_MODEL_19e5c10a8d9a41d88d21c72ce9e383a9",
       "style": "IPY_MODEL_1882becedfeb41128235cb642759fc28"
      }
     },
     "54ca20027b974d99aa628b6ff2d6d09e": {
      "model_module": "@jupyter-widgets/controls",
      "model_module_version": "1.5.0",
      "model_name": "TextModel",
      "state": {
       "layout": "IPY_MODEL_b600ee74216b4cd29769938dbe12d024",
       "style": "IPY_MODEL_847fefc4b9e54e1fa3026c59f3ff12c1"
      }
     },
     "55b6ee740ca340488dbf292b764c6c76": {
      "model_module": "@jupyter-widgets/controls",
      "model_module_version": "1.5.0",
      "model_name": "ButtonModel",
      "state": {
       "description": "Set defaults",
       "layout": "IPY_MODEL_b662febe29ae45a48e2b11a2f02e0610",
       "style": "IPY_MODEL_6c695b0007464444a781aecb7d5763e3",
       "tooltip": "Set default options"
      }
     },
     "57ac8afdcee642cba9748b0ed823663d": {
      "model_module": "@jupyter-widgets/controls",
      "model_module_version": "1.5.0",
      "model_name": "SliderStyleModel",
      "state": {
       "description_width": "initial"
      }
     },
     "57be928086ea4e0d8e670640fa365650": {
      "model_module": "@jupyter-widgets/base",
      "model_module_version": "1.2.0",
      "model_name": "LayoutModel",
      "state": {}
     },
     "57e632e42b794c16bd2d0c7f5013e61f": {
      "model_module": "@jupyter-widgets/controls",
      "model_module_version": "1.5.0",
      "model_name": "ButtonModel",
      "state": {
       "description": "# genes:",
       "disabled": true,
       "layout": "IPY_MODEL_b557e2cd75704d96b2fa5faa5abfe1cf",
       "style": "IPY_MODEL_d75bd1d359504263912045daa583f3f9",
       "tooltip": "The number of highest-weighted genes to select each iteration of SAM."
      }
     },
     "5825b810524b4dab8a3e8efc3457334c": {
      "model_module": "@jupyter-widgets/controls",
      "model_module_version": "1.5.0",
      "model_name": "ButtonStyleModel",
      "state": {}
     },
     "582a6199c5124979bf93f5ff8d79e629": {
      "model_module": "@jupyter-widgets/base",
      "model_module_version": "1.2.0",
      "model_name": "LayoutModel",
      "state": {
       "width": "40%"
      }
     },
     "59afa967e81d4acc9a45aeffd46fe642": {
      "model_module": "@jupyter-widgets/controls",
      "model_module_version": "1.5.0",
      "model_name": "SliderStyleModel",
      "state": {
       "description_width": "initial"
      }
     },
     "5ce2a4c1c2f7418e90848879856ad41a": {
      "model_module": "@jupyter-widgets/controls",
      "model_module_version": "1.5.0",
      "model_name": "DescriptionStyleModel",
      "state": {
       "description_width": "initial"
      }
     },
     "5d60001db6c940628cc7044fd1216126": {
      "model_module": "@jupyter-widgets/controls",
      "model_module_version": "1.5.0",
      "model_name": "DescriptionStyleModel",
      "state": {
       "description_width": ""
      }
     },
     "5dc2f678d37041c99864dccc4999be91": {
      "model_module": "@jupyter-widgets/controls",
      "model_module_version": "1.5.0",
      "model_name": "ButtonModel",
      "state": {
       "description": "Opacity",
       "disabled": true,
       "layout": "IPY_MODEL_99ffa738399f44f8a29e037ddf77dd25",
       "style": "IPY_MODEL_4ef6fed703f6493183e608cf97a50144",
       "tooltip": "Changes the opacities of unselected points in the current plot."
      }
     },
     "5dcd01dca9b04e15a075e0787a5b0ca1": {
      "model_module": "@jupyter-widgets/controls",
      "model_module_version": "1.5.0",
      "model_name": "FloatSliderModel",
      "state": {
       "layout": "IPY_MODEL_f2436e2b6c2349728934f436bcb2b4d0",
       "max": 1,
       "readout_format": "2f",
       "step": 0.01,
       "style": "IPY_MODEL_42c3b3b3cb5d439abac74096350d8e00",
       "value": 0.5
      }
     },
     "5e584a170ba340f79ffeb697e0aa2b8a": {
      "model_module": "@jupyter-widgets/controls",
      "model_module_version": "1.5.0",
      "model_name": "ButtonStyleModel",
      "state": {}
     },
     "5f25ee81a8a3438b9ca5244d05c400b8": {
      "model_module": "@jupyter-widgets/base",
      "model_module_version": "1.2.0",
      "model_name": "LayoutModel",
      "state": {
       "width": "30%"
      }
     },
     "5f6f5179239a4761ad51ea4b67493fc4": {
      "model_module": "@jupyter-widgets/controls",
      "model_module_version": "1.5.0",
      "model_name": "ButtonModel",
      "state": {
       "description": "# neighbors:",
       "disabled": true,
       "layout": "IPY_MODEL_170e96feeeba42979deab9bbe2a72a86",
       "style": "IPY_MODEL_d44f71893b6c441c95cb308cd95a147b",
       "tooltip": "The number of nearest neighbors to identify for each cell."
      }
     },
     "5ff53f8c53f34d9d891b0929a80a2562": {
      "model_module": "@jupyter-widgets/base",
      "model_module_version": "1.2.0",
      "model_name": "LayoutModel",
      "state": {}
     },
     "600009233969470db2b157fdc6bb1d5a": {
      "model_module": "@jupyter-widgets/controls",
      "model_module_version": "1.5.0",
      "model_name": "ButtonModel",
      "state": {
       "description": "Close current tab",
       "layout": "IPY_MODEL_83498d92d10342ed810ee2258ac01ead",
       "style": "IPY_MODEL_3effcb7cff9a479c87be1d99f7a13d0e",
       "tooltip": "Closes the currently open subclustering tab."
      }
     },
     "60d5f44cf6714fedab635a99c3db9861": {
      "model_module": "@jupyter-widgets/controls",
      "model_module_version": "1.5.0",
      "model_name": "ButtonStyleModel",
      "state": {}
     },
     "6509772812d14e198c30aa10001cf9f4": {
      "model_module": "@jupyter-widgets/base",
      "model_module_version": "1.2.0",
      "model_name": "LayoutModel",
      "state": {
       "width": "70%"
      }
     },
     "66ce9a735a5c4afe807f2d049b6683a3": {
      "model_module": "@jupyter-widgets/controls",
      "model_module_version": "1.5.0",
      "model_name": "HBoxModel",
      "state": {
       "children": [
        "IPY_MODEL_741efeb8e10e4da9ba1de7618b359c2a",
        "IPY_MODEL_4f7836e94e5f43b8b654e345f00a9392"
       ],
       "layout": "IPY_MODEL_d7f436a3d2da4658a456264e5cd658e9"
      }
     },
     "6822d346e007471b859608baa728d651": {
      "model_module": "@jupyter-widgets/controls",
      "model_module_version": "1.5.0",
      "model_name": "FloatSliderModel",
      "state": {
       "continuous_update": false,
       "layout": "IPY_MODEL_d047496f93ef40739ac612301a67e3aa",
       "max": 10,
       "min": 0.1,
       "readout_format": "2f",
       "step": 0.1,
       "style": "IPY_MODEL_9b1b1d6f6eaa42c8b3c16cc3f18dec74",
       "value": 1
      }
     },
     "682c179c3aa043c2a475e0206ab1d4c4": {
      "model_module": "@jupyter-widgets/base",
      "model_module_version": "1.2.0",
      "model_name": "LayoutModel",
      "state": {
       "width": "60%"
      }
     },
     "685195224b5c41a296c2635aa98e193d": {
      "model_module": "@jupyter-widgets/controls",
      "model_module_version": "1.5.0",
      "model_name": "CheckboxModel",
      "state": {
       "description": "Avg expr",
       "disabled": false,
       "layout": "IPY_MODEL_1d7955b51b20484ea566c3f829e1359b",
       "style": "IPY_MODEL_80e5e9ce14b74f429d9f0aa8ef1d4af5",
       "value": true
      }
     },
     "6998b909cd7f49949d40847426d34893": {
      "model_module": "@jupyter-widgets/controls",
      "model_module_version": "1.5.0",
      "model_name": "HBoxModel",
      "state": {
       "children": [
        "IPY_MODEL_2def83818ebf458083f0414fb20f4621",
        "IPY_MODEL_7232a99e0fce42dd8400c4463c7772e7"
       ],
       "layout": "IPY_MODEL_79bbf4fe41fd4cacb1d6d6b25bee525f"
      }
     },
     "6b34ba39b25b4cc9bf80e8f1f4a1068e": {
      "model_module": "@jupyter-widgets/controls",
      "model_module_version": "1.5.0",
      "model_name": "HBoxModel",
      "state": {
       "children": [
        "IPY_MODEL_b2f5315489ba403395b29ce803a54118",
        "IPY_MODEL_1a0af1638fc54fbcb45ae905f9ca6126"
       ],
       "layout": "IPY_MODEL_ec0226f9ffe24c6c82d7f76bbcfe1ce9"
      }
     },
     "6c695b0007464444a781aecb7d5763e3": {
      "model_module": "@jupyter-widgets/controls",
      "model_module_version": "1.5.0",
      "model_name": "ButtonStyleModel",
      "state": {}
     },
     "6ca8456e66174b7db68e7d33050509ad": {
      "model_module": "@jupyter-widgets/controls",
      "model_module_version": "1.5.0",
      "model_name": "HBoxModel",
      "state": {
       "children": [
        "IPY_MODEL_0d8f22cfda1440a7a6336ac1f29ffc5d",
        "IPY_MODEL_2472010e6e604c7295776484830af8fb"
       ],
       "layout": "IPY_MODEL_4a60c4d09a47431592669ef110ced84f"
      }
     },
     "6d43bff5f2dc43df9c3e575f0bfb8d5b": {
      "model_module": "@jupyter-widgets/controls",
      "model_module_version": "1.5.0",
      "model_name": "ButtonModel",
      "state": {
       "description": "Process data",
       "layout": "IPY_MODEL_090261b7edd848e8b7906e5c13bd0276",
       "style": "IPY_MODEL_097ba0157c4f47619cfbee019a68c759",
       "tooltip": "Process data"
      }
     },
     "6d88eef5ad35460795da46b3695098fc": {
      "model_module": "@jupyter-widgets/controls",
      "model_module_version": "1.5.0",
      "model_name": "DropdownModel",
      "state": {
       "_options_labels": [
        "X_pca",
        "X_umap"
       ],
       "index": 1,
       "layout": "IPY_MODEL_682c179c3aa043c2a475e0206ab1d4c4",
       "style": "IPY_MODEL_e2749106fb924e08b773b7177f97b889"
      }
     },
     "714fa018d68e482790c7b228bf6c0290": {
      "model_module": "@jupyter-widgets/controls",
      "model_module_version": "1.5.0",
      "model_name": "LabelModel",
      "state": {
       "layout": "IPY_MODEL_c427a44c479d4f2696c6ecce26d98a0f",
       "style": "IPY_MODEL_3123efe4b9c34f7eba40d578b40bfbfa",
       "value": "Leiden 'res'"
      }
     },
     "7232a99e0fce42dd8400c4463c7772e7": {
      "model_module": "@jupyter-widgets/controls",
      "model_module_version": "1.5.0",
      "model_name": "CheckboxModel",
      "state": {
       "description": "Filter genes",
       "disabled": false,
       "layout": "IPY_MODEL_d3a010bc7b8643c79947b597d0acea05",
       "style": "IPY_MODEL_729a789150c641bc908ab314c3e45461",
       "value": true
      }
     },
     "729a789150c641bc908ab314c3e45461": {
      "model_module": "@jupyter-widgets/controls",
      "model_module_version": "1.5.0",
      "model_name": "DescriptionStyleModel",
      "state": {
       "description_width": ""
      }
     },
     "72fd699e9dbb40e29cc30513d11f6c7c": {
      "model_module": "@jupyter-widgets/controls",
      "model_module_version": "1.5.0",
      "model_name": "SliderStyleModel",
      "state": {
       "description_width": "initial"
      }
     },
     "741efeb8e10e4da9ba1de7618b359c2a": {
      "model_module": "@jupyter-widgets/controls",
      "model_module_version": "1.5.0",
      "model_name": "ButtonModel",
      "state": {
       "description": "Threshold expr",
       "disabled": true,
       "layout": "IPY_MODEL_5f25ee81a8a3438b9ca5244d05c400b8",
       "style": "IPY_MODEL_ee8772c4467847fb968acb2efcde717c",
       "tooltip": "Select genes with greater than the chosen expression threshold."
      }
     },
     "743ef0c5420c4300ae455d243b14b9e5": {
      "model_module": "@jupyter-widgets/controls",
      "model_module_version": "1.5.0",
      "model_name": "TabModel",
      "state": {
       "_titles": {
        "0": "Interact",
        "1": "Run SAM",
        "2": "Preprocess data"
       },
       "children": [
        "IPY_MODEL_01675677792f463e8bf464b182a19393",
        "IPY_MODEL_90efaa02902749cc8289f14c53ba1947",
        "IPY_MODEL_dec701807b1841c6b79afbba5f448e4e"
       ],
       "layout": "IPY_MODEL_3a82aae0ea604c68a5ba96b9352567de"
      }
     },
     "76d7ccb7391f45eea9a167298f25dc03": {
      "model_module": "@jupyter-widgets/controls",
      "model_module_version": "1.5.0",
      "model_name": "DescriptionStyleModel",
      "state": {
       "description_width": "initial"
      }
     },
     "7737f20c654d43cfad33e45257999aa0": {
      "model_module": "@jupyter-widgets/controls",
      "model_module_version": "1.5.0",
      "model_name": "HBoxModel",
      "state": {
       "children": [
        "IPY_MODEL_8e1bc5b08f1f4551bb90e4f3b1be800f",
        "IPY_MODEL_a3c9b6d32c7f4288ab2f374ea78992bf"
       ],
       "layout": "IPY_MODEL_57be928086ea4e0d8e670640fa365650"
      }
     },
     "777152aca566453dac2b6d2a9b636d53": {
      "model_module": "@jupyter-widgets/base",
      "model_module_version": "1.2.0",
      "model_name": "LayoutModel",
      "state": {}
     },
     "78fa86bd19474d5eb7eeb73e61234e50": {
      "model_module": "@jupyter-widgets/base",
      "model_module_version": "1.2.0",
      "model_name": "LayoutModel",
      "state": {}
     },
     "79bbf4fe41fd4cacb1d6d6b25bee525f": {
      "model_module": "@jupyter-widgets/base",
      "model_module_version": "1.2.0",
      "model_name": "LayoutModel",
      "state": {}
     },
     "7a52ce0595b64606a416b2e95420bf30": {
      "model_module": "@jupyter-widgets/base",
      "model_module_version": "1.2.0",
      "model_name": "LayoutModel",
      "state": {}
     },
     "7b459fab59be472b80e43139efd22b38": {
      "model_module": "@jupyter-widgets/base",
      "model_module_version": "1.2.0",
      "model_name": "LayoutModel",
      "state": {}
     },
     "7c7bfc0904274005b7f8775428e92028": {
      "model_module": "@jupyter-widgets/controls",
      "model_module_version": "1.5.0",
      "model_name": "HBoxModel",
      "state": {
       "children": [
        "IPY_MODEL_d3faa44a512246f6bb699bc625397403",
        "IPY_MODEL_0656560f2400421c87f12b6505474415",
        "IPY_MODEL_dcc0d740d11c4bb1a97a299d2f24b3f0"
       ],
       "layout": "IPY_MODEL_e8d991f691f4430f85e7f98f9a0cf0df"
      }
     },
     "7ffcb71b59a847f1809c93eab3e64194": {
      "model_module": "@jupyter-widgets/controls",
      "model_module_version": "1.5.0",
      "model_name": "ButtonStyleModel",
      "state": {}
     },
     "804bc87615344cd3860679d1a99f0792": {
      "model_module": "@jupyter-widgets/base",
      "model_module_version": "1.2.0",
      "model_name": "LayoutModel",
      "state": {}
     },
     "80a00faf7284491ebd4cdf3a7aa5d2e3": {
      "model_module": "@jupyter-widgets/controls",
      "model_module_version": "1.5.0",
      "model_name": "SliderStyleModel",
      "state": {
       "description_width": "initial"
      }
     },
     "80e5e9ce14b74f429d9f0aa8ef1d4af5": {
      "model_module": "@jupyter-widgets/controls",
      "model_module_version": "1.5.0",
      "model_name": "DescriptionStyleModel",
      "state": {
       "description_width": ""
      }
     },
     "83498d92d10342ed810ee2258ac01ead": {
      "model_module": "@jupyter-widgets/base",
      "model_module_version": "1.2.0",
      "model_name": "LayoutModel",
      "state": {}
     },
     "847fefc4b9e54e1fa3026c59f3ff12c1": {
      "model_module": "@jupyter-widgets/controls",
      "model_module_version": "1.5.0",
      "model_name": "DescriptionStyleModel",
      "state": {
       "description_width": ""
      }
     },
     "85c041a13b71433d84fd4633b7196785": {
      "model_module": "@jupyter-widgets/controls",
      "model_module_version": "1.5.0",
      "model_name": "DescriptionStyleModel",
      "state": {
       "description_width": "initial"
      }
     },
     "86c0477846bd4af9a7a915a9d817be2f": {
      "model_module": "@jupyter-widgets/base",
      "model_module_version": "1.2.0",
      "model_name": "LayoutModel",
      "state": {}
     },
     "86fff6ce0a5a4eb093adc250cab21377": {
      "model_module": "@jupyter-widgets/controls",
      "model_module_version": "1.5.0",
      "model_name": "DropdownModel",
      "state": {
       "_options_labels": [
        "UMAP",
        "t-SNE",
        "Diffusion map",
        "Diffusion UMAP"
       ],
       "index": 0,
       "layout": "IPY_MODEL_1a11dd9f18ea4a4bb2899f93f08620e8",
       "style": "IPY_MODEL_a4f58aa6c59640ca97f85a400e77df92"
      }
     },
     "88ed055614f74ab8afe4b98a86a92f97": {
      "model_module": "@jupyter-widgets/controls",
      "model_module_version": "1.5.0",
      "model_name": "DescriptionStyleModel",
      "state": {
       "description_width": ""
      }
     },
     "891eddbae91446079f66b55c4ac2cc37": {
      "model_module": "@jupyter-widgets/base",
      "model_module_version": "1.2.0",
      "model_name": "LayoutModel",
      "state": {}
     },
     "892849d4ab2f47c8925fb60248cb45a9": {
      "model_module": "@jupyter-widgets/controls",
      "model_module_version": "1.5.0",
      "model_name": "SliderStyleModel",
      "state": {
       "description_width": "initial"
      }
     },
     "8a1b35f6814042a0bc293a14372d7c68": {
      "model_module": "@jupyter-widgets/controls",
      "model_module_version": "1.5.0",
      "model_name": "ButtonStyleModel",
      "state": {}
     },
     "8b7eb868b45c4ac080e30272980f4f6a": {
      "model_module": "@jupyter-widgets/base",
      "model_module_version": "1.2.0",
      "model_name": "LayoutModel",
      "state": {}
     },
     "8c89cd4a1909402b86ebc5cdb8ca0d84": {
      "model_module": "@jupyter-widgets/base",
      "model_module_version": "1.2.0",
      "model_name": "LayoutModel",
      "state": {
       "width": "30%"
      }
     },
     "8e1bc5b08f1f4551bb90e4f3b1be800f": {
      "model_module": "@jupyter-widgets/controls",
      "model_module_version": "1.5.0",
      "model_name": "ButtonModel",
      "state": {
       "description": "Save",
       "disabled": true,
       "layout": "IPY_MODEL_8c89cd4a1909402b86ebc5cdb8ca0d84",
       "style": "IPY_MODEL_22efe7800e774d74af961dc3da1667ac",
       "tooltip": "Save the current SAM object. Filenames should end with .h5ad or .p."
      }
     },
     "8f3a1737b0b6447fb15dff7c26c147af": {
      "model_module": "@jupyter-widgets/base",
      "model_module_version": "1.2.0",
      "model_name": "LayoutModel",
      "state": {
       "width": "40%"
      }
     },
     "8f55fa68985e44c4b88fcc9ca27a293d": {
      "model_module": "@jupyter-widgets/controls",
      "model_module_version": "1.5.0",
      "model_name": "DropdownModel",
      "state": {
       "_options_labels": [
        "correlation",
        "euclidean"
       ],
       "description": "Distance:",
       "index": 0,
       "layout": "IPY_MODEL_c6de6a227add47f08d2eb7aacc6237ad",
       "style": "IPY_MODEL_85c041a13b71433d84fd4633b7196785"
      }
     },
     "904260cac8f04fe8b075df87f5843a61": {
      "model_module": "@jupyter-widgets/base",
      "model_module_version": "1.2.0",
      "model_name": "LayoutModel",
      "state": {}
     },
     "90efaa02902749cc8289f14c53ba1947": {
      "model_module": "@jupyter-widgets/controls",
      "model_module_version": "1.5.0",
      "model_name": "VBoxModel",
      "state": {
       "children": [
        "IPY_MODEL_2958d5a966f04666b642aa6e059dc57d",
        "IPY_MODEL_f84df008c4cf45c7a47de6140078839b",
        "IPY_MODEL_b02aabd6e2c34a8ab106b91b4ed5642d",
        "IPY_MODEL_0ceb7e6f27704af783e69ed17437a4c2",
        "IPY_MODEL_9102f8b0ab1f417d922859bf6a3ac199",
        "IPY_MODEL_b46210efdd1945899fb401a5f3a1efb8",
        "IPY_MODEL_2888dd43c76e4385b9afce8ae885214d",
        "IPY_MODEL_8f55fa68985e44c4b88fcc9ca27a293d",
        "IPY_MODEL_9fdadd34bb7a452bb57a1996a645ed82"
       ],
       "layout": "IPY_MODEL_eca9776ea4e54806b12613978f17d585"
      }
     },
     "9102f8b0ab1f417d922859bf6a3ac199": {
      "model_module": "@jupyter-widgets/controls",
      "model_module_version": "1.5.0",
      "model_name": "HBoxModel",
      "state": {
       "children": [
        "IPY_MODEL_5f6f5179239a4761ad51ea4b67493fc4",
        "IPY_MODEL_2457b51d9b0649c0892dcbcca42b6d6a"
       ],
       "layout": "IPY_MODEL_50bc2ee0aeea4e41a65182e0bd3dfe3f"
      }
     },
     "926d3ea69ebf4aa696590e91a8326cd0": {
      "model_module": "@jupyter-widgets/controls",
      "model_module_version": "1.5.0",
      "model_name": "DescriptionStyleModel",
      "state": {
       "description_width": ""
      }
     },
     "92ca14079e164c9a93c3d47955a085ad": {
      "model_module": "@jupyter-widgets/base",
      "model_module_version": "1.2.0",
      "model_name": "LayoutModel",
      "state": {}
     },
     "94598849e01c4540b93b71ac27185958": {
      "model_module": "@jupyter-widgets/base",
      "model_module_version": "1.2.0",
      "model_name": "LayoutModel",
      "state": {}
     },
     "947e2bec05c5429285f97981aa711a4d": {
      "model_module": "@jupyter-widgets/controls",
      "model_module_version": "1.5.0",
      "model_name": "HBoxModel",
      "state": {
       "children": [
        "IPY_MODEL_94d5aa7010cb42a091fc10b000afd699",
        "IPY_MODEL_f709e29297f04f19856bacbf11151b39"
       ],
       "layout": "IPY_MODEL_891eddbae91446079f66b55c4ac2cc37"
      }
     },
     "94d5aa7010cb42a091fc10b000afd699": {
      "model_module": "@jupyter-widgets/controls",
      "model_module_version": "1.5.0",
      "model_name": "LabelModel",
      "state": {
       "layout": "IPY_MODEL_1c3c497be4624eb8b9a5ae61e7f854b3",
       "style": "IPY_MODEL_d6f6cb21a24549b29726105246a03b97",
       "value": "Expr threshold:"
      }
     },
     "964da8ecc9014926ad8eabe30d68704b": {
      "model_module": "@jupyter-widgets/base",
      "model_module_version": "1.2.0",
      "model_name": "LayoutModel",
      "state": {}
     },
     "9719e89721d64671a22ebe285ccf1b13": {
      "model_module": "@jupyter-widgets/controls",
      "model_module_version": "1.5.0",
      "model_name": "ButtonModel",
      "state": {
       "description": "Ranked genes",
       "disabled": true,
       "layout": "IPY_MODEL_4d7804c5b4a24e33b3ffe09e8675f44c",
       "style": "IPY_MODEL_5825b810524b4dab8a3e8efc3457334c",
       "tooltip": "Genes ranked by SAM weights."
      }
     },
     "98cf9e73e0d04fb5a9dbd8683df1f903": {
      "model_module": "@jupyter-widgets/base",
      "model_module_version": "1.2.0",
      "model_name": "LayoutModel",
      "state": {
       "width": "70%"
      }
     },
     "98efe329dfa94c678decef59ac47e0cf": {
      "model_module": "@jupyter-widgets/controls",
      "model_module_version": "1.5.0",
      "model_name": "DescriptionStyleModel",
      "state": {
       "description_width": ""
      }
     },
     "99913007312a46b1aa50d5ae81e5fa19": {
      "model_module": "@jupyter-widgets/controls",
      "model_module_version": "1.5.0",
      "model_name": "ButtonModel",
      "state": {
       "description": "num_norm_avg:",
       "disabled": true,
       "layout": "IPY_MODEL_f75585c627bf429485e7a5bc1b296215",
       "style": "IPY_MODEL_60d5f44cf6714fedab635a99c3db9861",
       "tooltip": "The top 'num_norm_avg' dispersions are averaged to determine the normalization factor when calculating the weights. This prevents genes with large spatial dispersions from skewing the distribution of weights."
      }
     },
     "99ffa738399f44f8a29e037ddf77dd25": {
      "model_module": "@jupyter-widgets/base",
      "model_module_version": "1.2.0",
      "model_name": "LayoutModel",
      "state": {
       "width": "30%"
      }
     },
     "9a46305149814462a5a4cbfa431d2f7a": {
      "model_module": "@jupyter-widgets/base",
      "model_module_version": "1.2.0",
      "model_name": "LayoutModel",
      "state": {
       "width": "20%"
      }
     },
     "9b0260d524c245a28c44544789f54334": {
      "model_module": "@jupyter-widgets/controls",
      "model_module_version": "1.5.0",
      "model_name": "DropdownModel",
      "state": {
       "_options_labels": [
        "log",
        "ftt",
        "None"
       ],
       "description": "Data normalization:",
       "index": 0,
       "layout": "IPY_MODEL_036d9bc2204a4996ab46878220f859da",
       "style": "IPY_MODEL_76d7ccb7391f45eea9a167298f25dc03"
      }
     },
     "9b1b1d6f6eaa42c8b3c16cc3f18dec74": {
      "model_module": "@jupyter-widgets/controls",
      "model_module_version": "1.5.0",
      "model_name": "SliderStyleModel",
      "state": {
       "description_width": "initial"
      }
     },
     "9c37edde094a48c497041e9c05170522": {
      "model_module": "@jupyter-widgets/base",
      "model_module_version": "1.2.0",
      "model_name": "LayoutModel",
      "state": {}
     },
     "9fdadd34bb7a452bb57a1996a645ed82": {
      "model_module": "@jupyter-widgets/controls",
      "model_module_version": "1.5.0",
      "model_name": "DropdownModel",
      "state": {
       "_options_labels": [
        "umap",
        "tsne",
        "diff_umap"
       ],
       "description": "Projection:",
       "index": 0,
       "layout": "IPY_MODEL_777152aca566453dac2b6d2a9b636d53",
       "style": "IPY_MODEL_5ce2a4c1c2f7418e90848879856ad41a"
      }
     },
     "a03419223f2b4fb18eed03e7ef340bbd": {
      "model_module": "@jupyter-widgets/controls",
      "model_module_version": "1.5.0",
      "model_name": "DescriptionStyleModel",
      "state": {
       "description_width": "initial"
      }
     },
     "a05fd277e89046d1bca34fc11f8a5a5f": {
      "model_module": "@jupyter-widgets/controls",
      "model_module_version": "1.5.0",
      "model_name": "ButtonModel",
      "state": {
       "description": "Display projection",
       "layout": "IPY_MODEL_ce34feced3a6422397b182dbc0c592a2",
       "style": "IPY_MODEL_1644b9b6840240118cdaabcd7e52c9a8",
       "tooltip": "Display the 2D projection selected in the dropdown menu to the left."
      }
     },
     "a1a057919060416e889c6914a405a0b5": {
      "model_module": "@jupyter-widgets/controls",
      "model_module_version": "1.5.0",
      "model_name": "CheckboxModel",
      "state": {
       "description": "Weight PCs",
       "disabled": false,
       "layout": "IPY_MODEL_ba9721633795443894f2a7865d6ef32b",
       "style": "IPY_MODEL_5d60001db6c940628cc7044fd1216126",
       "value": true
      }
     },
     "a2621b9752854fc5ac8321914a00710d": {
      "model_module": "@jupyter-widgets/base",
      "model_module_version": "1.2.0",
      "model_name": "LayoutModel",
      "state": {}
     },
     "a29a270a3530408f90a6643ca101f588": {
      "model_module": "@jupyter-widgets/controls",
      "model_module_version": "1.5.0",
      "model_name": "TextModel",
      "state": {
       "layout": "IPY_MODEL_cba8b1db24fd48a18349703ef4b5bb20",
       "style": "IPY_MODEL_b1282b4394a9475a9487984ed7b8a492"
      }
     },
     "a3c9b6d32c7f4288ab2f374ea78992bf": {
      "model_module": "@jupyter-widgets/controls",
      "model_module_version": "1.5.0",
      "model_name": "TextModel",
      "state": {
       "layout": "IPY_MODEL_98cf9e73e0d04fb5a9dbd8683df1f903",
       "style": "IPY_MODEL_de41b57532d04600a5fd28e67c0298fa"
      }
     },
     "a3d9cfbaf646458595c1267b7a021720": {
      "model_module": "@jupyter-widgets/controls",
      "model_module_version": "1.5.0",
      "model_name": "HBoxModel",
      "state": {
       "children": [
        "IPY_MODEL_5dc2f678d37041c99864dccc4999be91",
        "IPY_MODEL_5dcd01dca9b04e15a075e0787a5b0ca1"
       ],
       "layout": "IPY_MODEL_904260cac8f04fe8b075df87f5843a61"
      }
     },
     "a49f303efbe042c99e88e89dfab5de36": {
      "model_module": "@jupyter-widgets/base",
      "model_module_version": "1.2.0",
      "model_name": "LayoutModel",
      "state": {}
     },
     "a4f58aa6c59640ca97f85a400e77df92": {
      "model_module": "@jupyter-widgets/controls",
      "model_module_version": "1.5.0",
      "model_name": "DescriptionStyleModel",
      "state": {
       "description_width": ""
      }
     },
     "a6c06343d4a84f58be5537bc4e675b99": {
      "model_module": "@jupyter-widgets/controls",
      "model_module_version": "1.5.0",
      "model_name": "ButtonStyleModel",
      "state": {}
     },
     "a8ce8ce6a30c4983abf8cfddbae70ce1": {
      "model_module": "@jupyter-widgets/base",
      "model_module_version": "1.2.0",
      "model_name": "LayoutModel",
      "state": {}
     },
     "aa158ba854b14e2d8182e5d73866ee3f": {
      "model_module": "@jupyter-widgets/controls",
      "model_module_version": "1.5.0",
      "model_name": "HBoxModel",
      "state": {
       "children": [
        "IPY_MODEL_a05fd277e89046d1bca34fc11f8a5a5f",
        "IPY_MODEL_6d88eef5ad35460795da46b3695098fc"
       ],
       "layout": "IPY_MODEL_78fa86bd19474d5eb7eeb73e61234e50"
      }
     },
     "aa8079a15fc542cda18caf66a31917df": {
      "model_module": "@jupyter-widgets/controls",
      "model_module_version": "1.5.0",
      "model_name": "LabelModel",
      "state": {
       "layout": "IPY_MODEL_4f22cd418fbf4db592dc7a98fa2e890e",
       "style": "IPY_MODEL_926d3ea69ebf4aa696590e91a8326cd0",
       "value": "Min expr:"
      }
     },
     "ab1288fc1a684600b9e1c7b9bfb1048d": {
      "model_module": "@jupyter-widgets/controls",
      "model_module_version": "1.5.0",
      "model_name": "DescriptionStyleModel",
      "state": {
       "description_width": ""
      }
     },
     "ad0643591e5942a8823ae853dc653cd1": {
      "model_module": "@jupyter-widgets/controls",
      "model_module_version": "1.5.0",
      "model_name": "HBoxModel",
      "state": {
       "children": [
        "IPY_MODEL_aa8079a15fc542cda18caf66a31917df",
        "IPY_MODEL_10761f754f5840f9bb3d0647ba8c0ab4"
       ],
       "layout": "IPY_MODEL_964da8ecc9014926ad8eabe30d68704b"
      }
     },
     "ad111836c127478f820f193011bc6c36": {
      "model_module": "@jupyter-widgets/controls",
      "model_module_version": "1.5.0",
      "model_name": "HBoxModel",
      "state": {
       "children": [
        "IPY_MODEL_2240d6f3c30e44f8b9165e36e6563950",
        "IPY_MODEL_a29a270a3530408f90a6643ca101f588",
        "IPY_MODEL_54ca20027b974d99aa628b6ff2d6d09e"
       ],
       "layout": "IPY_MODEL_7b459fab59be472b80e43139efd22b38"
      }
     },
     "aefda7a3ecf04fffbf51bad4d364765a": {
      "model_module": "@jupyter-widgets/controls",
      "model_module_version": "1.5.0",
      "model_name": "TabModel",
      "state": {
       "_titles": {
        "0": "Full dataset"
       },
       "children": [
        "IPY_MODEL_bf5bb98b9b5c4f8bb9e9356995e63995"
       ],
       "layout": "IPY_MODEL_f5fba6f0f09b42eeb760c91ea7079d9a"
      }
     },
     "b023c16f200b460f9f86c9440ee4fc48": {
      "model_module": "@jupyter-widgets/controls",
      "model_module_version": "1.5.0",
      "model_name": "HBoxModel",
      "state": {
       "children": [
        "IPY_MODEL_e4c5ff7d853e4ce4a54c133d5c600796",
        "IPY_MODEL_52bd93ecc635475d8f7fb70c31a75a55"
       ],
       "layout": "IPY_MODEL_360cb635b7dc4c8b9f32c710f63c0b98"
      }
     },
     "b02aabd6e2c34a8ab106b91b4ed5642d": {
      "model_module": "@jupyter-widgets/controls",
      "model_module_version": "1.5.0",
      "model_name": "HBoxModel",
      "state": {
       "children": [
        "IPY_MODEL_57e632e42b794c16bd2d0c7f5013e61f",
        "IPY_MODEL_c3087c3cd08241208fd70b22de9b7644"
       ],
       "layout": "IPY_MODEL_26945fcf16a046b89dac0c70954803d4"
      }
     },
     "b1282b4394a9475a9487984ed7b8a492": {
      "model_module": "@jupyter-widgets/controls",
      "model_module_version": "1.5.0",
      "model_name": "DescriptionStyleModel",
      "state": {
       "description_width": ""
      }
     },
     "b27475e16dad4e17804d76ab0ffef04d": {
      "model_module": "@jupyter-widgets/base",
      "model_module_version": "1.2.0",
      "model_name": "LayoutModel",
      "state": {
       "width": "40%"
      }
     },
     "b2f5315489ba403395b29ce803a54118": {
      "model_module": "@jupyter-widgets/controls",
      "model_module_version": "1.5.0",
      "model_name": "ButtonModel",
      "state": {
       "description": "Cluster",
       "layout": "IPY_MODEL_8f3a1737b0b6447fb15dff7c26c147af",
       "style": "IPY_MODEL_c3b45ba3cec14c1f8dc32ba9cdad2f9f",
       "tooltip": "Cluster the data using the selected method in the dropdown menu to the left."
      }
     },
     "b30c0574f3734b859d6150186818921c": {
      "model_module": "@jupyter-widgets/controls",
      "model_module_version": "1.5.0",
      "model_name": "IntSliderModel",
      "state": {
       "continuous_update": false,
       "layout": "IPY_MODEL_d525d4bac7514f96b8e09ce7d315be4f",
       "max": 50,
       "style": "IPY_MODEL_80a00faf7284491ebd4cdf3a7aa5d2e3"
      }
     },
     "b3f9097b9a2942faa9bb176c5dda39fc": {
      "model_module": "@jupyter-widgets/base",
      "model_module_version": "1.2.0",
      "model_name": "LayoutModel",
      "state": {
       "width": "30%"
      }
     },
     "b46210efdd1945899fb401a5f3a1efb8": {
      "model_module": "@jupyter-widgets/controls",
      "model_module_version": "1.5.0",
      "model_name": "HBoxModel",
      "state": {
       "children": [
        "IPY_MODEL_99913007312a46b1aa50d5ae81e5fa19",
        "IPY_MODEL_0ff7556cf3dc46e2b15f3bce5f7528c4"
       ],
       "layout": "IPY_MODEL_0d0f301a3ca9408181ca460cddad6ba0"
      }
     },
     "b502838766ae4676a2286d90c6aef0c1": {
      "model_module": "@jupyter-widgets/base",
      "model_module_version": "1.2.0",
      "model_name": "LayoutModel",
      "state": {
       "width": "60%"
      }
     },
     "b557e2cd75704d96b2fa5faa5abfe1cf": {
      "model_module": "@jupyter-widgets/base",
      "model_module_version": "1.2.0",
      "model_name": "LayoutModel",
      "state": {}
     },
     "b600ee74216b4cd29769938dbe12d024": {
      "model_module": "@jupyter-widgets/base",
      "model_module_version": "1.2.0",
      "model_name": "LayoutModel",
      "state": {
       "width": "40%"
      }
     },
     "b662febe29ae45a48e2b11a2f02e0610": {
      "model_module": "@jupyter-widgets/base",
      "model_module_version": "1.2.0",
      "model_name": "LayoutModel",
      "state": {}
     },
     "b70442bfafb44dbb972ebb854dd66755": {
      "model_module": "@jupyter-widgets/controls",
      "model_module_version": "1.5.0",
      "model_name": "HBoxModel",
      "state": {
       "children": [
        "IPY_MODEL_4bda764462084e56a2a41461cb574488",
        "IPY_MODEL_2e292ebc20104c15a0754cbc4788aec0"
       ],
       "layout": "IPY_MODEL_f7e54f581ade43d99845a586479a2ec5"
      }
     },
     "b94e421bc9804a5483d2492c39b8063b": {
      "model_module": "@jupyter-widgets/controls",
      "model_module_version": "1.5.0",
      "model_name": "ButtonStyleModel",
      "state": {}
     },
     "ba9721633795443894f2a7865d6ef32b": {
      "model_module": "@jupyter-widgets/base",
      "model_module_version": "1.2.0",
      "model_name": "LayoutModel",
      "state": {}
     },
     "bb72d3fef3cc415c91cddb871e52644b": {
      "model_module": "@jupyter-widgets/base",
      "model_module_version": "1.2.0",
      "model_name": "LayoutModel",
      "state": {}
     },
     "bf5bb98b9b5c4f8bb9e9356995e63995": {
      "buffers": [
       {
        "data": "LLhCQa7dQkFrxzBBYRU5QdOnREGDOTVBKFZSQQ12QUHNMjdBZ6Y5QR1UN0GyHjVBukNBQf7pOUGaAUFBFKVDQdqUPUH+zk9Bk7Q/QcUgM0EGy0FBQiVTQe9mMkH9bz9BnFIsQYihMkHJlUZBg5UuQQq1PEF0xy1B1EcwQVovMEGoeypB9QJSQdslQ0EbQT5B1NQsQee2MUF1uDlBb2svQdfUPUFPGy1BsEY1QcKtLkH4mTpBISuSvxjQub/77I2/W7/Gv9uBPr9JDY2/LMSxv3URK7+hVUW/rfcJv2vwQ781oy2/welxv1poo79aRom/cTWavw8IlL9iKXG/m8CVv/w2sL8GtKu/F5CDvyCTyr8K41+/qK6ovyM7gr/7Pe2/R1jbv/xkrb9QEqG/+CWmv2ky6L9HzMa/JWaMv7Q31r/XLOy/Herpvw4Ph7/eO8K/3VXSvyz24b+GY6e/o3fSv+IkjL/Vh7G/29KQv5p+dsFog3fBrW52wTo2dMFkI27BGVZ0wZ4TeMGf03bBjDx2wST8a8Hk2HjBSHBxwV84b8HatXLBX1JxwYJabsGH63LBg5tywURtcMH9u3PBELl5wczjd8FKiXXBVnluwcF0a8ETJUdBD4t5wWooc8Gh83TBJ3VywQIPbsEjoEdBRXd2wSPmSEEGT2/BqEtuwRpUcMFDQnHBXiNGQTCOb8F/B3DBROpzwSjCdMEKrmvB8yQtQTd/PUEYbUJBfvc5QYBlYL/tt09BVMlJQb5tPEEI+wC/8JkzQaJTNb8USRW/idc9QZtQMEHjNkxBRO22v2bhPkESBD5BwzA4QUbHTUE80DxBCxY9QUdWSkGOJD9BiipKQcXESkFzk0BBu6k+Qfx5TUG6EUhBs0RAQR3QQ0F5PUFBhQ5BQSDtSEGBQUZBJaNEQU1RSUGIyjtBZyRIQYiKQEGR7DxBiapCQZViREH4tj9BiJs+QfvJREHQbz1BzfBBQdRHwr9wBUNB2VwuQaANSEHiwUFBQFNFQbKpR0FMMK6/jZU+QQYNS0Ht60ZBb6xAQVfxPkFx8z5BW1RCQRWGSUFJ7z9BeXdEQdPzSEE=",
        "encoding": "base64",
        "path": [
         "_data",
         0,
         "x",
         "value"
        ]
       },
       {
        "data": "uV8lwEyHIsDpWYPAWMVrwIr++b+JY4TAGFnhPygJP8DB93zAl/t0wIgme8BlhIbAFUlDwN60fsAOyTjA9PINwC43aMBIVgdAHEcVQJywh8DW+ea/gWDbP3ybisDB7mLAGhRuwJNbbMC+ECdA7YmBwBMLWcAj8mvAxCV6wMIVf8B2onLAwXvlP3cRHcDv8lLA75OCwCO2fsB7Xy1AEdxhwBR7XsA6/4TAU61lwD6QdsCEG17AQgh7v2Htgb9SgxK/BVFHv2TAqb+JoIm/ulvxvwIC2L+b26K/PfGTvzFScr+ZMc+/gLe/vzILZL+E3aC/PPBYv4KG3r/k9Si/K26Bvw0qqr/lmA+/VGALv+dpVb/4A0+/Yqaivqycj75n+5a/KDabv2Swn7/KJf6/RiWfv+7lk798OLq/3IRtvhB44b+6fsm/oS7Bv7PDw7/cOUW/8HHSvz7flb8T+9e/EEmxvw9/178y+a2/6farvzKzDj//edk+E6/hvq1Qwb7y0ok/Zc3jPhY1Aj7Bpmi+onbavtzOnT7YSj8+0R57Pw80WT+QRBk/s/itvhhsjr7Frky9ARtcPxJglr4scF0/Ro2/PpRjTD80rLK+sDHuvC8Pej8na1xAbWrZPnHLJj9xdHG+Bmu6PsXlWj+3H1xA2yD+PsadU0DkE/U+hY/KvUlIIj/T9Sw+6JRYQNRSJz3oJjw+ZbaKPtf+Pj9lJW8/BsVTwPVBPEAhDTNANJo0QAEC/b+OkrA/JqXbP1+ZOUD/tcC/LjpCwNVk6L9Koey/qv34v8A4K8AmLxBAW8kHwAssVECtADfAVJ8awNfwvD8UQBRA3U8KQETjgD+BiSlA07SsP7ER4D8NqUdAO7dMQKKaBkBSiAJA9Cb/PyckYT9IIUU/zMBsP+R+SD/1pzNAn47tP5Iikj/v6CJAhocjQFg2AUBv0hpACCasP+P6cT9K3o0/G1cmQDSdsT+CK0BA+XyiPzKyAcBy07o/T1Q5wMDgaz8G9RM/Jso8QMoQ9D+h8su/B0T3P6g2uD9W+S1A/4YjP/BEUkBnNi1A80w2QJSUkD8pbDBAjsmwP5G7J0A=",
        "encoding": "base64",
        "path": [
         "_data",
         0,
         "y",
         "value"
        ]
       }
      ],
      "model_module": "plotlywidget",
      "model_module_version": "^1.0.0",
      "model_name": "FigureModel",
      "state": {
       "_config": {
        "displayModeBar": true,
        "displaylogo": false,
        "edits": {
         "titleText": false
        },
        "scrollZoom": true
       },
       "_data": [
        {
         "hoverinfo": "text",
         "marker": {
          "size": 5
         },
         "mode": "markers",
         "text": [
          "0",
          "0",
          "0",
          "0",
          "0",
          "0",
          "0",
          "0",
          "0",
          "0",
          "0",
          "0",
          "0",
          "0",
          "0",
          "0",
          "0",
          "0",
          "0",
          "0",
          "0",
          "0",
          "0",
          "0",
          "0",
          "0",
          "0",
          "0",
          "0",
          "0",
          "0",
          "0",
          "0",
          "0",
          "0",
          "0",
          "0",
          "0",
          "0",
          "0",
          "0",
          "0",
          "0",
          "0",
          "0",
          "0",
          "0",
          "0",
          "0",
          "0",
          "0",
          "0",
          "0",
          "0",
          "0",
          "0",
          "0",
          "0",
          "0",
          "0",
          "0",
          "0",
          "0",
          "0",
          "0",
          "0",
          "0",
          "0",
          "0",
          "0",
          "0",
          "0",
          "0",
          "0",
          "0",
          "0",
          "0",
          "0",
          "0",
          "0",
          "0",
          "0",
          "0",
          "0",
          "0",
          "0",
          "0",
          "0",
          "0",
          "0",
          "0",
          "0",
          "0",
          "0",
          "0",
          "0",
          "0",
          "0",
          "0",
          "0",
          "0",
          "0",
          "0",
          "0",
          "0",
          "0",
          "0",
          "0",
          "0",
          "0",
          "0",
          "0",
          "0",
          "0",
          "0",
          "0",
          "0",
          "0",
          "0",
          "0",
          "0",
          "0",
          "0",
          "0",
          "0",
          "0",
          "0",
          "0",
          "0",
          "0",
          "0",
          "0",
          "0",
          "0",
          "0",
          "0",
          "0",
          "0",
          "0",
          "0",
          "0",
          "0",
          "0",
          "0",
          "0",
          "0",
          "0",
          "0",
          "0",
          "0",
          "0",
          "0",
          "0",
          "0",
          "0",
          "0",
          "0",
          "0",
          "0",
          "0",
          "0",
          "0",
          "0",
          "0",
          "0",
          "0",
          "0",
          "0",
          "0",
          "0",
          "0",
          "0",
          "0",
          "0",
          "0",
          "0",
          "0",
          "0",
          "0",
          "0",
          "0",
          "0",
          "0",
          "0",
          "0",
          "0",
          "0",
          "0",
          "0",
          "0",
          "0",
          "0",
          "0",
          "0",
          "0",
          "0",
          "0",
          "0",
          "0",
          "0",
          "0",
          "0",
          "0"
         ],
         "type": "scattergl",
         "uid": "744e2de5-4949-41cd-8254-13d7d03c7dae",
         "x": {
          "dtype": "float32",
          "shape": [
           203
          ]
         },
         "y": {
          "dtype": "float32",
          "shape": [
           203
          ]
         }
        }
       ],
       "_js2py_restyle": {},
       "_js2py_update": {},
       "_last_layout_edit_id": 14,
       "_last_trace_edit_id": 8,
       "_layout": {
        "autosize": true,
        "dragmode": "select",
        "height": 600,
        "margin": {
         "b": 0,
         "l": 0,
         "r": 0,
         "t": 40
        },
        "template": {
         "data": {
          "bar": [
           {
            "error_x": {
             "color": "#2a3f5f"
            },
            "error_y": {
             "color": "#2a3f5f"
            },
            "marker": {
             "line": {
              "color": "#E5ECF6",
              "width": 0.5
             }
            },
            "type": "bar"
           }
          ],
          "barpolar": [
           {
            "marker": {
             "line": {
              "color": "#E5ECF6",
              "width": 0.5
             }
            },
            "type": "barpolar"
           }
          ],
          "carpet": [
           {
            "aaxis": {
             "endlinecolor": "#2a3f5f",
             "gridcolor": "white",
             "linecolor": "white",
             "minorgridcolor": "white",
             "startlinecolor": "#2a3f5f"
            },
            "baxis": {
             "endlinecolor": "#2a3f5f",
             "gridcolor": "white",
             "linecolor": "white",
             "minorgridcolor": "white",
             "startlinecolor": "#2a3f5f"
            },
            "type": "carpet"
           }
          ],
          "choropleth": [
           {
            "colorbar": {
             "outlinewidth": 0,
             "ticks": ""
            },
            "type": "choropleth"
           }
          ],
          "contour": [
           {
            "colorbar": {
             "outlinewidth": 0,
             "ticks": ""
            },
            "colorscale": [
             [
              0,
              "#0d0887"
             ],
             [
              0.1111111111111111,
              "#46039f"
             ],
             [
              0.2222222222222222,
              "#7201a8"
             ],
             [
              0.3333333333333333,
              "#9c179e"
             ],
             [
              0.4444444444444444,
              "#bd3786"
             ],
             [
              0.5555555555555556,
              "#d8576b"
             ],
             [
              0.6666666666666666,
              "#ed7953"
             ],
             [
              0.7777777777777778,
              "#fb9f3a"
             ],
             [
              0.8888888888888888,
              "#fdca26"
             ],
             [
              1,
              "#f0f921"
             ]
            ],
            "type": "contour"
           }
          ],
          "contourcarpet": [
           {
            "colorbar": {
             "outlinewidth": 0,
             "ticks": ""
            },
            "type": "contourcarpet"
           }
          ],
          "heatmap": [
           {
            "colorbar": {
             "outlinewidth": 0,
             "ticks": ""
            },
            "colorscale": [
             [
              0,
              "#0d0887"
             ],
             [
              0.1111111111111111,
              "#46039f"
             ],
             [
              0.2222222222222222,
              "#7201a8"
             ],
             [
              0.3333333333333333,
              "#9c179e"
             ],
             [
              0.4444444444444444,
              "#bd3786"
             ],
             [
              0.5555555555555556,
              "#d8576b"
             ],
             [
              0.6666666666666666,
              "#ed7953"
             ],
             [
              0.7777777777777778,
              "#fb9f3a"
             ],
             [
              0.8888888888888888,
              "#fdca26"
             ],
             [
              1,
              "#f0f921"
             ]
            ],
            "type": "heatmap"
           }
          ],
          "heatmapgl": [
           {
            "colorbar": {
             "outlinewidth": 0,
             "ticks": ""
            },
            "colorscale": [
             [
              0,
              "#0d0887"
             ],
             [
              0.1111111111111111,
              "#46039f"
             ],
             [
              0.2222222222222222,
              "#7201a8"
             ],
             [
              0.3333333333333333,
              "#9c179e"
             ],
             [
              0.4444444444444444,
              "#bd3786"
             ],
             [
              0.5555555555555556,
              "#d8576b"
             ],
             [
              0.6666666666666666,
              "#ed7953"
             ],
             [
              0.7777777777777778,
              "#fb9f3a"
             ],
             [
              0.8888888888888888,
              "#fdca26"
             ],
             [
              1,
              "#f0f921"
             ]
            ],
            "type": "heatmapgl"
           }
          ],
          "histogram": [
           {
            "marker": {
             "colorbar": {
              "outlinewidth": 0,
              "ticks": ""
             }
            },
            "type": "histogram"
           }
          ],
          "histogram2d": [
           {
            "colorbar": {
             "outlinewidth": 0,
             "ticks": ""
            },
            "colorscale": [
             [
              0,
              "#0d0887"
             ],
             [
              0.1111111111111111,
              "#46039f"
             ],
             [
              0.2222222222222222,
              "#7201a8"
             ],
             [
              0.3333333333333333,
              "#9c179e"
             ],
             [
              0.4444444444444444,
              "#bd3786"
             ],
             [
              0.5555555555555556,
              "#d8576b"
             ],
             [
              0.6666666666666666,
              "#ed7953"
             ],
             [
              0.7777777777777778,
              "#fb9f3a"
             ],
             [
              0.8888888888888888,
              "#fdca26"
             ],
             [
              1,
              "#f0f921"
             ]
            ],
            "type": "histogram2d"
           }
          ],
          "histogram2dcontour": [
           {
            "colorbar": {
             "outlinewidth": 0,
             "ticks": ""
            },
            "colorscale": [
             [
              0,
              "#0d0887"
             ],
             [
              0.1111111111111111,
              "#46039f"
             ],
             [
              0.2222222222222222,
              "#7201a8"
             ],
             [
              0.3333333333333333,
              "#9c179e"
             ],
             [
              0.4444444444444444,
              "#bd3786"
             ],
             [
              0.5555555555555556,
              "#d8576b"
             ],
             [
              0.6666666666666666,
              "#ed7953"
             ],
             [
              0.7777777777777778,
              "#fb9f3a"
             ],
             [
              0.8888888888888888,
              "#fdca26"
             ],
             [
              1,
              "#f0f921"
             ]
            ],
            "type": "histogram2dcontour"
           }
          ],
          "mesh3d": [
           {
            "colorbar": {
             "outlinewidth": 0,
             "ticks": ""
            },
            "type": "mesh3d"
           }
          ],
          "parcoords": [
           {
            "line": {
             "colorbar": {
              "outlinewidth": 0,
              "ticks": ""
             }
            },
            "type": "parcoords"
           }
          ],
          "scatter": [
           {
            "marker": {
             "colorbar": {
              "outlinewidth": 0,
              "ticks": ""
             }
            },
            "type": "scatter"
           }
          ],
          "scatter3d": [
           {
            "line": {
             "colorbar": {
              "outlinewidth": 0,
              "ticks": ""
             }
            },
            "marker": {
             "colorbar": {
              "outlinewidth": 0,
              "ticks": ""
             }
            },
            "type": "scatter3d"
           }
          ],
          "scattercarpet": [
           {
            "marker": {
             "colorbar": {
              "outlinewidth": 0,
              "ticks": ""
             }
            },
            "type": "scattercarpet"
           }
          ],
          "scattergeo": [
           {
            "marker": {
             "colorbar": {
              "outlinewidth": 0,
              "ticks": ""
             }
            },
            "type": "scattergeo"
           }
          ],
          "scattergl": [
           {
            "marker": {
             "colorbar": {
              "outlinewidth": 0,
              "ticks": ""
             }
            },
            "type": "scattergl"
           }
          ],
          "scattermapbox": [
           {
            "marker": {
             "colorbar": {
              "outlinewidth": 0,
              "ticks": ""
             }
            },
            "type": "scattermapbox"
           }
          ],
          "scatterpolar": [
           {
            "marker": {
             "colorbar": {
              "outlinewidth": 0,
              "ticks": ""
             }
            },
            "type": "scatterpolar"
           }
          ],
          "scatterpolargl": [
           {
            "marker": {
             "colorbar": {
              "outlinewidth": 0,
              "ticks": ""
             }
            },
            "type": "scatterpolargl"
           }
          ],
          "scatterternary": [
           {
            "marker": {
             "colorbar": {
              "outlinewidth": 0,
              "ticks": ""
             }
            },
            "type": "scatterternary"
           }
          ],
          "surface": [
           {
            "colorbar": {
             "outlinewidth": 0,
             "ticks": ""
            },
            "colorscale": [
             [
              0,
              "#0d0887"
             ],
             [
              0.1111111111111111,
              "#46039f"
             ],
             [
              0.2222222222222222,
              "#7201a8"
             ],
             [
              0.3333333333333333,
              "#9c179e"
             ],
             [
              0.4444444444444444,
              "#bd3786"
             ],
             [
              0.5555555555555556,
              "#d8576b"
             ],
             [
              0.6666666666666666,
              "#ed7953"
             ],
             [
              0.7777777777777778,
              "#fb9f3a"
             ],
             [
              0.8888888888888888,
              "#fdca26"
             ],
             [
              1,
              "#f0f921"
             ]
            ],
            "type": "surface"
           }
          ],
          "table": [
           {
            "cells": {
             "fill": {
              "color": "#EBF0F8"
             },
             "line": {
              "color": "white"
             }
            },
            "header": {
             "fill": {
              "color": "#C8D4E3"
             },
             "line": {
              "color": "white"
             }
            },
            "type": "table"
           }
          ]
         },
         "layout": {
          "annotationdefaults": {
           "arrowcolor": "#2a3f5f",
           "arrowhead": 0,
           "arrowwidth": 1
          },
          "colorscale": {
           "diverging": [
            [
             0,
             "#8e0152"
            ],
            [
             0.1,
             "#c51b7d"
            ],
            [
             0.2,
             "#de77ae"
            ],
            [
             0.3,
             "#f1b6da"
            ],
            [
             0.4,
             "#fde0ef"
            ],
            [
             0.5,
             "#f7f7f7"
            ],
            [
             0.6,
             "#e6f5d0"
            ],
            [
             0.7,
             "#b8e186"
            ],
            [
             0.8,
             "#7fbc41"
            ],
            [
             0.9,
             "#4d9221"
            ],
            [
             1,
             "#276419"
            ]
           ],
           "sequential": [
            [
             0,
             "#0d0887"
            ],
            [
             0.1111111111111111,
             "#46039f"
            ],
            [
             0.2222222222222222,
             "#7201a8"
            ],
            [
             0.3333333333333333,
             "#9c179e"
            ],
            [
             0.4444444444444444,
             "#bd3786"
            ],
            [
             0.5555555555555556,
             "#d8576b"
            ],
            [
             0.6666666666666666,
             "#ed7953"
            ],
            [
             0.7777777777777778,
             "#fb9f3a"
            ],
            [
             0.8888888888888888,
             "#fdca26"
            ],
            [
             1,
             "#f0f921"
            ]
           ],
           "sequentialminus": [
            [
             0,
             "#0d0887"
            ],
            [
             0.1111111111111111,
             "#46039f"
            ],
            [
             0.2222222222222222,
             "#7201a8"
            ],
            [
             0.3333333333333333,
             "#9c179e"
            ],
            [
             0.4444444444444444,
             "#bd3786"
            ],
            [
             0.5555555555555556,
             "#d8576b"
            ],
            [
             0.6666666666666666,
             "#ed7953"
            ],
            [
             0.7777777777777778,
             "#fb9f3a"
            ],
            [
             0.8888888888888888,
             "#fdca26"
            ],
            [
             1,
             "#f0f921"
            ]
           ]
          },
          "colorway": [
           "#636efa",
           "#EF553B",
           "#00cc96",
           "#ab63fa",
           "#FFA15A",
           "#19d3f3",
           "#FF6692",
           "#B6E880",
           "#FF97FF",
           "#FECB52"
          ],
          "font": {
           "color": "#2a3f5f"
          },
          "geo": {
           "bgcolor": "white",
           "lakecolor": "white",
           "landcolor": "#E5ECF6",
           "showlakes": true,
           "showland": true,
           "subunitcolor": "white"
          },
          "hoverlabel": {
           "align": "left"
          },
          "hovermode": "closest",
          "mapbox": {
           "style": "light"
          },
          "paper_bgcolor": "white",
          "plot_bgcolor": "#E5ECF6",
          "polar": {
           "angularaxis": {
            "gridcolor": "white",
            "linecolor": "white",
            "ticks": ""
           },
           "bgcolor": "#E5ECF6",
           "radialaxis": {
            "gridcolor": "white",
            "linecolor": "white",
            "ticks": ""
           }
          },
          "scene": {
           "xaxis": {
            "backgroundcolor": "#E5ECF6",
            "gridcolor": "white",
            "gridwidth": 2,
            "linecolor": "white",
            "showbackground": true,
            "ticks": "",
            "zerolinecolor": "white"
           },
           "yaxis": {
            "backgroundcolor": "#E5ECF6",
            "gridcolor": "white",
            "gridwidth": 2,
            "linecolor": "white",
            "showbackground": true,
            "ticks": "",
            "zerolinecolor": "white"
           },
           "zaxis": {
            "backgroundcolor": "#E5ECF6",
            "gridcolor": "white",
            "gridwidth": 2,
            "linecolor": "white",
            "showbackground": true,
            "ticks": "",
            "zerolinecolor": "white"
           }
          },
          "shapedefaults": {
           "line": {
            "color": "#2a3f5f"
           }
          },
          "ternary": {
           "aaxis": {
            "gridcolor": "white",
            "linecolor": "white",
            "ticks": ""
           },
           "baxis": {
            "gridcolor": "white",
            "linecolor": "white",
            "ticks": ""
           },
           "bgcolor": "#E5ECF6",
           "caxis": {
            "gridcolor": "white",
            "linecolor": "white",
            "ticks": ""
           }
          },
          "title": {
           "x": 0.05
          },
          "xaxis": {
           "automargin": true,
           "gridcolor": "white",
           "linecolor": "white",
           "ticks": "",
           "zerolinecolor": "white",
           "zerolinewidth": 2
          },
          "yaxis": {
           "automargin": true,
           "gridcolor": "white",
           "linecolor": "white",
           "ticks": "",
           "zerolinecolor": "white",
           "zerolinewidth": 2
          }
         }
        },
        "width": 600,
        "xaxis": {
         "range": [
          -20.32240549113487,
          17.865772395876313
         ],
         "showticklabels": false,
         "ticks": ""
        },
        "yaxis": {
         "range": [
          -5.494309245918118,
          4.822960739286587
         ],
         "showticklabels": false,
         "ticks": ""
        }
       },
       "_py2js_animate": {},
       "_py2js_deleteTraces": {},
       "_py2js_moveTraces": {},
       "_py2js_removeTraceProps": {},
       "_view_count": 1
      }
     },
     "c1ac6f055172487da62907372d685dc7": {
      "model_module": "@jupyter-widgets/controls",
      "model_module_version": "1.5.0",
      "model_name": "DescriptionStyleModel",
      "state": {
       "description_width": ""
      }
     },
     "c3087c3cd08241208fd70b22de9b7644": {
      "model_module": "@jupyter-widgets/controls",
      "model_module_version": "1.5.0",
      "model_name": "FloatSliderModel",
      "state": {
       "continuous_update": false,
       "layout": "IPY_MODEL_5ff53f8c53f34d9d891b0929a80a2562",
       "max": 45686,
       "min": 100,
       "readout_format": "5d",
       "step": 100,
       "style": "IPY_MODEL_13599b3f575347e788a373ddd8176425",
       "value": 3000
      }
     },
     "c32c38c15f46470090274e85a1e9171b": {
      "model_module": "@jupyter-widgets/controls",
      "model_module_version": "1.5.0",
      "model_name": "ButtonStyleModel",
      "state": {}
     },
     "c3b45ba3cec14c1f8dc32ba9cdad2f9f": {
      "model_module": "@jupyter-widgets/controls",
      "model_module_version": "1.5.0",
      "model_name": "ButtonStyleModel",
      "state": {}
     },
     "c40f6ccb72ab4ac9973ebbebfa46d4a6": {
      "model_module": "@jupyter-widgets/controls",
      "model_module_version": "1.5.0",
      "model_name": "DropdownModel",
      "state": {
       "_options_labels": [
        "cell_median",
        "gene_median",
        "None"
       ],
       "description": "Library normalization:",
       "index": 2,
       "layout": "IPY_MODEL_9c37edde094a48c497041e9c05170522",
       "style": "IPY_MODEL_17e80bb339f04689a8cffb72c4f7f787"
      }
     },
     "c427a44c479d4f2696c6ecce26d98a0f": {
      "model_module": "@jupyter-widgets/base",
      "model_module_version": "1.2.0",
      "model_name": "LayoutModel",
      "state": {
       "width": "20%"
      }
     },
     "c68c84d555e0411182e884ff8fe1fb54": {
      "model_module": "@jupyter-widgets/base",
      "model_module_version": "1.2.0",
      "model_name": "LayoutModel",
      "state": {
       "width": "40%"
      }
     },
     "c6de6a227add47f08d2eb7aacc6237ad": {
      "model_module": "@jupyter-widgets/base",
      "model_module_version": "1.2.0",
      "model_name": "LayoutModel",
      "state": {}
     },
     "cba8b1db24fd48a18349703ef4b5bb20": {
      "model_module": "@jupyter-widgets/base",
      "model_module_version": "1.2.0",
      "model_name": "LayoutModel",
      "state": {
       "width": "40%"
      }
     },
     "cc8b54ceda3d453a9a98c49080cda741": {
      "model_module": "@jupyter-widgets/base",
      "model_module_version": "1.2.0",
      "model_name": "LayoutModel",
      "state": {
       "width": "30%"
      }
     },
     "cc8dce40d86340aba5b63325c7ca1c3b": {
      "model_module": "@jupyter-widgets/controls",
      "model_module_version": "1.5.0",
      "model_name": "ButtonModel",
      "state": {
       "description": "# PCs:",
       "disabled": true,
       "layout": "IPY_MODEL_a49f303efbe042c99e88e89dfab5de36",
       "style": "IPY_MODEL_ff42ff691aba4290a0488f6817af6ce3",
       "tooltip": "The number of principal components to select in PCA."
      }
     },
     "ce34feced3a6422397b182dbc0c592a2": {
      "model_module": "@jupyter-widgets/base",
      "model_module_version": "1.2.0",
      "model_name": "LayoutModel",
      "state": {
       "width": "40%"
      }
     },
     "d047496f93ef40739ac612301a67e3aa": {
      "model_module": "@jupyter-widgets/base",
      "model_module_version": "1.2.0",
      "model_name": "LayoutModel",
      "state": {
       "width": "80%"
      }
     },
     "d0c99f1c3f1441fc8913a4a1ad38f174": {
      "model_module": "@jupyter-widgets/controls",
      "model_module_version": "1.5.0",
      "model_name": "ButtonStyleModel",
      "state": {}
     },
     "d3a010bc7b8643c79947b597d0acea05": {
      "model_module": "@jupyter-widgets/base",
      "model_module_version": "1.2.0",
      "model_name": "LayoutModel",
      "state": {}
     },
     "d3faa44a512246f6bb699bc625397403": {
      "model_module": "@jupyter-widgets/controls",
      "model_module_version": "1.5.0",
      "model_name": "ButtonModel",
      "state": {
       "description": "Unselect all (x)",
       "layout": "IPY_MODEL_048fe8c6abf24730b8bc7a93bfc5ab6d",
       "style": "IPY_MODEL_c32c38c15f46470090274e85a1e9171b",
       "tooltip": "Unselect all cells. Pressing 'x' on the keyboard while hovering over the scatter plot will do the same thing."
      }
     },
     "d44f71893b6c441c95cb308cd95a147b": {
      "model_module": "@jupyter-widgets/controls",
      "model_module_version": "1.5.0",
      "model_name": "ButtonStyleModel",
      "state": {}
     },
     "d50d7faaa8424b32be1d0e97de0c795a": {
      "model_module": "@jupyter-widgets/base",
      "model_module_version": "1.2.0",
      "model_name": "LayoutModel",
      "state": {
       "width": "40%"
      }
     },
     "d525d4bac7514f96b8e09ce7d315be4f": {
      "model_module": "@jupyter-widgets/base",
      "model_module_version": "1.2.0",
      "model_name": "LayoutModel",
      "state": {
       "width": "70%"
      }
     },
     "d6f6cb21a24549b29726105246a03b97": {
      "model_module": "@jupyter-widgets/controls",
      "model_module_version": "1.5.0",
      "model_name": "DescriptionStyleModel",
      "state": {
       "description_width": ""
      }
     },
     "d75bd1d359504263912045daa583f3f9": {
      "model_module": "@jupyter-widgets/controls",
      "model_module_version": "1.5.0",
      "model_name": "ButtonStyleModel",
      "state": {}
     },
     "d7f436a3d2da4658a456264e5cd658e9": {
      "model_module": "@jupyter-widgets/base",
      "model_module_version": "1.2.0",
      "model_name": "LayoutModel",
      "state": {}
     },
     "db5b4b7004b049ccbfcc2405488b495c": {
      "model_module": "@jupyter-widgets/base",
      "model_module_version": "1.2.0",
      "model_name": "LayoutModel",
      "state": {}
     },
     "dcc0d740d11c4bb1a97a299d2f24b3f0": {
      "model_module": "@jupyter-widgets/controls",
      "model_module_version": "1.5.0",
      "model_name": "ButtonModel",
      "state": {
       "description": "Reset view (v)",
       "layout": "IPY_MODEL_e98a3fa9627c4af0a679eead47591121",
       "style": "IPY_MODEL_8a1b35f6814042a0bc293a14372d7c68",
       "tooltip": "Resets the current plot to the defautl view. Pressing 'v' on the keyboard while hovering over the scatter plot will do the same thing."
      }
     },
     "dd9ce88088d24425b3f4dbda27ebec98": {
      "model_module": "@jupyter-widgets/controls",
      "model_module_version": "1.5.0",
      "model_name": "HBoxModel",
      "state": {
       "children": [
        "IPY_MODEL_e85a0c8c218541db99091cd3f71b644e",
        "IPY_MODEL_86fff6ce0a5a4eb093adc250cab21377"
       ],
       "layout": "IPY_MODEL_a8ce8ce6a30c4983abf8cfddbae70ce1"
      }
     },
     "de11912af92f4ccd9dd2dd4024644dad": {
      "model_module": "@jupyter-widgets/controls",
      "model_module_version": "1.5.0",
      "model_name": "HBoxModel",
      "state": {
       "children": [
        "IPY_MODEL_aefda7a3ecf04fffbf51bad4d364765a",
        "IPY_MODEL_743ef0c5420c4300ae455d243b14b9e5"
       ],
       "layout": "IPY_MODEL_94598849e01c4540b93b71ac27185958"
      }
     },
     "de41b57532d04600a5fd28e67c0298fa": {
      "model_module": "@jupyter-widgets/controls",
      "model_module_version": "1.5.0",
      "model_name": "DescriptionStyleModel",
      "state": {
       "description_width": ""
      }
     },
     "de47261d84ea4a118942c60b2b6e8a04": {
      "model_module": "@jupyter-widgets/base",
      "model_module_version": "1.2.0",
      "model_name": "LayoutModel",
      "state": {
       "width": "40%"
      }
     },
     "dec701807b1841c6b79afbba5f448e4e": {
      "model_module": "@jupyter-widgets/controls",
      "model_module_version": "1.5.0",
      "model_name": "VBoxModel",
      "state": {
       "children": [
        "IPY_MODEL_6d43bff5f2dc43df9c3e575f0bfb8d5b",
        "IPY_MODEL_6998b909cd7f49949d40847426d34893",
        "IPY_MODEL_9b0260d524c245a28c44544789f54334",
        "IPY_MODEL_c40f6ccb72ab4ac9973ebbebfa46d4a6",
        "IPY_MODEL_947e2bec05c5429285f97981aa711a4d",
        "IPY_MODEL_ad0643591e5942a8823ae853dc653cd1"
       ],
       "layout": "IPY_MODEL_f94433080797411e80ecf6bd8e68c402"
      }
     },
     "dfc19470d0c045eb89d3d34f9a9f413c": {
      "model_module": "@jupyter-widgets/controls",
      "model_module_version": "1.5.0",
      "model_name": "ButtonStyleModel",
      "state": {}
     },
     "e0262b4b5bef469b9fbe0bf818384958": {
      "model_module": "@jupyter-widgets/base",
      "model_module_version": "1.2.0",
      "model_name": "LayoutModel",
      "state": {}
     },
     "e2697b210ef842fd98b700c0bf233648": {
      "model_module": "@jupyter-widgets/controls",
      "model_module_version": "1.5.0",
      "model_name": "SliderStyleModel",
      "state": {
       "description_width": "initial"
      }
     },
     "e2749106fb924e08b773b7177f97b889": {
      "model_module": "@jupyter-widgets/controls",
      "model_module_version": "1.5.0",
      "model_name": "DescriptionStyleModel",
      "state": {
       "description_width": ""
      }
     },
     "e279f2eb2a794ba788ceb4fc5add402f": {
      "model_module": "@jupyter-widgets/base",
      "model_module_version": "1.2.0",
      "model_name": "LayoutModel",
      "state": {
       "width": "30%"
      }
     },
     "e48173777d3f4dba95b306ebc10a052d": {
      "model_module": "@jupyter-widgets/base",
      "model_module_version": "1.2.0",
      "model_name": "LayoutModel",
      "state": {
       "width": "70%"
      }
     },
     "e4a549274ab94cdcb7091603da1a24af": {
      "model_module": "@jupyter-widgets/controls",
      "model_module_version": "1.5.0",
      "model_name": "FloatSliderModel",
      "state": {
       "continuous_update": false,
       "layout": "IPY_MODEL_2b03fdfb50c843c193a33a1284b2ad85",
       "max": 500,
       "min": 10,
       "readout_format": "d",
       "style": "IPY_MODEL_ea1b7fbbd05a47568c4d2766680dedf2",
       "value": 150
      }
     },
     "e4c5ff7d853e4ce4a54c133d5c600796": {
      "model_module": "@jupyter-widgets/controls",
      "model_module_version": "1.5.0",
      "model_name": "ButtonModel",
      "state": {
       "description": "Disp obs ann",
       "layout": "IPY_MODEL_d50d7faaa8424b32be1d0e97de0c795a",
       "style": "IPY_MODEL_07a089a45b384878ac842b16eb0a9534",
       "tooltip": "Overlay the annotations selected in the dropdown menu to the left."
      }
     },
     "e5b9d8fc26fb4ae79d1cba78d12b7a08": {
      "model_module": "@jupyter-widgets/controls",
      "model_module_version": "1.5.0",
      "model_name": "ButtonStyleModel",
      "state": {}
     },
     "e62f3d233c7840e5bd53afe48fe02d88": {
      "model_module": "@jupyter-widgets/base",
      "model_module_version": "1.2.0",
      "model_name": "LayoutModel",
      "state": {
       "width": "60%"
      }
     },
     "e68a1f2d6c4c44dc8210cc8326ab6f68": {
      "model_module": "@jupyter-widgets/base",
      "model_module_version": "1.2.0",
      "model_name": "LayoutModel",
      "state": {}
     },
     "e85a0c8c218541db99091cd3f71b644e": {
      "model_module": "@jupyter-widgets/controls",
      "model_module_version": "1.5.0",
      "model_name": "ButtonModel",
      "state": {
       "description": "Compute projection",
       "layout": "IPY_MODEL_c68c84d555e0411182e884ff8fe1fb54",
       "style": "IPY_MODEL_0525e0271afc474485e54e17f753d99f",
       "tooltip": "Compute a 2D projection using the selected method in the dropdown menu to the left."
      }
     },
     "e8d991f691f4430f85e7f98f9a0cf0df": {
      "model_module": "@jupyter-widgets/base",
      "model_module_version": "1.2.0",
      "model_name": "LayoutModel",
      "state": {}
     },
     "e98a3fa9627c4af0a679eead47591121": {
      "model_module": "@jupyter-widgets/base",
      "model_module_version": "1.2.0",
      "model_name": "LayoutModel",
      "state": {
       "width": "33%"
      }
     },
     "ea1b7fbbd05a47568c4d2766680dedf2": {
      "model_module": "@jupyter-widgets/controls",
      "model_module_version": "1.5.0",
      "model_name": "SliderStyleModel",
      "state": {
       "description_width": "initial"
      }
     },
     "ec0226f9ffe24c6c82d7f76bbcfe1ce9": {
      "model_module": "@jupyter-widgets/base",
      "model_module_version": "1.2.0",
      "model_name": "LayoutModel",
      "state": {}
     },
     "eca9776ea4e54806b12613978f17d585": {
      "model_module": "@jupyter-widgets/base",
      "model_module_version": "1.2.0",
      "model_name": "LayoutModel",
      "state": {}
     },
     "ee8772c4467847fb968acb2efcde717c": {
      "model_module": "@jupyter-widgets/controls",
      "model_module_version": "1.5.0",
      "model_name": "ButtonStyleModel",
      "state": {}
     },
     "ef402f42ec4049ff97fd887062a325f4": {
      "model_module": "@jupyter-widgets/controls",
      "model_module_version": "1.5.0",
      "model_name": "HBoxModel",
      "state": {
       "children": [
        "IPY_MODEL_3184e89c36624c37bff746fe0201b0e1",
        "IPY_MODEL_fcf7246b0aea45e0a0ff4ec6c84f4435"
       ],
       "layout": "IPY_MODEL_507e47378f0e448d990da21126c2d268"
      }
     },
     "f1dc0e4a952846b394e96a8e32009143": {
      "model_module": "@jupyter-widgets/base",
      "model_module_version": "1.2.0",
      "model_name": "LayoutModel",
      "state": {}
     },
     "f2436e2b6c2349728934f436bcb2b4d0": {
      "model_module": "@jupyter-widgets/base",
      "model_module_version": "1.2.0",
      "model_name": "LayoutModel",
      "state": {
       "width": "70%"
      }
     },
     "f3a584f4f7814c41b4bfb443d6b1768f": {
      "model_module": "@jupyter-widgets/base",
      "model_module_version": "1.2.0",
      "model_name": "LayoutModel",
      "state": {
       "width": "33%"
      }
     },
     "f4224337f46841af9d6950fa721d65ea": {
      "model_module": "@jupyter-widgets/controls",
      "model_module_version": "1.5.0",
      "model_name": "TextModel",
      "state": {
       "layout": "IPY_MODEL_2fae823ba8f94ba084852646a7d1aca1",
       "style": "IPY_MODEL_3bdf4c3251c44d279fbb4141631aa7c7"
      }
     },
     "f5fba6f0f09b42eeb760c91ea7079d9a": {
      "model_module": "@jupyter-widgets/base",
      "model_module_version": "1.2.0",
      "model_name": "LayoutModel",
      "state": {}
     },
     "f709e29297f04f19856bacbf11151b39": {
      "model_module": "@jupyter-widgets/controls",
      "model_module_version": "1.5.0",
      "model_name": "FloatSliderModel",
      "state": {
       "continuous_update": false,
       "layout": "IPY_MODEL_1b2d8e1b8f0342cb8786f9ed8690f5d2",
       "max": 0.1,
       "readout_format": "2f",
       "step": 0.005,
       "style": "IPY_MODEL_e2697b210ef842fd98b700c0bf233648",
       "value": 0.01
      }
     },
     "f75585c627bf429485e7a5bc1b296215": {
      "model_module": "@jupyter-widgets/base",
      "model_module_version": "1.2.0",
      "model_name": "LayoutModel",
      "state": {}
     },
     "f7e54f581ade43d99845a586479a2ec5": {
      "model_module": "@jupyter-widgets/base",
      "model_module_version": "1.2.0",
      "model_name": "LayoutModel",
      "state": {}
     },
     "f84df008c4cf45c7a47de6140078839b": {
      "model_module": "@jupyter-widgets/controls",
      "model_module_version": "1.5.0",
      "model_name": "HBoxModel",
      "state": {
       "children": [
        "IPY_MODEL_55b6ee740ca340488dbf292b764c6c76",
        "IPY_MODEL_a1a057919060416e889c6914a405a0b5"
       ],
       "layout": "IPY_MODEL_e0262b4b5bef469b9fbe0bf818384958"
      }
     },
     "f94433080797411e80ecf6bd8e68c402": {
      "model_module": "@jupyter-widgets/base",
      "model_module_version": "1.2.0",
      "model_name": "LayoutModel",
      "state": {}
     },
     "fcf7246b0aea45e0a0ff4ec6c84f4435": {
      "model_module": "@jupyter-widgets/controls",
      "model_module_version": "1.5.0",
      "model_name": "FloatSliderModel",
      "state": {
       "layout": "IPY_MODEL_6509772812d14e198c30aa10001cf9f4",
       "max": 20,
       "min": 0.1,
       "readout_format": "2f",
       "step": 0.1,
       "style": "IPY_MODEL_353130ca3b244fb2a1d3af10637410a8",
       "value": 5
      }
     },
     "ff42ff691aba4290a0488f6817af6ce3": {
      "model_module": "@jupyter-widgets/controls",
      "model_module_version": "1.5.0",
      "model_name": "ButtonStyleModel",
      "state": {}
     }
    },
    "version_major": 2,
    "version_minor": 0
   }
  }
 },
 "nbformat": 4,
 "nbformat_minor": 2
}
