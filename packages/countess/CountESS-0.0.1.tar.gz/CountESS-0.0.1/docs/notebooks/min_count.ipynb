{
 "cells": [
  {
   "cell_type": "markdown",
   "metadata": {},
   "source": [
    "Selecting variants by input library count\n",
    "-------------------------------------------------------------\n",
    "\n",
    "This notebook gets scores and standard errors for the variants in a Selection that exceed a minimum count cutoff in the input time point, and plots the relationship between each variant's score and input count."
   ]
  },
  {
   "cell_type": "code",
   "execution_count": 1,
   "metadata": {
    "collapsed": true
   },
   "outputs": [],
   "source": [
    "% matplotlib inline"
   ]
  },
  {
   "cell_type": "code",
   "execution_count": 2,
   "metadata": {
    "collapsed": false
   },
   "outputs": [],
   "source": [
    "import os.path\n",
    "import numpy as np\n",
    "import pandas as pd\n",
    "import matplotlib.pyplot as plt\n",
    "from enrich2.variant import WILD_TYPE_VARIANT\n",
    "import enrich2.plots as enrich_plot\n",
    "pd.set_option(\"display.max_rows\", 10) # rows shown when pretty-printing"
   ]
  },
  {
   "cell_type": "markdown",
   "metadata": {},
   "source": [
    "Modify the ``results_path`` variable in the next cell to match the output directory of your Enrich2-Example dataset."
   ]
  },
  {
   "cell_type": "code",
   "execution_count": 3,
   "metadata": {
    "collapsed": true
   },
   "outputs": [],
   "source": [
    "results_path = \"/path/to/Enrich2-Example/Results/\""
   ]
  },
  {
   "cell_type": "markdown",
   "metadata": {},
   "source": [
    "Open the Selection HDF5 file with the variants we are interested in."
   ]
  },
  {
   "cell_type": "code",
   "execution_count": 5,
   "metadata": {
    "collapsed": false
   },
   "outputs": [],
   "source": [
    "my_store = pd.HDFStore(os.path.join(results_path, \"Rep1_sel.h5\"))"
   ]
  },
  {
   "cell_type": "markdown",
   "metadata": {},
   "source": [
    "The ``pd.HDFStore.keys()`` method returns a list of all the tables in this HDF5 file."
   ]
  },
  {
   "cell_type": "code",
   "execution_count": 6,
   "metadata": {
    "collapsed": false
   },
   "outputs": [
    {
     "data": {
      "text/plain": [
       "['/main/barcodemap',\n",
       " '/main/barcodes/counts',\n",
       " '/main/barcodes/counts_unfiltered',\n",
       " '/main/barcodes/log_ratios',\n",
       " '/main/barcodes/scores',\n",
       " '/main/barcodes/weights',\n",
       " '/main/synonymous/counts',\n",
       " '/main/synonymous/counts_unfiltered',\n",
       " '/main/synonymous/log_ratios',\n",
       " '/main/synonymous/scores',\n",
       " '/main/synonymous/weights',\n",
       " '/main/variants/counts',\n",
       " '/main/variants/counts_unfiltered',\n",
       " '/main/variants/log_ratios',\n",
       " '/main/variants/scores',\n",
       " '/main/variants/weights']"
      ]
     },
     "execution_count": 6,
     "metadata": {},
     "output_type": "execute_result"
    }
   ],
   "source": [
    "my_store.keys()"
   ]
  },
  {
   "cell_type": "markdown",
   "metadata": {},
   "source": [
    "We will work with the \"/main/variants/counts\" table first. Enrich2 names the columns for counts ``c_n`` where ``n`` is the time point, beginning with ``0`` for the input library.\n",
    "\n",
    "We can use a query to extract the subset of variants in the table that exceed the specified cutoff. Since we're only interested in variants, we'll explicitly exclude the wild type. We will store the data we extract in the ``variant_count`` data frame."
   ]
  },
  {
   "cell_type": "code",
   "execution_count": 7,
   "metadata": {
    "collapsed": true
   },
   "outputs": [],
   "source": [
    "read_cutoff = 10"
   ]
  },
  {
   "cell_type": "code",
   "execution_count": 8,
   "metadata": {
    "collapsed": false,
    "scrolled": true
   },
   "outputs": [
    {
     "data": {
      "text/html": [
       "<div>\n",
       "<table border=\"1\" class=\"dataframe\">\n",
       "  <thead>\n",
       "    <tr style=\"text-align: right;\">\n",
       "      <th></th>\n",
       "      <th>c_0</th>\n",
       "      <th>c_2</th>\n",
       "      <th>c_5</th>\n",
       "    </tr>\n",
       "  </thead>\n",
       "  <tbody>\n",
       "    <tr>\n",
       "      <th>c.10G&gt;A (p.Ala4Arg), c.11C&gt;G (p.Ala4Arg), c.12T&gt;A (p.Ala4Arg)</th>\n",
       "      <td>787.0</td>\n",
       "      <td>106.0</td>\n",
       "      <td>124.0</td>\n",
       "    </tr>\n",
       "    <tr>\n",
       "      <th>c.10G&gt;A (p.Ala4Asn), c.11C&gt;A (p.Ala4Asn)</th>\n",
       "      <td>699.0</td>\n",
       "      <td>80.0</td>\n",
       "      <td>114.0</td>\n",
       "    </tr>\n",
       "    <tr>\n",
       "      <th>c.10G&gt;A (p.Ala4Asn), c.11C&gt;A (p.Ala4Asn), c.12T&gt;C (p.Ala4Asn)</th>\n",
       "      <td>94.0</td>\n",
       "      <td>8.0</td>\n",
       "      <td>13.0</td>\n",
       "    </tr>\n",
       "    <tr>\n",
       "      <th>c.10G&gt;A (p.Ala4Ile), c.11C&gt;T (p.Ala4Ile)</th>\n",
       "      <td>1280.0</td>\n",
       "      <td>137.0</td>\n",
       "      <td>80.0</td>\n",
       "    </tr>\n",
       "    <tr>\n",
       "      <th>c.10G&gt;A (p.Ala4Ile), c.11C&gt;T (p.Ala4Ile), c.12T&gt;A (p.Ala4Ile)</th>\n",
       "      <td>717.0</td>\n",
       "      <td>42.0</td>\n",
       "      <td>27.0</td>\n",
       "    </tr>\n",
       "    <tr>\n",
       "      <th>...</th>\n",
       "      <td>...</td>\n",
       "      <td>...</td>\n",
       "      <td>...</td>\n",
       "    </tr>\n",
       "    <tr>\n",
       "      <th>c.9T&gt;A (p.=)</th>\n",
       "      <td>327.0</td>\n",
       "      <td>217.0</td>\n",
       "      <td>284.0</td>\n",
       "    </tr>\n",
       "    <tr>\n",
       "      <th>c.9T&gt;C (p.=)</th>\n",
       "      <td>1947.0</td>\n",
       "      <td>523.0</td>\n",
       "      <td>1230.0</td>\n",
       "    </tr>\n",
       "    <tr>\n",
       "      <th>c.9T&gt;C (p.=), c.49A&gt;T (p.Met17Ser), c.50T&gt;C (p.Met17Ser), c.51G&gt;A (p.Met17Ser)</th>\n",
       "      <td>277.0</td>\n",
       "      <td>43.0</td>\n",
       "      <td>5.0</td>\n",
       "    </tr>\n",
       "    <tr>\n",
       "      <th>c.9T&gt;C (p.=), c.62T&gt;C (p.Leu21Ser), c.63A&gt;T (p.Leu21Ser)</th>\n",
       "      <td>495.0</td>\n",
       "      <td>138.0</td>\n",
       "      <td>55.0</td>\n",
       "    </tr>\n",
       "    <tr>\n",
       "      <th>c.9T&gt;G (p.=)</th>\n",
       "      <td>406.0</td>\n",
       "      <td>18.0</td>\n",
       "      <td>20.0</td>\n",
       "    </tr>\n",
       "  </tbody>\n",
       "</table>\n",
       "<p>1440 rows × 3 columns</p>\n",
       "</div>"
      ],
      "text/plain": [
       "                                                       c_0    c_2     c_5\n",
       "c.10G>A (p.Ala4Arg), c.11C>G (p.Ala4Arg), c.12T...   787.0  106.0   124.0\n",
       "c.10G>A (p.Ala4Asn), c.11C>A (p.Ala4Asn)             699.0   80.0   114.0\n",
       "c.10G>A (p.Ala4Asn), c.11C>A (p.Ala4Asn), c.12T...    94.0    8.0    13.0\n",
       "c.10G>A (p.Ala4Ile), c.11C>T (p.Ala4Ile)            1280.0  137.0    80.0\n",
       "c.10G>A (p.Ala4Ile), c.11C>T (p.Ala4Ile), c.12T...   717.0   42.0    27.0\n",
       "...                                                    ...    ...     ...\n",
       "c.9T>A (p.=)                                         327.0  217.0   284.0\n",
       "c.9T>C (p.=)                                        1947.0  523.0  1230.0\n",
       "c.9T>C (p.=), c.49A>T (p.Met17Ser), c.50T>C (p....   277.0   43.0     5.0\n",
       "c.9T>C (p.=), c.62T>C (p.Leu21Ser), c.63A>T (p....   495.0  138.0    55.0\n",
       "c.9T>G (p.=)                                         406.0   18.0    20.0\n",
       "\n",
       "[1440 rows x 3 columns]"
      ]
     },
     "execution_count": 8,
     "metadata": {},
     "output_type": "execute_result"
    }
   ],
   "source": [
    "variant_counts = my_store.select('/main/variants/counts', where='c_0 > read_cutoff and index != WILD_TYPE_VARIANT')\n",
    "variant_counts"
   ]
  },
  {
   "cell_type": "markdown",
   "metadata": {},
   "source": [
    "The index of the data frame is the list of variants that exceeded the cutoff."
   ]
  },
  {
   "cell_type": "code",
   "execution_count": 9,
   "metadata": {
    "collapsed": false
   },
   "outputs": [
    {
     "data": {
      "text/plain": [
       "Index([u'c.10G>A (p.Ala4Arg), c.11C>G (p.Ala4Arg), c.12T>A (p.Ala4Arg)',\n",
       "       u'c.10G>A (p.Ala4Asn), c.11C>A (p.Ala4Asn)',\n",
       "       u'c.10G>A (p.Ala4Asn), c.11C>A (p.Ala4Asn), c.12T>C (p.Ala4Asn)',\n",
       "       u'c.10G>A (p.Ala4Ile), c.11C>T (p.Ala4Ile)',\n",
       "       u'c.10G>A (p.Ala4Ile), c.11C>T (p.Ala4Ile), c.12T>A (p.Ala4Ile)',\n",
       "       u'c.10G>A (p.Ala4Ile), c.11C>T (p.Ala4Ile), c.12T>C (p.Ala4Ile)',\n",
       "       u'c.10G>A (p.Ala4Lys), c.11C>A (p.Ala4Lys), c.12T>A (p.Ala4Lys)',\n",
       "       u'c.10G>A (p.Ala4Met), c.11C>T (p.Ala4Met), c.12T>G (p.Ala4Met)',\n",
       "       u'c.10G>A (p.Ala4Ser), c.11C>G (p.Ala4Ser)',\n",
       "       u'c.10G>A (p.Ala4Ser), c.11C>G (p.Ala4Ser), c.12T>C (p.Ala4Ser)',\n",
       "       ...\n",
       "       u'c.8C>T (p.Ser3Phe), c.60C>T (p.=)',\n",
       "       u'c.8C>T (p.Ser3Phe), c.9T>C (p.Ser3Phe)', u'c.90C>A (p.=)',\n",
       "       u'c.90C>G (p.Ile30Met)', u'c.90C>T (p.=)', u'c.9T>A (p.=)',\n",
       "       u'c.9T>C (p.=)',\n",
       "       u'c.9T>C (p.=), c.49A>T (p.Met17Ser), c.50T>C (p.Met17Ser), c.51G>A (p.Met17Ser)',\n",
       "       u'c.9T>C (p.=), c.62T>C (p.Leu21Ser), c.63A>T (p.Leu21Ser)',\n",
       "       u'c.9T>G (p.=)'],\n",
       "      dtype='object', length=1440)"
      ]
     },
     "execution_count": 9,
     "metadata": {},
     "output_type": "execute_result"
    }
   ],
   "source": [
    "variant_counts.index"
   ]
  },
  {
   "cell_type": "markdown",
   "metadata": {},
   "source": [
    "We can use this index to get the scores for these variants by querying the \"/main/variants/scores\" table. We'll store the result of the query in a new data frame named ``variant_scores``, and keep only the score and standard error (SE) columns."
   ]
  },
  {
   "cell_type": "code",
   "execution_count": 10,
   "metadata": {
    "collapsed": false
   },
   "outputs": [
    {
     "data": {
      "text/html": [
       "<div>\n",
       "<table border=\"1\" class=\"dataframe\">\n",
       "  <thead>\n",
       "    <tr style=\"text-align: right;\">\n",
       "      <th></th>\n",
       "      <th>score</th>\n",
       "      <th>SE</th>\n",
       "    </tr>\n",
       "  </thead>\n",
       "  <tbody>\n",
       "    <tr>\n",
       "      <th>c.10G&gt;A (p.Ala4Arg), c.11C&gt;G (p.Ala4Arg), c.12T&gt;A (p.Ala4Arg)</th>\n",
       "      <td>-0.980091</td>\n",
       "      <td>0.134873</td>\n",
       "    </tr>\n",
       "    <tr>\n",
       "      <th>c.10G&gt;A (p.Ala4Asn), c.11C&gt;A (p.Ala4Asn)</th>\n",
       "      <td>-0.972035</td>\n",
       "      <td>0.268962</td>\n",
       "    </tr>\n",
       "    <tr>\n",
       "      <th>c.10G&gt;A (p.Ala4Asn), c.11C&gt;A (p.Ala4Asn), c.12T&gt;C (p.Ala4Asn)</th>\n",
       "      <td>-1.138667</td>\n",
       "      <td>0.403767</td>\n",
       "    </tr>\n",
       "    <tr>\n",
       "      <th>c.10G&gt;A (p.Ala4Ile), c.11C&gt;T (p.Ala4Ile)</th>\n",
       "      <td>-1.875331</td>\n",
       "      <td>0.014883</td>\n",
       "    </tr>\n",
       "    <tr>\n",
       "      <th>c.10G&gt;A (p.Ala4Ile), c.11C&gt;T (p.Ala4Ile), c.12T&gt;A (p.Ala4Ile)</th>\n",
       "      <td>-2.552289</td>\n",
       "      <td>0.421699</td>\n",
       "    </tr>\n",
       "    <tr>\n",
       "      <th>...</th>\n",
       "      <td>...</td>\n",
       "      <td>...</td>\n",
       "    </tr>\n",
       "    <tr>\n",
       "      <th>c.9T&gt;A (p.=)</th>\n",
       "      <td>0.705661</td>\n",
       "      <td>0.774559</td>\n",
       "    </tr>\n",
       "    <tr>\n",
       "      <th>c.9T&gt;C (p.=)</th>\n",
       "      <td>0.438654</td>\n",
       "      <td>0.014857</td>\n",
       "    </tr>\n",
       "    <tr>\n",
       "      <th>c.9T&gt;C (p.=), c.49A&gt;T (p.Met17Ser), c.50T&gt;C (p.Met17Ser), c.51G&gt;A (p.Met17Ser)</th>\n",
       "      <td>-1.930922</td>\n",
       "      <td>1.085535</td>\n",
       "    </tr>\n",
       "    <tr>\n",
       "      <th>c.9T&gt;C (p.=), c.62T&gt;C (p.Leu21Ser), c.63A&gt;T (p.Leu21Ser)</th>\n",
       "      <td>-0.897249</td>\n",
       "      <td>0.884321</td>\n",
       "    </tr>\n",
       "    <tr>\n",
       "      <th>c.9T&gt;G (p.=)</th>\n",
       "      <td>-2.314604</td>\n",
       "      <td>0.671760</td>\n",
       "    </tr>\n",
       "  </tbody>\n",
       "</table>\n",
       "<p>1440 rows × 2 columns</p>\n",
       "</div>"
      ],
      "text/plain": [
       "                                                       score        SE\n",
       "c.10G>A (p.Ala4Arg), c.11C>G (p.Ala4Arg), c.12T... -0.980091  0.134873\n",
       "c.10G>A (p.Ala4Asn), c.11C>A (p.Ala4Asn)           -0.972035  0.268962\n",
       "c.10G>A (p.Ala4Asn), c.11C>A (p.Ala4Asn), c.12T... -1.138667  0.403767\n",
       "c.10G>A (p.Ala4Ile), c.11C>T (p.Ala4Ile)           -1.875331  0.014883\n",
       "c.10G>A (p.Ala4Ile), c.11C>T (p.Ala4Ile), c.12T... -2.552289  0.421699\n",
       "...                                                      ...       ...\n",
       "c.9T>A (p.=)                                        0.705661  0.774559\n",
       "c.9T>C (p.=)                                        0.438654  0.014857\n",
       "c.9T>C (p.=), c.49A>T (p.Met17Ser), c.50T>C (p.... -1.930922  1.085535\n",
       "c.9T>C (p.=), c.62T>C (p.Leu21Ser), c.63A>T (p.... -0.897249  0.884321\n",
       "c.9T>G (p.=)                                       -2.314604  0.671760\n",
       "\n",
       "[1440 rows x 2 columns]"
      ]
     },
     "execution_count": 10,
     "metadata": {},
     "output_type": "execute_result"
    }
   ],
   "source": [
    "variant_scores = my_store.select('/main/variants/scores', where='index in variant_counts.index')\n",
    "variant_scores = variant_scores[['score', 'SE']]\n",
    "variant_scores"
   ]
  },
  {
   "cell_type": "markdown",
   "metadata": {},
   "source": [
    "Now that we're finished getting data out of the HDF5 file, we'll close it."
   ]
  },
  {
   "cell_type": "code",
   "execution_count": 11,
   "metadata": {
    "collapsed": true
   },
   "outputs": [],
   "source": [
    "my_store.close()"
   ]
  },
  {
   "cell_type": "markdown",
   "metadata": {},
   "source": [
    "To more easily explore the relationship between input count and score, we'll add a column to the ``variant_scores`` data frame that contains input counts from the ``variant_counts`` data frame."
   ]
  },
  {
   "cell_type": "code",
   "execution_count": 12,
   "metadata": {
    "collapsed": false
   },
   "outputs": [
    {
     "data": {
      "text/html": [
       "<div>\n",
       "<table border=\"1\" class=\"dataframe\">\n",
       "  <thead>\n",
       "    <tr style=\"text-align: right;\">\n",
       "      <th></th>\n",
       "      <th>score</th>\n",
       "      <th>SE</th>\n",
       "      <th>input_count</th>\n",
       "    </tr>\n",
       "  </thead>\n",
       "  <tbody>\n",
       "    <tr>\n",
       "      <th>c.10G&gt;A (p.Ala4Arg), c.11C&gt;G (p.Ala4Arg), c.12T&gt;A (p.Ala4Arg)</th>\n",
       "      <td>-0.980091</td>\n",
       "      <td>0.134873</td>\n",
       "      <td>787.0</td>\n",
       "    </tr>\n",
       "    <tr>\n",
       "      <th>c.10G&gt;A (p.Ala4Asn), c.11C&gt;A (p.Ala4Asn)</th>\n",
       "      <td>-0.972035</td>\n",
       "      <td>0.268962</td>\n",
       "      <td>699.0</td>\n",
       "    </tr>\n",
       "    <tr>\n",
       "      <th>c.10G&gt;A (p.Ala4Asn), c.11C&gt;A (p.Ala4Asn), c.12T&gt;C (p.Ala4Asn)</th>\n",
       "      <td>-1.138667</td>\n",
       "      <td>0.403767</td>\n",
       "      <td>94.0</td>\n",
       "    </tr>\n",
       "    <tr>\n",
       "      <th>c.10G&gt;A (p.Ala4Ile), c.11C&gt;T (p.Ala4Ile)</th>\n",
       "      <td>-1.875331</td>\n",
       "      <td>0.014883</td>\n",
       "      <td>1280.0</td>\n",
       "    </tr>\n",
       "    <tr>\n",
       "      <th>c.10G&gt;A (p.Ala4Ile), c.11C&gt;T (p.Ala4Ile), c.12T&gt;A (p.Ala4Ile)</th>\n",
       "      <td>-2.552289</td>\n",
       "      <td>0.421699</td>\n",
       "      <td>717.0</td>\n",
       "    </tr>\n",
       "    <tr>\n",
       "      <th>...</th>\n",
       "      <td>...</td>\n",
       "      <td>...</td>\n",
       "      <td>...</td>\n",
       "    </tr>\n",
       "    <tr>\n",
       "      <th>c.9T&gt;A (p.=)</th>\n",
       "      <td>0.705661</td>\n",
       "      <td>0.774559</td>\n",
       "      <td>327.0</td>\n",
       "    </tr>\n",
       "    <tr>\n",
       "      <th>c.9T&gt;C (p.=)</th>\n",
       "      <td>0.438654</td>\n",
       "      <td>0.014857</td>\n",
       "      <td>1947.0</td>\n",
       "    </tr>\n",
       "    <tr>\n",
       "      <th>c.9T&gt;C (p.=), c.49A&gt;T (p.Met17Ser), c.50T&gt;C (p.Met17Ser), c.51G&gt;A (p.Met17Ser)</th>\n",
       "      <td>-1.930922</td>\n",
       "      <td>1.085535</td>\n",
       "      <td>277.0</td>\n",
       "    </tr>\n",
       "    <tr>\n",
       "      <th>c.9T&gt;C (p.=), c.62T&gt;C (p.Leu21Ser), c.63A&gt;T (p.Leu21Ser)</th>\n",
       "      <td>-0.897249</td>\n",
       "      <td>0.884321</td>\n",
       "      <td>495.0</td>\n",
       "    </tr>\n",
       "    <tr>\n",
       "      <th>c.9T&gt;G (p.=)</th>\n",
       "      <td>-2.314604</td>\n",
       "      <td>0.671760</td>\n",
       "      <td>406.0</td>\n",
       "    </tr>\n",
       "  </tbody>\n",
       "</table>\n",
       "<p>1440 rows × 3 columns</p>\n",
       "</div>"
      ],
      "text/plain": [
       "                                                       score        SE  \\\n",
       "c.10G>A (p.Ala4Arg), c.11C>G (p.Ala4Arg), c.12T... -0.980091  0.134873   \n",
       "c.10G>A (p.Ala4Asn), c.11C>A (p.Ala4Asn)           -0.972035  0.268962   \n",
       "c.10G>A (p.Ala4Asn), c.11C>A (p.Ala4Asn), c.12T... -1.138667  0.403767   \n",
       "c.10G>A (p.Ala4Ile), c.11C>T (p.Ala4Ile)           -1.875331  0.014883   \n",
       "c.10G>A (p.Ala4Ile), c.11C>T (p.Ala4Ile), c.12T... -2.552289  0.421699   \n",
       "...                                                      ...       ...   \n",
       "c.9T>A (p.=)                                        0.705661  0.774559   \n",
       "c.9T>C (p.=)                                        0.438654  0.014857   \n",
       "c.9T>C (p.=), c.49A>T (p.Met17Ser), c.50T>C (p.... -1.930922  1.085535   \n",
       "c.9T>C (p.=), c.62T>C (p.Leu21Ser), c.63A>T (p.... -0.897249  0.884321   \n",
       "c.9T>G (p.=)                                       -2.314604  0.671760   \n",
       "\n",
       "                                                    input_count  \n",
       "c.10G>A (p.Ala4Arg), c.11C>G (p.Ala4Arg), c.12T...        787.0  \n",
       "c.10G>A (p.Ala4Asn), c.11C>A (p.Ala4Asn)                  699.0  \n",
       "c.10G>A (p.Ala4Asn), c.11C>A (p.Ala4Asn), c.12T...         94.0  \n",
       "c.10G>A (p.Ala4Ile), c.11C>T (p.Ala4Ile)                 1280.0  \n",
       "c.10G>A (p.Ala4Ile), c.11C>T (p.Ala4Ile), c.12T...        717.0  \n",
       "...                                                         ...  \n",
       "c.9T>A (p.=)                                              327.0  \n",
       "c.9T>C (p.=)                                             1947.0  \n",
       "c.9T>C (p.=), c.49A>T (p.Met17Ser), c.50T>C (p....        277.0  \n",
       "c.9T>C (p.=), c.62T>C (p.Leu21Ser), c.63A>T (p....        495.0  \n",
       "c.9T>G (p.=)                                              406.0  \n",
       "\n",
       "[1440 rows x 3 columns]"
      ]
     },
     "execution_count": 12,
     "metadata": {},
     "output_type": "execute_result"
    }
   ],
   "source": [
    "variant_scores['input_count'] = variant_counts['c_0']\n",
    "variant_scores"
   ]
  },
  {
   "cell_type": "markdown",
   "metadata": {},
   "source": [
    "Now that all the information is in a single data frame, we can make a plot of score vs. input count. This example uses functions and colors from the Enrich2 plotting library. Taking the log10 of the counts makes the data easier to visualize."
   ]
  },
  {
   "cell_type": "code",
   "execution_count": 13,
   "metadata": {
    "collapsed": false
   },
   "outputs": [
    {
     "data": {
      "text/plain": [
       "<matplotlib.text.Text at 0x9e796a0>"
      ]
     },
     "execution_count": 13,
     "metadata": {},
     "output_type": "execute_result"
    },
    {
     "data": {
      "image/png": "iVBORw0KGgoAAAANSUhEUgAAAh8AAAF5CAYAAAA/GEgLAAAABHNCSVQICAgIfAhkiAAAAAlwSFlz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\nVR0Wby7z2vOT6xqtrUyvdTRUtkinter.tkk3BaXbItnL57Kn0+QzecqLFb+S52OD2DUnTNDcaPf/xrffYfr1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\nvTyaV+BBAAAAAElFTkSuQmCC\n",
      "text/plain": [
       "<matplotlib.figure.Figure at 0xa1a8518>"
      ]
     },
     "metadata": {},
     "output_type": "display_data"
    }
   ],
   "source": [
    "fig, ax = plt.subplots()\n",
    "enrich_plot.configure_axes(ax, xgrid=True)\n",
    "ax.plot(np.log10(variant_scores['input_count']), \n",
    "        variant_scores['score'], \n",
    "        linestyle='none', marker='.', alpha=0.6,\n",
    "        color=enrich_plot.plot_colors['bright4'])\n",
    "ax.set_xlabel(\"log10(Input Count)\")\n",
    "ax.set_ylabel(\"Variant Score\")"
   ]
  },
  {
   "cell_type": "code",
   "execution_count": null,
   "metadata": {
    "collapsed": true
   },
   "outputs": [],
   "source": []
  }
 ],
 "metadata": {
  "anaconda-cloud": {},
  "kernelspec": {
   "display_name": "Python [default]",
   "language": "python",
   "name": "python2"
  },
  "language_info": {
   "codemirror_mode": {
    "name": "ipython",
    "version": 2
   },
   "file_extension": ".py",
   "mimetype": "text/x-python",
   "name": "python",
   "nbconvert_exporter": "python",
   "pygments_lexer": "ipython2",
   "version": "2.7.12"
  }
 },
 "nbformat": 4,
 "nbformat_minor": 0
}
