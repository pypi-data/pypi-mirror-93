{
 "cells": [
  {
   "cell_type": "markdown",
   "metadata": {},
   "source": [
    "Selecting variants by number of unique barcodes\n",
    "-------------------------------------------------------------\n",
    "\n",
    "This notebook gets scores for the variants in an Experiment that are linked to multiple barcodes, and plots the relationship between each variant's score and number of unique barcodes."
   ]
  },
  {
   "cell_type": "code",
   "execution_count": 2,
   "metadata": {
    "collapsed": true
   },
   "outputs": [],
   "source": [
    "% matplotlib inline"
   ]
  },
  {
   "cell_type": "code",
   "execution_count": 53,
   "metadata": {
    "collapsed": false
   },
   "outputs": [],
   "source": [
    "import os.path\n",
    "from collections import Counter\n",
    "import numpy as np\n",
    "import pandas as pd\n",
    "import matplotlib.pyplot as plt\n",
    "from enrich2.variant import WILD_TYPE_VARIANT\n",
    "import enrich2.plots as enrich_plot\n",
    "pd.set_option(\"display.max_rows\", 10) # rows shown when pretty-printing"
   ]
  },
  {
   "cell_type": "markdown",
   "metadata": {},
   "source": [
    "Modify the ``results_path`` variable in the next cell to match the output directory of your Enrich2-Example dataset."
   ]
  },
  {
   "cell_type": "code",
   "execution_count": 4,
   "metadata": {
    "collapsed": true
   },
   "outputs": [],
   "source": [
    "results_path = \"/path/to/Enrich2-Example/Results/\""
   ]
  },
  {
   "cell_type": "markdown",
   "metadata": {},
   "source": [
    "Open the Experiment HDF5 file."
   ]
  },
  {
   "cell_type": "code",
   "execution_count": 10,
   "metadata": {
    "collapsed": false
   },
   "outputs": [],
   "source": [
    "my_store = pd.HDFStore(os.path.join(results_path, \"BRCA1_Example_exp.h5\"))"
   ]
  },
  {
   "cell_type": "markdown",
   "metadata": {},
   "source": [
    "The ``pd.HDFStore.keys()`` method returns a list of all the tables in this HDF5 file."
   ]
  },
  {
   "cell_type": "code",
   "execution_count": 73,
   "metadata": {
    "collapsed": false
   },
   "outputs": [
    {
     "data": {
      "text/plain": [
       "['/main/barcodemap',\n",
       " '/main/barcodes/counts',\n",
       " '/main/barcodes/scores',\n",
       " '/main/barcodes/scores_shared',\n",
       " '/main/barcodes/scores_shared_full',\n",
       " '/main/synonymous/counts',\n",
       " '/main/synonymous/scores',\n",
       " '/main/synonymous/scores_pvalues_wt',\n",
       " '/main/synonymous/scores_shared',\n",
       " '/main/synonymous/scores_shared_full',\n",
       " '/main/variants/counts',\n",
       " '/main/variants/scores',\n",
       " '/main/variants/scores_pvalues_wt',\n",
       " '/main/variants/scores_shared',\n",
       " '/main/variants/scores_shared_full']"
      ]
     },
     "execution_count": 73,
     "metadata": {},
     "output_type": "execute_result"
    }
   ],
   "source": [
    "my_store.keys()"
   ]
  },
  {
   "cell_type": "markdown",
   "metadata": {},
   "source": [
    "First we will work with the barcode-variant map for this analysis, stored in the \"/main/barcodemap\" table. The index is the barcode and it has a single column for the variant HGVS string."
   ]
  },
  {
   "cell_type": "code",
   "execution_count": 74,
   "metadata": {
    "collapsed": false
   },
   "outputs": [
    {
     "data": {
      "text/html": [
       "<div>\n",
       "<table border=\"1\" class=\"dataframe\">\n",
       "  <thead>\n",
       "    <tr style=\"text-align: right;\">\n",
       "      <th></th>\n",
       "      <th>value</th>\n",
       "    </tr>\n",
       "  </thead>\n",
       "  <tbody>\n",
       "    <tr>\n",
       "      <th>TTTTTTGTGTCTGTGA</th>\n",
       "      <td>_wt</td>\n",
       "    </tr>\n",
       "    <tr>\n",
       "      <th>GGGCACGTCTTTATAG</th>\n",
       "      <td>_wt</td>\n",
       "    </tr>\n",
       "    <tr>\n",
       "      <th>GTTACTGGTTAGTATT</th>\n",
       "      <td>_wt</td>\n",
       "    </tr>\n",
       "    <tr>\n",
       "      <th>GTTACTTGATCCGACC</th>\n",
       "      <td>_wt</td>\n",
       "    </tr>\n",
       "    <tr>\n",
       "      <th>GTTAGATGGATGTACG</th>\n",
       "      <td>_wt</td>\n",
       "    </tr>\n",
       "    <tr>\n",
       "      <th>...</th>\n",
       "      <td>...</td>\n",
       "    </tr>\n",
       "    <tr>\n",
       "      <th>GAGTACTTTTTTGATT</th>\n",
       "      <td>c.9T&gt;C (p.=), c.62T&gt;C (p.Leu21Ser), c.63A&gt;T (p...</td>\n",
       "    </tr>\n",
       "    <tr>\n",
       "      <th>ATGATGACGTGTCTTG</th>\n",
       "      <td>c.9T&gt;G (p.=)</td>\n",
       "    </tr>\n",
       "    <tr>\n",
       "      <th>TCACCGGAACGTTGGT</th>\n",
       "      <td>c.9T&gt;G (p.=)</td>\n",
       "    </tr>\n",
       "    <tr>\n",
       "      <th>TGACGATGTTGCATTT</th>\n",
       "      <td>c.9T&gt;G (p.=), c.17G&gt;C (p.Arg6Pro), c.18C&gt;T (p....</td>\n",
       "    </tr>\n",
       "    <tr>\n",
       "      <th>GTTATCAGCGCCCCTT</th>\n",
       "      <td>c.9T&gt;G (p.=), c.85T&gt;G (p.Leu29Gly), c.86T&gt;G (p...</td>\n",
       "    </tr>\n",
       "  </tbody>\n",
       "</table>\n",
       "<p>20325 rows × 1 columns</p>\n",
       "</div>"
      ],
      "text/plain": [
       "                                                              value\n",
       "TTTTTTGTGTCTGTGA                                                _wt\n",
       "GGGCACGTCTTTATAG                                                _wt\n",
       "GTTACTGGTTAGTATT                                                _wt\n",
       "GTTACTTGATCCGACC                                                _wt\n",
       "GTTAGATGGATGTACG                                                _wt\n",
       "...                                                             ...\n",
       "GAGTACTTTTTTGATT  c.9T>C (p.=), c.62T>C (p.Leu21Ser), c.63A>T (p...\n",
       "ATGATGACGTGTCTTG                                       c.9T>G (p.=)\n",
       "TCACCGGAACGTTGGT                                       c.9T>G (p.=)\n",
       "TGACGATGTTGCATTT  c.9T>G (p.=), c.17G>C (p.Arg6Pro), c.18C>T (p....\n",
       "GTTATCAGCGCCCCTT  c.9T>G (p.=), c.85T>G (p.Leu29Gly), c.86T>G (p...\n",
       "\n",
       "[20325 rows x 1 columns]"
      ]
     },
     "execution_count": 74,
     "metadata": {},
     "output_type": "execute_result"
    }
   ],
   "source": [
    "bcm = my_store['/main/barcodemap']\n",
    "bcm"
   ]
  },
  {
   "cell_type": "markdown",
   "metadata": {},
   "source": [
    "To find out how many unique barcodes are linked to each variant, we'll count the number of times each variant appears in the barcode-variant map using a [Counter data structure](https://docs.python.org/2/library/collections.html#counter-objects). We'll then output the top ten variants by number of unique barcodes."
   ]
  },
  {
   "cell_type": "code",
   "execution_count": 75,
   "metadata": {
    "collapsed": false
   },
   "outputs": [
    {
     "data": {
      "text/plain": [
       "[('_wt', 5844),\n",
       " ('c.63A>T (p.Leu21Phe)', 109),\n",
       " ('c.39C>A (p.=)', 91),\n",
       " ('c.61T>A (p.Leu21Ile), c.63A>T (p.Leu21Ile)', 77),\n",
       " ('c.62T>A (p.Leu21Tyr), c.63A>T (p.Leu21Tyr)', 77),\n",
       " ('c.63A>G (p.=)', 73),\n",
       " ('c.72C>A (p.=)', 72),\n",
       " ('c.62T>G (p.Leu21Cys), c.63A>T (p.Leu21Cys)', 71),\n",
       " ('c.13C>A (p.Leu5Ile)', 70),\n",
       " ('c.62T>A (p.Leu21Ter)', 63)]"
      ]
     },
     "execution_count": 75,
     "metadata": {},
     "output_type": "execute_result"
    }
   ],
   "source": [
    "variant_bcs = Counter(bcm['value'])\n",
    "variant_bcs.most_common(10)"
   ]
  },
  {
   "cell_type": "markdown",
   "metadata": {},
   "source": [
    "Next we'll turn the Counter into a data frame."
   ]
  },
  {
   "cell_type": "code",
   "execution_count": 76,
   "metadata": {
    "collapsed": false
   },
   "outputs": [
    {
     "data": {
      "text/html": [
       "<div>\n",
       "<table border=\"1\" class=\"dataframe\">\n",
       "  <thead>\n",
       "    <tr style=\"text-align: right;\">\n",
       "      <th></th>\n",
       "      <th>variant</th>\n",
       "      <th>barcodes</th>\n",
       "    </tr>\n",
       "  </thead>\n",
       "  <tbody>\n",
       "    <tr>\n",
       "      <th>0</th>\n",
       "      <td>_wt</td>\n",
       "      <td>5844</td>\n",
       "    </tr>\n",
       "    <tr>\n",
       "      <th>1</th>\n",
       "      <td>c.63A&gt;T (p.Leu21Phe)</td>\n",
       "      <td>109</td>\n",
       "    </tr>\n",
       "    <tr>\n",
       "      <th>2</th>\n",
       "      <td>c.39C&gt;A (p.=)</td>\n",
       "      <td>91</td>\n",
       "    </tr>\n",
       "    <tr>\n",
       "      <th>3</th>\n",
       "      <td>c.61T&gt;A (p.Leu21Ile), c.63A&gt;T (p.Leu21Ile)</td>\n",
       "      <td>77</td>\n",
       "    </tr>\n",
       "    <tr>\n",
       "      <th>4</th>\n",
       "      <td>c.62T&gt;A (p.Leu21Tyr), c.63A&gt;T (p.Leu21Tyr)</td>\n",
       "      <td>77</td>\n",
       "    </tr>\n",
       "    <tr>\n",
       "      <th>...</th>\n",
       "      <td>...</td>\n",
       "      <td>...</td>\n",
       "    </tr>\n",
       "    <tr>\n",
       "      <th>1958</th>\n",
       "      <td>c.77G&gt;T (p.Cys26Leu), c.78C&gt;A (p.Cys26Leu), c....</td>\n",
       "      <td>1</td>\n",
       "    </tr>\n",
       "    <tr>\n",
       "      <th>1959</th>\n",
       "      <td>c.67T&gt;A (p.Cys23Ile), c.68G&gt;T (p.Cys23Ile), c....</td>\n",
       "      <td>1</td>\n",
       "    </tr>\n",
       "    <tr>\n",
       "      <th>1960</th>\n",
       "      <td>c.41T&gt;C (p.Ile14Thr), c.48T&gt;G (p.=)</td>\n",
       "      <td>1</td>\n",
       "    </tr>\n",
       "    <tr>\n",
       "      <th>1961</th>\n",
       "      <td>c.55A&gt;C (p.Lys19Leu), c.56A&gt;T (p.Lys19Leu), c....</td>\n",
       "      <td>1</td>\n",
       "    </tr>\n",
       "    <tr>\n",
       "      <th>1962</th>\n",
       "      <td>c.50T&gt;C (p.Met17Thr), c.78C&gt;T (p.=)</td>\n",
       "      <td>1</td>\n",
       "    </tr>\n",
       "  </tbody>\n",
       "</table>\n",
       "<p>1963 rows × 2 columns</p>\n",
       "</div>"
      ],
      "text/plain": [
       "                                                variant  barcodes\n",
       "0                                                   _wt      5844\n",
       "1                                  c.63A>T (p.Leu21Phe)       109\n",
       "2                                         c.39C>A (p.=)        91\n",
       "3            c.61T>A (p.Leu21Ile), c.63A>T (p.Leu21Ile)        77\n",
       "4            c.62T>A (p.Leu21Tyr), c.63A>T (p.Leu21Tyr)        77\n",
       "...                                                 ...       ...\n",
       "1958  c.77G>T (p.Cys26Leu), c.78C>A (p.Cys26Leu), c....         1\n",
       "1959  c.67T>A (p.Cys23Ile), c.68G>T (p.Cys23Ile), c....         1\n",
       "1960                c.41T>C (p.Ile14Thr), c.48T>G (p.=)         1\n",
       "1961  c.55A>C (p.Lys19Leu), c.56A>T (p.Lys19Leu), c....         1\n",
       "1962                c.50T>C (p.Met17Thr), c.78C>T (p.=)         1\n",
       "\n",
       "[1963 rows x 2 columns]"
      ]
     },
     "execution_count": 76,
     "metadata": {},
     "output_type": "execute_result"
    }
   ],
   "source": [
    "bc_counts = pd.DataFrame(variant_bcs.most_common(), columns=['variant', 'barcodes'])\n",
    "bc_counts"
   ]
  },
  {
   "cell_type": "markdown",
   "metadata": {},
   "source": [
    "The data frame has the information we want, but it will be easier to use later if it's indexed by variant rather than row number."
   ]
  },
  {
   "cell_type": "code",
   "execution_count": 77,
   "metadata": {
    "collapsed": false
   },
   "outputs": [
    {
     "data": {
      "text/html": [
       "<div>\n",
       "<table border=\"1\" class=\"dataframe\">\n",
       "  <thead>\n",
       "    <tr style=\"text-align: right;\">\n",
       "      <th></th>\n",
       "      <th>barcodes</th>\n",
       "    </tr>\n",
       "  </thead>\n",
       "  <tbody>\n",
       "    <tr>\n",
       "      <th>_wt</th>\n",
       "      <td>5844</td>\n",
       "    </tr>\n",
       "    <tr>\n",
       "      <th>c.63A&gt;T (p.Leu21Phe)</th>\n",
       "      <td>109</td>\n",
       "    </tr>\n",
       "    <tr>\n",
       "      <th>c.39C&gt;A (p.=)</th>\n",
       "      <td>91</td>\n",
       "    </tr>\n",
       "    <tr>\n",
       "      <th>c.61T&gt;A (p.Leu21Ile), c.63A&gt;T (p.Leu21Ile)</th>\n",
       "      <td>77</td>\n",
       "    </tr>\n",
       "    <tr>\n",
       "      <th>c.62T&gt;A (p.Leu21Tyr), c.63A&gt;T (p.Leu21Tyr)</th>\n",
       "      <td>77</td>\n",
       "    </tr>\n",
       "    <tr>\n",
       "      <th>...</th>\n",
       "      <td>...</td>\n",
       "    </tr>\n",
       "    <tr>\n",
       "      <th>c.77G&gt;T (p.Cys26Leu), c.78C&gt;A (p.Cys26Leu), c.81G&gt;T (p.=)</th>\n",
       "      <td>1</td>\n",
       "    </tr>\n",
       "    <tr>\n",
       "      <th>c.67T&gt;A (p.Cys23Ile), c.68G&gt;T (p.Cys23Ile), c.69T&gt;A (p.Cys23Ile)</th>\n",
       "      <td>1</td>\n",
       "    </tr>\n",
       "    <tr>\n",
       "      <th>c.41T&gt;C (p.Ile14Thr), c.48T&gt;G (p.=)</th>\n",
       "      <td>1</td>\n",
       "    </tr>\n",
       "    <tr>\n",
       "      <th>c.55A&gt;C (p.Lys19Leu), c.56A&gt;T (p.Lys19Leu), c.57A&gt;G (p.Lys19Leu), c.81G&gt;T (p.=)</th>\n",
       "      <td>1</td>\n",
       "    </tr>\n",
       "    <tr>\n",
       "      <th>c.50T&gt;C (p.Met17Thr), c.78C&gt;T (p.=)</th>\n",
       "      <td>1</td>\n",
       "    </tr>\n",
       "  </tbody>\n",
       "</table>\n",
       "<p>1963 rows × 1 columns</p>\n",
       "</div>"
      ],
      "text/plain": [
       "                                                    barcodes\n",
       "_wt                                                     5844\n",
       "c.63A>T (p.Leu21Phe)                                     109\n",
       "c.39C>A (p.=)                                             91\n",
       "c.61T>A (p.Leu21Ile), c.63A>T (p.Leu21Ile)                77\n",
       "c.62T>A (p.Leu21Tyr), c.63A>T (p.Leu21Tyr)                77\n",
       "...                                                      ...\n",
       "c.77G>T (p.Cys26Leu), c.78C>A (p.Cys26Leu), c.8...         1\n",
       "c.67T>A (p.Cys23Ile), c.68G>T (p.Cys23Ile), c.6...         1\n",
       "c.41T>C (p.Ile14Thr), c.48T>G (p.=)                        1\n",
       "c.55A>C (p.Lys19Leu), c.56A>T (p.Lys19Leu), c.5...         1\n",
       "c.50T>C (p.Met17Thr), c.78C>T (p.=)                        1\n",
       "\n",
       "[1963 rows x 1 columns]"
      ]
     },
     "execution_count": 77,
     "metadata": {},
     "output_type": "execute_result"
    }
   ],
   "source": [
    "bc_counts.index = bc_counts['variant']\n",
    "bc_counts.index.name = None\n",
    "del bc_counts['variant']\n",
    "bc_counts"
   ]
  },
  {
   "cell_type": "markdown",
   "metadata": {},
   "source": [
    "We'll use a cutoff to choose variants with a minimum number of unique barcodes, and store this subset in a new index. We'll also exclude the wild type by dropping the first entry of the index."
   ]
  },
  {
   "cell_type": "code",
   "execution_count": 78,
   "metadata": {
    "collapsed": true
   },
   "outputs": [],
   "source": [
    "bc_cutoff = 10"
   ]
  },
  {
   "cell_type": "code",
   "execution_count": 79,
   "metadata": {
    "collapsed": false
   },
   "outputs": [
    {
     "data": {
      "text/plain": [
       "Index([u'c.63A>T (p.Leu21Phe)', u'c.39C>A (p.=)',\n",
       "       u'c.61T>A (p.Leu21Ile), c.63A>T (p.Leu21Ile)',\n",
       "       u'c.62T>A (p.Leu21Tyr), c.63A>T (p.Leu21Tyr)', u'c.63A>G (p.=)',\n",
       "       u'c.72C>A (p.=)', u'c.62T>G (p.Leu21Cys), c.63A>T (p.Leu21Cys)',\n",
       "       u'c.13C>A (p.Leu5Ile)', u'c.62T>A (p.Leu21Ter)',\n",
       "       u'c.63A>C (p.Leu21Phe)',\n",
       "       ...\n",
       "       u'c.88A>C (p.Ile30Arg), c.89T>G (p.Ile30Arg), c.90C>T (p.Ile30Arg)',\n",
       "       u'c.76T>A (p.Cys26Lys), c.77G>A (p.Cys26Lys), c.78C>G (p.Cys26Lys)',\n",
       "       u'c.22G>A (p.Glu8Ile), c.23A>T (p.Glu8Ile), c.24A>T (p.Glu8Ile)',\n",
       "       u'c.49A>T (p.Met17Ser), c.50T>C (p.Met17Ser), c.51G>A (p.Met17Ser)',\n",
       "       u'c.64G>A (p.Glu22Arg), c.65A>G (p.Glu22Arg)',\n",
       "       u'c.77G>C (p.Cys26Ser), c.78C>G (p.Cys26Ser)',\n",
       "       u'c.29T>A (p.Val10Glu), c.30A>G (p.Val10Glu)',\n",
       "       u'c.50T>A (p.Met17Asn), c.51G>T (p.Met17Asn)',\n",
       "       u'c.61T>A (p.Leu21Thr), c.62T>C (p.Leu21Thr), c.63A>G (p.Leu21Thr)',\n",
       "       u'c.49A>G (p.Met17Ala), c.50T>C (p.Met17Ala)'],\n",
       "      dtype='object', length=504)"
      ]
     },
     "execution_count": 79,
     "metadata": {},
     "output_type": "execute_result"
    }
   ],
   "source": [
    "multi_bc_variants = bc_counts.loc[bc_counts['barcodes']  >= bc_cutoff].index[1:]\n",
    "multi_bc_variants"
   ]
  },
  {
   "cell_type": "markdown",
   "metadata": {},
   "source": [
    "We can use this index to get condition-level scores for these variants by querying the \"/main/variants/scores\" table. Since we are working with an Experiment HDF5 file, the data frame column names are a MultiIndex with two levels, one for experimental conditions and one for data values (see the [pandas documentation](http://pandas.pydata.org/pandas-docs/stable/advanced.html) for more information)."
   ]
  },
  {
   "cell_type": "code",
   "execution_count": 80,
   "metadata": {
    "collapsed": false
   },
   "outputs": [
    {
     "data": {
      "text/html": [
       "<div>\n",
       "<table border=\"1\" class=\"dataframe\">\n",
       "  <thead>\n",
       "    <tr>\n",
       "      <th>condition</th>\n",
       "      <th colspan=\"3\" halign=\"left\">E3</th>\n",
       "    </tr>\n",
       "    <tr>\n",
       "      <th>value</th>\n",
       "      <th>SE</th>\n",
       "      <th>epsilon</th>\n",
       "      <th>score</th>\n",
       "    </tr>\n",
       "  </thead>\n",
       "  <tbody>\n",
       "    <tr>\n",
       "      <th>c.10G&gt;A (p.Ala4Thr)</th>\n",
       "      <td>1.435686e-01</td>\n",
       "      <td>3.469447e-18</td>\n",
       "      <td>-0.238174</td>\n",
       "    </tr>\n",
       "    <tr>\n",
       "      <th>c.10G&gt;T (p.Ala4Ser)</th>\n",
       "      <td>1.456404e-29</td>\n",
       "      <td>2.087042e-57</td>\n",
       "      <td>-0.177983</td>\n",
       "    </tr>\n",
       "    <tr>\n",
       "      <th>c.11C&gt;A (p.Ala4Asp)</th>\n",
       "      <td>5.309592e-01</td>\n",
       "      <td>1.110223e-16</td>\n",
       "      <td>0.027898</td>\n",
       "    </tr>\n",
       "    <tr>\n",
       "      <th>c.13C&gt;A (p.Leu5Ile)</th>\n",
       "      <td>1.333666e-01</td>\n",
       "      <td>0.000000e+00</td>\n",
       "      <td>-0.623652</td>\n",
       "    </tr>\n",
       "    <tr>\n",
       "      <th>c.13C&gt;A (p.Leu5Ser), c.14T&gt;G (p.Leu5Ser)</th>\n",
       "      <td>3.612046e-01</td>\n",
       "      <td>2.775558e-17</td>\n",
       "      <td>0.657916</td>\n",
       "    </tr>\n",
       "    <tr>\n",
       "      <th>...</th>\n",
       "      <td>...</td>\n",
       "      <td>...</td>\n",
       "      <td>...</td>\n",
       "    </tr>\n",
       "    <tr>\n",
       "      <th>c.89T&gt;G (p.Ile30Ser), c.90C&gt;T (p.Ile30Ser)</th>\n",
       "      <td>6.069463e-01</td>\n",
       "      <td>0.000000e+00</td>\n",
       "      <td>-0.826140</td>\n",
       "    </tr>\n",
       "    <tr>\n",
       "      <th>c.8C&gt;A (p.Ser3Tyr)</th>\n",
       "      <td>3.785724e-01</td>\n",
       "      <td>2.775558e-17</td>\n",
       "      <td>-1.440477</td>\n",
       "    </tr>\n",
       "    <tr>\n",
       "      <th>c.8C&gt;T (p.Ser3Phe)</th>\n",
       "      <td>8.669053e-02</td>\n",
       "      <td>2.602085e-18</td>\n",
       "      <td>-0.091250</td>\n",
       "    </tr>\n",
       "    <tr>\n",
       "      <th>c.90C&gt;A (p.=)</th>\n",
       "      <td>9.681631e-02</td>\n",
       "      <td>5.204170e-18</td>\n",
       "      <td>-0.217977</td>\n",
       "    </tr>\n",
       "    <tr>\n",
       "      <th>c.90C&gt;T (p.=)</th>\n",
       "      <td>5.450037e-117</td>\n",
       "      <td>8.793373e-229</td>\n",
       "      <td>0.805631</td>\n",
       "    </tr>\n",
       "  </tbody>\n",
       "</table>\n",
       "<p>486 rows × 3 columns</p>\n",
       "</div>"
      ],
      "text/plain": [
       "condition                                              E3                 \\\n",
       "value                                                  SE        epsilon   \n",
       "c.10G>A (p.Ala4Thr)                          1.435686e-01   3.469447e-18   \n",
       "c.10G>T (p.Ala4Ser)                          1.456404e-29   2.087042e-57   \n",
       "c.11C>A (p.Ala4Asp)                          5.309592e-01   1.110223e-16   \n",
       "c.13C>A (p.Leu5Ile)                          1.333666e-01   0.000000e+00   \n",
       "c.13C>A (p.Leu5Ser), c.14T>G (p.Leu5Ser)     3.612046e-01   2.775558e-17   \n",
       "...                                                   ...            ...   \n",
       "c.89T>G (p.Ile30Ser), c.90C>T (p.Ile30Ser)   6.069463e-01   0.000000e+00   \n",
       "c.8C>A (p.Ser3Tyr)                           3.785724e-01   2.775558e-17   \n",
       "c.8C>T (p.Ser3Phe)                           8.669053e-02   2.602085e-18   \n",
       "c.90C>A (p.=)                                9.681631e-02   5.204170e-18   \n",
       "c.90C>T (p.=)                               5.450037e-117  8.793373e-229   \n",
       "\n",
       "condition                                             \n",
       "value                                          score  \n",
       "c.10G>A (p.Ala4Thr)                        -0.238174  \n",
       "c.10G>T (p.Ala4Ser)                        -0.177983  \n",
       "c.11C>A (p.Ala4Asp)                         0.027898  \n",
       "c.13C>A (p.Leu5Ile)                        -0.623652  \n",
       "c.13C>A (p.Leu5Ser), c.14T>G (p.Leu5Ser)    0.657916  \n",
       "...                                              ...  \n",
       "c.89T>G (p.Ile30Ser), c.90C>T (p.Ile30Ser) -0.826140  \n",
       "c.8C>A (p.Ser3Tyr)                         -1.440477  \n",
       "c.8C>T (p.Ser3Phe)                         -0.091250  \n",
       "c.90C>A (p.=)                              -0.217977  \n",
       "c.90C>T (p.=)                               0.805631  \n",
       "\n",
       "[486 rows x 3 columns]"
      ]
     },
     "execution_count": 80,
     "metadata": {},
     "output_type": "execute_result"
    }
   ],
   "source": [
    "multi_bc_scores = my_store.select('/main/variants/scores', where='index in multi_bc_variants')\n",
    "multi_bc_scores"
   ]
  },
  {
   "cell_type": "markdown",
   "metadata": {},
   "source": [
    "There are fewer rows in ``multi_bc_scores`` than in ``multi_bc_variants`` because some of the variants were not scored in all replicate selections, and therefore do not have a condition-level score."
   ]
  },
  {
   "cell_type": "markdown",
   "metadata": {},
   "source": [
    "Now that we're finished getting data out of the HDF5 file, we'll close it."
   ]
  },
  {
   "cell_type": "code",
   "execution_count": 81,
   "metadata": {
    "collapsed": true
   },
   "outputs": [],
   "source": [
    "my_store.close()"
   ]
  },
  {
   "cell_type": "markdown",
   "metadata": {},
   "source": [
    "We'll add a column to the ``bc_counts`` data frame that contains scores from the ``multi_bc_scores`` data frame. To reference a column in a data frame with a MultiIndex, we need to specify all column levels."
   ]
  },
  {
   "cell_type": "code",
   "execution_count": 82,
   "metadata": {
    "collapsed": false
   },
   "outputs": [
    {
     "data": {
      "text/html": [
       "<div>\n",
       "<table border=\"1\" class=\"dataframe\">\n",
       "  <thead>\n",
       "    <tr style=\"text-align: right;\">\n",
       "      <th></th>\n",
       "      <th>barcodes</th>\n",
       "      <th>score</th>\n",
       "    </tr>\n",
       "  </thead>\n",
       "  <tbody>\n",
       "    <tr>\n",
       "      <th>_wt</th>\n",
       "      <td>5844</td>\n",
       "      <td>NaN</td>\n",
       "    </tr>\n",
       "    <tr>\n",
       "      <th>c.63A&gt;T (p.Leu21Phe)</th>\n",
       "      <td>109</td>\n",
       "      <td>1.387659</td>\n",
       "    </tr>\n",
       "    <tr>\n",
       "      <th>c.39C&gt;A (p.=)</th>\n",
       "      <td>91</td>\n",
       "      <td>-0.189253</td>\n",
       "    </tr>\n",
       "    <tr>\n",
       "      <th>c.61T&gt;A (p.Leu21Ile), c.63A&gt;T (p.Leu21Ile)</th>\n",
       "      <td>77</td>\n",
       "      <td>-1.031977</td>\n",
       "    </tr>\n",
       "    <tr>\n",
       "      <th>c.62T&gt;A (p.Leu21Tyr), c.63A&gt;T (p.Leu21Tyr)</th>\n",
       "      <td>77</td>\n",
       "      <td>0.310854</td>\n",
       "    </tr>\n",
       "    <tr>\n",
       "      <th>...</th>\n",
       "      <td>...</td>\n",
       "      <td>...</td>\n",
       "    </tr>\n",
       "    <tr>\n",
       "      <th>c.77G&gt;T (p.Cys26Leu), c.78C&gt;A (p.Cys26Leu), c.81G&gt;T (p.=)</th>\n",
       "      <td>1</td>\n",
       "      <td>NaN</td>\n",
       "    </tr>\n",
       "    <tr>\n",
       "      <th>c.67T&gt;A (p.Cys23Ile), c.68G&gt;T (p.Cys23Ile), c.69T&gt;A (p.Cys23Ile)</th>\n",
       "      <td>1</td>\n",
       "      <td>NaN</td>\n",
       "    </tr>\n",
       "    <tr>\n",
       "      <th>c.41T&gt;C (p.Ile14Thr), c.48T&gt;G (p.=)</th>\n",
       "      <td>1</td>\n",
       "      <td>NaN</td>\n",
       "    </tr>\n",
       "    <tr>\n",
       "      <th>c.55A&gt;C (p.Lys19Leu), c.56A&gt;T (p.Lys19Leu), c.57A&gt;G (p.Lys19Leu), c.81G&gt;T (p.=)</th>\n",
       "      <td>1</td>\n",
       "      <td>NaN</td>\n",
       "    </tr>\n",
       "    <tr>\n",
       "      <th>c.50T&gt;C (p.Met17Thr), c.78C&gt;T (p.=)</th>\n",
       "      <td>1</td>\n",
       "      <td>NaN</td>\n",
       "    </tr>\n",
       "  </tbody>\n",
       "</table>\n",
       "<p>1963 rows × 2 columns</p>\n",
       "</div>"
      ],
      "text/plain": [
       "                                                    barcodes     score\n",
       "_wt                                                     5844       NaN\n",
       "c.63A>T (p.Leu21Phe)                                     109  1.387659\n",
       "c.39C>A (p.=)                                             91 -0.189253\n",
       "c.61T>A (p.Leu21Ile), c.63A>T (p.Leu21Ile)                77 -1.031977\n",
       "c.62T>A (p.Leu21Tyr), c.63A>T (p.Leu21Tyr)                77  0.310854\n",
       "...                                                      ...       ...\n",
       "c.77G>T (p.Cys26Leu), c.78C>A (p.Cys26Leu), c.8...         1       NaN\n",
       "c.67T>A (p.Cys23Ile), c.68G>T (p.Cys23Ile), c.6...         1       NaN\n",
       "c.41T>C (p.Ile14Thr), c.48T>G (p.=)                        1       NaN\n",
       "c.55A>C (p.Lys19Leu), c.56A>T (p.Lys19Leu), c.5...         1       NaN\n",
       "c.50T>C (p.Met17Thr), c.78C>T (p.=)                        1       NaN\n",
       "\n",
       "[1963 rows x 2 columns]"
      ]
     },
     "execution_count": 82,
     "metadata": {},
     "output_type": "execute_result"
    }
   ],
   "source": [
    "bc_counts['score'] = multi_bc_scores['E3', 'score']\n",
    "bc_counts"
   ]
  },
  {
   "cell_type": "markdown",
   "metadata": {},
   "source": [
    "Many rows in ``bc_counts`` are missing scores (displayed as NaN) because those variants were not in ``multi_bc_scores``. We'll drop them before continuing."
   ]
  },
  {
   "cell_type": "code",
   "execution_count": 83,
   "metadata": {
    "collapsed": false
   },
   "outputs": [
    {
     "data": {
      "text/html": [
       "<div>\n",
       "<table border=\"1\" class=\"dataframe\">\n",
       "  <thead>\n",
       "    <tr style=\"text-align: right;\">\n",
       "      <th></th>\n",
       "      <th>barcodes</th>\n",
       "      <th>score</th>\n",
       "    </tr>\n",
       "  </thead>\n",
       "  <tbody>\n",
       "    <tr>\n",
       "      <th>c.63A&gt;T (p.Leu21Phe)</th>\n",
       "      <td>109</td>\n",
       "      <td>1.387659</td>\n",
       "    </tr>\n",
       "    <tr>\n",
       "      <th>c.39C&gt;A (p.=)</th>\n",
       "      <td>91</td>\n",
       "      <td>-0.189253</td>\n",
       "    </tr>\n",
       "    <tr>\n",
       "      <th>c.61T&gt;A (p.Leu21Ile), c.63A&gt;T (p.Leu21Ile)</th>\n",
       "      <td>77</td>\n",
       "      <td>-1.031977</td>\n",
       "    </tr>\n",
       "    <tr>\n",
       "      <th>c.62T&gt;A (p.Leu21Tyr), c.63A&gt;T (p.Leu21Tyr)</th>\n",
       "      <td>77</td>\n",
       "      <td>0.310854</td>\n",
       "    </tr>\n",
       "    <tr>\n",
       "      <th>c.63A&gt;G (p.=)</th>\n",
       "      <td>73</td>\n",
       "      <td>-0.406277</td>\n",
       "    </tr>\n",
       "    <tr>\n",
       "      <th>...</th>\n",
       "      <td>...</td>\n",
       "      <td>...</td>\n",
       "    </tr>\n",
       "    <tr>\n",
       "      <th>c.64G&gt;A (p.Glu22Arg), c.65A&gt;G (p.Glu22Arg)</th>\n",
       "      <td>10</td>\n",
       "      <td>-2.577200</td>\n",
       "    </tr>\n",
       "    <tr>\n",
       "      <th>c.77G&gt;C (p.Cys26Ser), c.78C&gt;G (p.Cys26Ser)</th>\n",
       "      <td>10</td>\n",
       "      <td>-3.497939</td>\n",
       "    </tr>\n",
       "    <tr>\n",
       "      <th>c.50T&gt;A (p.Met17Asn), c.51G&gt;T (p.Met17Asn)</th>\n",
       "      <td>10</td>\n",
       "      <td>-1.737378</td>\n",
       "    </tr>\n",
       "    <tr>\n",
       "      <th>c.61T&gt;A (p.Leu21Thr), c.62T&gt;C (p.Leu21Thr), c.63A&gt;G (p.Leu21Thr)</th>\n",
       "      <td>10</td>\n",
       "      <td>-1.307432</td>\n",
       "    </tr>\n",
       "    <tr>\n",
       "      <th>c.49A&gt;G (p.Met17Ala), c.50T&gt;C (p.Met17Ala)</th>\n",
       "      <td>10</td>\n",
       "      <td>-1.958962</td>\n",
       "    </tr>\n",
       "  </tbody>\n",
       "</table>\n",
       "<p>486 rows × 2 columns</p>\n",
       "</div>"
      ],
      "text/plain": [
       "                                                    barcodes     score\n",
       "c.63A>T (p.Leu21Phe)                                     109  1.387659\n",
       "c.39C>A (p.=)                                             91 -0.189253\n",
       "c.61T>A (p.Leu21Ile), c.63A>T (p.Leu21Ile)                77 -1.031977\n",
       "c.62T>A (p.Leu21Tyr), c.63A>T (p.Leu21Tyr)                77  0.310854\n",
       "c.63A>G (p.=)                                             73 -0.406277\n",
       "...                                                      ...       ...\n",
       "c.64G>A (p.Glu22Arg), c.65A>G (p.Glu22Arg)                10 -2.577200\n",
       "c.77G>C (p.Cys26Ser), c.78C>G (p.Cys26Ser)                10 -3.497939\n",
       "c.50T>A (p.Met17Asn), c.51G>T (p.Met17Asn)                10 -1.737378\n",
       "c.61T>A (p.Leu21Thr), c.62T>C (p.Leu21Thr), c.6...        10 -1.307432\n",
       "c.49A>G (p.Met17Ala), c.50T>C (p.Met17Ala)                10 -1.958962\n",
       "\n",
       "[486 rows x 2 columns]"
      ]
     },
     "execution_count": 83,
     "metadata": {},
     "output_type": "execute_result"
    }
   ],
   "source": [
    "bc_counts.dropna(inplace=True)\n",
    "bc_counts"
   ]
  },
  {
   "cell_type": "markdown",
   "metadata": {},
   "source": [
    "Now that we have a data frame containing the subset of variants we're interested in, we can make a plot of score vs. number of unique barcodes. This example uses functions and colors from the Enrich2 plotting library. "
   ]
  },
  {
   "cell_type": "code",
   "execution_count": 86,
   "metadata": {
    "collapsed": false
   },
   "outputs": [
    {
     "data": {
      "text/plain": [
       "<matplotlib.text.Text at 0xd91fe80>"
      ]
     },
     "execution_count": 86,
     "metadata": {},
     "output_type": "execute_result"
    },
    {
     "data": {
      "image/png": "[encoded data removed]",
      "text/plain": [
       "<matplotlib.figure.Figure at 0xdf66be0>"
      ]
     },
     "metadata": {},
     "output_type": "display_data"
    }
   ],
   "source": [
    "fig, ax = plt.subplots()\n",
    "enrich_plot.configure_axes(ax, xgrid=True)\n",
    "ax.plot(bc_counts['barcodes'], \n",
    "        bc_counts['score'], \n",
    "        linestyle='none', marker='.', alpha=0.6,\n",
    "        color=enrich_plot.plot_colors['bright5'])\n",
    "ax.set_xlabel(\"Unique Barcodes\")\n",
    "ax.set_ylabel(\"Variant Score\")"
   ]
  },
  {
   "cell_type": "code",
   "execution_count": null,
   "metadata": {
    "collapsed": true
   },
   "outputs": [],
   "source": []
  }
 ],
 "metadata": {
  "anaconda-cloud": {},
  "kernelspec": {
   "display_name": "Python [default]",
   "language": "python",
   "name": "python2"
  },
  "language_info": {
   "codemirror_mode": {
    "name": "ipython",
    "version": 2
   },
   "file_extension": ".py",
   "mimetype": "text/x-python",
   "name": "python",
   "nbconvert_exporter": "python",
   "pygments_lexer": "ipython2",
   "version": "2.7.12"
  }
 },
 "nbformat": 4,
 "nbformat_minor": 0
}
