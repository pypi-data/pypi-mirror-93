{
 "cells": [
  {
   "cell_type": "markdown",
   "metadata": {},
   "source": [
    "##Analyse hsa-miR-124a-3p transfection time-course "
   ]
  },
  {
   "cell_type": "markdown",
   "metadata": {},
   "source": [
    "In order to do this analysis you have to be in the tests directory of GEOparse."
   ]
  },
  {
   "cell_type": "markdown",
   "metadata": {},
   "source": [
    "In the paper *Systematic identification of microRNA functions by combining target prediction and expression profiling* Wang and Wang provided a series of microarrays from 7 time-points after miR-124a transfection. The series can be found in GEO under the GSE6207 accession. We use this series to demonstrate general principles of GEOparse. Mind that this tutorial is not abut how to properly calculate log fold changes - the approach undertaken here is simplistic."
   ]
  },
  {
   "cell_type": "markdown",
   "metadata": {},
   "source": [
    "We start with the imports:"
   ]
  },
  {
   "cell_type": "code",
   "execution_count": 88,
   "metadata": {
    "collapsed": false
   },
   "outputs": [],
   "source": [
    "%matplotlib inline\n",
    "import GEOparse\n",
    "import pandas as pd\n",
    "import pylab as pl\n",
    "import seaborn as sns\n",
    "pl.rcParams['figure.figsize'] = (14, 10)\n",
    "pl.rcParams['ytick.labelsize'] = 12\n",
    "pl.rcParams['xtick.labelsize'] = 11\n",
    "pl.rcParams['axes.labelsize'] = 23\n",
    "pl.rcParams['legend.fontsize'] = 20\n",
    "sns.set_style('ticks')\n",
    "c1, c2, c3, c4 = sns.color_palette(\"Set1\", 4)"
   ]
  },
  {
   "cell_type": "markdown",
   "metadata": {},
   "source": [
    "We also prepared a simple tabulated file with the description of each GSM. It will be usefull to calculate LFC."
   ]
  },
  {
   "cell_type": "code",
   "execution_count": 91,
   "metadata": {
    "collapsed": true
   },
   "outputs": [],
   "source": [
    "experiments = pd.read_table(\"GSE6207_experiments.tab\")"
   ]
  },
  {
   "cell_type": "markdown",
   "metadata": {},
   "source": [
    "We can look in to this file:"
   ]
  },
  {
   "cell_type": "code",
   "execution_count": 90,
   "metadata": {
    "collapsed": false
   },
   "outputs": [
    {
     "data": {
      "text/html": [
       "<div style=\"max-height:1000px;max-width:1500px;overflow:auto;\">\n",
       "<table border=\"1\" class=\"dataframe\">\n",
       "  <thead>\n",
       "    <tr style=\"text-align: right;\">\n",
       "      <th></th>\n",
       "      <th>Experiment</th>\n",
       "      <th>Type</th>\n",
       "      <th>Time</th>\n",
       "    </tr>\n",
       "  </thead>\n",
       "  <tbody>\n",
       "    <tr>\n",
       "      <th>0 </th>\n",
       "      <td> GSM143385</td>\n",
       "      <td> transfection</td>\n",
       "      <td>   4 hours</td>\n",
       "    </tr>\n",
       "    <tr>\n",
       "      <th>1 </th>\n",
       "      <td> GSM143386</td>\n",
       "      <td>      control</td>\n",
       "      <td>   4 hours</td>\n",
       "    </tr>\n",
       "    <tr>\n",
       "      <th>2 </th>\n",
       "      <td> GSM143387</td>\n",
       "      <td> transfection</td>\n",
       "      <td>   8 hours</td>\n",
       "    </tr>\n",
       "    <tr>\n",
       "      <th>3 </th>\n",
       "      <td> GSM143388</td>\n",
       "      <td>      control</td>\n",
       "      <td>   8 hours</td>\n",
       "    </tr>\n",
       "    <tr>\n",
       "      <th>4 </th>\n",
       "      <td> GSM143389</td>\n",
       "      <td> transfection</td>\n",
       "      <td>  16 hours</td>\n",
       "    </tr>\n",
       "    <tr>\n",
       "      <th>5 </th>\n",
       "      <td> GSM143390</td>\n",
       "      <td>      control</td>\n",
       "      <td>  16 hours</td>\n",
       "    </tr>\n",
       "    <tr>\n",
       "      <th>6 </th>\n",
       "      <td> GSM143391</td>\n",
       "      <td> transfection</td>\n",
       "      <td>  24 hours</td>\n",
       "    </tr>\n",
       "    <tr>\n",
       "      <th>7 </th>\n",
       "      <td> GSM143392</td>\n",
       "      <td>      control</td>\n",
       "      <td>  24 hours</td>\n",
       "    </tr>\n",
       "    <tr>\n",
       "      <th>8 </th>\n",
       "      <td> GSM143393</td>\n",
       "      <td> transfection</td>\n",
       "      <td>  32 hours</td>\n",
       "    </tr>\n",
       "    <tr>\n",
       "      <th>9 </th>\n",
       "      <td> GSM143394</td>\n",
       "      <td>      control</td>\n",
       "      <td>  32 hours</td>\n",
       "    </tr>\n",
       "    <tr>\n",
       "      <th>10</th>\n",
       "      <td> GSM143395</td>\n",
       "      <td> transfection</td>\n",
       "      <td>  72 hours</td>\n",
       "    </tr>\n",
       "    <tr>\n",
       "      <th>11</th>\n",
       "      <td> GSM143396</td>\n",
       "      <td>      control</td>\n",
       "      <td>  72 hours</td>\n",
       "    </tr>\n",
       "    <tr>\n",
       "      <th>12</th>\n",
       "      <td> GSM143397</td>\n",
       "      <td> transfection</td>\n",
       "      <td> 120 hours</td>\n",
       "    </tr>\n",
       "    <tr>\n",
       "      <th>13</th>\n",
       "      <td> GSM143398</td>\n",
       "      <td>      control</td>\n",
       "      <td> 120 hours</td>\n",
       "    </tr>\n",
       "  </tbody>\n",
       "</table>\n",
       "</div>"
      ],
      "text/plain": [
       "   Experiment          Type       Time\n",
       "0   GSM143385  transfection    4 hours\n",
       "1   GSM143386       control    4 hours\n",
       "2   GSM143387  transfection    8 hours\n",
       "3   GSM143388       control    8 hours\n",
       "4   GSM143389  transfection   16 hours\n",
       "5   GSM143390       control   16 hours\n",
       "6   GSM143391  transfection   24 hours\n",
       "7   GSM143392       control   24 hours\n",
       "8   GSM143393  transfection   32 hours\n",
       "9   GSM143394       control   32 hours\n",
       "10  GSM143395  transfection   72 hours\n",
       "11  GSM143396       control   72 hours\n",
       "12  GSM143397  transfection  120 hours\n",
       "13  GSM143398       control  120 hours"
      ]
     },
     "execution_count": 90,
     "metadata": {},
     "output_type": "execute_result"
    }
   ],
   "source": [
    "experiments"
   ]
  },
  {
   "cell_type": "markdown",
   "metadata": {},
   "source": [
    "Now we select the GSMs that are controls."
   ]
  },
  {
   "cell_type": "code",
   "execution_count": 92,
   "metadata": {
    "collapsed": false
   },
   "outputs": [],
   "source": [
    "controls = experiments[experiments.Type == 'control'].Experiment.tolist()"
   ]
  },
  {
   "cell_type": "markdown",
   "metadata": {},
   "source": [
    "Using GEOparse we can download experiments and look into the data:"
   ]
  },
  {
   "cell_type": "code",
   "execution_count": 93,
   "metadata": {
    "collapsed": false
   },
   "outputs": [
    {
     "name": "stderr",
     "output_type": "stream",
     "text": [
      "File already exist: using local version.\n",
      "Parsing ./GSE6207.soft.gz:\n",
      " - DATABASE : GeoMiame\n",
      " - SERIES : GSE6207\n",
      " - PLATFORM : GPL570\n",
      " - SAMPLE : GSM143385\n",
      " - SAMPLE : GSM143386\n",
      " - SAMPLE : GSM143387\n",
      " - SAMPLE : GSM143388\n",
      " - SAMPLE : GSM143389\n",
      " - SAMPLE : GSM143390\n",
      " - SAMPLE : GSM143391\n",
      " - SAMPLE : GSM143392\n",
      " - SAMPLE : GSM143393\n",
      " - SAMPLE : GSM143394\n",
      " - SAMPLE : GSM143395\n",
      " - SAMPLE : GSM143396\n",
      " - SAMPLE : GSM143397\n",
      " - SAMPLE : GSM143398\n"
     ]
    }
   ],
   "source": [
    "gse = GEOparse.get_GEO(\"GSE6207\")"
   ]
  },
  {
   "cell_type": "markdown",
   "metadata": {},
   "source": [
    "The GPL we are interested:"
   ]
  },
  {
   "cell_type": "code",
   "execution_count": 94,
   "metadata": {
    "collapsed": false
   },
   "outputs": [
    {
     "data": {
      "text/html": [
       "<div style=\"max-height:1000px;max-width:1500px;overflow:auto;\">\n",
       "<table border=\"1\" class=\"dataframe\">\n",
       "  <thead>\n",
       "    <tr style=\"text-align: right;\">\n",
       "      <th></th>\n",
       "      <th>description</th>\n",
       "    </tr>\n",
       "  </thead>\n",
       "  <tbody>\n",
       "    <tr>\n",
       "      <th>ID</th>\n",
       "      <td> Affymetrix Probe Set ID LINK_PRE:\"https://www....</td>\n",
       "    </tr>\n",
       "    <tr>\n",
       "      <th>GB_ACC</th>\n",
       "      <td> GenBank Accession Number LINK_PRE:\"http://www....</td>\n",
       "    </tr>\n",
       "    <tr>\n",
       "      <th>SPOT_ID</th>\n",
       "      <td>                               identifies controls</td>\n",
       "    </tr>\n",
       "    <tr>\n",
       "      <th>Species Scientific Name</th>\n",
       "      <td> The genus and species of the organism represen...</td>\n",
       "    </tr>\n",
       "    <tr>\n",
       "      <th>Annotation Date</th>\n",
       "      <td> The date that the annotations for this probe a...</td>\n",
       "    </tr>\n",
       "    <tr>\n",
       "      <th>Sequence Type</th>\n",
       "      <td>                                                  </td>\n",
       "    </tr>\n",
       "    <tr>\n",
       "      <th>Sequence Source</th>\n",
       "      <td> The database from which the sequence used to d...</td>\n",
       "    </tr>\n",
       "    <tr>\n",
       "      <th>Target Description</th>\n",
       "      <td>                                                  </td>\n",
       "    </tr>\n",
       "    <tr>\n",
       "      <th>Representative Public ID</th>\n",
       "      <td> The accession number of a representative seque...</td>\n",
       "    </tr>\n",
       "    <tr>\n",
       "      <th>Gene Title</th>\n",
       "      <td>       Title of Gene represented by the probe set.</td>\n",
       "    </tr>\n",
       "    <tr>\n",
       "      <th>Gene Symbol</th>\n",
       "      <td> A gene symbol, when one is available (from Uni...</td>\n",
       "    </tr>\n",
       "    <tr>\n",
       "      <th>ENTREZ_GENE_ID</th>\n",
       "      <td> Entrez Gene Database UID LINK_PRE:\"http://www....</td>\n",
       "    </tr>\n",
       "    <tr>\n",
       "      <th>RefSeq Transcript ID</th>\n",
       "      <td> References to multiple sequences in RefSeq. Th...</td>\n",
       "    </tr>\n",
       "    <tr>\n",
       "      <th>Gene Ontology Biological Process</th>\n",
       "      <td> Gene Ontology Consortium Biological Process de...</td>\n",
       "    </tr>\n",
       "    <tr>\n",
       "      <th>Gene Ontology Cellular Component</th>\n",
       "      <td> Gene Ontology Consortium Cellular Component de...</td>\n",
       "    </tr>\n",
       "    <tr>\n",
       "      <th>Gene Ontology Molecular Function</th>\n",
       "      <td> Gene Ontology Consortium Molecular Function de...</td>\n",
       "    </tr>\n",
       "  </tbody>\n",
       "</table>\n",
       "</div>"
      ],
      "text/plain": [
       "                                                                        description\n",
       "ID                                Affymetrix Probe Set ID LINK_PRE:\"https://www....\n",
       "GB_ACC                            GenBank Accession Number LINK_PRE:\"http://www....\n",
       "SPOT_ID                                                         identifies controls\n",
       "Species Scientific Name           The genus and species of the organism represen...\n",
       "Annotation Date                   The date that the annotations for this probe a...\n",
       "Sequence Type                                                                      \n",
       "Sequence Source                   The database from which the sequence used to d...\n",
       "Target Description                                                                 \n",
       "Representative Public ID          The accession number of a representative seque...\n",
       "Gene Title                              Title of Gene represented by the probe set.\n",
       "Gene Symbol                       A gene symbol, when one is available (from Uni...\n",
       "ENTREZ_GENE_ID                    Entrez Gene Database UID LINK_PRE:\"http://www....\n",
       "RefSeq Transcript ID              References to multiple sequences in RefSeq. Th...\n",
       "Gene Ontology Biological Process  Gene Ontology Consortium Biological Process de...\n",
       "Gene Ontology Cellular Component  Gene Ontology Consortium Cellular Component de...\n",
       "Gene Ontology Molecular Function  Gene Ontology Consortium Molecular Function de..."
      ]
     },
     "execution_count": 94,
     "metadata": {},
     "output_type": "execute_result"
    }
   ],
   "source": [
    "gse.gpls['GPL570'].columns"
   ]
  },
  {
   "cell_type": "markdown",
   "metadata": {},
   "source": [
    "And the columns that are available for exemplary GSM:"
   ]
  },
  {
   "cell_type": "code",
   "execution_count": 6,
   "metadata": {
    "collapsed": false
   },
   "outputs": [
    {
     "data": {
      "text/html": [
       "<div style=\"max-height:1000px;max-width:1500px;overflow:auto;\">\n",
       "<table border=\"1\" class=\"dataframe\">\n",
       "  <thead>\n",
       "    <tr style=\"text-align: right;\">\n",
       "      <th></th>\n",
       "      <th>description</th>\n",
       "    </tr>\n",
       "  </thead>\n",
       "  <tbody>\n",
       "    <tr>\n",
       "      <th>ID_REF</th>\n",
       "      <td>                           Affymetrix probe set ID</td>\n",
       "    </tr>\n",
       "    <tr>\n",
       "      <th>VALUE</th>\n",
       "      <td> RMA normalized Signal intensity (log2 transfor...</td>\n",
       "    </tr>\n",
       "  </tbody>\n",
       "</table>\n",
       "</div>"
      ],
      "text/plain": [
       "                                              description\n",
       "ID_REF                            Affymetrix probe set ID\n",
       "VALUE   RMA normalized Signal intensity (log2 transfor..."
      ]
     },
     "execution_count": 6,
     "metadata": {},
     "output_type": "execute_result"
    }
   ],
   "source": [
    "gse.gsms[\"GSM143385\"].columns"
   ]
  },
  {
   "cell_type": "markdown",
   "metadata": {},
   "source": [
    "We take the opportunity and check if everything is OK with the control samples. For this we just use simple histogram. To obtain table with each GSM as column, ID_REF as index and VALUE in each cell we use pivot_samples method from GSE object (we restrict the columns to the controls):"
   ]
  },
  {
   "cell_type": "code",
   "execution_count": 97,
   "metadata": {
    "collapsed": false
   },
   "outputs": [
    {
     "data": {
      "text/html": [
       "<div style=\"max-height:1000px;max-width:1500px;overflow:auto;\">\n",
       "<table border=\"1\" class=\"dataframe\">\n",
       "  <thead>\n",
       "    <tr style=\"text-align: right;\">\n",
       "      <th>name</th>\n",
       "      <th>GSM143386</th>\n",
       "      <th>GSM143388</th>\n",
       "      <th>GSM143390</th>\n",
       "      <th>GSM143392</th>\n",
       "      <th>GSM143394</th>\n",
       "      <th>GSM143396</th>\n",
       "      <th>GSM143398</th>\n",
       "    </tr>\n",
       "    <tr>\n",
       "      <th>ID_REF</th>\n",
       "      <th></th>\n",
       "      <th></th>\n",
       "      <th></th>\n",
       "      <th></th>\n",
       "      <th></th>\n",
       "      <th></th>\n",
       "      <th></th>\n",
       "    </tr>\n",
       "  </thead>\n",
       "  <tbody>\n",
       "    <tr>\n",
       "      <th>1007_s_at</th>\n",
       "      <td> 9.373339</td>\n",
       "      <td> 9.316689</td>\n",
       "      <td> 9.405605</td>\n",
       "      <td> 9.332526</td>\n",
       "      <td> 9.351024</td>\n",
       "      <td> 9.245251</td>\n",
       "      <td> 9.423234</td>\n",
       "    </tr>\n",
       "    <tr>\n",
       "      <th>1053_at</th>\n",
       "      <td> 8.453839</td>\n",
       "      <td> 8.440368</td>\n",
       "      <td> 8.435023</td>\n",
       "      <td> 8.411635</td>\n",
       "      <td> 8.373939</td>\n",
       "      <td> 8.082178</td>\n",
       "      <td> 7.652785</td>\n",
       "    </tr>\n",
       "    <tr>\n",
       "      <th>117_at</th>\n",
       "      <td> 5.878466</td>\n",
       "      <td> 5.928938</td>\n",
       "      <td> 5.969288</td>\n",
       "      <td> 5.984232</td>\n",
       "      <td> 5.882761</td>\n",
       "      <td> 5.939399</td>\n",
       "      <td> 6.027338</td>\n",
       "    </tr>\n",
       "    <tr>\n",
       "      <th>121_at</th>\n",
       "      <td> 9.131430</td>\n",
       "      <td> 9.298601</td>\n",
       "      <td> 9.176132</td>\n",
       "      <td> 9.249977</td>\n",
       "      <td> 9.149849</td>\n",
       "      <td> 9.250952</td>\n",
       "      <td> 9.352397</td>\n",
       "    </tr>\n",
       "    <tr>\n",
       "      <th>1255_g_at</th>\n",
       "      <td> 3.778179</td>\n",
       "      <td> 3.861210</td>\n",
       "      <td> 3.740103</td>\n",
       "      <td> 3.798814</td>\n",
       "      <td> 3.761673</td>\n",
       "      <td> 3.790185</td>\n",
       "      <td> 3.895462</td>\n",
       "    </tr>\n",
       "  </tbody>\n",
       "</table>\n",
       "</div>"
      ],
      "text/plain": [
       "name       GSM143386  GSM143388  GSM143390  GSM143392  GSM143394  GSM143396  \\\n",
       "ID_REF                                                                        \n",
       "1007_s_at   9.373339   9.316689   9.405605   9.332526   9.351024   9.245251   \n",
       "1053_at     8.453839   8.440368   8.435023   8.411635   8.373939   8.082178   \n",
       "117_at      5.878466   5.928938   5.969288   5.984232   5.882761   5.939399   \n",
       "121_at      9.131430   9.298601   9.176132   9.249977   9.149849   9.250952   \n",
       "1255_g_at   3.778179   3.861210   3.740103   3.798814   3.761673   3.790185   \n",
       "\n",
       "name       GSM143398  \n",
       "ID_REF                \n",
       "1007_s_at   9.423234  \n",
       "1053_at     7.652785  \n",
       "117_at      6.027338  \n",
       "121_at      9.352397  \n",
       "1255_g_at   3.895462  "
      ]
     },
     "execution_count": 97,
     "metadata": {},
     "output_type": "execute_result"
    }
   ],
   "source": [
    "pivoted_control_samples = gse.pivot_samples('VALUE')[controls]\n",
    "pivoted_control_samples.head()"
   ]
  },
  {
   "cell_type": "markdown",
   "metadata": {},
   "source": [
    "And we plot:"
   ]
  },
  {
   "cell_type": "code",
   "execution_count": 98,
   "metadata": {
    "collapsed": false
   },
   "outputs": [
    {
     "data": {
      "image/png": "[encoded data removed]",
      "text/plain": [
       "<matplotlib.figure.Figure at 0x7fe64afe9090>"
      ]
     },
     "metadata": {},
     "output_type": "display_data"
    }
   ],
   "source": [
    "pivoted_control_samples.hist()\n",
    "sns.despine(offset=10, trim=True)"
   ]
  },
  {
   "cell_type": "markdown",
   "metadata": {},
   "source": [
    "Next we would like to filter out probes that are not expressed. The gene is expressed (in definition here) when its average log2 intensity in control samples is above 0.25 quantile. I.e. we filter out worst 25% genes."
   ]
  },
  {
   "cell_type": "code",
   "execution_count": 99,
   "metadata": {
    "collapsed": false
   },
   "outputs": [
    {
     "name": "stdout",
     "output_type": "stream",
     "text": [
      "Number of probes before filtering:  54675\n"
     ]
    }
   ],
   "source": [
    "pivoted_control_samples_average = pivoted_control_samples.median(axis=1)\n",
    "print \"Number of probes before filtering: \", len(pivoted_control_samples_average)"
   ]
  },
  {
   "cell_type": "code",
   "execution_count": 10,
   "metadata": {
    "collapsed": false
   },
   "outputs": [],
   "source": [
    "expression_threshold = pivoted_control_samples_average.quantile(0.25)"
   ]
  },
  {
   "cell_type": "code",
   "execution_count": 100,
   "metadata": {
    "collapsed": false
   },
   "outputs": [
    {
     "name": "stdout",
     "output_type": "stream",
     "text": [
      "Number of probes above threshold:  41006\n"
     ]
    }
   ],
   "source": [
    "expressed_probes = pivoted_control_samples_average[pivoted_control_samples_average >= expression_threshold].index.tolist()\n",
    "print \"Number of probes above threshold: \", len(expressed_probes)"
   ]
  },
  {
   "cell_type": "markdown",
   "metadata": {},
   "source": [
    "We can see that the filtering succeeded. Now we can pivot all the samples and filter out probes that are not expressed:"
   ]
  },
  {
   "cell_type": "code",
   "execution_count": 102,
   "metadata": {
    "collapsed": false
   },
   "outputs": [],
   "source": [
    "samples = gse.pivot_samples(\"VALUE\").ix[expressed_probes]"
   ]
  },
  {
   "cell_type": "markdown",
   "metadata": {},
   "source": [
    "The most important thing is to calculate log fold changes. What we have to do is for each time-point identify control and transfected sample and subtract the VALUES (they are provided as log2 transformed already, we subtract transfection from the control). In the end we create new DataFrame with LFCs: "
   ]
  },
  {
   "cell_type": "code",
   "execution_count": 103,
   "metadata": {
    "collapsed": false
   },
   "outputs": [
    {
     "name": "stdout",
     "output_type": "stream",
     "text": [
      "120 hours\n",
      "16 hours\n",
      "24 hours\n",
      "32 hours\n",
      "4 hours\n",
      "72 hours\n",
      "8 hours\n"
     ]
    }
   ],
   "source": [
    "lfc_results = {}\n",
    "sequence = ['4 hours',\n",
    "             '8 hours',\n",
    "             '16 hours',\n",
    "             '24 hours',\n",
    "             '32 hours',\n",
    "             '72 hours',\n",
    "             '120 hours']\n",
    "for time, group in experiments.groupby(\"Time\"):\n",
    "    print time\n",
    "    control_name = group[group.Type == \"control\"].Experiment.iloc[0]\n",
    "    transfection_name = group[group.Type == \"transfection\"].Experiment.iloc[0]\n",
    "    lfc_results[time] = (samples[transfection_name] - samples[control_name]).to_dict()\n",
    "lfc_results = pd.DataFrame(lfc_results)[sequence]"
   ]
  },
  {
   "cell_type": "markdown",
   "metadata": {},
   "source": [
    "Let's look at the data sorted by 24-hours time-point:"
   ]
  },
  {
   "cell_type": "code",
   "execution_count": 104,
   "metadata": {
    "collapsed": false
   },
   "outputs": [
    {
     "data": {
      "text/html": [
       "<div style=\"max-height:1000px;max-width:1500px;overflow:auto;\">\n",
       "<table border=\"1\" class=\"dataframe\">\n",
       "  <thead>\n",
       "    <tr style=\"text-align: right;\">\n",
       "      <th></th>\n",
       "      <th>4 hours</th>\n",
       "      <th>8 hours</th>\n",
       "      <th>16 hours</th>\n",
       "      <th>24 hours</th>\n",
       "      <th>32 hours</th>\n",
       "      <th>72 hours</th>\n",
       "      <th>120 hours</th>\n",
       "    </tr>\n",
       "  </thead>\n",
       "  <tbody>\n",
       "    <tr>\n",
       "      <th>214149_s_at</th>\n",
       "      <td> 0.695643</td>\n",
       "      <td>-0.951014</td>\n",
       "      <td>-1.768543</td>\n",
       "      <td>-3.326683</td>\n",
       "      <td>-2.954085</td>\n",
       "      <td>-3.121960</td>\n",
       "      <td>-1.235596</td>\n",
       "    </tr>\n",
       "    <tr>\n",
       "      <th>214835_s_at</th>\n",
       "      <td>-0.120661</td>\n",
       "      <td>-1.282502</td>\n",
       "      <td>-2.540301</td>\n",
       "      <td>-3.238786</td>\n",
       "      <td>-3.183429</td>\n",
       "      <td>-3.284111</td>\n",
       "      <td>-1.901547</td>\n",
       "    </tr>\n",
       "    <tr>\n",
       "      <th>212459_x_at</th>\n",
       "      <td> 0.010564</td>\n",
       "      <td>-1.092724</td>\n",
       "      <td>-2.235531</td>\n",
       "      <td>-3.203148</td>\n",
       "      <td>-3.115878</td>\n",
       "      <td>-3.008434</td>\n",
       "      <td>-1.706501</td>\n",
       "    </tr>\n",
       "    <tr>\n",
       "      <th>201171_at</th>\n",
       "      <td> 0.958699</td>\n",
       "      <td>-1.757044</td>\n",
       "      <td>-1.571311</td>\n",
       "      <td>-3.173688</td>\n",
       "      <td>-3.061849</td>\n",
       "      <td>-2.672462</td>\n",
       "      <td>-1.456556</td>\n",
       "    </tr>\n",
       "    <tr>\n",
       "      <th>215446_s_at</th>\n",
       "      <td>-0.086179</td>\n",
       "      <td>-0.408025</td>\n",
       "      <td>-1.550514</td>\n",
       "      <td>-3.083213</td>\n",
       "      <td>-3.024972</td>\n",
       "      <td>-4.374527</td>\n",
       "      <td>-2.581921</td>\n",
       "    </tr>\n",
       "  </tbody>\n",
       "</table>\n",
       "</div>"
      ],
      "text/plain": [
       "              4 hours   8 hours  16 hours  24 hours  32 hours  72 hours  \\\n",
       "214149_s_at  0.695643 -0.951014 -1.768543 -3.326683 -2.954085 -3.121960   \n",
       "214835_s_at -0.120661 -1.282502 -2.540301 -3.238786 -3.183429 -3.284111   \n",
       "212459_x_at  0.010564 -1.092724 -2.235531 -3.203148 -3.115878 -3.008434   \n",
       "201171_at    0.958699 -1.757044 -1.571311 -3.173688 -3.061849 -2.672462   \n",
       "215446_s_at -0.086179 -0.408025 -1.550514 -3.083213 -3.024972 -4.374527   \n",
       "\n",
       "             120 hours  \n",
       "214149_s_at  -1.235596  \n",
       "214835_s_at  -1.901547  \n",
       "212459_x_at  -1.706501  \n",
       "201171_at    -1.456556  \n",
       "215446_s_at  -2.581921  "
      ]
     },
     "execution_count": 104,
     "metadata": {},
     "output_type": "execute_result"
    }
   ],
   "source": [
    "lfc_results.sort(\"24 hours\").head()"
   ]
  },
  {
   "cell_type": "markdown",
   "metadata": {},
   "source": [
    "We are interested in the gene expression changes upon transfection. Thus, we have to annotate each probe with ENTREZ gene ID, remove probes without ENTREZ or with multiple assignments. Although this strategy might not be optimal, after this we average the LFC for each gene over probes."
   ]
  },
  {
   "cell_type": "code",
   "execution_count": 105,
   "metadata": {
    "collapsed": false
   },
   "outputs": [],
   "source": [
    "# annotate with GPL\n",
    "lfc_result_annotated = lfc_results.reset_index().merge(gse.gpls['GPL570'].table[[\"ID\", \"ENTREZ_GENE_ID\"]],\n",
    "                                left_on='index', right_on=\"ID\").set_index('index')\n",
    "del lfc_result_annotated[\"ID\"]\n",
    "# remove probes without ENTREZ\n",
    "lfc_result_annotated = lfc_result_annotated.dropna(subset=[\"ENTREZ_GENE_ID\"])\n",
    "# remove probes with more than one gene assigned\n",
    "lfc_result_annotated = lfc_result_annotated[~lfc_result_annotated.ENTREZ_GENE_ID.str.contains(\"///\")]\n",
    "# for each gene average LFC over probes\n",
    "lfc_result_annotated = lfc_result_annotated.groupby(\"ENTREZ_GENE_ID\").median()"
   ]
  },
  {
   "cell_type": "markdown",
   "metadata": {},
   "source": [
    "We can now look at the data:"
   ]
  },
  {
   "cell_type": "code",
   "execution_count": 16,
   "metadata": {
    "collapsed": false
   },
   "outputs": [
    {
     "data": {
      "text/html": [
       "<div style=\"max-height:1000px;max-width:1500px;overflow:auto;\">\n",
       "<table border=\"1\" class=\"dataframe\">\n",
       "  <thead>\n",
       "    <tr style=\"text-align: right;\">\n",
       "      <th></th>\n",
       "      <th>4 hours</th>\n",
       "      <th>8 hours</th>\n",
       "      <th>16 hours</th>\n",
       "      <th>24 hours</th>\n",
       "      <th>32 hours</th>\n",
       "      <th>72 hours</th>\n",
       "      <th>120 hours</th>\n",
       "    </tr>\n",
       "    <tr>\n",
       "      <th>ENTREZ_GENE_ID</th>\n",
       "      <th></th>\n",
       "      <th></th>\n",
       "      <th></th>\n",
       "      <th></th>\n",
       "      <th></th>\n",
       "      <th></th>\n",
       "      <th></th>\n",
       "    </tr>\n",
       "  </thead>\n",
       "  <tbody>\n",
       "    <tr>\n",
       "      <th>8801</th>\n",
       "      <td>-0.027313</td>\n",
       "      <td>-1.130051</td>\n",
       "      <td>-2.189180</td>\n",
       "      <td>-3.085749</td>\n",
       "      <td>-2.917788</td>\n",
       "      <td>-2.993609</td>\n",
       "      <td>-1.700850</td>\n",
       "    </tr>\n",
       "    <tr>\n",
       "      <th>8992</th>\n",
       "      <td> 0.342758</td>\n",
       "      <td>-0.884020</td>\n",
       "      <td>-1.928357</td>\n",
       "      <td>-3.017827</td>\n",
       "      <td>-3.024406</td>\n",
       "      <td>-2.991851</td>\n",
       "      <td>-1.160622</td>\n",
       "    </tr>\n",
       "    <tr>\n",
       "      <th>9341</th>\n",
       "      <td>-0.178168</td>\n",
       "      <td>-0.591781</td>\n",
       "      <td>-1.708289</td>\n",
       "      <td>-2.743563</td>\n",
       "      <td>-2.873147</td>\n",
       "      <td>-2.839508</td>\n",
       "      <td>-1.091627</td>\n",
       "    </tr>\n",
       "    <tr>\n",
       "      <th>201965</th>\n",
       "      <td>-0.109980</td>\n",
       "      <td>-0.843801</td>\n",
       "      <td>-1.910224</td>\n",
       "      <td>-2.736311</td>\n",
       "      <td>-2.503068</td>\n",
       "      <td>-2.526326</td>\n",
       "      <td>-1.081906</td>\n",
       "    </tr>\n",
       "    <tr>\n",
       "      <th>84803</th>\n",
       "      <td>-0.051439</td>\n",
       "      <td>-0.780564</td>\n",
       "      <td>-1.979405</td>\n",
       "      <td>-2.513718</td>\n",
       "      <td>-3.123384</td>\n",
       "      <td>-2.506667</td>\n",
       "      <td>-1.035104</td>\n",
       "    </tr>\n",
       "  </tbody>\n",
       "</table>\n",
       "</div>"
      ],
      "text/plain": [
       "                 4 hours   8 hours  16 hours  24 hours  32 hours  72 hours  \\\n",
       "ENTREZ_GENE_ID                                                               \n",
       "8801           -0.027313 -1.130051 -2.189180 -3.085749 -2.917788 -2.993609   \n",
       "8992            0.342758 -0.884020 -1.928357 -3.017827 -3.024406 -2.991851   \n",
       "9341           -0.178168 -0.591781 -1.708289 -2.743563 -2.873147 -2.839508   \n",
       "201965         -0.109980 -0.843801 -1.910224 -2.736311 -2.503068 -2.526326   \n",
       "84803          -0.051439 -0.780564 -1.979405 -2.513718 -3.123384 -2.506667   \n",
       "\n",
       "                120 hours  \n",
       "ENTREZ_GENE_ID             \n",
       "8801            -1.700850  \n",
       "8992            -1.160622  \n",
       "9341            -1.091627  \n",
       "201965          -1.081906  \n",
       "84803           -1.035104  "
      ]
     },
     "execution_count": 16,
     "metadata": {},
     "output_type": "execute_result"
    }
   ],
   "source": [
    "lfc_result_annotated.sort(\"24 hours\").head()"
   ]
  },
  {
   "cell_type": "markdown",
   "metadata": {},
   "source": [
    "At that point our job is basicaly done. However, we might want to check if the experiments worked out at all. To do this we will use hsa-miR-124a-3p targets predicted by MIRZA-G algorithm. The targets should be downregulated. First we read MIRZA-G results:"
   ]
  },
  {
   "cell_type": "code",
   "execution_count": 108,
   "metadata": {
    "collapsed": false
   },
   "outputs": [
    {
     "data": {
      "text/html": [
       "<div style=\"max-height:1000px;max-width:1500px;overflow:auto;\">\n",
       "<table border=\"1\" class=\"dataframe\">\n",
       "  <thead>\n",
       "    <tr style=\"text-align: right;\">\n",
       "      <th></th>\n",
       "      <th>GeneID</th>\n",
       "      <th>miRNA</th>\n",
       "      <th>Total score without conservation</th>\n",
       "      <th>Total score with conservation</th>\n",
       "    </tr>\n",
       "  </thead>\n",
       "  <tbody>\n",
       "    <tr>\n",
       "      <th>0</th>\n",
       "      <td> 55119</td>\n",
       "      <td> hsa-miR-124-3p</td>\n",
       "      <td> 0.387844</td>\n",
       "      <td> 0.691904</td>\n",
       "    </tr>\n",
       "    <tr>\n",
       "      <th>1</th>\n",
       "      <td>   538</td>\n",
       "      <td> hsa-miR-124-3p</td>\n",
       "      <td> 0.243814</td>\n",
       "      <td> 0.387032</td>\n",
       "    </tr>\n",
       "    <tr>\n",
       "      <th>2</th>\n",
       "      <td> 57602</td>\n",
       "      <td> hsa-miR-124-3p</td>\n",
       "      <td> 0.128944</td>\n",
       "      <td>      NaN</td>\n",
       "    </tr>\n",
       "    <tr>\n",
       "      <th>3</th>\n",
       "      <td>  3267</td>\n",
       "      <td> hsa-miR-124-3p</td>\n",
       "      <td> 0.405515</td>\n",
       "      <td> 0.371705</td>\n",
       "    </tr>\n",
       "    <tr>\n",
       "      <th>4</th>\n",
       "      <td> 55752</td>\n",
       "      <td> hsa-miR-124-3p</td>\n",
       "      <td> 0.411628</td>\n",
       "      <td> 0.373977</td>\n",
       "    </tr>\n",
       "  </tbody>\n",
       "</table>\n",
       "</div>"
      ],
      "text/plain": [
       "   GeneID           miRNA  Total score without conservation  \\\n",
       "0   55119  hsa-miR-124-3p                          0.387844   \n",
       "1     538  hsa-miR-124-3p                          0.243814   \n",
       "2   57602  hsa-miR-124-3p                          0.128944   \n",
       "3    3267  hsa-miR-124-3p                          0.405515   \n",
       "4   55752  hsa-miR-124-3p                          0.411628   \n",
       "\n",
       "   Total score with conservation  \n",
       "0                       0.691904  \n",
       "1                       0.387032  \n",
       "2                            NaN  \n",
       "3                       0.371705  \n",
       "4                       0.373977  "
      ]
     },
     "execution_count": 108,
     "metadata": {},
     "output_type": "execute_result"
    }
   ],
   "source": [
    "header = [\"GeneID\", \"miRNA\", \"Total score without conservation\", \"Total score with conservation\"]\n",
    "miR124_targets = pd.read_table(\"seed-mirza-g_all_mirnas_per_gene_scores_miR_124a.tab\", names=header)\n",
    "miR124_targets.head()"
   ]
  },
  {
   "cell_type": "markdown",
   "metadata": {},
   "source": [
    "We shall extract targets as a simple list of strings:"
   ]
  },
  {
   "cell_type": "code",
   "execution_count": 109,
   "metadata": {
    "collapsed": false
   },
   "outputs": [
    {
     "name": "stdout",
     "output_type": "stream",
     "text": [
      "Number of targets: 2311\n"
     ]
    }
   ],
   "source": [
    "miR124_targets_list = map(str, miR124_targets.GeneID.tolist())\n",
    "print \"Number of targets:\", len(miR124_targets_list)"
   ]
  },
  {
   "cell_type": "markdown",
   "metadata": {},
   "source": [
    "As can be seen there is a lot of targets (genes that posses a seed match in their 3'UTRs). We will use all of them. As first stem we will annotate genes if they are targets or not and add this information as a column to DataFrame:"
   ]
  },
  {
   "cell_type": "code",
   "execution_count": 85,
   "metadata": {
    "collapsed": true
   },
   "outputs": [],
   "source": [
    "lfc_result_annotated[\"Is miR-124a target\"] = [i in miR124_targets_list for i in lfc_result_annotated.index]"
   ]
  },
  {
   "cell_type": "code",
   "execution_count": 86,
   "metadata": {
    "collapsed": true
   },
   "outputs": [],
   "source": [
    "cols_to_plot = [i for i in lfc_result_annotated.columns if \"hour\" in i]"
   ]
  },
  {
   "cell_type": "markdown",
   "metadata": {},
   "source": [
    "In the end we can plot the results:"
   ]
  },
  {
   "cell_type": "code",
   "execution_count": 87,
   "metadata": {
    "collapsed": false
   },
   "outputs": [
    {
     "data": {
      "text/plain": [
       "<matplotlib.text.Text at 0x7fe66c094410>"
      ]
     },
     "execution_count": 87,
     "metadata": {},
     "output_type": "execute_result"
    },
    {
     "data": {
      "image/png": "[encoded data removed]",
      "text/plain": [
       "<matplotlib.figure.Figure at 0x7fe66fd4b5d0>"
      ]
     },
     "metadata": {},
     "output_type": "display_data"
    }
   ],
   "source": [
    "a = sns.pointplot(data=lfc_result_annotated[lfc_result_annotated[\"Is miR-124a target\"]][cols_to_plot],\n",
    "                   color=c2,\n",
    "                   label=\"miR-124a target\")\n",
    "b = sns.pointplot(data=lfc_result_annotated[~lfc_result_annotated[\"Is miR-124a target\"]][cols_to_plot],\n",
    "             color=c1,\n",
    "             label=\"No miR-124a target\")\n",
    "sns.despine()\n",
    "pl.legend([pl.mpl.patches.Patch(color=c2), pl.mpl.patches.Patch(color=c1)],\n",
    "          [\"miR-124a target\", \"No miR-124a target\"], frameon=True, loc='lower left')\n",
    "pl.xlabel(\"Time after transfection\")\n",
    "pl.ylabel(\"Median log2 fold change\")"
   ]
  },
  {
   "cell_type": "markdown",
   "metadata": {},
   "source": [
    "As can be seen the targets of hsa-miR-124a-3p behaves in the expected way. With each time-point their downregulation is stronger up the 72 hours. After 120 hours the transfection is probably lost. This means that the experiments worked out."
   ]
  }
 ],
 "metadata": {
  "kernelspec": {
   "display_name": "Python 2",
   "language": "python",
   "name": "python2"
  },
  "language_info": {
   "codemirror_mode": {
    "name": "ipython",
    "version": 2
   },
   "file_extension": ".py",
   "mimetype": "text/x-python",
   "name": "python",
   "nbconvert_exporter": "python",
   "pygments_lexer": "ipython2",
   "version": "2.7.6"
  }
 },
 "nbformat": 4,
 "nbformat_minor": 0
}
