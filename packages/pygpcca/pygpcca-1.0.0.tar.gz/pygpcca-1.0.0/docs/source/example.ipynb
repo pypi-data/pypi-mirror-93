{
 "cells": [
  {
   "cell_type": "markdown",
   "metadata": {},
   "source": [
    "# Coarse-grain a simple transition matrix\n",
    "\n",
    "To illustrate the application of *pyGPCCA* we will coarse-grain a simple irreducible transition matrix $P$ as a toy example. "
   ]
  },
  {
   "cell_type": "markdown",
   "metadata": {},
   "source": [
    "Firstly, we will import needed packages like ``numpy``, ``matplotlib`` and of course ``pygpcca``:"
   ]
  },
  {
   "cell_type": "code",
   "execution_count": 1,
   "metadata": {},
   "outputs": [],
   "source": [
    "import matplotlib.pyplot as plt\n",
    "import numpy as np\n",
    "import pygpcca as gp"
   ]
  },
  {
   "cell_type": "markdown",
   "metadata": {},
   "source": [
    "Next, we define a simple $12 \\times 12$ row-stochastic (meaning that the rows of $P$ each sum up to one) transition matrix $P$ and plot it:"
   ]
  },
  {
   "cell_type": "code",
   "execution_count": 24,
   "metadata": {},
   "outputs": [
    {
     "data": {
      "image/png": "[encoded data removed]",
      "text/plain": [
       "<Figure size 432x288 with 2 Axes>"
      ]
     },
     "metadata": {
      "needs_background": "light"
     },
     "output_type": "display_data"
    }
   ],
   "source": [
    "P = np.array(\n",
    "    [\n",
    "    # 0.   1.   2.   3.   4.   5.   6.   7.   8.   9.   10.  11.   \n",
    "    [0.0, 0.8, 0.2, 0.0, 0.0, 0.0, 0.0, 0.0, 0.0, 0.0, 0.0, 0.0], #0\n",
    "    [0.2, 0.0, 0.6, 0.2, 0.0, 0.0, 0.0, 0.0, 0.0, 0.0, 0.0, 0.0], #1\n",
    "    [0.6, 0.2, 0.0, 0.2, 0.0, 0.0, 0.0, 0.0, 0.0, 0.0, 0.0, 0.0], #2\n",
    "    \n",
    "    [0.0, 0.05, 0.05, 0.0, 0.6, 0.3, 0.0, 0.0, 0.0, 0.0, 0.0, 0.0], #3\n",
    "    [0.0, 0.0, 0.0, 0.25, 0.0, 0.25, 0.4, 0.0, 0.0, 0.1, 0.0, 0.0], #4\n",
    "    [0.0, 0.0, 0.0, 0.25, 0.25, 0.0, 0.1, 0.0, 0.0, 0.4, 0.0, 0.0], #5\n",
    "    \n",
    "    [0.0, 0.0, 0.0, 0.0, 0.05, 0.05, 0.0, 0.7, 0.2, 0.0, 0.0, 0.0], #6\n",
    "    [0.0, 0.0, 0.0, 0.0, 0.0, 0.0, 0.2, 0.0, 0.8, 0.0, 0.0, 0.0], #7\n",
    "    [0.0, 0.0, 0.0, 0.0, 0.0, 0.0, 0.8, 0.2, 0.0, 0.0, 0.0, 0.0], #8\n",
    "    \n",
    "    [0.0, 0.0, 0.0, 0.0, 0.05, 0.05, 0.0, 0.0, 0.0, 0.0, 0.7, 0.2], #9\n",
    "    [0.0, 0.0, 0.0, 0.0, 0.0, 0.0, 0.0, 0.0, 0.0, 0.2, 0.0, 0.8], #10\n",
    "    [0.0, 0.0, 0.0, 0.0, 0.0, 0.0, 0.0, 0.0, 0.0, 0.8, 0.2, 0.0], #11\n",
    "    ],\n",
    "    dtype=np.float64,\n",
    ")\n",
    "\n",
    "# plot the matrix P:\n",
    "fig, ax = plt.subplots()\n",
    "c = ax.imshow(P)\n",
    "plt.xticks(np.arange(P.shape[1]))\n",
    "plt.yticks(np.arange(P.shape[0]))\n",
    "plt.ylim(-0.5, P.shape[0]-0.5)\n",
    "ax.set_ylim(ax.get_ylim()[::-1])\n",
    "fig.colorbar(c)\n",
    "plt.show()"
   ]
  },
  {
   "cell_type": "markdown",
   "metadata": {},
   "source": [
    "Following this, we initialize a *GPCCA* object from the transition matrix $P$:"
   ]
  },
  {
   "cell_type": "code",
   "execution_count": 3,
   "metadata": {},
   "outputs": [],
   "source": [
    "gpcca = gp.GPCCA(P, z='LM', method='brandts')"
   ]
  },
  {
   "cell_type": "markdown",
   "metadata": {},
   "source": [
    "GPCCA is a spectral clustering method with optimized memberships.\n",
    "It clusters the dominant $m$ Schur vectors of a transition matrix.\n",
    "This algorithm generates a fuzzy clustering such that the resulting membership functions are as crisp (characteristic) as possible.\n",
    "\n",
    "The parameter `z` specifies which portion of the eigenvalue spectrum of $P$ is to be sought. The returned invariant subspace of $P$ will be associated with this part of the spectrum.\n",
    "\n",
    "In case of `z='LM'`, the eigenvalues with the largest magnitude will be sorted to the top in descending order.\n",
    "This way the dominant (top) eigenvalues will be located near the unit circle in the complex plane, unraveling not only stable or metastable states, but cyclic states that are associated with eigenvalues near the roots of unity as well.\n",
    "\n",
    "In case of `z='LR'`, the eigenvalues with the largest real part will be sorted to the top in descending order.\n",
    "Thus stable and metastable states near the Perron root 1 are selected.\n",
    "\n",
    "The parameter `method` specifies which method will be used to determine the invariant subspace.\n",
    "\n",
    "If `method='brandts'`, a full Schur decomposition of $P$ utilizing\n",
    "`scipy.linalg.schur` is performed and afterwards the returned Schur form $R$ and Schur vector matrix $Q$ are partially sorted to gain an orthonormal basis of the subspace associated with the $m$ dominant eigenvalues of $P$.\n",
    "This is well tested and thus the default method, although it is also the slowest choice.\n",
    "\n",
    "If `method='krylov'`, an orthonormal basis of the subspace associated with the $m$ dominant eigenvalues of $P$ is calculated using the Krylov-Schur method as implemented in SLEPc.\n",
    "This is the fastest choice and especially suitable for very large $P$, but it is still experimental."
   ]
  },
  {
   "cell_type": "markdown",
   "metadata": {},
   "source": [
    "Afterwards, we can get a list of $minChi$ values for numbers of macrostates $m$ in an interval $[2, 12]$ of possible $m$ ($m=1$ is illegal here, since there is no point in clustering 12 microstates into one single macrostate). The $minChi$ values help us to determine an interval\n",
    "$[m_{min}, m_{max}]$ of nearly optimal numbers of macrostates for clustering:"
   ]
  },
  {
   "cell_type": "code",
   "execution_count": 4,
   "metadata": {
    "scrolled": true
   },
   "outputs": [
    {
     "data": {
      "text/plain": [
       "[-1.6653345369377348e-16,\n",
       " -2.255418698866725e-16,\n",
       " -0.9923508699724691,\n",
       " -0.9972757370249341,\n",
       " -0.926802576904497,\n",
       " -0.2705117206956666,\n",
       " -0.3360447945215935,\n",
       " -0.2973036186306221,\n",
       " -0.29104047575515346,\n",
       " -0.42902208201892694,\n",
       " -3.5809019888001215e-16]"
      ]
     },
     "execution_count": 4,
     "metadata": {},
     "output_type": "execute_result"
    }
   ],
   "source": [
    "gpcca.minChi(2, 12)"
   ]
  },
  {
   "cell_type": "markdown",
   "metadata": {},
   "source": [
    "The $minChi$ criterion states that cluster numbers $m$ (i.e. clustering into $m$ clusters) with a $minChi$ value close to zero will potentially result in a optimal (meaning especially *crisp* or sharp) clustering.\n",
    "Obviously, only $m=3$ qualifies as non-trivially potentially optimal, since for $m=2$ and $m=12$ always $minChi \\approx 0$ trivially holds."
   ]
  },
  {
   "cell_type": "markdown",
   "metadata": {},
   "source": [
    "Now, we would optimize the clustering for numbers of macrostates $m$ in a selected interval $[m_{min}, m_{max}]$ of potentially optimal macrostate numbers to find the optimal number of macrostates $n_m$ resulting in the crispest clustering in the given interval.\n",
    "\n",
    "Here, this interval would contain only $m=2,3$, since there is no benefit in clustering $n=12$ data points into $m=n$ clusters. \n",
    "\n",
    "Having said that, we here choose the whole interval $[2, 12]$ of legal cluster numbers to get a better impression of the spectrum associated with $P$ later, when looking at the eigenvalues of $P$:"
   ]
  },
  {
   "cell_type": "code",
   "execution_count": 5,
   "metadata": {},
   "outputs": [
    {
     "name": "stderr",
     "output_type": "stream",
     "text": [
      "/home/breuter/g-pcca/pyGPCCA/pygpcca/_gpcca.py:999: UserWarning: Clustering into 4 clusters will split complex conjugate eigenvalues. Skipping clustering into 4 clusters.\n",
      "  f\"Clustering into {m} clusters will split complex conjugate eigenvalues. \"\n",
      "/home/breuter/g-pcca/pyGPCCA/pygpcca/_gpcca.py:999: UserWarning: Clustering into 6 clusters will split complex conjugate eigenvalues. Skipping clustering into 6 clusters.\n",
      "  f\"Clustering into {m} clusters will split complex conjugate eigenvalues. \"\n",
      "/home/breuter/g-pcca/pyGPCCA/pygpcca/_gpcca.py:999: UserWarning: Clustering into 9 clusters will split complex conjugate eigenvalues. Skipping clustering into 9 clusters.\n",
      "  f\"Clustering into {m} clusters will split complex conjugate eigenvalues. \"\n",
      "/home/breuter/g-pcca/pyGPCCA/pygpcca/_gpcca.py:1033: UserWarning: Clustering 12 data points into 12 clusters is always perfectly crisp. Thus m=12 won't be included in the search for the optimal cluster number.\n",
      "  f\"Clustering {n} data points into {max(m_list)} clusters is always perfectly crisp. \"\n"
     ]
    },
    {
     "data": {
      "text/plain": [
       "<pygpcca._gpcca.GPCCA at 0x7fe440c5f090>"
      ]
     },
     "execution_count": 5,
     "metadata": {},
     "output_type": "execute_result"
    }
   ],
   "source": [
    "gpcca.optimize({'m_min':2, 'm_max':12})"
   ]
  },
  {
   "cell_type": "markdown",
   "metadata": {},
   "source": [
    "The optimized *GPCCA* object is returned above and we can now access different properties of it. \n",
    "\n",
    "Note: *pyGPCCA* warns that clustering $P$ into 4, 6, and 9 clusters would split complex conjugate eigenvalues and thus skips the optimization for those cluster numbers.\n",
    "Further, *pyGPCCA* warns that Clustering 12 data points into 12 clusters is always perfectly crisp, i.e. $\\xi \\approx 1$. Thus m=12 won't be included in the search for the optimal cluster number, since it will always be selected to be optimal despite there is no benefit from clustering $n=12$ data points into $m=n$ clusters."
   ]
  },
  {
   "cell_type": "markdown",
   "metadata": {},
   "source": [
    "The crispness values $\\xi \\in [0,1]$ for numbers of macrostates $m$ in the selected interval $[m_{min}, m_{max}]$ can be accessed via:"
   ]
  },
  {
   "cell_type": "code",
   "execution_count": 6,
   "metadata": {},
   "outputs": [
    {
     "data": {
      "text/plain": [
       "array([0.74151472, 0.81512805, 0.        , 0.38587154, 0.        ,\n",
       "       0.41628049, 0.41788963, 0.        , 0.55513151, 0.53758366,\n",
       "       1.        ])"
      ]
     },
     "execution_count": 6,
     "metadata": {},
     "output_type": "execute_result"
    }
   ],
   "source": [
    "gpcca.crispness_values"
   ]
  },
  {
   "cell_type": "markdown",
   "metadata": {},
   "source": [
    "The crispness $\\xi \\in [0, 1]$ quantifies the optimality of a clustering (higher is better). It characterizes how crisp (sharp) the decomposition of the state space into $m$ clusters is.\n",
    "Since $m=4,6,9$ were skipped, the associated crispness values are assigned to zero, because no clustering was performed."
   ]
  },
  {
   "cell_type": "markdown",
   "metadata": {},
   "source": [
    "The optimal crispness for the optimal number of macrostates $n_m$ in the selected interval $[m_{min}, m_{max}]$ can be accessed via:"
   ]
  },
  {
   "cell_type": "code",
   "execution_count": 7,
   "metadata": {},
   "outputs": [
    {
     "data": {
      "text/plain": [
       "0.8151280474517894"
      ]
     },
     "execution_count": 7,
     "metadata": {},
     "output_type": "execute_result"
    }
   ],
   "source": [
    "gpcca.optimal_crispness"
   ]
  },
  {
   "cell_type": "markdown",
   "metadata": {},
   "source": [
    "The optimal number of macrostates $n_m$ can be accessed via:"
   ]
  },
  {
   "cell_type": "code",
   "execution_count": 8,
   "metadata": {},
   "outputs": [
    {
     "data": {
      "text/plain": [
       "3"
      ]
     },
     "execution_count": 8,
     "metadata": {},
     "output_type": "execute_result"
    }
   ],
   "source": [
    "gpcca.n_m"
   ]
  },
  {
   "cell_type": "markdown",
   "metadata": {},
   "source": [
    "The optimal number of clusters or macrostates $n_m$ is the cluster number $m$ with the maximum crispness."
   ]
  },
  {
   "cell_type": "markdown",
   "metadata": {},
   "source": [
    "A vector containing the top $m_{max}$ eigenvalues of $P$ can be accessed via (here we get the full sorted spectrum of $P$, since we chose $m_{max}=n$):"
   ]
  },
  {
   "cell_type": "code",
   "execution_count": 10,
   "metadata": {},
   "outputs": [
    {
     "data": {
      "text/plain": [
       "array([ 1.        +0.j        ,  0.96554293+0.j        ,\n",
       "        0.88404279+0.j        , -0.48277146+0.48908574j,\n",
       "       -0.48277146-0.48908574j, -0.49366905+0.47392788j,\n",
       "       -0.49366905-0.47392788j,  0.58853656+0.j        ,\n",
       "       -0.43198962+0.39030468j, -0.43198962-0.39030468j,\n",
       "       -0.37126202+0.j        , -0.25      +0.j        ])"
      ]
     },
     "execution_count": 10,
     "metadata": {},
     "output_type": "execute_result"
    }
   ],
   "source": [
    "gpcca.top_eigenvalues"
   ]
  },
  {
   "cell_type": "markdown",
   "metadata": {},
   "source": [
    "A vector containing the dominant $n_m$ eigenvalues of $P$ can be accessed via:"
   ]
  },
  {
   "cell_type": "code",
   "execution_count": 11,
   "metadata": {},
   "outputs": [
    {
     "data": {
      "text/plain": [
       "array([1.        +0.j, 0.96554293+0.j, 0.88404279+0.j])"
      ]
     },
     "execution_count": 11,
     "metadata": {},
     "output_type": "execute_result"
    }
   ],
   "source": [
    "gpcca.dominant_eigenvalues"
   ]
  },
  {
   "cell_type": "markdown",
   "metadata": {},
   "source": [
    "An array $\\chi$ containing the membership $\\chi_{ij}$ (or probability)\n",
    "of each microstate $i$ (to be assigned) to each cluster or macrostate $j$ is available via:"
   ]
  },
  {
   "cell_type": "code",
   "execution_count": 25,
   "metadata": {},
   "outputs": [
    {
     "data": {
      "image/png": "[encoded data removed]",
      "text/plain": [
       "<Figure size 432x288 with 2 Axes>"
      ]
     },
     "metadata": {
      "needs_background": "light"
     },
     "output_type": "display_data"
    },
    {
     "data": {
      "text/plain": [
       "array([[1.00000000e+00, 0.00000000e+00, 8.44548736e-18],\n",
       "       [8.80009662e-01, 5.26338400e-02, 6.73564979e-02],\n",
       "       [9.12351139e-01, 3.84758290e-02, 4.91730323e-02],\n",
       "       [1.64953404e-01, 3.67067094e-01, 4.67979502e-01],\n",
       "       [6.51588802e-02, 3.35927186e-01, 5.98913934e-01],\n",
       "       [6.51588802e-02, 5.64708356e-01, 3.70132763e-01],\n",
       "       [5.02066367e-03, 3.27724659e-02, 9.62206870e-01],\n",
       "       [1.27462550e-16, 1.83492669e-16, 1.00000000e+00],\n",
       "       [1.78878958e-03, 1.11025375e-02, 9.87108673e-01],\n",
       "       [5.02066367e-03, 9.59750248e-01, 3.52290885e-02],\n",
       "       [0.00000000e+00, 1.00000000e+00, 2.42354345e-17],\n",
       "       [1.78878958e-03, 9.86286754e-01, 1.19244563e-02]])"
      ]
     },
     "execution_count": 25,
     "metadata": {},
     "output_type": "execute_result"
    }
   ],
   "source": [
    "chi = gpcca.memberships\n",
    "# plot chi:\n",
    "fig, ax = plt.subplots()\n",
    "c = ax.imshow(chi)\n",
    "plt.xticks(np.arange(chi.shape[1]))\n",
    "plt.yticks(np.arange(chi.shape[0]))\n",
    "plt.ylim(-0.5, chi.shape[0]-0.5)\n",
    "ax.set_ylim(ax.get_ylim()[::-1])\n",
    "fig.colorbar(c)\n",
    "plt.show()\n",
    "# show chi matrix:\n",
    "chi"
   ]
  },
  {
   "cell_type": "markdown",
   "metadata": {},
   "source": [
    "The optimal coarse-grained transition matrix\n",
    "\n",
    "$P_c = (\\chi^T D \\chi)^{-1} (\\chi^T D P \\chi)$\n",
    "\n",
    "can be accessed via:"
   ]
  },
  {
   "cell_type": "code",
   "execution_count": 26,
   "metadata": {},
   "outputs": [
    {
     "data": {
      "image/png": "[encoded data removed]",
      "text/plain": [
       "<Figure size 432x288 with 2 Axes>"
      ]
     },
     "metadata": {
      "needs_background": "light"
     },
     "output_type": "display_data"
    },
    {
     "data": {
      "text/plain": [
       "array([[0.88647796, 0.04980224, 0.0637198 ],\n",
       "       [0.00243516, 0.98097945, 0.01658538],\n",
       "       [0.00243516, 0.01543652, 0.98212831]])"
      ]
     },
     "execution_count": 26,
     "metadata": {},
     "output_type": "execute_result"
    }
   ],
   "source": [
    "P_c = gpcca.coarse_grained_transition_matrix\n",
    "# plot P_c:\n",
    "fig, ax = plt.subplots()\n",
    "c = ax.imshow(P_c)\n",
    "plt.xticks(np.arange(P_c.shape[1]))\n",
    "plt.yticks(np.arange(P_c.shape[0]))\n",
    "plt.ylim(-0.5, P_c.shape[0]-0.5)\n",
    "ax.set_ylim(ax.get_ylim()[::-1])\n",
    "fig.colorbar(c)\n",
    "plt.show()\n",
    "# show P_c matrix:\n",
    "P_c"
   ]
  },
  {
   "cell_type": "markdown",
   "metadata": {},
   "source": [
    "There are many more properties that can be accessed as you can see in the API documentation [here](https://pygpcca.readthedocs.io/en/latest/api/pygpcca.GPCCA.html), e.g.:"
   ]
  },
  {
   "cell_type": "markdown",
   "metadata": {},
   "source": [
    "The input probability distribution of the microstates:"
   ]
  },
  {
   "cell_type": "code",
   "execution_count": 14,
   "metadata": {},
   "outputs": [
    {
     "data": {
      "text/plain": [
       "array([0.08333333, 0.08333333, 0.08333333, 0.08333333, 0.08333333,\n",
       "       0.08333333, 0.08333333, 0.08333333, 0.08333333, 0.08333333,\n",
       "       0.08333333, 0.08333333])"
      ]
     },
     "execution_count": 14,
     "metadata": {},
     "output_type": "execute_result"
    }
   ],
   "source": [
    "gpcca.input_distribution"
   ]
  },
  {
   "cell_type": "markdown",
   "metadata": {},
   "source": [
    "The coarse grained input distribution of the macrostates:"
   ]
  },
  {
   "cell_type": "code",
   "execution_count": 15,
   "metadata": {},
   "outputs": [
    {
     "data": {
      "text/plain": [
       "array([0.25843757, 0.36239369, 0.37916873])"
      ]
     },
     "execution_count": 15,
     "metadata": {},
     "output_type": "execute_result"
    }
   ],
   "source": [
    "gpcca.coarse_grained_input_distribution"
   ]
  },
  {
   "cell_type": "markdown",
   "metadata": {},
   "source": [
    "An integer vector containing the macrostate each microstate is located in\n",
    "(This employs an absolute crisp clustering, e.g. $\\chi_{ij} \\in \\{0,1\\}$, and is recommended only for visualization purposes.\n",
    "You *cannot* compute any actual quantity of the coarse-grained kinetics without employing the fuzzy memberships, e.g. $\\chi_{ij} \\in [0,1]$.):"
   ]
  },
  {
   "cell_type": "code",
   "execution_count": 16,
   "metadata": {},
   "outputs": [
    {
     "data": {
      "text/plain": [
       "array([0, 0, 0, 2, 2, 1, 2, 2, 2, 1, 1, 1])"
      ]
     },
     "execution_count": 16,
     "metadata": {},
     "output_type": "execute_result"
    }
   ],
   "source": [
    "gpcca.macrostate_assignment"
   ]
  },
  {
   "cell_type": "markdown",
   "metadata": {},
   "source": [
    "A list were each element is an array that contains the indices of microstates assigned to the respective (first, second, third, ...) macrostate (This employs an absolute crisp clustering, e.g. $\\chi_{ij} \\in \\{0,1\\}$, and is recommended only for visualization purposes.\n",
    "You *cannot* compute any actual quantity of the coarse-grained kinetics without employing the fuzzy memberships, e.g. $\\chi_{ij} \\in [0,1]$.):"
   ]
  },
  {
   "cell_type": "code",
   "execution_count": 17,
   "metadata": {},
   "outputs": [
    {
     "data": {
      "text/plain": [
       "[array([0, 1, 2]), array([ 5,  9, 10, 11]), array([3, 4, 6, 7, 8])]"
      ]
     },
     "execution_count": 17,
     "metadata": {},
     "output_type": "execute_result"
    }
   ],
   "source": [
    "gpcca.macrostate_sets"
   ]
  },
  {
   "cell_type": "markdown",
   "metadata": {},
   "source": [
    "The optimized rotation matrix, which rotates the dominant Schur vectors to yield the GPCCA memberships, i.e. $\\chi = X A$:"
   ]
  },
  {
   "cell_type": "code",
   "execution_count": 18,
   "metadata": {},
   "outputs": [
    {
     "data": {
      "text/plain": [
       "array([[ 0.25843757,  0.36239369,  0.37916873],\n",
       "       [ 0.03366022, -0.36112468,  0.32746445],\n",
       "       [-0.39024389,  0.164552  ,  0.22569189]])"
      ]
     },
     "execution_count": 18,
     "metadata": {},
     "output_type": "execute_result"
    }
   ],
   "source": [
    "gpcca.rotation_matrix"
   ]
  },
  {
   "cell_type": "markdown",
   "metadata": {},
   "source": [
    "Ordered top left part of the real Schur matrix $R$ of $P$.\n",
    "The ordered partial real Schur matrix $R$ of $P$ fulfills $P Q = Q R$ with the ordered matrix of dominant Schur vectors $Q$:"
   ]
  },
  {
   "cell_type": "code",
   "execution_count": 20,
   "metadata": {},
   "outputs": [
    {
     "data": {
      "text/plain": [
       "array([[ 1.00000000e+00,  6.38159449e-04, -7.04970784e-02],\n",
       "       [ 0.00000000e+00,  9.65542930e-01,  7.02973961e-03],\n",
       "       [ 0.00000000e+00,  0.00000000e+00,  8.84042793e-01]])"
      ]
     },
     "execution_count": 20,
     "metadata": {},
     "output_type": "execute_result"
    }
   ],
   "source": [
    "gpcca.schur_matrix"
   ]
  },
  {
   "cell_type": "markdown",
   "metadata": {},
   "source": [
    "Array $Q$ with the sorted Schur vectors in the columns\n",
    "(The constant Schur vector is in the first column):"
   ]
  },
  {
   "cell_type": "code",
   "execution_count": 21,
   "metadata": {},
   "outputs": [
    {
     "data": {
      "text/plain": [
       "array([[ 1.        ,  0.14326506, -1.88789655],\n",
       "       [ 1.        ,  0.13739019, -1.58092803],\n",
       "       [ 1.        ,  0.13889124, -1.66367359],\n",
       "       [ 1.        ,  0.10015109,  0.24819166],\n",
       "       [ 1.        ,  0.31120067,  0.52211907],\n",
       "       [ 1.        , -0.34824151,  0.46523933],\n",
       "       [ 1.        ,  1.25811096,  0.75789837],\n",
       "       [ 1.        ,  1.35867697,  0.77943807],\n",
       "       [ 1.        ,  1.32450074,  0.77190645],\n",
       "       [ 1.        , -1.41382332,  0.52743247],\n",
       "       [ 1.        , -1.52373762,  0.53081733],\n",
       "       [ 1.        , -1.48638447,  0.52945543]])"
      ]
     },
     "execution_count": 21,
     "metadata": {},
     "output_type": "execute_result"
    }
   ],
   "source": [
    "gpcca.schur_vectors"
   ]
  },
  {
   "cell_type": "markdown",
   "metadata": {},
   "source": [
    "Stationary probability distribution $\\pi$ of the microstates (a vector that sums to 1):"
   ]
  },
  {
   "cell_type": "code",
   "execution_count": 22,
   "metadata": {},
   "outputs": [
    {
     "data": {
      "text/plain": [
       "array([0.00356002, 0.00462803, 0.00439069, 0.01803744, 0.03463189,\n",
       "       0.03030291, 0.16883048, 0.14873162, 0.15275139, 0.15584352,\n",
       "       0.13729072, 0.14100128])"
      ]
     },
     "execution_count": 22,
     "metadata": {},
     "output_type": "execute_result"
    }
   ],
   "source": [
    "gpcca.stationary_probability"
   ]
  },
  {
   "cell_type": "markdown",
   "metadata": {},
   "source": [
    "Coarse grained stationary distribution $\\pi_c = \\chi^T \\pi$:"
   ]
  },
  {
   "cell_type": "code",
   "execution_count": 23,
   "metadata": {},
   "outputs": [
    {
     "data": {
      "text/plain": [
       "array([0.02100054, 0.46893777, 0.51006168])"
      ]
     },
     "execution_count": 23,
     "metadata": {},
     "output_type": "execute_result"
    }
   ],
   "source": [
    "gpcca.coarse_grained_stationary_probability"
   ]
  }
 ],
 "metadata": {
  "kernelspec": {
   "display_name": "Python 3",
   "language": "python",
   "name": "python3"
  },
  "language_info": {
   "codemirror_mode": {
    "name": "python",
    "version": 3
   },
   "file_extension": ".py",
   "mimetype": "text/x-python",
   "name": "python",
   "nbconvert_exporter": "python",
   "pygments_lexer": "python3",
   "version": "3.7.4"
  }
 },
 "nbformat": 4,
 "nbformat_minor": 4
}
