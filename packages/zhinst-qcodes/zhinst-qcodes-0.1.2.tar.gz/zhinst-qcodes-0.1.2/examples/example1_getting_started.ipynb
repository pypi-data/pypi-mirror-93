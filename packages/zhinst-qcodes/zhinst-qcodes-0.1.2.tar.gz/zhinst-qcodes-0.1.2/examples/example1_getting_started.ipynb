{
 "cells": [
  {
   "cell_type": "markdown",
   "metadata": {},
   "source": [
    "# Quick Start Guide\n",
    "\n",
    "Import *qcodes* from the *zhinst* namespace as follows:\n"
   ]
  },
  {
   "cell_type": "code",
   "execution_count": 1,
   "metadata": {},
   "outputs": [],
   "source": [
    "import numpy as np\n",
    "import matplotlib.pyplot as plt\n",
    "\n",
    "import qcodes as qc\n",
    "import zhinst.qcodes as ziqc"
   ]
  },
  {
   "cell_type": "markdown",
   "metadata": {},
   "source": [
    "## Initialize the device\n",
    "\n",
    "*zhinst-qcodes* provides instrument drivers for multiple different *Zurich Instruments* devices. It includes drivers for\n",
    "\n",
    "* HDAWG\n",
    "* UHFQA\n",
    "* UHFLI\n",
    "* MFLI\n",
    "\n",
    "All of the instrument drivers available in *zhinst-qcodes* share some basic device properties. Every device is identified by a `name` and a `serial` number. The `name` is free for the user to chose and only for their convenience. The `serial` however, is a unique identifier for every *Zurich Instruments* device. The serial number can be found on the back of panel of instrument and is of the format `DEV1234`. In addition, the drivers needs to know what `interface` the device uses and where to find the data server (`host`). The value for the interface defaults to a connection via Ethernet (`1GbE`) and the host address is `localhost` unless specified otherwise.\n",
    "\n",
    "As a first example, we now initialize the instrument driver for a HDAWG. We name it `hdawg1` and we know that our device's serial number is `dev8138`."
   ]
  },
  {
   "cell_type": "code",
   "execution_count": 2,
   "metadata": {},
   "outputs": [
    {
     "name": "stdout",
     "output_type": "stream",
     "text": [
      "Successfully connected to data server at 10.42.0.2268004 api version: 6\n",
      "Successfully connected to device DEV8138 on interface 1GBE\n",
      "Connected to: Zurich Instruments HDAWG (serial:dev8138, firmware:66245) in 3.26s\n"
     ]
    }
   ],
   "source": [
    "hdawg = ziqc.HDAWG(\"hdawg1\", \"dev8138\", interface=\"1gbe\", host=\"10.42.0.226\")"
   ]
  },
  {
   "cell_type": "markdown",
   "metadata": {},
   "source": [
    "Now the device is connected and we are ready to go!"
   ]
  },
  {
   "cell_type": "code",
   "execution_count": 3,
   "metadata": {},
   "outputs": [
    {
     "data": {
      "text/plain": [
       "{'vendor': 'Zurich Instruments',\n",
       " 'model': 'HDAWG',\n",
       " 'serial': 'dev8138',\n",
       " 'firmware': 66245}"
      ]
     },
     "execution_count": 3,
     "metadata": {},
     "output_type": "execute_result"
    }
   ],
   "source": [
    "hdawg.get_idn()"
   ]
  },
  {
   "cell_type": "markdown",
   "metadata": {},
   "source": [
    "## Access the Device's Nodetree  \n",
    "\n",
    "The driver's *nodetree* is a data structure that allows the user to access all the settings and data on the device. The settings are highly structured into logical groups, enumerations and options. In QCoDeS they are represented as *submodules*.\n",
    "\n",
    "For example, all of the device's signal inputs and all of its signal outputs are grouped together or the HDAWG's 8 sine generators are grouped into the submodule `sines` (a `ChannelList`) that are then enumerated from `0 - 7`. Each `Node` in the nodetree can have other submodules or QCoDeS `Parameters` as attributes. The `Parameters` are the 'leaves' of the tree data structure and represent individual settings or data on the instrument.\n",
    "\n",
    "```\n",
    "HDAWG\n",
    "│\n",
    "└─── sigouts             <--- ChannelList\n",
    "│    └─── 0              <--- InstrumentChannel \n",
    "│    │    └─── on        <--- Parameter\n",
    "│    │    └─── range \n",
    "│    │    └─── direct\n",
    "│    │    └─── offset\n",
    "│    │    └─── ...\n",
    "│    └─── 1  \n",
    "│\n",
    "└─── oscs \n",
    "│    └─── 0\n",
    "│    │    └─── freq\n",
    "│    └─── 1\n",
    "│    └─── 2\n",
    "│    └─── ...\n",
    "│\n",
    "└─── sines\n",
    "│    └─── ...\n",
    "│\n",
    "└─── awgs\n",
    "│    └─── 0\n",
    "│    └─── 1\n",
    "│    └─── 2\n",
    "│    └─── 4\n",
    "│\n",
    "└─── ...     \n",
    "```\n",
    "\n",
    "Enumerated nodes such as the 8 sine-generators or 16 oscillators of the HDAWG are grouped together in `ChannelLists`. For example the node of the first sine-generator would be accessed via `hdawg.sines[0]`. \n",
    "\n",
    "In a *Jupyter* notebook or a console it is easy to navigate through the nodetree."
   ]
  },
  {
   "cell_type": "code",
   "execution_count": 6,
   "metadata": {},
   "outputs": [
    {
     "name": "stdout",
     "output_type": "stream",
     "text": [
      "['awgs', 'stats', 'oscs', 'status', 'sines', 'dios', 'system', 'sigouts', 'triggers', 'features', 'cnts']\n",
      "['IDN', 'clockbase']\n"
     ]
    }
   ],
   "source": [
    "print([k for k in hdawg.submodules.keys()])\n",
    "print([k for k in hdawg.parameters.keys()])"
   ]
  },
  {
   "cell_type": "code",
   "execution_count": 7,
   "metadata": {},
   "outputs": [
    {
     "data": {
      "text/plain": [
       "ChannelList(<HDAWG: hdawg1>, ZINode, (<ZINode: hdawg1_sines0 of HDAWG: hdawg1>, <ZINode: hdawg1_sines1 of HDAWG: hdawg1>))"
      ]
     },
     "execution_count": 7,
     "metadata": {},
     "output_type": "execute_result"
    }
   ],
   "source": [
    "hdawg.sines[0:2]"
   ]
  },
  {
   "cell_type": "markdown",
   "metadata": {},
   "source": [
    "At the end of the tree, the leaves, are QCoDeS `Parameters`. In case you wonder what a certain parameter does, you can print an insightful description."
   ]
  },
  {
   "cell_type": "code",
   "execution_count": 8,
   "metadata": {},
   "outputs": [
    {
     "name": "stdout",
     "output_type": "stream",
     "text": [
      "* `Node`: /DEV8138/OSCS/0/FREQ\n",
      "* `Description`: Frequency control for each oscillator.\n",
      "* `Properties`: Read, Write, Setting\n",
      "* `Type`: Double\n",
      "* `Unit`: Hz\n",
      "\n",
      "\n",
      "Parameter class:\n",
      "\n",
      "* `name` freq\n",
      "* `label` freq\n",
      "* `unit` Hz\n",
      "* `vals` None\n"
     ]
    }
   ],
   "source": [
    "print(hdawg.oscs[0].freq.__doc__)"
   ]
  },
  {
   "cell_type": "markdown",
   "metadata": {},
   "source": [
    "The parameters are callable to set and get the instrument values."
   ]
  },
  {
   "cell_type": "code",
   "execution_count": 7,
   "metadata": {},
   "outputs": [
    {
     "data": {
      "text/plain": [
       "99999999.99999432"
      ]
     },
     "execution_count": 7,
     "metadata": {},
     "output_type": "execute_result"
    }
   ],
   "source": [
    "# set oscillator frequency to 100 MHz\n",
    "hdawg.nodetree.oscs[0].freq(100e6)\n",
    "\n",
    "# what frequency is the oscillator set to now?\n",
    "hdawg.nodetree.oscs[0].freq()"
   ]
  },
  {
   "cell_type": "markdown",
   "metadata": {},
   "source": [
    "The instrument driver's submodules that represent the nodetree are created whenever it connects the device to the data server. This ensures that the available nodes and parameters in the nodetree are always up to date with the latest version of the device's firmware. \n",
    "\n",
    "Depending on the device, the instruemnt drivers also have submodules other than the ones in the nodetree. Those are called *Modules* and depend on the type of device at hand and the options installed on it. Modules can for example be the *Data Acquisition Module* or the *Sweeper Module*. The devices with AWG Sequencers such as the HDAWG, UHFQA and the UHFLI (if option is installed) feature *AWG Modules*. Each *AWG Module* controls two chanels and features high-level functionality for programming sequences of waveforms and generating IQ-Modulation signals.\n",
    "\n",
    "For more information, see the detailed documentation of the `zhinst-toolkit` and the following examples. "
   ]
  }
 ],
 "metadata": {
  "kernelspec": {
   "display_name": "Python 3",
   "language": "python",
   "name": "python3"
  },
  "language_info": {
   "codemirror_mode": {
    "name": "ipython",
    "version": 3
   },
   "file_extension": ".py",
   "mimetype": "text/x-python",
   "name": "python",
   "nbconvert_exporter": "python",
   "pygments_lexer": "ipython3",
   "version": "3.6.9"
  }
 },
 "nbformat": 4,
 "nbformat_minor": 4
}
