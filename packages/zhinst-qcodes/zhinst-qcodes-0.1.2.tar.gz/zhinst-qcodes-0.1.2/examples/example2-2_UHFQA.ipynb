{
 "cells": [
  {
   "cell_type": "markdown",
   "metadata": {},
   "source": [
    "# UHFQA"
   ]
  },
  {
   "cell_type": "markdown",
   "metadata": {},
   "source": [
    "Just like the driver for the HDAWG in the previous example, we now use the `tk.UHFQA` instrument driver."
   ]
  },
  {
   "cell_type": "code",
   "execution_count": 1,
   "metadata": {},
   "outputs": [
    {
     "name": "stdout",
     "output_type": "stream",
     "text": [
      "Successfully connected to data server at 10.42.0.2268004 api version: 6\n",
      "Successfully connected to device DEV2266 on interface 1GBE\n",
      "Connected to: Zurich Instruments UHFQA (serial:dev2266, firmware:65939) in 1.02s\n"
     ]
    }
   ],
   "source": [
    "import numpy as np\n",
    "import matplotlib.pyplot as plt\n",
    "\n",
    "import qcodes as qc\n",
    "import zhinst.qcodes as ziqc\n",
    "\n",
    "uhfqa = ziqc.UHFQA(\"qa1\", \"dev2266\", interface=\"1gbe\", host=\"10.42.0.226\")"
   ]
  },
  {
   "cell_type": "code",
   "execution_count": 2,
   "metadata": {},
   "outputs": [
    {
     "name": "stdout",
     "output_type": "stream",
     "text": [
      "['channels', 'awg', 'stats', 'oscs', 'triggers', 'status', 'dios', 'auxins', 'system', 'sigins', 'sigouts', 'features', 'auxouts', 'qas']\n",
      "['IDN', 'crosstalk_matrix', 'result_source', 'integration_time', 'averaging_mode', 'clockbase']\n"
     ]
    }
   ],
   "source": [
    "print([k for k in uhfqa.submodules.keys()])\n",
    "print([k for k in uhfqa.parameters.keys()])"
   ]
  },
  {
   "cell_type": "markdown",
   "metadata": {},
   "source": [
    "## AWG core of the UHFQA\n",
    "\n",
    "Also the UHFQA features one *AWG Core*. "
   ]
  },
  {
   "cell_type": "code",
   "execution_count": 3,
   "metadata": {},
   "outputs": [
    {
     "name": "stdout",
     "output_type": "stream",
     "text": [
      "['outputs', 'output1', 'output2', 'gain1', 'gain2']\n"
     ]
    }
   ],
   "source": [
    "print([k for k in uhfqa.awg.parameters.keys()])"
   ]
  },
  {
   "cell_type": "markdown",
   "metadata": {},
   "source": [
    "## Readout channels of the UHFQA\n",
    "\n",
    "The UHFQA comes with signal processing streams for up to ten channels in parallel. The settings for the readout are grouped by channel in a list of all ten `channels`. Each item in the `channels` property of the UHFQA is an *Instrument Channel* that represent the signal processing path for one of the ten channels."
   ]
  },
  {
   "cell_type": "code",
   "execution_count": 4,
   "metadata": {},
   "outputs": [
    {
     "name": "stdout",
     "output_type": "stream",
     "text": [
      "['rotation', 'threshold', 'readout_frequency', 'readout_amplitude', 'phase_shift', 'result', 'enabled']\n"
     ]
    }
   ],
   "source": [
    "print([k for k in uhfqa.channels[0].parameters.keys()])"
   ]
  },
  {
   "cell_type": "markdown",
   "metadata": {},
   "source": [
    "Each of the channels follows the following signal processing steps:\n",
    "\n",
    "1. Demodulation of the input signal\n",
    "2. Rotation in the complex plane\n",
    "3. Thresholding for binary result values\n",
    "\n",
    "\n",
    "The values for the rotation and thresholding stages can be set using the `rotation` and `threshold` parameter of the *channel*. \n",
    "\n",
    "The standard mode for the demodulation of input signals is the *weighted integration* mode. This corresponds to setting the integration weights for the two quadratures of the input signal to oscillate at a given demodulation frequency. When enabling the weighted integration with `ch.enable()`, the integration weights for the two quadratures are set. The demodulation frequency is set to the parameter `readout_frequency`.\n",
    "\n",
    "Enabling weighted integration for the first four channels of the UHFQA and setting their demodulation frequency could look like this: "
   ]
  },
  {
   "cell_type": "code",
   "execution_count": 5,
   "metadata": {},
   "outputs": [],
   "source": [
    "freqs = [85.6e6, 101.3e6, 132.8e6]\n",
    "\n",
    "for ch in uhfqa.channels[:3]:\n",
    "    ch.enable()\n",
    "    ch.readout_frequency(freqs[ch.index])"
   ]
  },
  {
   "cell_type": "markdown",
   "metadata": {},
   "source": [
    "The resut vector of each channel can be retrieved from the instrument by calling the read-only parameter *result*."
   ]
  },
  {
   "cell_type": "code",
   "execution_count": 6,
   "metadata": {},
   "outputs": [
    {
     "name": "stdout",
     "output_type": "stream",
     "text": [
      "Node: qas/0/result/data/0/wave\n",
      "Description: Returns the result vector of the readout channel.\n",
      "Type: Numpy array\n",
      "Properties: Read\n",
      "Unit: None\n",
      "\n",
      "\n",
      "Parameter class:\n",
      "\n",
      "* `name` result\n",
      "* `label` Result\n",
      "* `unit` None\n",
      "* `vals` None\n"
     ]
    }
   ],
   "source": [
    "print(uhfqa.channels[0].result.__doc__)"
   ]
  },
  {
   "cell_type": "markdown",
   "metadata": {},
   "source": [
    "## Readout parameters\n",
    "\n",
    "There are readout parameters taht are not specific to one isngle channel but affect all ten readout channels. These are\n",
    "\n",
    "* the `integration_time`: the time in seconds used for integrating the input signals\n",
    "* the `result_source` lets the user select at which point in the signal processing path the `result` value should be taken\n",
    "* the `averaging_mode` specifies if the hardware averages on the device should be taken in a *sequential* or *cyclic* way \n",
    "* the `crosstalk_matrix` specifies a 10 x 10 matrix that can be calibrated to compensate for crosstalk betweeen the channels\n",
    "\n",
    "These three *parameters* are attributes of the UHFQA instrument driver."
   ]
  },
  {
   "cell_type": "code",
   "execution_count": 7,
   "metadata": {},
   "outputs": [
    {
     "name": "stdout",
     "output_type": "stream",
     "text": [
      "The integration time used for demodulation in seconds. Can be up to 2.27 us when using weighted integration and up to 50 us in spectroscopy mode.\n",
      "\n",
      "Parameter class:\n",
      "\n",
      "* `name` integration_time\n",
      "* `label` Integration Time\n",
      "* `unit` \n",
      "* `vals` <Numbers 0<=v<=5e-05>\n"
     ]
    }
   ],
   "source": [
    "print(uhfqa.integration_time.__doc__)"
   ]
  },
  {
   "cell_type": "code",
   "execution_count": 8,
   "metadata": {},
   "outputs": [
    {
     "name": "stdout",
     "output_type": "stream",
     "text": [
      "The signal source for QA Results. Has to be one of ['Crosstalk', 'Integration', 'Threshold', 'Crosstalk Correlation', 'Threshold Correlation', 'Rotation'].\n",
      "\n",
      "Parameter class:\n",
      "\n",
      "* `name` result_source\n",
      "* `label` Result Source\n",
      "* `unit` \n",
      "* `vals` <Enum: {'Crosstalk', 'Threshold', 'Threshold Correlation', 'Crosstalk Correlation', 'Integration', 'Rotation'}>\n"
     ]
    }
   ],
   "source": [
    "print(uhfqa.result_source.__doc__)"
   ]
  },
  {
   "cell_type": "code",
   "execution_count": 9,
   "metadata": {},
   "outputs": [
    {
     "name": "stdout",
     "output_type": "stream",
     "text": [
      "Selects the order of the result logger. One of {'Cyclic', 'Sequential'}.\n",
      "\n",
      "Parameter class:\n",
      "\n",
      "* `name` averaging_mode\n",
      "* `label` Averaging Mode\n",
      "* `unit` \n",
      "* `vals` <Enum: {'Sequential', 'Cyclic'}>\n"
     ]
    }
   ],
   "source": [
    "print(uhfqa.averaging_mode.__doc__)"
   ]
  },
  {
   "cell_type": "code",
   "execution_count": 10,
   "metadata": {},
   "outputs": [
    {
     "name": "stdout",
     "output_type": "stream",
     "text": [
      "The 10x10 crosstalk suppression matrix that multiplies the 10 signal paths. Can be set only partially.\n",
      "\n",
      "Parameter class:\n",
      "\n",
      "* `name` crosstalk_matrix\n",
      "* `label` Crosstalk Matrix\n",
      "* `unit` \n",
      "* `vals` None\n"
     ]
    }
   ],
   "source": [
    "print(uhfqa.crosstalk_matrix.__doc__)"
   ]
  },
  {
   "cell_type": "markdown",
   "metadata": {},
   "source": [
    "Other important readout parameters can be accessed through the *nodetree*, for example the \n",
    "\n",
    "* *result length*: the number of points to acquire\n",
    "* *result averages*: the number of hardware averages"
   ]
  },
  {
   "cell_type": "code",
   "execution_count": 11,
   "metadata": {},
   "outputs": [
    {
     "name": "stdout",
     "output_type": "stream",
     "text": [
      "* `Node`: /DEV2266/QAS/0/RESULT/LENGTH\n",
      "* `Description`: The time duration of each capture in samples. A maximum of 4096 samples can be captured, which corresponds to 2.3 µs.\n",
      "* `Properties`: Read, Write, Setting\n",
      "* `Type`: Integer (64 bit)\n",
      "* `Unit`: None\n",
      "\n",
      "\n",
      "Parameter class:\n",
      "\n",
      "* `name` length\n",
      "* `label` length\n",
      "* `unit` \n",
      "* `vals` None\n"
     ]
    }
   ],
   "source": [
    "print(uhfqa.qas[0].result.length.__doc__)"
   ]
  },
  {
   "cell_type": "code",
   "execution_count": 12,
   "metadata": {},
   "outputs": [
    {
     "name": "stdout",
     "output_type": "stream",
     "text": [
      "* `Node`: /DEV2266/QAS/0/RESULT/AVERAGES\n",
      "* `Description`: log2 of the number of averages to perform, i.e. 0 means no averaging, 1 means 2 values are averaged, etc. Maximum setting is 15 meaning 2^15 values are averaged.\n",
      "* `Properties`: Read, Write, Setting\n",
      "* `Type`: Integer (64 bit)\n",
      "* `Unit`: None\n",
      "\n",
      "\n",
      "Parameter class:\n",
      "\n",
      "* `name` averages\n",
      "* `label` averages\n",
      "* `unit` \n",
      "* `vals` None\n"
     ]
    }
   ],
   "source": [
    "print(uhfqa.qas[0].result.averages.__doc__)"
   ]
  },
  {
   "cell_type": "markdown",
   "metadata": {},
   "source": [
    "## *Arm* the UHFQA readout\n",
    "\n",
    "The `arm(...)` method of the UHFQA prepares the device for data acquisition. It enables the *Results Acquisition* and resets the acquired points to zero. This should be done before every measurement. The method also includes a shortcut to setting the values *result length* and *result averages*. They can be specified as keyword arguments. If the keyword arguemnts are not specified, nothing is changed."
   ]
  },
  {
   "cell_type": "code",
   "execution_count": 13,
   "metadata": {},
   "outputs": [],
   "source": [
    "uhfqa.arm(length=1e3, averages=2**5)"
   ]
  }
 ],
 "metadata": {
  "kernelspec": {
   "display_name": "Python 3",
   "language": "python",
   "name": "python3"
  },
  "language_info": {
   "codemirror_mode": {
    "name": "ipython",
    "version": 3
   },
   "file_extension": ".py",
   "mimetype": "text/x-python",
   "name": "python",
   "nbconvert_exporter": "python",
   "pygments_lexer": "ipython3",
   "version": "3.6.9"
  }
 },
 "nbformat": 4,
 "nbformat_minor": 4
}
