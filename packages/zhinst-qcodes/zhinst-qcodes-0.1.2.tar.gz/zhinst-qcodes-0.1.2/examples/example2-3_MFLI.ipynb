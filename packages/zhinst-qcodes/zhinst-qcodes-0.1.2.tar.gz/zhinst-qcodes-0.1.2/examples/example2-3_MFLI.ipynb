{
 "cells": [
  {
   "cell_type": "markdown",
   "metadata": {},
   "source": [
    "# MFLI\n",
    "\n",
    "We use the `ziqc.MFLI` instrument driver for the MFLI Lock-In amplifier."
   ]
  },
  {
   "cell_type": "code",
   "execution_count": 1,
   "metadata": {},
   "outputs": [
    {
     "name": "stdout",
     "output_type": "stream",
     "text": [
      "Successfully connected to data server at 10.42.3.788004 api version: 6\n",
      "Successfully connected to device DEV3337 on interface PCIE\n",
      "Connected to: Zurich Instruments MFLI (serial:dev3337, firmware:65939) in 0.72s\n"
     ]
    }
   ],
   "source": [
    "import numpy as np\n",
    "import matplotlib.pyplot as plt\n",
    "\n",
    "import qcodes as qc\n",
    "import zhinst.qcodes as ziqc\n",
    "\n",
    "mfli = ziqc.MFLI(\"mf1\", \"dev3337\", interface=\"pcie\", host=\"10.42.3.78\")"
   ]
  },
  {
   "cell_type": "markdown",
   "metadata": {},
   "source": [
    "## Nodetree\n",
    "\n",
    "Access the MFLI's nodetree:"
   ]
  },
  {
   "cell_type": "code",
   "execution_count": 2,
   "metadata": {},
   "outputs": [
    {
     "name": "stdout",
     "output_type": "stream",
     "text": [
      "['daq', 'sweeper', 'stats', 'oscs', 'demods', 'extrefs', 'triggers', 'status', 'dios', 'auxins', 'system', 'sigins', 'currins', 'sigouts', 'mods', 'pids', 'features', 'auxouts', 'tu', 'imps']\n",
      "['IDN', 'clockbase']\n"
     ]
    }
   ],
   "source": [
    "print([k for k in mfli.submodules.keys()])\n",
    "print([k for k in mfli.parameters.keys()])"
   ]
  },
  {
   "cell_type": "markdown",
   "metadata": {},
   "source": [
    "The `Parameter` *sample* of the demodulators uses the `getSample(...)` method of the *ziPython* API to read the latest sample of the demodulator. "
   ]
  },
  {
   "cell_type": "code",
   "execution_count": 3,
   "metadata": {},
   "outputs": [
    {
     "data": {
      "text/plain": [
       "(1.1122721315802995e-06-4.346413905575501e-07j)"
      ]
     },
     "execution_count": 3,
     "metadata": {},
     "output_type": "execute_result"
    }
   ],
   "source": [
    "mfli.demods[0].sample()"
   ]
  },
  {
   "cell_type": "markdown",
   "metadata": {},
   "source": [
    "> ⚠️ Note that this parameter only returns a *single* sample. There is no guarantee for any precise time-relation between consecutive samples. For proper (triggered) data acquisition of signals aligned to a precise time-grid, please use the *Data Acquisition Module* (see below)."
   ]
  },
  {
   "cell_type": "markdown",
   "metadata": {},
   "source": [
    "## The *Data Acquisition Module* of the MFLI\n",
    "\n",
    "The MFLI comes with a *Data Acquisition Module* for precise (triggered) measurements. For more details on the *Data Acquisition Module* please see the according example."
   ]
  },
  {
   "cell_type": "code",
   "execution_count": 4,
   "metadata": {},
   "outputs": [
    {
     "name": "stdout",
     "output_type": "stream",
     "text": [
      "['awgcontrol', 'bandwidth', 'bitmask', 'bits', 'buffercount', 'buffersize', 'clearhistory', 'count', 'delay', 'device', 'duration', 'edge', 'enable', 'endless', 'eventcount_mode', 'fft_absolute', 'fft_window', 'findlevel', 'flags', 'forcetrigger', 'grid_cols', 'grid_direction', 'grid_mode', 'grid_overwrite', 'grid_repetitions', 'grid_rowrepetition', 'grid_rows', 'grid_waterfall', 'historylength', 'holdoff_count', 'holdoff_time', 'hysteresis', 'level', 'preview', 'pulse_max', 'pulse_min', 'refreshrate', 'save_csvlocale', 'save_csvseparator', 'save_directory', 'save_fileformat', 'save_filename', 'save_save', 'save_saveonread', 'spectrum_autobandwidth', 'spectrum_enable', 'spectrum_frequencyspan', 'spectrum_overlapped', 'triggered', 'triggernode', 'type']\n"
     ]
    }
   ],
   "source": [
    "print([k for k in mfli.daq.parameters.keys()])"
   ]
  },
  {
   "cell_type": "markdown",
   "metadata": {},
   "source": [
    "List available sources of streaming signals ..."
   ]
  },
  {
   "cell_type": "code",
   "execution_count": 5,
   "metadata": {},
   "outputs": [
    {
     "data": {
      "text/plain": [
       "['dio0',\n",
       " 'auxin0',\n",
       " 'scope0',\n",
       " 'demod0',\n",
       " 'demod1',\n",
       " 'demod2',\n",
       " 'demod3',\n",
       " 'pid0_value',\n",
       " 'pid0_error',\n",
       " 'pid0_shift',\n",
       " 'pid1_value',\n",
       " 'pid1_error',\n",
       " 'pid1_shift',\n",
       " 'pid2_value',\n",
       " 'pid2_error',\n",
       " 'pid2_shift',\n",
       " 'pid3_value',\n",
       " 'pid3_error',\n",
       " 'pid3_shift',\n",
       " 'imp0',\n",
       " 'imp1']"
      ]
     },
     "execution_count": 5,
     "metadata": {},
     "output_type": "execute_result"
    }
   ],
   "source": [
    "mfli.daq.signals_list()"
   ]
  },
  {
   "cell_type": "markdown",
   "metadata": {},
   "source": [
    "... and different signal types for a given source."
   ]
  },
  {
   "cell_type": "code",
   "execution_count": 6,
   "metadata": {},
   "outputs": [
    {
     "data": {
      "text/plain": [
       "['x', 'y', 'r', 'xiy', 'theta', 'frequency', 'auxin0', 'auxin1', 'dio']"
      ]
     },
     "execution_count": 6,
     "metadata": {},
     "output_type": "execute_result"
    }
   ],
   "source": [
    "mfli.daq.signals_list(\"demod0\")"
   ]
  },
  {
   "cell_type": "markdown",
   "metadata": {},
   "source": [
    "Use the method `signals_add(..)` to specify which signals should be acquired during a measurement. The return value gives the exact node path that will be subscribed to before the measurement."
   ]
  },
  {
   "cell_type": "code",
   "execution_count": 7,
   "metadata": {},
   "outputs": [
    {
     "name": "stdout",
     "output_type": "stream",
     "text": [
      "['/dev3337/demods/0/sample.x.avg', '/dev3337/demods/0/sample.y.avg']\n"
     ]
    }
   ],
   "source": [
    "demod_x = mfli.daq.signals_add(\"demod0\", \"x\")\n",
    "demod_y = mfli.daq.signals_add(\"demod0\", \"y\")\n",
    "\n",
    "# which signal nodes have been added?\n",
    "print(mfli.daq.signals)"
   ]
  },
  {
   "cell_type": "markdown",
   "metadata": {},
   "source": [
    "Use *trigger type*, *grid columns*, *grid rows* and other parameters to configure the measurement you want."
   ]
  },
  {
   "cell_type": "code",
   "execution_count": 8,
   "metadata": {},
   "outputs": [],
   "source": [
    "mfli.daq.type(\"continuous\")\n",
    "mfli.daq.grid_cols(100)\n",
    "mfli.daq.grid_rows(100)"
   ]
  },
  {
   "cell_type": "markdown",
   "metadata": {},
   "source": [
    "The measurement routine is started using the `measure(...)` method. At first, the mdoule will subscribe to the signal nodes that were previously added to the measurement. Then the measurement is started. When it is finished, the results will be added to the `results` property of the `daq` Module. "
   ]
  },
  {
   "cell_type": "code",
   "execution_count": 9,
   "metadata": {},
   "outputs": [
    {
     "name": "stdout",
     "output_type": "stream",
     "text": [
      "subscribed to: /dev3337/demods/0/sample.x.avg\n",
      "subscribed to: /dev3337/demods/0/sample.y.avg\n",
      "Progress: 0.0%\n",
      "Progress: 1.0%\n",
      "Progress: 7.0%\n",
      "Progress: 15.0%\n",
      "Progress: 23.0%\n",
      "Progress: 34.0%\n",
      "Progress: 42.0%\n",
      "Progress: 49.0%\n",
      "Progress: 56.0%\n",
      "Progress: 64.0%\n",
      "Progress: 72.0%\n",
      "Progress: 80.0%\n",
      "Progress: 89.0%\n",
      "Progress: 98.0%\n",
      "Finished\n"
     ]
    }
   ],
   "source": [
    "mfli.daq.measure()"
   ]
  },
  {
   "cell_type": "markdown",
   "metadata": {},
   "source": [
    "The results property is a dictionary with the exact signal node as its keys. The return value from `signals_add(..)` can be used to access the result of that signal. The value in the dictionary is a `DAQResult` object that contains all measurement information such as the measurement values, the time- or frequency-axis as well as meta-information."
   ]
  },
  {
   "cell_type": "code",
   "execution_count": 10,
   "metadata": {},
   "outputs": [
    {
     "data": {
      "text/plain": [
       "<zhinst.toolkit.control.drivers.base.daq.DAQResult object at 0x000002409DA3E3C8>\n",
       "\n",
       "path:        /dev3337/demods/0/sample.x.avg\n",
       "value:       (100, 100)\n",
       "time:        (100,)"
      ]
     },
     "execution_count": 10,
     "metadata": {},
     "output_type": "execute_result"
    }
   ],
   "source": [
    "mfli.daq.results[demod_x]"
   ]
  },
  {
   "cell_type": "code",
   "execution_count": 11,
   "metadata": {},
   "outputs": [
    {
     "data": {
      "text/plain": [
       "<zhinst.toolkit.control.drivers.base.daq.DAQResult object at 0x000002409DA3E400>\n",
       "\n",
       "path:        /dev3337/demods/0/sample.y.avg\n",
       "value:       (100, 100)\n",
       "time:        (100,)"
      ]
     },
     "execution_count": 11,
     "metadata": {},
     "output_type": "execute_result"
    }
   ],
   "source": [
    "mfli.daq.results[demod_y]"
   ]
  },
  {
   "cell_type": "code",
   "execution_count": 12,
   "metadata": {},
   "outputs": [
    {
     "data": {
      "image/png": "[encoded data removed]",
      "text/plain": [
       "<Figure size 432x288 with 1 Axes>"
      ]
     },
     "metadata": {
      "needs_background": "light"
     },
     "output_type": "display_data"
    }
   ],
   "source": [
    "import matplotlib.pyplot as plt\n",
    "\n",
    "result_x = mfli.daq.results[demod_x]\n",
    "\n",
    "plt.imshow(result_x.value, extent=[result_x.time[0], result_x.time[-1], 0, 100], aspect=\"auto\")\n",
    "plt.show()"
   ]
  },
  {
   "cell_type": "markdown",
   "metadata": {},
   "source": [
    "## The *Sweeper Module* of the MFLI \n",
    "\n",
    "The MFLI also features a *Sweeper Module*. For more details on the *Sweeper Module* please see the according example. The module has all of the following *Parameters*:"
   ]
  },
  {
   "cell_type": "code",
   "execution_count": 13,
   "metadata": {},
   "outputs": [
    {
     "name": "stdout",
     "output_type": "stream",
     "text": [
      "['averaging_sample', 'averaging_tc', 'averaging_time', 'awgcontrol', 'bandwidth', 'bandwidthcontrol', 'bandwidthoverlap', 'clearhistory', 'device', 'endless', 'gridnode', 'historylength', 'loopcount', 'maxbandwidth', 'omegasuppression', 'order', 'phaseunwrap', 'remainingtime', 'samplecount', 'save_csvlocale', 'save_csvseparator', 'save_directory', 'save_fileformat', 'save_filename', 'save_save', 'save_saveonread', 'scan', 'settling_inaccuracy', 'settling_tc', 'settling_time', 'sincfilter', 'start', 'stop', 'xmapping']\n"
     ]
    }
   ],
   "source": [
    "print([k for k in mfli.sweeper.parameters.keys()])"
   ]
  },
  {
   "cell_type": "markdown",
   "metadata": {},
   "source": [
    "As for the *Data Acquisition Module* the available signal sources can be shown with `signals_list(...)`. They can differ depending on the options installed in the instrument."
   ]
  },
  {
   "cell_type": "code",
   "execution_count": 14,
   "metadata": {},
   "outputs": [
    {
     "data": {
      "text/plain": [
       "['dio0',\n",
       " 'auxin0',\n",
       " 'scope0',\n",
       " 'demod0',\n",
       " 'demod1',\n",
       " 'demod2',\n",
       " 'demod3',\n",
       " 'pid0_value',\n",
       " 'pid0_error',\n",
       " 'pid0_shift',\n",
       " 'pid1_value',\n",
       " 'pid1_error',\n",
       " 'pid1_shift',\n",
       " 'pid2_value',\n",
       " 'pid2_error',\n",
       " 'pid2_shift',\n",
       " 'pid3_value',\n",
       " 'pid3_error',\n",
       " 'pid3_shift',\n",
       " 'imp0',\n",
       " 'imp1']"
      ]
     },
     "execution_count": 14,
     "metadata": {},
     "output_type": "execute_result"
    }
   ],
   "source": [
    "mfli.sweeper.signals_list()"
   ]
  },
  {
   "cell_type": "markdown",
   "metadata": {},
   "source": [
    "The *Parameters* that are available for sweeping can be listed with `sweep_parameter_list()`."
   ]
  },
  {
   "cell_type": "markdown",
   "metadata": {},
   "source": [
    "As for the *Data Acquisition Module* the available signal sources can be shown with `signals_list(...)`. They can differ depending on the options installed in the instrument.\n",
    "\n",
    "The device parameters that are available for sweeping can be listed with `sweep_parameter_list()`:"
   ]
  },
  {
   "cell_type": "code",
   "execution_count": 15,
   "metadata": {},
   "outputs": [
    {
     "data": {
      "text/plain": [
       "['auxout0offset',\n",
       " 'auxout1offset',\n",
       " 'auxout2offset',\n",
       " 'auxout3offset',\n",
       " 'demdod0phase',\n",
       " 'demdod1phase',\n",
       " 'frequency',\n",
       " 'output0amp',\n",
       " 'output0offset']"
      ]
     },
     "execution_count": 15,
     "metadata": {},
     "output_type": "execute_result"
    }
   ],
   "source": [
    "mfli.sweeper.sweep_parameter_list()"
   ]
  },
  {
   "cell_type": "markdown",
   "metadata": {},
   "source": [
    "A typical frequency sweep from 1-10 kHz and 100 steps is configured as follows. We add the signal from the first demodulator (*'demod0'*) to the measurement. "
   ]
  },
  {
   "cell_type": "code",
   "execution_count": 16,
   "metadata": {},
   "outputs": [
    {
     "name": "stdout",
     "output_type": "stream",
     "text": [
      "set sweep parameter to 'frequency': 'oscs/0/freq'\n"
     ]
    }
   ],
   "source": [
    "# turn singal output on\n",
    "mfli.sigouts[0].on(1)\n",
    "\n",
    "# prepare a frequency sweep\n",
    "mfli.sweeper.start(1e3)\n",
    "mfli.sweeper.stop(10e3)\n",
    "mfli.sweeper.samplecount(100)\n",
    "mfli.sweeper.sweep_parameter(\"frequency\")\n",
    "\n",
    "# add a singal source\n",
    "demod = mfli.sweeper.signals_add(\"demod0\")"
   ]
  },
  {
   "cell_type": "code",
   "execution_count": 17,
   "metadata": {},
   "outputs": [
    {
     "data": {
      "text/plain": [
       "['/dev3337/demods/0/sample']"
      ]
     },
     "execution_count": 17,
     "metadata": {},
     "output_type": "execute_result"
    }
   ],
   "source": [
    "mfli.sweeper.signals"
   ]
  },
  {
   "cell_type": "markdown",
   "metadata": {},
   "source": [
    "The measurement is simply started with the `measure()` method:"
   ]
  },
  {
   "cell_type": "code",
   "execution_count": 18,
   "metadata": {},
   "outputs": [
    {
     "name": "stdout",
     "output_type": "stream",
     "text": [
      "subscribed to: /dev3337/demods/0/sample\n",
      "Sweeping oscs/0/freq from 1000.0 to 10000.0\n",
      "Progress: 0.0%\n",
      "Progress: 4.0%\n",
      "Progress: 10.0%\n",
      "Progress: 15.0%\n",
      "Progress: 20.0%\n",
      "Progress: 25.0%\n",
      "Progress: 30.0%\n",
      "Progress: 35.0%\n",
      "Progress: 40.0%\n",
      "Progress: 45.0%\n",
      "Progress: 50.0%\n",
      "Progress: 55.0%\n",
      "Progress: 60.0%\n",
      "Progress: 65.0%\n",
      "Progress: 70.0%\n",
      "Progress: 76.0%\n",
      "Progress: 81.0%\n",
      "Progress: 86.0%\n",
      "Progress: 90.0%\n",
      "Progress: 95.0%\n",
      "Finished\n"
     ]
    }
   ],
   "source": [
    "# perform measurement\n",
    "mfli.sweeper.measure()"
   ]
  },
  {
   "cell_type": "markdown",
   "metadata": {},
   "source": [
    "The results are stored in the `results` dictionary with the exact node path as the key. The value is a `DAQResults` object from the `zhinst-toolkit`. It contains all the data of the demodulator that has been returned by the Python API. "
   ]
  },
  {
   "cell_type": "code",
   "execution_count": 19,
   "metadata": {},
   "outputs": [],
   "source": [
    "result = mfli.sweeper.results[demod]"
   ]
  },
  {
   "cell_type": "code",
   "execution_count": 20,
   "metadata": {},
   "outputs": [
    {
     "data": {
      "text/plain": [
       "<zhinst.toolkit.control.drivers.base.sweeper.SweeperResult object at 0x000002409DEC8518>\n",
       "\n",
       "attributes:\n",
       " - header\n",
       " - timestamp\n",
       " - samplecount\n",
       " - flags\n",
       " - sampleformat\n",
       " - sweepmode\n",
       " - bandwidthmode\n",
       " - auxin0\n",
       " - auxin0pwr\n",
       " - auxin0stddev\n",
       " - auxin1\n",
       " - auxin1pwr\n",
       " - auxin1stddev\n",
       " - bandwidth\n",
       " - frequency\n",
       " - frequencypwr\n",
       " - frequencystddev\n",
       " - grid\n",
       " - phase\n",
       " - phasepwr\n",
       " - phasestddev\n",
       " - r\n",
       " - rpwr\n",
       " - rstddev\n",
       " - settling\n",
       " - tc\n",
       " - tcmeas\n",
       " - x\n",
       " - xpwr\n",
       " - xstddev\n",
       " - y\n",
       " - ypwr\n",
       " - ystddev\n",
       " - count\n",
       " - nexttimestamp\n",
       " - settimestamp"
      ]
     },
     "execution_count": 20,
     "metadata": {},
     "output_type": "execute_result"
    }
   ],
   "source": [
    "result"
   ]
  },
  {
   "cell_type": "code",
   "execution_count": 21,
   "metadata": {},
   "outputs": [
    {
     "data": {
      "image/png": "[encoded data removed]",
      "text/plain": [
       "<Figure size 432x288 with 1 Axes>"
      ]
     },
     "metadata": {
      "needs_background": "light"
     },
     "output_type": "display_data"
    }
   ],
   "source": [
    "import matplotlib.pyplot as plt\n",
    "\n",
    "plt.plot(result.frequency, result.x)\n",
    "plt.show()"
   ]
  }
 ],
 "metadata": {
  "kernelspec": {
   "display_name": "Python 3",
   "language": "python",
   "name": "python3"
  },
  "language_info": {
   "codemirror_mode": {
    "name": "ipython",
    "version": 3
   },
   "file_extension": ".py",
   "mimetype": "text/x-python",
   "name": "python",
   "nbconvert_exporter": "python",
   "pygments_lexer": "ipython3",
   "version": "3.6.9"
  }
 },
 "nbformat": 4,
 "nbformat_minor": 4
}
