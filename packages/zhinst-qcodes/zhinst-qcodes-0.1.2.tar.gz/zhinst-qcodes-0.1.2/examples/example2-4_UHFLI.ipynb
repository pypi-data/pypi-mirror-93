{
 "cells": [
  {
   "cell_type": "markdown",
   "metadata": {},
   "source": [
    "# UHFLI\n",
    "\n",
    "We use the `ziqc.UHFLI` instrument driver for the UHFLI Lock-In amplifier."
   ]
  },
  {
   "cell_type": "code",
   "execution_count": 1,
   "metadata": {},
   "outputs": [
    {
     "name": "stdout",
     "output_type": "stream",
     "text": [
      "Successfully connected to data server at 10.42.0.2268004 api version: 6\n",
      "Successfully connected to device DEV2324 on interface 1GBE\n",
      "Connected to: Zurich Instruments UHFLI (serial:dev2324, firmware:65939) in 1.49s\n"
     ]
    }
   ],
   "source": [
    "import numpy as np\n",
    "import matplotlib.pyplot as plt\n",
    "\n",
    "import qcodes as qc\n",
    "import zhinst.qcodes as ziqc\n",
    "\n",
    "uhfli = ziqc.UHFLI(\"uhf1\", \"dev2324\", interface=\"1GbE\", host=\"10.42.0.226\")"
   ]
  },
  {
   "cell_type": "markdown",
   "metadata": {},
   "source": [
    "## Nodetree\n",
    "\n",
    "Access the UHFLI's nodetree:"
   ]
  },
  {
   "cell_type": "code",
   "execution_count": 2,
   "metadata": {},
   "outputs": [
    {
     "name": "stdout",
     "output_type": "stream",
     "text": [
      "['awg', 'daq', 'sweeper', 'stats', 'oscs', 'demods', 'extrefs', 'triggers', 'status', 'dios', 'auxins', 'system', 'sigins', 'sigouts', 'mods', 'boxcars', 'outputpwas', 'inputpwas', 'aucarts', 'aupolars', 'pids', 'features', 'auxouts', 'cnts']\n",
      "['IDN', 'clockbase']\n"
     ]
    }
   ],
   "source": [
    "print([k for k in uhfli.submodules.keys()])\n",
    "print([k for k in uhfli.parameters.keys()])"
   ]
  },
  {
   "cell_type": "markdown",
   "metadata": {},
   "source": [
    "The `Parameter` *sample* of the demodulators uses the `getSample(...)` method of the *ziPython* API to read the latest sample of the demodulator. "
   ]
  },
  {
   "cell_type": "code",
   "execution_count": 3,
   "metadata": {},
   "outputs": [
    {
     "data": {
      "text/plain": [
       "(0.35024545059240686+0.0008896467610803594j)"
      ]
     },
     "execution_count": 3,
     "metadata": {},
     "output_type": "execute_result"
    }
   ],
   "source": [
    "uhfli.demods[0].sample()"
   ]
  },
  {
   "cell_type": "markdown",
   "metadata": {},
   "source": [
    "> ⚠️ Note that this parameter only returns a *single* sample. There is no guarantee for any precise time-relation between consecutive samples. For proper (triggered) data acquisition of signals aligned to a precise time-grid, please use the *Data Acquisition Module* (see below)."
   ]
  },
  {
   "cell_type": "markdown",
   "metadata": {},
   "source": [
    "## The *Data Acquisition Module* of the UHFLI\n",
    "\n",
    "Similarly to the MFLI, the UHFLI comes with a *Data Acquisition Module*. For more details, see the corresponding example about the *Data Acquisition Module*. "
   ]
  },
  {
   "cell_type": "code",
   "execution_count": 4,
   "metadata": {},
   "outputs": [
    {
     "name": "stdout",
     "output_type": "stream",
     "text": [
      "['awgcontrol', 'bandwidth', 'bitmask', 'bits', 'buffercount', 'buffersize', 'clearhistory', 'count', 'delay', 'device', 'duration', 'edge', 'enable', 'endless', 'eventcount_mode', 'fft_absolute', 'fft_window', 'findlevel', 'flags', 'forcetrigger', 'grid_cols', 'grid_direction', 'grid_mode', 'grid_overwrite', 'grid_repetitions', 'grid_rowrepetition', 'grid_rows', 'grid_waterfall', 'historylength', 'holdoff_count', 'holdoff_time', 'hysteresis', 'level', 'preview', 'pulse_max', 'pulse_min', 'refreshrate', 'save_csvlocale', 'save_csvseparator', 'save_directory', 'save_fileformat', 'save_filename', 'save_save', 'save_saveonread', 'spectrum_autobandwidth', 'spectrum_enable', 'spectrum_frequencyspan', 'spectrum_overlapped', 'triggered', 'triggernode', 'type']\n"
     ]
    }
   ],
   "source": [
    "print([k for k in uhfli.daq.parameters.keys()])"
   ]
  },
  {
   "cell_type": "markdown",
   "metadata": {},
   "source": [
    "The method `signals_list()` shows the available sources of streaming signals. Note that they differ with the installed options of the UHFLI."
   ]
  },
  {
   "cell_type": "code",
   "execution_count": 5,
   "metadata": {},
   "outputs": [
    {
     "data": {
      "text/plain": [
       "['dio0',\n",
       " 'auxin0',\n",
       " 'scope0',\n",
       " 'boxcar0',\n",
       " 'boxcar1',\n",
       " 'outputpwa0',\n",
       " 'outputpwa1',\n",
       " 'inputpwa0',\n",
       " 'inputpwa1',\n",
       " 'aucart0',\n",
       " 'aucart1',\n",
       " 'aupolar0',\n",
       " 'aupolar1',\n",
       " 'cnt0',\n",
       " 'cnt1',\n",
       " 'cnt2',\n",
       " 'cnt3',\n",
       " 'demod0',\n",
       " 'demod1',\n",
       " 'demod2',\n",
       " 'demod3',\n",
       " 'demod4',\n",
       " 'demod5',\n",
       " 'demod6',\n",
       " 'demod7',\n",
       " 'pid0_value',\n",
       " 'pid0_error',\n",
       " 'pid0_shift',\n",
       " 'pid1_value',\n",
       " 'pid1_error',\n",
       " 'pid1_shift',\n",
       " 'pid2_value',\n",
       " 'pid2_error',\n",
       " 'pid2_shift',\n",
       " 'pid3_value',\n",
       " 'pid3_error',\n",
       " 'pid3_shift']"
      ]
     },
     "execution_count": 5,
     "metadata": {},
     "output_type": "execute_result"
    }
   ],
   "source": [
    "uhfli.daq.signals_list()"
   ]
  },
  {
   "cell_type": "markdown",
   "metadata": {},
   "source": [
    "Use the method `signals_add(..)` to specify which signals should be acquired during a measurement. The return value gives the exact node path that will be subscribed to before the measurement."
   ]
  },
  {
   "cell_type": "code",
   "execution_count": 6,
   "metadata": {},
   "outputs": [
    {
     "name": "stdout",
     "output_type": "stream",
     "text": [
      "['/dev2324/demods/0/sample.x.avg', '/dev2324/demods/0/sample.y.avg']\n"
     ]
    }
   ],
   "source": [
    "demod_x = uhfli.daq.signals_add(\"demod0\", \"x\")\n",
    "demod_y = uhfli.daq.signals_add(\"demod0\", \"y\")\n",
    "\n",
    "# which signal nodes have been added?\n",
    "print(uhfli.daq.signals)"
   ]
  },
  {
   "cell_type": "markdown",
   "metadata": {},
   "source": [
    "Use *trigger type*, *grid columns*, *grid rows* and other parameters to configure the measurement you want."
   ]
  },
  {
   "cell_type": "code",
   "execution_count": 7,
   "metadata": {},
   "outputs": [],
   "source": [
    "uhfli.daq.type(\"continuous\")\n",
    "uhfli.daq.grid_cols(100)\n",
    "uhfli.daq.grid_rows(100)"
   ]
  },
  {
   "cell_type": "markdown",
   "metadata": {},
   "source": [
    "The measurement routine is started using the `measure(...)` method. At first, the mdoule will subscribe to the signal nodes that were previously added to the measurement. Then the measurement is started. When it is finished, the results will be added to the `results` property of the `daq` Module. "
   ]
  },
  {
   "cell_type": "code",
   "execution_count": 8,
   "metadata": {},
   "outputs": [
    {
     "name": "stdout",
     "output_type": "stream",
     "text": [
      "subscribed to: /dev2324/demods/0/sample.x.avg\n",
      "subscribed to: /dev2324/demods/0/sample.y.avg\n",
      "Progress: 0.0%\n",
      "Progress: 5.0%\n",
      "Progress: 12.0%\n",
      "Progress: 19.0%\n",
      "Progress: 30.0%\n",
      "Progress: 37.0%\n",
      "Progress: 48.0%\n",
      "Progress: 55.0%\n",
      "Progress: 62.0%\n",
      "Progress: 73.0%\n",
      "Progress: 80.0%\n",
      "Progress: 91.0%\n",
      "Progress: 98.0%\n",
      "Finished\n"
     ]
    }
   ],
   "source": [
    "uhfli.daq.measure()"
   ]
  },
  {
   "cell_type": "markdown",
   "metadata": {},
   "source": [
    "The results property is a dictionary with the exact signal node as its keys. The return value from `signals_add(..)` can be used to access the result of that signal. The value in the dictionary is a `DAQResult` object that contains all measurement information such as the measurement values, the time- or frequency-axis as well as meta-information."
   ]
  },
  {
   "cell_type": "code",
   "execution_count": 9,
   "metadata": {},
   "outputs": [
    {
     "data": {
      "text/plain": [
       "<zhinst.toolkit.control.drivers.base.daq.DAQResult object at 0x000001DD6E8CA6D8>\n",
       "\n",
       "path:        /dev2324/demods/0/sample.x.avg\n",
       "value:       (100, 100)\n",
       "time:        (100,)"
      ]
     },
     "execution_count": 9,
     "metadata": {},
     "output_type": "execute_result"
    }
   ],
   "source": [
    "uhfli.daq.results[demod_x]"
   ]
  },
  {
   "cell_type": "code",
   "execution_count": 10,
   "metadata": {},
   "outputs": [
    {
     "data": {
      "text/plain": [
       "<zhinst.toolkit.control.drivers.base.daq.DAQResult object at 0x000001DD6E8CA710>\n",
       "\n",
       "path:        /dev2324/demods/0/sample.y.avg\n",
       "value:       (100, 100)\n",
       "time:        (100,)"
      ]
     },
     "execution_count": 10,
     "metadata": {},
     "output_type": "execute_result"
    }
   ],
   "source": [
    "uhfli.daq.results[demod_y]"
   ]
  },
  {
   "cell_type": "code",
   "execution_count": 11,
   "metadata": {},
   "outputs": [
    {
     "data": {
      "image/png": "[encoded data removed]",
      "text/plain": [
       "<Figure size 432x288 with 1 Axes>"
      ]
     },
     "metadata": {
      "needs_background": "light"
     },
     "output_type": "display_data"
    }
   ],
   "source": [
    "import matplotlib.pyplot as plt\n",
    "\n",
    "result_x = uhfli.daq.results[demod_x]\n",
    "\n",
    "plt.imshow(result_x.value, extent=[result_x.time[0], result_x.time[-1], 0, 100], aspect=\"auto\")\n",
    "plt.show()"
   ]
  },
  {
   "cell_type": "markdown",
   "metadata": {},
   "source": [
    "## The *Sweeper Module* of the UHFLI\n",
    "\n",
    "The UHFLI also feeatures a *Sweeper Module* with all of the following *Parameters*:"
   ]
  },
  {
   "cell_type": "code",
   "execution_count": 12,
   "metadata": {},
   "outputs": [
    {
     "name": "stdout",
     "output_type": "stream",
     "text": [
      "['averaging_sample', 'averaging_tc', 'averaging_time', 'awgcontrol', 'bandwidth', 'bandwidthcontrol', 'bandwidthoverlap', 'clearhistory', 'device', 'endless', 'gridnode', 'historylength', 'loopcount', 'maxbandwidth', 'omegasuppression', 'order', 'phaseunwrap', 'remainingtime', 'samplecount', 'save_csvlocale', 'save_csvseparator', 'save_directory', 'save_fileformat', 'save_filename', 'save_save', 'save_saveonread', 'scan', 'settling_inaccuracy', 'settling_tc', 'settling_time', 'sincfilter', 'start', 'stop', 'xmapping']\n"
     ]
    }
   ],
   "source": [
    "print([k for k in uhfli.sweeper.parameters.keys()])"
   ]
  },
  {
   "cell_type": "markdown",
   "metadata": {},
   "source": [
    "As for the *Data Acquisition Module* the available signal sources can be shown with `signals_list(...)`. They can differ depending on the options installed in the instrument."
   ]
  },
  {
   "cell_type": "code",
   "execution_count": 13,
   "metadata": {},
   "outputs": [
    {
     "data": {
      "text/plain": [
       "['dio0',\n",
       " 'auxin0',\n",
       " 'scope0',\n",
       " 'boxcar0',\n",
       " 'boxcar1',\n",
       " 'outputpwa0',\n",
       " 'outputpwa1',\n",
       " 'inputpwa0',\n",
       " 'inputpwa1',\n",
       " 'aucart0',\n",
       " 'aucart1',\n",
       " 'aupolar0',\n",
       " 'aupolar1',\n",
       " 'cnt0',\n",
       " 'cnt1',\n",
       " 'cnt2',\n",
       " 'cnt3',\n",
       " 'demod0',\n",
       " 'demod1',\n",
       " 'demod2',\n",
       " 'demod3',\n",
       " 'demod4',\n",
       " 'demod5',\n",
       " 'demod6',\n",
       " 'demod7',\n",
       " 'pid0_value',\n",
       " 'pid0_error',\n",
       " 'pid0_shift',\n",
       " 'pid1_value',\n",
       " 'pid1_error',\n",
       " 'pid1_shift',\n",
       " 'pid2_value',\n",
       " 'pid2_error',\n",
       " 'pid2_shift',\n",
       " 'pid3_value',\n",
       " 'pid3_error',\n",
       " 'pid3_shift']"
      ]
     },
     "execution_count": 13,
     "metadata": {},
     "output_type": "execute_result"
    }
   ],
   "source": [
    "uhfli.sweeper.signals_list()"
   ]
  },
  {
   "cell_type": "markdown",
   "metadata": {},
   "source": [
    "The *Parameters* that are available for sweeping can be listed with `sweep_parameter_list()`."
   ]
  },
  {
   "cell_type": "code",
   "execution_count": 14,
   "metadata": {},
   "outputs": [
    {
     "data": {
      "text/plain": [
       "['auxout0_offset',\n",
       " 'auxout1_offset',\n",
       " 'auxout2_offset',\n",
       " 'auxout3_offset',\n",
       " 'awg_amplitude0',\n",
       " 'awg_amplitude1',\n",
       " 'awg_trigger0',\n",
       " 'awg_trigger1',\n",
       " 'awg_trigger2',\n",
       " 'awg_trigger3',\n",
       " 'awg_triggerlevel0',\n",
       " 'awg_triggerlevel1',\n",
       " 'awg_userreg0',\n",
       " 'awg_userreg1',\n",
       " 'awg_userreg2',\n",
       " 'awg_userreg3',\n",
       " 'awg_userreg4',\n",
       " 'awg_userreg5',\n",
       " 'awg_userreg6',\n",
       " 'awg_userreg7',\n",
       " 'awg_userreg8',\n",
       " 'awg_userreg9',\n",
       " 'awg_userreg10',\n",
       " 'awg_userreg11',\n",
       " 'awg_userreg12',\n",
       " 'awg_userreg13',\n",
       " 'awg_userreg14',\n",
       " 'awg_userreg15',\n",
       " 'boxcar0_windowsize',\n",
       " 'boxcar0_windowstart',\n",
       " 'boxcar1_windowsize',\n",
       " 'boxcar1_windowstart',\n",
       " 'mod0_carrieramp',\n",
       " 'mod0_index',\n",
       " 'mod0_sideband0amp',\n",
       " 'mod0_sideband1amp',\n",
       " 'mod1_carrieramp',\n",
       " 'mod1_index',\n",
       " 'mod1_sideband0amp',\n",
       " 'mod1_sideband1amp',\n",
       " 'demdod0_phase',\n",
       " 'demdod1_phase',\n",
       " 'demdod2_phase',\n",
       " 'demdod3_phase',\n",
       " 'demdod4_phase',\n",
       " 'demdod5_phase',\n",
       " 'demdod6_phase',\n",
       " 'demdod7_phase',\n",
       " 'frequency0',\n",
       " 'frequency1',\n",
       " 'frequency2',\n",
       " 'frequency3',\n",
       " 'frequency4',\n",
       " 'frequency5',\n",
       " 'frequency6',\n",
       " 'frequency7',\n",
       " 'pid0_setpoint',\n",
       " 'pid1_setpoint',\n",
       " 'pid2_setpoint',\n",
       " 'pid3_setpoint',\n",
       " 'output0_amp',\n",
       " 'output0_offset',\n",
       " 'output1_amp',\n",
       " 'output2_offset']"
      ]
     },
     "execution_count": 14,
     "metadata": {},
     "output_type": "execute_result"
    }
   ],
   "source": [
    "uhfli.sweeper.sweep_parameter_list()"
   ]
  },
  {
   "cell_type": "markdown",
   "metadata": {},
   "source": [
    "A typical frequency sweep of the first oscillator frequency (*'frequency0'*) from 1-10 kHz and 100 steps is configured as follows. We add the signal from the first demodulator (*'demod0'*) to the measurement. "
   ]
  },
  {
   "cell_type": "code",
   "execution_count": 15,
   "metadata": {},
   "outputs": [
    {
     "name": "stdout",
     "output_type": "stream",
     "text": [
      "set sweep parameter to 'frequency0': 'oscs/0/freq'\n"
     ]
    }
   ],
   "source": [
    "# turn singal output on\n",
    "uhfli.sigouts[0].on(1)\n",
    "\n",
    "# prepare a frequency sweep\n",
    "uhfli.sweeper.start(1e3)\n",
    "uhfli.sweeper.stop(10e3)\n",
    "uhfli.sweeper.samplecount(100)\n",
    "uhfli.sweeper.sweep_parameter(\"frequency0\")\n",
    "\n",
    "# add a singal source\n",
    "demod = uhfli.sweeper.signals_add(\"demod0\")"
   ]
  },
  {
   "cell_type": "code",
   "execution_count": 16,
   "metadata": {},
   "outputs": [
    {
     "data": {
      "text/plain": [
       "['/dev2324/demods/0/sample']"
      ]
     },
     "execution_count": 16,
     "metadata": {},
     "output_type": "execute_result"
    }
   ],
   "source": [
    "uhfli.sweeper.signals"
   ]
  },
  {
   "cell_type": "markdown",
   "metadata": {},
   "source": [
    "The measurement is simply started with the `measure()` method:"
   ]
  },
  {
   "cell_type": "code",
   "execution_count": 17,
   "metadata": {},
   "outputs": [
    {
     "name": "stdout",
     "output_type": "stream",
     "text": [
      "subscribed to: /dev2324/demods/0/sample\n",
      "Sweeping oscs/0/freq from 1000.0 to 10000.0\n",
      "Progress: 0.0%\n",
      "Progress: 7.0%\n",
      "Progress: 14.0%\n",
      "Progress: 22.0%\n",
      "Progress: 29.0%\n",
      "Progress: 36.0%\n",
      "Progress: 43.0%\n",
      "Progress: 51.0%\n",
      "Progress: 59.0%\n",
      "Progress: 66.0%\n",
      "Progress: 74.0%\n",
      "Progress: 82.0%\n",
      "Progress: 90.0%\n",
      "Progress: 98.0%\n",
      "Finished\n"
     ]
    }
   ],
   "source": [
    "# perform measurement\n",
    "uhfli.sweeper.measure()"
   ]
  },
  {
   "cell_type": "markdown",
   "metadata": {},
   "source": [
    "The results are stored in the `results` dictionary with the exact node path as the key. The value is a `DAQResults` object from the `zhinst-toolkit`. It contains all the data of the demodulator that has been returned by the Python API. "
   ]
  },
  {
   "cell_type": "code",
   "execution_count": 18,
   "metadata": {},
   "outputs": [],
   "source": [
    "result = uhfli.sweeper.results[demod]"
   ]
  },
  {
   "cell_type": "code",
   "execution_count": 19,
   "metadata": {},
   "outputs": [
    {
     "data": {
      "text/plain": [
       "<zhinst.toolkit.control.drivers.base.sweeper.SweeperResult object at 0x000001DD6ED9F7B8>\n",
       "\n",
       "attributes:\n",
       " - header\n",
       " - timestamp\n",
       " - samplecount\n",
       " - flags\n",
       " - sampleformat\n",
       " - sweepmode\n",
       " - bandwidthmode\n",
       " - auxin0\n",
       " - auxin0pwr\n",
       " - auxin0stddev\n",
       " - auxin1\n",
       " - auxin1pwr\n",
       " - auxin1stddev\n",
       " - bandwidth\n",
       " - frequency\n",
       " - frequencypwr\n",
       " - frequencystddev\n",
       " - grid\n",
       " - phase\n",
       " - phasepwr\n",
       " - phasestddev\n",
       " - r\n",
       " - rpwr\n",
       " - rstddev\n",
       " - settling\n",
       " - tc\n",
       " - tcmeas\n",
       " - x\n",
       " - xpwr\n",
       " - xstddev\n",
       " - y\n",
       " - ypwr\n",
       " - ystddev\n",
       " - count\n",
       " - nexttimestamp\n",
       " - settimestamp"
      ]
     },
     "execution_count": 19,
     "metadata": {},
     "output_type": "execute_result"
    }
   ],
   "source": [
    "result"
   ]
  },
  {
   "cell_type": "code",
   "execution_count": 20,
   "metadata": {},
   "outputs": [
    {
     "data": {
      "image/png": "[encoded data removed]",
      "text/plain": [
       "<Figure size 432x288 with 1 Axes>"
      ]
     },
     "metadata": {
      "needs_background": "light"
     },
     "output_type": "display_data"
    }
   ],
   "source": [
    "import matplotlib.pyplot as plt\n",
    "\n",
    "plt.plot(result.frequency, result.x)\n",
    "plt.show()"
   ]
  }
 ],
 "metadata": {
  "kernelspec": {
   "display_name": "Python 3",
   "language": "python",
   "name": "python3"
  },
  "language_info": {
   "codemirror_mode": {
    "name": "ipython",
    "version": 3
   },
   "file_extension": ".py",
   "mimetype": "text/x-python",
   "name": "python",
   "nbconvert_exporter": "python",
   "pygments_lexer": "ipython3",
   "version": "3.6.9"
  }
 },
 "nbformat": 4,
 "nbformat_minor": 4
}
