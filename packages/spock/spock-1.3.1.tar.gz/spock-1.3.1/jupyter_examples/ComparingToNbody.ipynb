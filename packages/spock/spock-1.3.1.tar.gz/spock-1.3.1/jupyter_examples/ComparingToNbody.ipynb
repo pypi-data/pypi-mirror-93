{
 "cells": [
  {
   "cell_type": "markdown",
   "metadata": {},
   "source": [
    "# Comparing to N-body integrations\n",
    "\n",
    "To facilitate comparison to N-body integrations, we have made a simple `NbodyRegressor` wrapper class, which simply initializes a `REBOUND` N-body integration. It uses the same parameters and interface as our `FeatureClassifier`.\n",
    "\n",
    "Let's set up the same Simulation as in the Quickstart example:"
   ]
  },
  {
   "cell_type": "code",
   "execution_count": 1,
   "metadata": {},
   "outputs": [
    {
     "name": "stderr",
     "output_type": "stream",
     "text": [
      "findfont: Font family ['serif'] not found. Falling back to DejaVu Sans.\n"
     ]
    },
    {
     "data": {
      "image/png": "[encoded data removed]",
      "text/plain": [
       "<Figure size 360x360 with 1 Axes>"
      ]
     },
     "metadata": {
      "needs_background": "light"
     },
     "output_type": "display_data"
    }
   ],
   "source": [
    "import rebound\n",
    "%matplotlib inline\n",
    "\n",
    "sim = rebound.Simulation()\n",
    "sim.add(m=1.)\n",
    "sim.add(m=1.e-4, P=3.14, e=0.03, l=0.3)\n",
    "sim.add(m=1.e-4, P=4.396, e=0.03, l=2.8)\n",
    "sim.add(m=1.e-4, P=6.28, e=0.03, l=4.2)\n",
    "sim.add(m=1.e-4, P=10.99, e=0.03, l=2.1)\n",
    "sim.move_to_com()\n",
    "fig = rebound.OrbitPlot(sim)"
   ]
  },
  {
   "cell_type": "markdown",
   "metadata": {},
   "source": [
    "We begin by making instances of the models we want to compare:"
   ]
  },
  {
   "cell_type": "code",
   "execution_count": 2,
   "metadata": {},
   "outputs": [],
   "source": [
    "from spock import FeatureClassifier\n",
    "fmodel = FeatureClassifier()\n",
    "\n",
    "from spock import NbodyRegressor\n",
    "nbody = NbodyRegressor()\n",
    "\n",
    "from spock import DeepRegressor\n",
    "dmodel = DeepRegressor()"
   ]
  },
  {
   "cell_type": "markdown",
   "metadata": {},
   "source": [
    "# Binary Classification of Stability"
   ]
  },
  {
   "cell_type": "markdown",
   "metadata": {},
   "source": [
    "The interface is the same. By default, all our models evaluate stability over $10^9$ orbits of the innermost planet. We can use our feature-based model SPOCK"
   ]
  },
  {
   "cell_type": "code",
   "execution_count": 3,
   "metadata": {},
   "outputs": [
    {
     "name": "stdout",
     "output_type": "stream",
     "text": [
      "CPU times: user 548 ms, sys: 3.85 ms, total: 552 ms\n",
      "Wall time: 549 ms\n"
     ]
    },
    {
     "data": {
      "text/plain": [
       "0.0061098333"
      ]
     },
     "execution_count": 3,
     "metadata": {},
     "output_type": "execute_result"
    }
   ],
   "source": [
    "%%time\n",
    "fmodel.predict_stable(sim)"
   ]
  },
  {
   "cell_type": "markdown",
   "metadata": {},
   "source": [
    "Or our deep model (takes a bit longer to evaluate)"
   ]
  },
  {
   "cell_type": "code",
   "execution_count": 4,
   "metadata": {},
   "outputs": [
    {
     "name": "stdout",
     "output_type": "stream",
     "text": [
      "CPU times: user 24.9 s, sys: 46.8 s, total: 1min 11s\n",
      "Wall time: 18.1 s\n"
     ]
    },
    {
     "data": {
      "text/plain": [
       "0.002"
      ]
     },
     "execution_count": 4,
     "metadata": {},
     "output_type": "execute_result"
    }
   ],
   "source": [
    "%%time\n",
    "dmodel.predict_stable(sim)"
   ]
  },
  {
   "cell_type": "markdown",
   "metadata": {},
   "source": [
    "Or direct Nbody:"
   ]
  },
  {
   "cell_type": "code",
   "execution_count": 5,
   "metadata": {},
   "outputs": [
    {
     "name": "stdout",
     "output_type": "stream",
     "text": [
      "CPU times: user 1.1 s, sys: 1.69 ms, total: 1.1 s\n",
      "Wall time: 1.1 s\n"
     ]
    },
    {
     "data": {
      "text/plain": [
       "0"
      ]
     },
     "execution_count": 5,
     "metadata": {},
     "output_type": "execute_result"
    }
   ],
   "source": [
    "%%time\n",
    "nbody.predict_stable(sim)"
   ]
  },
  {
   "cell_type": "markdown",
   "metadata": {},
   "source": [
    "nbody returns a simple stable (1) or unstable (0), while our other models return an estimated probability of stability (unless it goes unstable within the first $10^4$ orbits used for the short N-body integration to generate features, in which case it returns exactly zero). We see both the FeatureClassifier and DeepClassifier return sensible estimates.\n",
    "\n",
    "Note that the nbody cell above does not take long because the system only took about 60,000 orbits of the innermost planet to go unstable (see below how to get actual instability times).\n",
    "\n",
    "By default, these functions will integrate for a billion orbits of the planet with the shortest orbital period (the same threshold used by the FeatureClassifier). So if you set up a stable system, these will take several hours to evaluate with Nbody! The other model evaluations will remain just as fast.\n",
    "\n",
    "You can also set a different maximum integration time (in simulation time units). Let's ask whether the system is stable over the first 10,000 orbits of the innermost planet:"
   ]
  },
  {
   "cell_type": "code",
   "execution_count": 6,
   "metadata": {},
   "outputs": [
    {
     "data": {
      "text/plain": [
       "1"
      ]
     },
     "execution_count": 6,
     "metadata": {},
     "output_type": "execute_result"
    }
   ],
   "source": [
    "nbody.predict_stable(sim, tmax=1e4*sim.particles[1].P)"
   ]
  },
  {
   "cell_type": "markdown",
   "metadata": {},
   "source": [
    "Note that the above prediction is no longer a one-to-one comparison with our `FeatureClassifier`, which has been trained on a dataset integrated for a billion orbits of the innermost planet. \n",
    "\n",
    "Because our `DeepRegressor` goes beyond simply classifying stability over $10^9$ orbits to predicting instability times, it can evaluate stability over other timescales like Nbody:"
   ]
  },
  {
   "cell_type": "code",
   "execution_count": 7,
   "metadata": {},
   "outputs": [
    {
     "data": {
      "text/plain": [
       "1.0"
      ]
     },
     "execution_count": 7,
     "metadata": {},
     "output_type": "execute_result"
    }
   ],
   "source": [
    "dmodel.predict_stable(sim, tmax=1e4*sim.particles[1].P)"
   ]
  },
  {
   "cell_type": "markdown",
   "metadata": {},
   "source": [
    "# Predicting Instability Times\n",
    "\n",
    "Because compact systems are typically chaotic, there isn't a single instability time for a given configuration. Instead, different equally valid chaotic realizations of that initial configuration's trajectory will yield a distribution of instability times. Since Nbody integrations are typically too expensive to run several realizations, we provide approximate error bars on Nbody instability times as estimated in [Hussain & Tamayo 2020](https://arxiv.org/abs/2001.04606) "
   ]
  },
  {
   "cell_type": "code",
   "execution_count": 8,
   "metadata": {},
   "outputs": [
    {
     "name": "stdout",
     "output_type": "stream",
     "text": [
      "Went unstable after 60661.3 orbits of the inner planet. 68% confidence interval = [14955, 246050] orbits.\n"
     ]
    }
   ],
   "source": [
    "t_inst, lower, upper = nbody.predict_instability_time(sim) # instability time in time units used when setting up the Simulation\n",
    "print('Went unstable after {0:.1f} orbits of the inner planet. 68% confidence interval = [{1:.0f}, {2:.0f}] orbits.'.format(t_inst/sim.particles[1].P, lower/sim.particles[1].P, upper/sim.particles[1].P))"
   ]
  },
  {
   "cell_type": "markdown",
   "metadata": {},
   "source": [
    "The `DeepRegressor` has the same interface. In this case the error bars correspond to the model's uncertainty including both the above unceratinty due to the chaos, and the uncertainties on the models' internal parameters (see paper)."
   ]
  },
  {
   "cell_type": "code",
   "execution_count": 9,
   "metadata": {},
   "outputs": [
    {
     "name": "stdout",
     "output_type": "stream",
     "text": [
      "Estimated instability time: 47721.2 orbits of the inner planet. 68% confidence interval = [15177, 313091] orbits.\n"
     ]
    }
   ],
   "source": [
    "t_inst, lower, upper = dmodel.predict_instability_time(sim) # instability time in time units used when setting up the Simulation\n",
    "print('Estimated instability time: {0:.1f} orbits of the inner planet. 68% confidence interval = [{1:.0f}, {2:.0f}] orbits.'.format(t_inst/sim.particles[1].P, lower/sim.particles[1].P, upper/sim.particles[1].P))"
   ]
  },
  {
   "cell_type": "markdown",
   "metadata": {},
   "source": [
    "Note that even a perfect model would only be able to provide estimates approximately within the uncertainties returned by `NbodyRegressor`.\n",
    "\n",
    "If `predict_instability_time` reaches tmax, it will just return tmax as the \"instability time\":"
   ]
  },
  {
   "cell_type": "code",
   "execution_count": 10,
   "metadata": {},
   "outputs": [
    {
     "name": "stdout",
     "output_type": "stream",
     "text": [
      "31400.00000000001\n"
     ]
    }
   ],
   "source": [
    "t_inst, lower, upper = nbody.predict_instability_time(sim, tmax=1e4*sim.particles[1].P)\n",
    "print(t_inst)"
   ]
  },
  {
   "cell_type": "markdown",
   "metadata": {},
   "source": [
    "Note that this can look like an arbitrary number! It's a good idea to check whether it's a real instability time, or whether you've just hit tmax. If you've hit tmax, the lower and upper confidence intervals will both be set to zero"
   ]
  },
  {
   "cell_type": "code",
   "execution_count": 11,
   "metadata": {},
   "outputs": [
    {
     "name": "stdout",
     "output_type": "stream",
     "text": [
      "10000.0\n"
     ]
    }
   ],
   "source": [
    "print(t_inst/sim.particles[1].P)"
   ]
  },
  {
   "cell_type": "code",
   "execution_count": 12,
   "metadata": {},
   "outputs": [
    {
     "name": "stdout",
     "output_type": "stream",
     "text": [
      "0 0\n"
     ]
    }
   ],
   "source": [
    "print(lower, upper)"
   ]
  },
  {
   "cell_type": "markdown",
   "metadata": {},
   "source": [
    "# Multithreading\n",
    "\n",
    "All models can also take a list of Simulations, in which case you get back a list of results. By default, the model will use as many threads as you have available cores. You can set a smaller number of cores with `n_jobs`"
   ]
  },
  {
   "cell_type": "code",
   "execution_count": 13,
   "metadata": {},
   "outputs": [],
   "source": [
    "def makesim(mass):\n",
    "    sim = rebound.Simulation()\n",
    "    sim.add(m=1)\n",
    "    sim.add(m=mass, P=1.)\n",
    "    sim.add(m=mass, P=1.3)\n",
    "    sim.add(m=mass, P=1.6)\n",
    "    return sim\n",
    "\n",
    "sims = [makesim(mass) for mass in [5e-5, 1e-4, 5e-4, 1e-3]]"
   ]
  },
  {
   "cell_type": "markdown",
   "metadata": {},
   "source": [
    "When we pass a list of sims, we get back the same parameters as arrays, holding the value for each of the simulations"
   ]
  },
  {
   "cell_type": "code",
   "execution_count": 14,
   "metadata": {},
   "outputs": [
    {
     "name": "stdout",
     "output_type": "stream",
     "text": [
      "[4.021945e+04 2.014500e+02 5.650000e+00 5.000000e-02]\n"
     ]
    }
   ],
   "source": [
    "tinst, lower, upper = nbody.predict_instability_time(sims, n_jobs=2)\n",
    "print(tinst)"
   ]
  },
  {
   "cell_type": "code",
   "execution_count": 15,
   "metadata": {},
   "outputs": [
    {
     "name": "stdout",
     "output_type": "stream",
     "text": [
      "Instability time was 40219.5 orbits with 68% confidence interval of [9916, 163135] orbits.\n",
      "Instability time was 201.5 orbits with 68% confidence interval of [50, 817] orbits.\n",
      "Instability time was 5.7 orbits with 68% confidence interval of [1, 23] orbits.\n",
      "Instability time was 0.1 orbits with 68% confidence interval of [0, 0] orbits.\n"
     ]
    }
   ],
   "source": [
    "P0 = sims[0].particles[1].P\n",
    "for i in range(len(sims)):\n",
    "    print(\"Instability time was {0:.1f} orbits with 68% confidence interval of [{1:.0f}, {2:.0f}] orbits.\".format(tinst[i], lower[i], upper[i]))"
   ]
  },
  {
   "cell_type": "markdown",
   "metadata": {},
   "source": [
    "For `predict_stable` we now get back an array of probabilities of stability"
   ]
  },
  {
   "cell_type": "code",
   "execution_count": 16,
   "metadata": {},
   "outputs": [
    {
     "data": {
      "text/plain": [
       "array([0.02728084, 0.        , 0.        , 0.        ], dtype=float32)"
      ]
     },
     "execution_count": 16,
     "metadata": {},
     "output_type": "execute_result"
    }
   ],
   "source": [
    "fmodel.predict_stable(sims)"
   ]
  },
  {
   "cell_type": "markdown",
   "metadata": {},
   "source": [
    "# Simulation Archives\n",
    "\n",
    "Because the N-body integrations can take several hours of computation time, we provide an option to save `SimulationArchives`, binary snapshots which you can later examine or reload to run further. These make it easy to reproducibly share N-body integrations (see Rein & Tamayo 2017).\n",
    "\n",
    "You specify the filename (and path), and the time between snapshots (in Simulation time units). The latter defaults to a value that will give you 1000 snapshots if the integration remains stable the entire time. This way archives don't take up too much space, but here we hardcode a short interval since the system has a short survival time. 1000 snapshots corresponds to a few MB.\n",
    "\n",
    "__Note that this function will overwrite if the same filename already exists.__"
   ]
  },
  {
   "cell_type": "code",
   "execution_count": 17,
   "metadata": {},
   "outputs": [
    {
     "data": {
      "text/plain": [
       "(190476.47894444826, 46960.15508532467, 772597.3000973529)"
      ]
     },
     "execution_count": 17,
     "metadata": {},
     "output_type": "execute_result"
    }
   ],
   "source": [
    "nbody.predict_instability_time(sim, archive_filename='test.bin', archive_interval=1e2)"
   ]
  },
  {
   "cell_type": "markdown",
   "metadata": {},
   "source": [
    "We can now reopen and inspect for example the eccentricities of the second planet at each snapshot. "
   ]
  },
  {
   "cell_type": "code",
   "execution_count": 18,
   "metadata": {},
   "outputs": [
    {
     "data": {
      "text/plain": [
       "Text(0, 0.5, 'Planet 2 Eccentricity')"
      ]
     },
     "execution_count": 18,
     "metadata": {},
     "output_type": "execute_result"
    },
    {
     "data": {
      "image/png": "[encoded data removed]",
      "text/plain": [
       "<Figure size 432x288 with 1 Axes>"
      ]
     },
     "metadata": {
      "needs_background": "light"
     },
     "output_type": "display_data"
    }
   ],
   "source": [
    "import rebound\n",
    "import matplotlib.pyplot as plt\n",
    "%matplotlib inline\n",
    "\n",
    "sa = rebound.SimulationArchive('test.bin')\n",
    "times, e = [], []\n",
    "for sim in sa:\n",
    "    times.append(sim.t)\n",
    "    e.append(sim.particles[2].e)\n",
    "    \n",
    "fig, ax =plt.subplots()\n",
    "ax.plot(times, e, '.')\n",
    "ax.set_xlabel('Time (Orbits)')\n",
    "ax.set_ylabel('Planet 2 Eccentricity')"
   ]
  },
  {
   "cell_type": "markdown",
   "metadata": {},
   "source": [
    "In the case of a collision, the archive also contains a final snapshot of the state at the time the collision was detected:"
   ]
  },
  {
   "cell_type": "code",
   "execution_count": 19,
   "metadata": {},
   "outputs": [
    {
     "data": {
      "text/plain": [
       "(<Figure size 360x360 with 1 Axes>, <AxesSubplot:xlabel='x', ylabel='y'>)"
      ]
     },
     "execution_count": 19,
     "metadata": {},
     "output_type": "execute_result"
    },
    {
     "data": {
      "image/png": "[encoded data removed]",
      "text/plain": [
       "<Figure size 360x360 with 1 Axes>"
      ]
     },
     "metadata": {
      "needs_background": "light"
     },
     "output_type": "display_data"
    }
   ],
   "source": [
    "rebound.OrbitPlot(sa[-1])"
   ]
  },
  {
   "cell_type": "markdown",
   "metadata": {},
   "source": [
    "For more information on the SimulationArchive, see https://github.com/hannorein/rebound/blob/master/ipython_examples/SimulationArchive.ipynb and https://github.com/hannorein/rebound/blob/master/ipython_examples/SimulationArchiveRestart.ipynb for more details."
   ]
  },
  {
   "cell_type": "markdown",
   "metadata": {},
   "source": [
    "# Going Further\n",
    "\n",
    "The `NbodyRegressor` wrapper provides minimal functionality for easy comparisons to N-body integrations. If you want to go further you can always set integration parameters and run it yourself. \n",
    "\n",
    "For reference, all classes in SPOCK initialize simulation parameters with the `init_sim_parameters` function in spock/spock/simsetup.py. For the `NbodyRegressor` we:\n",
    "\n",
    "* Set the timestep to 5% of the shortest pericenter passage time among all planets (Wisdom 2015)\n",
    "* Set the integrator to WHFast (switches to IAS15 if e > 0.99, avoiding prohibitively short WHFast timestep)\n",
    "* Set collision detection\n",
    "* Overwrite any existing particle radii with their individual Hill radii for collision detection\n",
    "* Moves to the center-of-mass frame\n",
    "* Set ri_whfast.safe_mode to 0\n",
    "\n",
    "Planetary systems are generally chaotic. With these settings, we don't get the same chaotic realization of the trajectory as with `FeatureClassifier`, since the `FeatureClassifier` additionally needs to track variational particles to calculate chaos indicators. In principle this is not a problem, since each chaotic realization is equally valid, but it is something to keep in mind when wondering why one Nbody integration collides at 1e4 orbits and another at 5e4 (see Hussain & Tamayo 2019 for how instability times are typically distributed). \n",
    "\n",
    "We have tested that the `FeatureClassifier` trained with a slightly different timestep than our N-body integrations (thus sampling different chaotic realizations) has the same performance as one trained using the exact same timestep and trajectories."
   ]
  }
 ],
 "metadata": {
  "kernelspec": {
   "display_name": "Python 3",
   "language": "python",
   "name": "python3"
  },
  "language_info": {
   "codemirror_mode": {
    "name": "ipython",
    "version": 3
   },
   "file_extension": ".py",
   "mimetype": "text/x-python",
   "name": "python",
   "nbconvert_exporter": "python",
   "pygments_lexer": "ipython3",
   "version": "3.7.9"
  }
 },
 "nbformat": 4,
 "nbformat_minor": 4
}
